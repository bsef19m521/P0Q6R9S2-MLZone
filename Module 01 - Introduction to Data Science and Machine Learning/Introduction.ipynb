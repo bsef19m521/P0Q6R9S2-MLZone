{
 "cells": [
  {
   "cell_type": "markdown",
   "id": "c8429b5c",
   "metadata": {},
   "source": [
    "###  Big Picture : [Artificial Intelligence vs Machine Learning vs Deep Learning vs Data Science](https://medium.com/ds3ucsd/explaining-the-terms-ai-ml-dl-ds-b0ac43e99f55)\n",
    "\n",
    "### Categories of Data:\n",
    "- Structured Data(Characteristics, Examples, Applications, Resides-in)\n",
    "- Unstructured Data(Examples, Applications, Resides-in)\n",
    "- Semi-Structured Data(Examples, Applications, Resides-in)\n"
   ]
  },
  {
   "cell_type": "markdown",
   "id": "ae7df0ad",
   "metadata": {},
   "source": [
    "###  What is Data Science?\n",
    "- Factors making data science ubiquitous\n",
    "- Applications of Data Science\n",
    "    - In Social Media\n",
    "    - In Banking\n",
    "    - In E-Commerce\n",
    "    - In Search Engines\n",
    "    - In Travel\n",
    "    - In Healthcare\n",
    "    - In Automation\n",
    "    - Credit & Insurance\n",
    "    \n",
    "###  Who is Data Scientist?\n",
    "- Skill Set\n",
    "- Programming Languages\n",
    "- Tools\n",
    "- Techniques\n",
    "\n",
    "###  Why Data Science is so compulicated?\n",
    "\n",
    "###  Data Science Project LifeCycle\n",
    "- Business Problem \n",
    "- Data Acquisition\n",
    "- Data Preprocessing\n",
    "- EDA & Visualization \n",
    "- Feature Engineering\n",
    "- Model training and Evaluation\n",
    "- Model Deployment and Monitoring\n",
    "    - **Note**: Read all the tools and techniques for each phase of the lifecycle.\n",
    "    \n",
    "###  Industry Job Roles in Data Science\n",
    "- Data Scientist\n",
    "- Data Analyst\n",
    "- Data Engineer\n",
    "- ML Engineer \n",
    "- etc\n",
    "\n",
    "###  Data Science Salary and Job Trends"
   ]
  },
  {
   "cell_type": "code",
   "execution_count": null,
   "id": "54786ce6",
   "metadata": {},
   "outputs": [],
   "source": []
  },
  {
   "cell_type": "code",
   "execution_count": null,
   "id": "10c3109f",
   "metadata": {},
   "outputs": [],
   "source": []
  },
  {
   "cell_type": "code",
   "execution_count": null,
   "id": "a318578b",
   "metadata": {},
   "outputs": [],
   "source": []
  }
 ],
 "metadata": {
  "kernelspec": {
   "display_name": "Python 3 (ipykernel)",
   "language": "python",
   "name": "python3"
  },
  "language_info": {
   "codemirror_mode": {
    "name": "ipython",
    "version": 3
   },
   "file_extension": ".py",
   "mimetype": "text/x-python",
   "name": "python",
   "nbconvert_exporter": "python",
   "pygments_lexer": "ipython3",
   "version": "3.8.10"
  }
 },
 "nbformat": 4,
 "nbformat_minor": 5
}
