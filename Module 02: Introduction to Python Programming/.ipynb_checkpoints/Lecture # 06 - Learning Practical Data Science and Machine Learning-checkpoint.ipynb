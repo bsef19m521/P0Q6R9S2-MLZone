{
 "cells": [
  {
   "cell_type": "markdown",
   "id": "b479a760",
   "metadata": {},
   "source": [
    "<img src=\"images/intro-6.png\" height=1000px width=1000px>\n"
   ]
  },
  {
   "cell_type": "code",
   "execution_count": null,
   "id": "ef3fa5a6",
   "metadata": {},
   "outputs": [],
   "source": []
  },
  {
   "cell_type": "code",
   "execution_count": null,
   "id": "4b9e6cef",
   "metadata": {},
   "outputs": [],
   "source": []
  },
  {
   "cell_type": "markdown",
   "id": "95de41a5",
   "metadata": {},
   "source": [
    "<h1 align=\"center\" style=\"color:red\" >Python-Tuples </h1>\n",
    "\n",
    "\n",
    "#### [Click me to learn more about Python Tuples](https://docs.python.org/3/tutorial/datastructures.html#tuples-and-sequences)"
   ]
  },
  {
   "cell_type": "code",
   "execution_count": null,
   "id": "6c8d27ab",
   "metadata": {},
   "outputs": [],
   "source": []
  },
  {
   "cell_type": "markdown",
   "id": "0f75a9de",
   "metadata": {},
   "source": [
    "<img align=\"center\" width=\"800\" height=\"800\"  src=\"images/datatypes1.png\"> "
   ]
  },
  {
   "cell_type": "code",
   "execution_count": null,
   "id": "great-fruit",
   "metadata": {},
   "outputs": [],
   "source": [
    "# lists are mutable where as tuples are immutable lists."
   ]
  },
  {
   "cell_type": "markdown",
   "id": "3813f231",
   "metadata": {},
   "source": [
    "> **A Tuple is a numerically ordered sequence of elements that can store elements of heterogeneous types, is iterable, immutable and allows duplicate elements.**\n",
    "\n",
    "<img src=\"images/tuple-1.png\" height=1000px width=1000px>\n"
   ]
  },
  {
   "cell_type": "code",
   "execution_count": null,
   "id": "24483ee0",
   "metadata": {},
   "outputs": [],
   "source": []
  },
  {
   "cell_type": "code",
   "execution_count": null,
   "id": "257352e9",
   "metadata": {},
   "outputs": [],
   "source": []
  },
  {
   "cell_type": "code",
   "execution_count": null,
   "id": "193296f2",
   "metadata": {},
   "outputs": [],
   "source": []
  },
  {
   "cell_type": "markdown",
   "id": "a2e370e3",
   "metadata": {},
   "source": [
    "- Like Lists, a Tuple in Python is also an ordered collection of values.\n",
    "- Like Lists, a Tuple is created by placing comma separated values, but in parenthesis rather square brackets. \n",
    "- Like List, a Tuple also allows us to store elements of different data types in one container.\n",
    "- Unlike List, it is not possible to add, remove, or modify values in a Tuple, so you can think of tuples as immutable Lists.\n",
    "- Apart from this, every operation that we can perform on Lists that do not modify them, can be performed on Tuples as well.\n",
    "- To be honest, Tuples are not used as often as Lists in programming, but are used when immutability is necessary.\n",
    "- When to prefer Tuples over Lists?\n",
    "    - While passing an object to a function, if you want to make sure that the object does not get changed, then Tuple become your solution. So Tuples provides a convenient source of data integrity.\n",
    "    - Similarly, since functions can return only one value, if you want a function to return more than one value, you pack your result in a tuple and return it\n",
    "    - Manipulating elements of a Tuple is far more efficient than manipulating elements of a List.\n",
    "    - Tuples being immutable are used in Dictionaries as keys (which are immutable)."
   ]
  },
  {
   "cell_type": "code",
   "execution_count": null,
   "id": "83647560",
   "metadata": {},
   "outputs": [],
   "source": []
  },
  {
   "cell_type": "code",
   "execution_count": null,
   "id": "c2ff2339",
   "metadata": {},
   "outputs": [],
   "source": []
  },
  {
   "cell_type": "markdown",
   "id": "7c109b0c",
   "metadata": {},
   "source": [
    "## Learning agenda of this notebook\n",
    "1. How to create Tuples?\n",
    "2. Proof of concepts: Tuples are heterogeneous, ordered, nested, immutable, and allow duplicate elements\n",
    "3. Different ways to access elements of a Tuple?\n",
    "4. Slicing a Tuple\n",
    "5. Tuple concatenation and repetition\n",
    "6. Being immutable, you cannot add elements to a Tuple\n",
    "7. Being immutable, you cannot remove elemenst from a Tuple\n",
    "8. Converting string object to Tuple and vice-versa (using type casting, `split()` and `join()`)\n",
    "9. Tuple methods\n",
    "10. Sorting a Tuple using built-in `sorted()` function"
   ]
  },
  {
   "cell_type": "code",
   "execution_count": null,
   "id": "a0ce27db",
   "metadata": {},
   "outputs": [],
   "source": [
    "help(tuple)"
   ]
  },
  {
   "cell_type": "markdown",
   "id": "78d11dc1",
   "metadata": {},
   "source": [
    "## 1. How to create Tuples?\n",
    "- A Tuple is created by placing comma separated values in parenthesis (or without prenthesis as well) "
   ]
  },
  {
   "cell_type": "code",
   "execution_count": null,
   "id": "88801cf7",
   "metadata": {},
   "outputs": [],
   "source": [
    "t1 = (1, 2, 3, 4, 5)   #tuple of integers\n",
    "t1 = 1, 2, 3, 4, 5\n",
    "print(\"t1: \", t1)\n",
    "\n",
    "t2 = (2.3, 5.6, 1.8)  #tuple of floats\n",
    "print(\"t2: \", t2)\n",
    "\n",
    "t3 = ('hello', 'this', 'F', 'good show') #tuple of strings\n",
    "print(\"t3: \", t3)\n",
    "\n",
    "t4 = (True, False, True)    # tuple of boolean values\n",
    "print(\"t4: \", t4)\n",
    "\n",
    "\n",
    "print(\"Type of t4 is: \", type(t4))"
   ]
  },
  {
   "cell_type": "code",
   "execution_count": null,
   "id": "deluxe-internet",
   "metadata": {},
   "outputs": [],
   "source": [
    "type(t2)"
   ]
  },
  {
   "cell_type": "code",
   "execution_count": null,
   "id": "64ed8ede",
   "metadata": {},
   "outputs": [],
   "source": []
  },
  {
   "cell_type": "code",
   "execution_count": null,
   "id": "a51ee7b3",
   "metadata": {},
   "outputs": [],
   "source": [
    "# creating empty tuple\n",
    "t5 = ()\n",
    "print(\"t5: \", t5)"
   ]
  },
  {
   "cell_type": "code",
   "execution_count": null,
   "id": "4d2339d7",
   "metadata": {},
   "outputs": [],
   "source": [
    "# to create a tuple with only one element is a bit tricky\n",
    "t6 = (25)       # note the comma, without it, Python will take it as int/float/string and not tuple\n",
    "print(\"\\nt6: \", t6)\n",
    "print(type(t6))"
   ]
  },
  {
   "cell_type": "code",
   "execution_count": null,
   "id": "0d9fbff4",
   "metadata": {},
   "outputs": [],
   "source": [
    "# to create a tuple with only one element is a bit tricky\n",
    "t6 = (25,)       # note the comma, without it, Python will take it as int/float/string and not tuple\n",
    "print(\"\\nt6: \", t6)\n",
    "print(type(t6))"
   ]
  },
  {
   "cell_type": "code",
   "execution_count": null,
   "id": "aboriginal-hormone",
   "metadata": {},
   "outputs": [],
   "source": []
  },
  {
   "cell_type": "code",
   "execution_count": null,
   "id": "3c2bd2e4",
   "metadata": {},
   "outputs": [],
   "source": [
    "# Nested Tuple: a tuple can also have another tuple as an item\n",
    "t1 = (\"Ehtisham\", 30, 5.5, (10,'Ali'))\n",
    "print(t1)\n"
   ]
  },
  {
   "cell_type": "code",
   "execution_count": null,
   "id": "5200e1b2",
   "metadata": {
    "scrolled": true
   },
   "outputs": [],
   "source": [
    "print(len(t1[3]))\n",
    "t1[3]"
   ]
  },
  {
   "cell_type": "code",
   "execution_count": null,
   "id": "810d75d3",
   "metadata": {},
   "outputs": [],
   "source": [
    "# Nested tuple: A tuple can also have another tuple, or list as an item\n",
    "t1 = (1, \"Hello\", [8, 'OK', 6], (1, 2, 'BYE'), 5.5)\n",
    "\n",
    "print(\"t1: \", t1)\n",
    "\n",
    "\n",
    "\n",
    "print(\"Type of t1 is: \", type(t1))"
   ]
  },
  {
   "cell_type": "code",
   "execution_count": null,
   "id": "3e44e04d",
   "metadata": {},
   "outputs": [],
   "source": []
  },
  {
   "cell_type": "code",
   "execution_count": null,
   "id": "05dda947",
   "metadata": {},
   "outputs": [],
   "source": []
  },
  {
   "cell_type": "markdown",
   "id": "48f77dc4",
   "metadata": {},
   "source": [
    "## 2. Proof of Concepts:"
   ]
  },
  {
   "cell_type": "markdown",
   "id": "00a2ff5d",
   "metadata": {},
   "source": [
    "### a. Tuples are Heterogeneous\n",
    "- Like Lists, Tuples are heterogeneous, as their elements/items can be of any data type"
   ]
  },
  {
   "cell_type": "code",
   "execution_count": null,
   "id": "7c3a9b9c",
   "metadata": {},
   "outputs": [],
   "source": [
    "t1 = (\"Ehtisham\", 30, 5.5)\n",
    "\n",
    "print(\"t1: \", t1)"
   ]
  },
  {
   "cell_type": "markdown",
   "id": "f7ef359e",
   "metadata": {},
   "source": [
    "### b. Tuples are ordered\n",
    "- Like Lists Tuples are ordered.\n",
    "- Tuples are ordered means every element is associated by an index.\n",
    "- Every time you access tuple elements they will show up in same sequence. \n",
    "- Moreover, two tuples having same elements in different order are not same."
   ]
  },
  {
   "cell_type": "code",
   "execution_count": null,
   "id": "8c570d52",
   "metadata": {},
   "outputs": [],
   "source": [
    "a = (1, 2, 3)\n",
    "b = (2, 3, 1)\n",
    "print(id(a), id(b), a is b, a == b)"
   ]
  },
  {
   "cell_type": "code",
   "execution_count": null,
   "id": "dec4144d",
   "metadata": {},
   "outputs": [],
   "source": []
  },
  {
   "cell_type": "code",
   "execution_count": null,
   "id": "717c7c60",
   "metadata": {},
   "outputs": [],
   "source": []
  },
  {
   "cell_type": "markdown",
   "id": "251c05b7",
   "metadata": {},
   "source": [
    "### c. Tuples are immutable\n",
    "- Unlike Lists Tuples are immutable\n",
    "- Means once a tuple object is created, you CANNOT make changes to it and modify its elements"
   ]
  },
  {
   "cell_type": "code",
   "execution_count": null,
   "id": "8d0f40de",
   "metadata": {},
   "outputs": [],
   "source": [
    "# Tuples are immutable, i.e., tuple elements cannot be changed\n",
    "numbers = (10, 20, 30)\n",
    "numbers[2] = 15    # this will generate an error"
   ]
  },
  {
   "cell_type": "code",
   "execution_count": null,
   "id": "80c29ede",
   "metadata": {},
   "outputs": [],
   "source": [
    "# Tupple however can be reassigned\n",
    "numbers = (10, 20, 30)\n",
    "numbers = (1, 2, 3)  # A tupple can be reassigned\n",
    "numbers"
   ]
  },
  {
   "cell_type": "markdown",
   "id": "1e8e4bc4",
   "metadata": {},
   "source": [
    "Remember the tuple object `(10,20,20)` in memory has become an orphan, since the numbers variable is now pointing to another tuple object `(1,2,3)` in memory. The unreferenced tuple object will be garbage collected by Python garbage collector"
   ]
  },
  {
   "cell_type": "code",
   "execution_count": null,
   "id": "4fc9e430",
   "metadata": {},
   "outputs": [],
   "source": [
    "# A List within a tuple is still mutable\n",
    "t1 = (1, \"Hello\", [8, 'OK', 6], (1, 2, 'BYE'), 5.5)\n",
    "print(t1)\n",
    "print(t1[2])\n",
    "\n"
   ]
  },
  {
   "cell_type": "code",
   "execution_count": null,
   "id": "11b5b2f3",
   "metadata": {},
   "outputs": [],
   "source": [
    "t1[2][1] = 'Not OK'         # will work fine\n",
    "\n",
    "t1"
   ]
  },
  {
   "cell_type": "code",
   "execution_count": null,
   "id": "66239707",
   "metadata": {},
   "outputs": [],
   "source": []
  },
  {
   "cell_type": "markdown",
   "id": "8a459d21",
   "metadata": {},
   "source": [
    "### d. Tuples can have duplicate elements"
   ]
  },
  {
   "cell_type": "code",
   "execution_count": null,
   "id": "0a910e6f",
   "metadata": {},
   "outputs": [],
   "source": [
    "# Like Lists, Tuples allow duplicate elements\n",
    "names = ('Ehtisham', 'Ali', 'Ayesha', 'Dua', 'Ehtisham')\n",
    "print(names)"
   ]
  },
  {
   "cell_type": "code",
   "execution_count": null,
   "id": "8fbf5312",
   "metadata": {},
   "outputs": [],
   "source": []
  },
  {
   "cell_type": "markdown",
   "id": "32a0f7b9",
   "metadata": {},
   "source": [
    "### e. Tuples can be nested to arbitrary depth\n",
    "- Like Lists, you can have tuples within tuples and that can be done to an arbitrary depth. You are only restricted to the available memory on your system"
   ]
  },
  {
   "cell_type": "code",
   "execution_count": null,
   "id": "legislative-metallic",
   "metadata": {},
   "outputs": [],
   "source": []
  },
  {
   "cell_type": "code",
   "execution_count": null,
   "id": "delayed-failing",
   "metadata": {},
   "outputs": [],
   "source": []
  },
  {
   "cell_type": "code",
   "execution_count": null,
   "id": "e087c00b",
   "metadata": {},
   "outputs": [],
   "source": [
    "# A tuple having two sub-tuples within it\n",
    "a = (1,2,3,(4,5),(6,7,8,9),10,11)\n",
    "# A tuple having a sub-tuple, which is further having a sub-tuple and that again having a subtuple\n",
    "b = (1,2,3,(4,5,(6,7,8,(9,10,11))))\n",
    "a, b"
   ]
  },
  {
   "cell_type": "code",
   "execution_count": null,
   "id": "9d06635a",
   "metadata": {},
   "outputs": [],
   "source": []
  },
  {
   "cell_type": "code",
   "execution_count": null,
   "id": "2c4c211d",
   "metadata": {},
   "outputs": [],
   "source": []
  },
  {
   "cell_type": "markdown",
   "id": "1f8ac237",
   "metadata": {},
   "source": [
    "### f. Packing and Unpacking Tuples"
   ]
  },
  {
   "cell_type": "code",
   "execution_count": null,
   "id": "6b94e91a",
   "metadata": {},
   "outputs": [],
   "source": [
    "# you can unpack tuple elements\n",
    "t1 = ('Data', 'Science', 'Machine', 'Learning', 'Python')\n",
    "\n",
    "a, b, c, d, e = t1 # the number of variables on the left must match the length of tuple\n",
    "\n",
    "print (a, c, e)\n",
    "\n",
    "\n",
    "print(type(a))"
   ]
  },
  {
   "cell_type": "code",
   "execution_count": null,
   "id": "d303a342",
   "metadata": {},
   "outputs": [],
   "source": []
  },
  {
   "cell_type": "code",
   "execution_count": null,
   "id": "e1d34c89",
   "metadata": {},
   "outputs": [],
   "source": []
  },
  {
   "cell_type": "code",
   "execution_count": null,
   "id": "b63654ee",
   "metadata": {},
   "outputs": [],
   "source": [
    "# you can pack individual elements to a tuple\n",
    "t1 = a,b,c,d,e\n",
    "print(t1)\n",
    "print(type(t1))"
   ]
  },
  {
   "cell_type": "code",
   "execution_count": null,
   "id": "26170390",
   "metadata": {},
   "outputs": [],
   "source": []
  },
  {
   "cell_type": "code",
   "execution_count": null,
   "id": "6d1e2576",
   "metadata": {},
   "outputs": [],
   "source": []
  },
  {
   "cell_type": "markdown",
   "id": "418db83b",
   "metadata": {},
   "source": [
    "## 3. Different ways to access Elements of a Tuple\n",
    "- Since Tuple like List is of type Sequence, and any component within a sequence can be accessed by entrying an index within square brackets. So naturally this must work for Tuple as well\n",
    "- Similarly, if we want to find out the index of a specific item/character, we can use the `index()` method of Tuple class"
   ]
  },
  {
   "cell_type": "code",
   "execution_count": null,
   "id": "bbc96405",
   "metadata": {},
   "outputs": [],
   "source": [
    "#You can access elements of tuple using indexing which starts from zero\n",
    "t1 = (\"Ehtisham\", 30, 5.5, (10,'Ali'))\n",
    "\n",
    "print(t1[2])       #accessing element of tuple at index2\n",
    "\n",
    "print(t1[3])       #accessing element of tuple at index3, which is again a tuple\n",
    "\n"
   ]
  },
  {
   "cell_type": "code",
   "execution_count": null,
   "id": "b87ba891",
   "metadata": {},
   "outputs": [],
   "source": [
    "#accessing Nested tuple element\n",
    "\n",
    "print(t1[0][2])              #accessing third character of a tuple element at index 0\n",
    "\n",
    "print(t1[3][1])              #accessing second element of Nested tuple at index 3"
   ]
  },
  {
   "cell_type": "code",
   "execution_count": null,
   "id": "1617e0a7",
   "metadata": {},
   "outputs": [],
   "source": []
  },
  {
   "cell_type": "code",
   "execution_count": null,
   "id": "c0d21f34",
   "metadata": {},
   "outputs": [],
   "source": [
    "#Negative indexing starts looking at the tuple from the right hand side\n",
    "t1 = (\"Ehtisham\", 30, 5.5, (10,'Ali'))\n",
    "print(t1[-1])                #accessing last element\n",
    "print(t1[-2])                #accessing second last element\n",
    "print(t1[-3])                #accessing second last element\n"
   ]
  },
  {
   "cell_type": "code",
   "execution_count": null,
   "id": "eb601e4a",
   "metadata": {},
   "outputs": [],
   "source": [
    "help(t1.index)"
   ]
  },
  {
   "cell_type": "code",
   "execution_count": null,
   "id": "145bf439",
   "metadata": {},
   "outputs": [],
   "source": []
  },
  {
   "cell_type": "code",
   "execution_count": null,
   "id": "d42c7653",
   "metadata": {},
   "outputs": [],
   "source": [
    "# index(value) method is used when you know the tuple element and wants to get its index\n",
    "# index(value) method returns the index of the first matched item with its only argument\n",
    "\n",
    "mytuple = (27, 4.5, 'Ehtisham', 64, 'Ali', 19, 'Dua')\n",
    "\n",
    "print(\"\\nmytuple: \", mytuple)\n",
    "\n",
    "print(\"mytuple.index(3): \", mytuple.index('Dua Sadiq'))"
   ]
  },
  {
   "cell_type": "code",
   "execution_count": null,
   "id": "548ffe3a",
   "metadata": {},
   "outputs": [],
   "source": []
  },
  {
   "cell_type": "code",
   "execution_count": null,
   "id": "ad73be64",
   "metadata": {},
   "outputs": [],
   "source": []
  },
  {
   "cell_type": "markdown",
   "id": "c9517d91",
   "metadata": {},
   "source": [
    "## 4. Slicing Tuples\n",
    "- Like anyother sequence object we can perform slicing with tuples as well.\n",
    "- Slicing is the process of obtaining a portion of a tuple by using its indices.\n",
    "- Given a tuple, we can use the following template to slice it and obtain a sublist:\n",
    "```\n",
    "mytuple[start:end:step]\n",
    "```\n",
    "\n",
    "- **start** is the index from where we want the subtuple to start.If start is not provided, slicing starts from the beginning.\n",
    "- **end** is the index where we want our subtuple to end (not inclusive in the subtuple). If end is not provided, slicing goes till the last element of the tuple.\n",
    "- **step** is the step through which we want to skip elements in the tuple. The default step is 1, so we iterate through every element of the tuple."
   ]
  },
  {
   "cell_type": "code",
   "execution_count": null,
   "id": "d533f237",
   "metadata": {},
   "outputs": [],
   "source": [
    "t1 = ('a','b','c','d','e','f','g','h','i')\n",
    "t1"
   ]
  },
  {
   "cell_type": "code",
   "execution_count": null,
   "id": "fc7f5721",
   "metadata": {},
   "outputs": [],
   "source": [
    "t1[::]"
   ]
  },
  {
   "cell_type": "code",
   "execution_count": null,
   "id": "bacb22ad",
   "metadata": {},
   "outputs": [],
   "source": [
    "t1[3:]"
   ]
  },
  {
   "cell_type": "code",
   "execution_count": null,
   "id": "fda45faa",
   "metadata": {},
   "outputs": [],
   "source": [
    "t1[:4]"
   ]
  },
  {
   "cell_type": "code",
   "execution_count": null,
   "id": "abafa446",
   "metadata": {},
   "outputs": [],
   "source": [
    "t1[2:5]"
   ]
  },
  {
   "cell_type": "code",
   "execution_count": null,
   "id": "17127f79",
   "metadata": {},
   "outputs": [],
   "source": [
    "t1[:-2]"
   ]
  },
  {
   "cell_type": "code",
   "execution_count": null,
   "id": "0a4ca863",
   "metadata": {},
   "outputs": [],
   "source": [
    "t1[-1]"
   ]
  },
  {
   "cell_type": "code",
   "execution_count": null,
   "id": "c4cf41ba",
   "metadata": {},
   "outputs": [],
   "source": [
    "# Slicing by using strides/step\n",
    "print(t1[::])  # A default step of 1\n",
    "print(t1[::1])  # A step of 1\n",
    "print(t1[::2])  # A step of 2\n",
    "print(t1[::3])  # A step of 3"
   ]
  },
  {
   "cell_type": "code",
   "execution_count": null,
   "id": "44359432",
   "metadata": {},
   "outputs": [],
   "source": [
    "# Reverse slicing\n",
    "print(t1[::-1]) # Take 1 step back each time\n",
    "\n",
    "print(t1[5:1:-1]) # Take 1 step back each time\n",
    "#if start is less than end in case of a negative step, it will return empty string\n",
    "\n",
    "print(t1[2:10:-1])\n",
    "\n",
    "print(t1[::-2]) # Take 2 steps back"
   ]
  },
  {
   "cell_type": "code",
   "execution_count": null,
   "id": "8221022c",
   "metadata": {},
   "outputs": [],
   "source": [
    "# You CANNOT use slice operator on the left side of assignment as tuple is immutable\n",
    "t1 = (1, 2, 3, 4, 5, 6, 7)\n",
    "t1[2:4] = ['a', 'b', 'c']  # will generate an error as 'tuple' object does not support item assignment"
   ]
  },
  {
   "cell_type": "code",
   "execution_count": null,
   "id": "33fc2360",
   "metadata": {},
   "outputs": [],
   "source": []
  },
  {
   "cell_type": "code",
   "execution_count": null,
   "id": "65848514",
   "metadata": {},
   "outputs": [],
   "source": []
  },
  {
   "cell_type": "markdown",
   "id": "8f109f45",
   "metadata": {},
   "source": [
    "## 5. Tuple Concatenation and Repetition\n",
    "- The `+` operator is used to concatenate two or more tuples\n",
    "- The `*` operator is used to repeat or replicate"
   ]
  },
  {
   "cell_type": "markdown",
   "id": "4063124d",
   "metadata": {},
   "source": [
    "### a. Concatenating Tuples"
   ]
  },
  {
   "cell_type": "code",
   "execution_count": null,
   "id": "5db695de",
   "metadata": {},
   "outputs": [],
   "source": [
    "# Add some elements to the end of an existing tuple using concatenation operator\n",
    "a = (1,2,3)\n",
    "b = a + (4,5)\n",
    "\n",
    "# Add some elements to the beginning of an existing tuple using concatenation operator\n",
    "c = (0,) + b\n",
    "print(a, b, c)"
   ]
  },
  {
   "cell_type": "code",
   "execution_count": null,
   "id": "6684daf2",
   "metadata": {},
   "outputs": [],
   "source": []
  },
  {
   "cell_type": "code",
   "execution_count": null,
   "id": "65c304f4",
   "metadata": {},
   "outputs": [],
   "source": [
    "# use + operator to concatenate two tuples\n",
    "food_items1 = ('fruits', 'bread', 'veggies')\n",
    "food_items2 = ('meat', 'spices', 'burger')\n",
    "food = food_items1 + food_items2\n",
    "print(food)"
   ]
  },
  {
   "cell_type": "code",
   "execution_count": null,
   "id": "895eb9a4",
   "metadata": {},
   "outputs": [],
   "source": [
    "# You can concatenate two heterogeneous tuples\n",
    "t1 = (5, 3.4, 'hello')\n",
    "t2 = (31, 9.7, 'bye')\n",
    "t3 = t1 + t2\n",
    "print(t3)"
   ]
  },
  {
   "cell_type": "code",
   "execution_count": null,
   "id": "0845f519",
   "metadata": {},
   "outputs": [],
   "source": [
    "num1 = (1,2,3)\n",
    "num2 = num1 + (4, 5, 6, (7, 8))\n",
    "print (num2)"
   ]
  },
  {
   "cell_type": "code",
   "execution_count": null,
   "id": "87038252",
   "metadata": {},
   "outputs": [],
   "source": []
  },
  {
   "cell_type": "code",
   "execution_count": null,
   "id": "11196ecc",
   "metadata": {},
   "outputs": [],
   "source": []
  },
  {
   "cell_type": "markdown",
   "id": "617419b0",
   "metadata": {},
   "source": [
    "### b. Replicating Tuples"
   ]
  },
  {
   "cell_type": "code",
   "execution_count": null,
   "id": "d4208107",
   "metadata": {},
   "outputs": [],
   "source": [
    "# use tuple * n syntax to create large tuples by repeating the tuple n times\n",
    "name = ('Ehtisham', 'Ali', 'Ayesha')\n",
    "a = name * 3\n",
    "print(a)"
   ]
  },
  {
   "cell_type": "code",
   "execution_count": null,
   "id": "a9a6308a",
   "metadata": {},
   "outputs": [],
   "source": [
    "#tuple of 100 A's\n",
    "buf = ('A',)\n",
    "newbuf = buf * 100\n",
    "print(newbuf)\n",
    "type(newbuf)"
   ]
  },
  {
   "cell_type": "code",
   "execution_count": null,
   "id": "39f01c42",
   "metadata": {},
   "outputs": [],
   "source": []
  },
  {
   "cell_type": "code",
   "execution_count": null,
   "id": "d5438cd8",
   "metadata": {},
   "outputs": [],
   "source": []
  },
  {
   "cell_type": "markdown",
   "id": "0557d8ff",
   "metadata": {},
   "source": [
    "## 6. Being immutable, you cannot add elements to a tuple (in list this is possible using `append`, `extend`, and `insert`)"
   ]
  },
  {
   "cell_type": "code",
   "execution_count": null,
   "id": "4ca664fe",
   "metadata": {},
   "outputs": [],
   "source": [
    "myfamily = (\"Ehtisham\", 'Ali', 'Ayesha')\n",
    "\n",
    "\n",
    "print(\"\\n myfamily tuple: \", myfamily)\n",
    "\n",
    "myfamily.insert(2,'Dua') # will generate an error as tuple object has no attribute 'insert'\n"
   ]
  },
  {
   "cell_type": "markdown",
   "id": "ae40dd9e",
   "metadata": {},
   "source": [
    "## 7. Being immutable, you cannot remove elements from a tuple (in list this is possible using `pop` and `remove` methods)"
   ]
  },
  {
   "cell_type": "code",
   "execution_count": null,
   "id": "33f7704a",
   "metadata": {},
   "outputs": [],
   "source": [
    "tuple1 = ('Introduction','to','Data', 'Science')\n",
    "\n",
    "#You cannot delete items from a tuple using del keyword\n",
    "# del tuple1[3]    # will generate an error as tuple object doesn't support item deletion\n",
    "\n",
    "# However, you can assign a new tuple object to the reference tuple1\n",
    "tuple1 = (1, 2, 3, 'Ehtisham')\n",
    "# However, you can delete an entire tuple object using del keyword\n",
    "\n",
    "del tuple1\n",
    "print(tuple1)\n",
    "\n"
   ]
  },
  {
   "cell_type": "code",
   "execution_count": null,
   "id": "f2fd5cb1",
   "metadata": {},
   "outputs": [],
   "source": []
  },
  {
   "cell_type": "code",
   "execution_count": null,
   "id": "24725127",
   "metadata": {},
   "outputs": [],
   "source": []
  },
  {
   "cell_type": "code",
   "execution_count": null,
   "id": "1c4ed996",
   "metadata": {},
   "outputs": [],
   "source": []
  },
  {
   "cell_type": "code",
   "execution_count": null,
   "id": "55fcc67d",
   "metadata": {},
   "outputs": [],
   "source": []
  },
  {
   "cell_type": "code",
   "execution_count": null,
   "id": "565a2dc4",
   "metadata": {},
   "outputs": [],
   "source": []
  },
  {
   "cell_type": "markdown",
   "id": "0f4dd1c2",
   "metadata": {},
   "source": [
    "## 8. Converting String object to List/Tuple and vice-versa"
   ]
  },
  {
   "cell_type": "markdown",
   "id": "f9dcb124",
   "metadata": {},
   "source": [
    "### a. Type Casting"
   ]
  },
  {
   "cell_type": "code",
   "execution_count": null,
   "id": "lonely-treasure",
   "metadata": {},
   "outputs": [],
   "source": []
  },
  {
   "cell_type": "code",
   "execution_count": null,
   "id": "71af910c",
   "metadata": {},
   "outputs": [],
   "source": [
    "# convert a string into tuple using tuple()\n",
    "str1 = 'Learning Data Science and Machine Learning'    #this is a string\n",
    "\n",
    "print(\"Original string: \", str1, \"and its type is:  \", type(str1))\n",
    "\n",
    "t1 = tuple(str1)\n",
    "\n",
    "\n",
    "print(\"\\n\\n\")\n",
    "\n",
    "print(\"t1: \", t1, \"and its type is:  \", type(t1))"
   ]
  },
  {
   "cell_type": "code",
   "execution_count": null,
   "id": "bcf7ce2f",
   "metadata": {},
   "outputs": [],
   "source": []
  },
  {
   "cell_type": "markdown",
   "id": "5e9e7346",
   "metadata": {},
   "source": [
    "### b. Use `str.split()` to Split a String into Tuple\n",
    "- Used to tokenize a string based on some delimiter, which can be stored in a tuple\n",
    "- It returns a list, so we need to type cast the returned object to a tuple"
   ]
  },
  {
   "cell_type": "code",
   "execution_count": null,
   "id": "993e0fef",
   "metadata": {},
   "outputs": [],
   "source": [
    "str1 = \"\"\n",
    "help(str1.split)"
   ]
  },
  {
   "cell_type": "code",
   "execution_count": null,
   "id": "c5d68224",
   "metadata": {},
   "outputs": [],
   "source": [
    "str1 = 'Learning Data Science and Machine Learning'    #this is a string\n",
    "t1 = tuple(str1.split(' ')) # The split() method returns a list, which you can typecast to a tuple\n",
    "print(t1)\n",
    "print(type(t1))"
   ]
  },
  {
   "cell_type": "code",
   "execution_count": null,
   "id": "0ae62a11",
   "metadata": {},
   "outputs": [],
   "source": [
    "str2 = \"Data Science is GR8 Degree\"    #this is a string\n",
    "t2 = tuple(str2.split('c'))\n",
    "print(t2)\n",
    "print(type(t2))"
   ]
  },
  {
   "cell_type": "markdown",
   "id": "1096daf9",
   "metadata": {},
   "source": [
    "### c. Use `str.join()` to Join Strings into a Tuple\n",
    "- The `str.join()` is the reverse of split() method, and is used to joing multiple strings by inserting the string in between on which this method is called\n",
    "- Remember, you can pass any iterable as argument to `str.join()` method"
   ]
  },
  {
   "cell_type": "code",
   "execution_count": null,
   "id": "0c20a59f",
   "metadata": {},
   "outputs": [],
   "source": [
    "str = \"\"\n",
    "help(str.join)"
   ]
  },
  {
   "cell_type": "code",
   "execution_count": null,
   "id": "f04b4019",
   "metadata": {},
   "outputs": [],
   "source": [
    "t1 = ('This', 'is', 'getting', 'more', 'and', 'more', 'interesting')\n",
    "t1"
   ]
  },
  {
   "cell_type": "code",
   "execution_count": null,
   "id": "04ecbbc7",
   "metadata": {},
   "outputs": [],
   "source": [
    "str2 = ' '.join(t1)\n",
    "\n",
    "print(str2, type(str2))"
   ]
  },
  {
   "cell_type": "code",
   "execution_count": null,
   "id": "2bb77698",
   "metadata": {},
   "outputs": [],
   "source": [
    "delimiter = \" # \"\n",
    "str3 = delimiter.join(t1)\n",
    "print(str3)\n",
    "print(type(str3))"
   ]
  },
  {
   "cell_type": "code",
   "execution_count": null,
   "id": "a06d0265",
   "metadata": {},
   "outputs": [],
   "source": []
  },
  {
   "cell_type": "markdown",
   "id": "fbf88b2e",
   "metadata": {},
   "source": [
    "## 9. Misc Tuple Methods in Python\n",
    "- Tuples have built-in methods, but not as many as Lists do. Lets look at two of them:\n",
    "    - The `t1.index(val)` method takes the value and returns the first index where that value resides in the tuple\n",
    "    - The `t1.count(val)` method takes exactly one argument and returns the number of times a that value occurs in a tuple"
   ]
  },
  {
   "cell_type": "code",
   "execution_count": null,
   "id": "9a32d56d",
   "metadata": {},
   "outputs": [],
   "source": [
    "t1 = (3, 8, 1, 6, 0, 8, 4)\n",
    "rv = t1.index(0)\n",
    "print(rv)"
   ]
  },
  {
   "cell_type": "code",
   "execution_count": null,
   "id": "8dfa6b70",
   "metadata": {},
   "outputs": [],
   "source": [
    "t1 = (3, 8, 1, 6, 8, 0, 8, 4)\n",
    "rv = t1.count(4)\n",
    "print(rv)"
   ]
  },
  {
   "cell_type": "markdown",
   "id": "4f48dd83",
   "metadata": {},
   "source": [
    "**Like Lists, you can apply `max()`, `min()`, and `sum()` functions on tuples with numeric elements**"
   ]
  },
  {
   "cell_type": "code",
   "execution_count": null,
   "id": "2f025aa2",
   "metadata": {},
   "outputs": [],
   "source": [
    "t1 = (3, 8, 1, 6, 0, 8, 4)\n",
    "print(\"length of list: \", len(t1))\n",
    "print(\"max element in list: \", max(t1))\n",
    "print(\"min element in list: \",min(t1))\n",
    "print(\"Sum of element in list: \",sum(t1))"
   ]
  },
  {
   "cell_type": "markdown",
   "id": "bf47a9e8",
   "metadata": {},
   "source": [
    "**Like Lists, you can apply `in` and `not in` membership operators on Tuples**"
   ]
  },
  {
   "cell_type": "code",
   "execution_count": null,
   "id": "689db389",
   "metadata": {},
   "outputs": [],
   "source": [
    "t1 = (3, 8, 1, 6, 0, 8, 4)\n",
    "\n",
    "rv1 = 9 in t1\n",
    "\n",
    "print(rv1)\n",
    "\n",
    "rv2 = 9 not in t1\n",
    "print(rv2)\n",
    "\n",
    "\n",
    "t2 = (\"XYZ\", \"ABC\", \"MNO\", \"ALI\")\n",
    "rv3 = \"Dua\" in t2\n",
    "print(rv3)\n",
    "\n"
   ]
  },
  {
   "cell_type": "markdown",
   "id": "aaaa0c01",
   "metadata": {},
   "source": [
    "**Comparing Objects and Values**"
   ]
  },
  {
   "cell_type": "code",
   "execution_count": null,
   "id": "e6a50444",
   "metadata": {},
   "outputs": [],
   "source": [
    "#In case of strings, both variables str1 and str2 refers to the same memory location containing string object 'hello'\n",
    "str1 = 'hello'\n",
    "str2 = 'hello'\n",
    "print(id(str1), id(str2))\n",
    "\n",
    "print (str1 is str2)  # is operator is checking the memory address (ID) of two strings\n",
    "print (str1 == str2)  # == operator is checking the contents of two strings"
   ]
  },
  {
   "cell_type": "code",
   "execution_count": null,
   "id": "a1c96bd0",
   "metadata": {},
   "outputs": [],
   "source": []
  },
  {
   "cell_type": "code",
   "execution_count": null,
   "id": "8639f31f",
   "metadata": {},
   "outputs": [],
   "source": [
    "#In case of tuples, both t1 and t2 refers to two different objects in the memory having same values\n",
    "t1 = (1, 2, 3)\n",
    "t2 = (1, 2, 3)\n",
    "print(id(t1), id(t2))\n",
    "\n",
    "print (t1 is t2)   # is operator is checking the memory address (ID) of two tuples\n",
    "print (t1 == t2)   # == operator is checking the contents of two tuples element by element"
   ]
  },
  {
   "cell_type": "code",
   "execution_count": null,
   "id": "5f37b0ce",
   "metadata": {},
   "outputs": [],
   "source": [
    "help(sorted)"
   ]
  },
  {
   "cell_type": "markdown",
   "id": "4d074020",
   "metadata": {},
   "source": [
    "## 10. Sorting a Tuple\n",
    "- Python’s built-in `sorted()` function can be used to sort iterable objects, such as lists, tuples, and dictionaries. - We have seen its usage in our Tuple session.\n",
    "- The `sorted()` function sorts the items of the specified iterable object and creates a new object with the newly sorted values.\n",
    "- It's syntax is as shown below:\n",
    "```\n",
    "    sorted(object, key=None, reverse=False)\n",
    "```\n",
    "- Where:\n",
    "    - `object`: the iterable object that you want to sort (required)\n",
    "    - `key`: the function that allows you to perform custom sort operations (optional)\n",
    "    - `reverse`: specifies whether the object should be sorted in descending order (optional)- default value is False"
   ]
  },
  {
   "cell_type": "code",
   "execution_count": null,
   "id": "4625d4b2",
   "metadata": {},
   "outputs": [],
   "source": [
    "# Sorting a tuple by it values with numeric values\n",
    "\n",
    "t1 = (3, 8, 1, 6, 0, 8, 4)\n",
    "\n",
    "print(\"Original Tuple = \", t1)\n",
    "\n",
    "\n",
    "list1 = sorted(t1)\n",
    "# print(list1)\n",
    "list2 = sorted(t1, reverse=True)\n",
    "\n",
    "print(\"Ascending Sort: \", list1)\n",
    "print(\"Descending Sort: \", list2)"
   ]
  },
  {
   "cell_type": "code",
   "execution_count": null,
   "id": "d8c14be7",
   "metadata": {},
   "outputs": [],
   "source": []
  },
  {
   "cell_type": "code",
   "execution_count": null,
   "id": "4203d43f",
   "metadata": {},
   "outputs": [],
   "source": [
    "# Sorting a tuple with string values\n",
    "\n",
    "t1 = (\"XYZ\", \"ABC\", \"MNO\", \"ALI\")\n",
    "print(\"Original Tuple: \", t1)\n",
    "\n",
    "list1 = sorted(t1)\n",
    "list2 = sorted(t1, reverse=True)\n",
    "\n",
    "print(\"Ascending Sort: \", list1)\n",
    "print(\"Descending Sort: \", list2)"
   ]
  },
  {
   "cell_type": "markdown",
   "id": "cdcb5387",
   "metadata": {},
   "source": [
    "### b. Custom Sorting using `sorted()` Method"
   ]
  },
  {
   "cell_type": "code",
   "execution_count": null,
   "id": "2c90cf5e",
   "metadata": {},
   "outputs": [],
   "source": []
  },
  {
   "cell_type": "markdown",
   "id": "e03ac410",
   "metadata": {},
   "source": [
    "**Example 1: Suppose given a tuple with elements `('ccc', 'aaaa', 'd', 'bb')` and we want to sort it by length of strings inside the tuple so that the output is like : `('d', 'bb', 'ccc', 'aaaa)`**\n",
    "\n",
    "```\n",
    "    sorted(iterable, key=None, reverse=False)\n",
    "```\n",
    "- We write a one argument function, and pass that function to the `key` parameter of `sorted()` function\n",
    "- The `sorted()` function will run this one argument function on all the elements of the tuple and return a single value, and build up a shadow list of those new values. \n",
    "- Suppose the one argument function in this case is the Python built-in function `len()`, which when called on every element of `tuple` will return a shadow list containing length of every string within the original tuple containing `[3,4,1,2]`\n",
    "- The `sorted()` function will then sort elements of the tuple based on the values of the shadow list and returns the required sorted list :)"
   ]
  },
  {
   "cell_type": "code",
   "execution_count": null,
   "id": "d4015aa1",
   "metadata": {},
   "outputs": [],
   "source": [
    "t1 = ('ccc', 'aaaa', 'd', 'bb')\n",
    "sorted(t1)"
   ]
  },
  {
   "cell_type": "code",
   "execution_count": null,
   "id": "ff103dab",
   "metadata": {},
   "outputs": [],
   "source": [
    "#Example 1:\n",
    "t1 = ('ccc', 'aaaa', 'd', 'bb')\n",
    "sorted(t1, key=len)"
   ]
  },
  {
   "cell_type": "markdown",
   "id": "e0a78fe8",
   "metadata": {},
   "source": [
    "**Example 2: Suppose given a tuple with elements `('abcz', 'xyza', 'bas', 'ehtisham')` and we want to sort it by last character of strings within the tuple so that the output is like : `('xyza', 'ehtisham', 'bas', 'abcz')`**\n",
    "\n",
    "```\n",
    "    sorted(iterable, key=None, reverse=False)\n",
    "```\n",
    "- We write a one argument function, and pass that function to the `key` parameter of `sorted()` function\n",
    "- The `sorted()` function will run this one argument function on all the elements of the tuple and return a single value, and build up a shadow list of those new values. \n",
    "- This time the one argument function is a user defined function that receives a string and returns its last character. When called on every element of `tuple` will return a shadow list containing only the last character of every string within the original tuple containing `['z', 'a', 's', 'f']`\n",
    "- The `sorted()` function will then sort elements of the tuple based on the values of the shadow list and returns the required sorted list :)"
   ]
  },
  {
   "cell_type": "code",
   "execution_count": null,
   "id": "2587b323",
   "metadata": {},
   "outputs": [],
   "source": [
    "def last(s):\n",
    "    return s[-1]\n",
    "\n",
    "t1 = ('abcz', 'xyza', 'bas', 'ehtisham')\n",
    "rv = sorted(t1, key=last)\n",
    "print(rv)\n",
    "print(t1)"
   ]
  },
  {
   "cell_type": "code",
   "execution_count": null,
   "id": "b77e3768",
   "metadata": {},
   "outputs": [],
   "source": []
  },
  {
   "cell_type": "markdown",
   "id": "1bd4be02",
   "metadata": {},
   "source": [
    "## Check your Concepts\n",
    "\n",
    "Try answering the following questions to test your understanding of the topics covered in this notebook:\n",
    "\n",
    "1. How tuples are different from list?\n",
    "2. Can you add or remove elements in a tuple?\n",
    "3. How do you create a tuple with just one element?\n",
    "4. How do you convert a tuple to a list and vice versa?\n",
    "5. How to create a nested tuple?\n",
    "6. How to find a min, max value from a tuple?\n",
    "7. How to compare two tuples, without iteration? (Hint: cmp)\n",
    "8. How to find the index of a specific element of a tuple?\n",
    "9. How to find the count of occurrence of element in Python Tuple?\n",
    "10.How to delete Tuple in Python ?\n"
   ]
  },
  {
   "cell_type": "code",
   "execution_count": null,
   "id": "b0cf3eb0",
   "metadata": {},
   "outputs": [],
   "source": []
  },
  {
   "cell_type": "code",
   "execution_count": null,
   "id": "af9a8bba",
   "metadata": {},
   "outputs": [],
   "source": [
    "print(dir(tuple))"
   ]
  },
  {
   "cell_type": "code",
   "execution_count": null,
   "id": "f8e4f860",
   "metadata": {},
   "outputs": [],
   "source": []
  },
  {
   "cell_type": "code",
   "execution_count": null,
   "id": "e290cc93",
   "metadata": {},
   "outputs": [],
   "source": []
  },
  {
   "cell_type": "code",
   "execution_count": null,
   "id": "91f3efea",
   "metadata": {},
   "outputs": [],
   "source": []
  },
  {
   "cell_type": "code",
   "execution_count": null,
   "id": "d8f0bf5f",
   "metadata": {},
   "outputs": [],
   "source": []
  },
  {
   "cell_type": "code",
   "execution_count": null,
   "id": "c4bace9e",
   "metadata": {},
   "outputs": [],
   "source": []
  },
  {
   "cell_type": "markdown",
   "id": "b72a4641",
   "metadata": {},
   "source": [
    "<h1 align=\"center\" style=\"color:red\" >Python-Sets </h1>\n",
    "\n",
    "<br>\n",
    "<br>\n",
    "\n",
    "#### [Click me to learn more about Python Sets](https://docs.python.org/3/tutorial/datastructures.html#sets)"
   ]
  },
  {
   "cell_type": "code",
   "execution_count": null,
   "id": "3dbd7c0e",
   "metadata": {},
   "outputs": [],
   "source": []
  },
  {
   "cell_type": "code",
   "execution_count": null,
   "id": "8f29a26d",
   "metadata": {},
   "outputs": [],
   "source": []
  },
  {
   "cell_type": "markdown",
   "id": "8ac4c95a",
   "metadata": {},
   "source": [
    "<img align=\"center\" width=\"800\" height=\"800\"  src=\"images/datatypes1.png\" > "
   ]
  },
  {
   "cell_type": "code",
   "execution_count": null,
   "id": "formed-michael",
   "metadata": {},
   "outputs": [],
   "source": []
  },
  {
   "cell_type": "markdown",
   "id": "84f43960",
   "metadata": {},
   "source": [
    "> **A Set is an unordered and unindexed collection of heterogeneous items that is iterable, mutable and has no duplicate elements.**\n",
    "\n",
    "- Like Lists, a set is created by placing comma separated values, but in curly brackets rather square brackets. \n",
    "- Like List, a set also allows us to store elements of different data types in one container.\n",
    "- Like List, it is possible to add, remove, or modify values in a set.\n",
    "- Any immutable data type can be an element of a set: a number, a string, a tuple. Mutable data types cannot be elements of the set.\n",
    "- To be honest, this data structure is extremely useful and is underutilized by beginners, so try to keep it in mind!\n",
    "- The major advantage of using a set, as opposed to a list, is that it has a highly optimized method for membership testing and eliminating duplicate entries\n",
    "\n",
    "<img align=\"center\" width=\"400\" height=\"400\"  src=\"images/set-1.png\" > "
   ]
  },
  {
   "cell_type": "code",
   "execution_count": null,
   "id": "e8e32051",
   "metadata": {},
   "outputs": [],
   "source": []
  },
  {
   "cell_type": "code",
   "execution_count": null,
   "id": "e3bbfb8a",
   "metadata": {},
   "outputs": [],
   "source": []
  },
  {
   "cell_type": "markdown",
   "id": "bab7df9e",
   "metadata": {},
   "source": [
    "## Learning agenda of this notebook\n",
    "1. How to create Sets?\n",
    "2. Proof of concepts: Sets are heterogeneous, un-ordered, mutable, nested, and DOES NOT allow duplicate elements\n",
    "3. Accessing elements of sets?\n",
    "4. Slicing a set (can't be performed as there is no index associated with set values)\n",
    "5. Set concatenation and repetition (can't be performed as on list and tuples)\n",
    "6. Adding/Updating elements to a set using `add()`, and `update()` methods\n",
    "7. Removing elements from a set using `pop()`, `remove()` and `discard()` methods. \n",
    "8. Converting string object to set and vice-versa (using type casting, `split()` and `join()`)\n",
    "9. Elements of a set cannot be sorted (being unordered)\n",
    "9. Misc set methods \n",
    "10.Some Built-in functions that can be used on sets (len, max, min, sum)\n",
    "11. Misc Concepts\n",
    "    - Union of sets \n",
    "    - Intersection of sets \n",
    "    - Difference of sets \n",
    "    - Symmetric Difference of sets \n",
    "    - Subsets \n",
    "    - Supersets \n",
    "    - Disjoint sets "
   ]
  },
  {
   "cell_type": "code",
   "execution_count": null,
   "id": "34f38cef",
   "metadata": {},
   "outputs": [],
   "source": [
    "# help(set)"
   ]
  },
  {
   "cell_type": "markdown",
   "id": "375fe6cd",
   "metadata": {},
   "source": [
    "## 1. How to create Sets?\n",
    "- A set is created by placing comma separated values in curly brackets `{}`. \n",
    "- The preferred of creating a set is by using `set()` method, and passing a list to it, as curly brackets are also used by dictionary object in Python."
   ]
  },
  {
   "cell_type": "code",
   "execution_count": null,
   "id": "damaged-threshold",
   "metadata": {},
   "outputs": [],
   "source": []
  },
  {
   "cell_type": "code",
   "execution_count": null,
   "id": "68e4e104",
   "metadata": {},
   "outputs": [],
   "source": [
    "s1 = {1,2,3,4,5} #set of integers\n",
    "\n",
    "s2 = set([1, 2, 3, 4, 5])\n",
    "print(s1, type(s1))\n",
    "\n",
    "print(s2, type(s2))"
   ]
  },
  {
   "cell_type": "code",
   "execution_count": null,
   "id": "ab77412e",
   "metadata": {},
   "outputs": [],
   "source": []
  },
  {
   "cell_type": "code",
   "execution_count": null,
   "id": "1b82a24e",
   "metadata": {},
   "outputs": [],
   "source": [
    "s2 = {3.7, 6.5, 3.8, 7.95}   #set of floats\n",
    "s2 = set([3.7, 6.5, 3.8, 7.95])\n",
    "print(s2)"
   ]
  },
  {
   "cell_type": "code",
   "execution_count": null,
   "id": "699523dd",
   "metadata": {},
   "outputs": [],
   "source": [
    "s3 = {\"hello\", \"this\", \"F\", \"good show\"}   #set of strings\n",
    "s3 = set([\"hello\", \"this\", \"F\", \"good show\"])\n",
    "print(s3)"
   ]
  },
  {
   "cell_type": "code",
   "execution_count": null,
   "id": "bcb32ccb",
   "metadata": {},
   "outputs": [],
   "source": [
    "s4 = {True, False, True, True, False}   #set of boolean\n",
    "s4 = set([True, False, True, True, False])\n",
    "print(s4)\n"
   ]
  },
  {
   "cell_type": "code",
   "execution_count": null,
   "id": "ahead-adams",
   "metadata": {},
   "outputs": [],
   "source": []
  },
  {
   "cell_type": "code",
   "execution_count": null,
   "id": "4ba31757",
   "metadata": {},
   "outputs": [],
   "source": [
    "# creating an empty set\n",
    "emptyset = {}  # this is not correct way\n",
    "\n",
    "# to create empty set, we can use set()\n",
    "s5 = set()\n",
    "print(s5)\n",
    "print(type(s5))\n",
    "print(emptyset, type(emptyset))"
   ]
  },
  {
   "cell_type": "code",
   "execution_count": null,
   "id": "intimate-gregory",
   "metadata": {},
   "outputs": [],
   "source": []
  },
  {
   "cell_type": "code",
   "execution_count": null,
   "id": "civic-conclusion",
   "metadata": {},
   "outputs": [],
   "source": [
    "set1 = set(range(1,21,2))\n",
    "\n",
    "list1 = list(range(1,21,2))\n",
    "\n",
    "tuple1 = tuple(range(1,21,2))\n",
    "\n",
    "print(set1,list1,tuple1, sep=\"\\n\\n\")"
   ]
  },
  {
   "cell_type": "markdown",
   "id": "55c8f975",
   "metadata": {},
   "source": [
    "## 2. Proof of concepts: Sets are heterogeneous, unordered, mutable, nested, and does not allow duplicate elements"
   ]
  },
  {
   "cell_type": "markdown",
   "id": "39ca07b0",
   "metadata": {},
   "source": [
    "### a. Sets are heterogeneous\n",
    "- Sets are heterogeneous, as their elements/items can be of any data type"
   ]
  },
  {
   "cell_type": "code",
   "execution_count": null,
   "id": "bc6ff398",
   "metadata": {},
   "outputs": [],
   "source": [
    "s1 = {\"Ehtisham\", 30, 5.5}\n",
    "print(\"s1: \", s1)"
   ]
  },
  {
   "cell_type": "markdown",
   "id": "8cab05cb",
   "metadata": {},
   "source": [
    "### b. Sets are unordered\n",
    "- Sets are unordered means elements of a set are NOT associated by any index\n",
    "- When you access set elements they may show up in different sequence. \n",
    "- Moreover, two sets having same elements in different order \n",
    "    - have different memory addresses\n",
    "    - the `is` operator compares the memory adresses\n",
    "    - the `==` operator compares the contents"
   ]
  },
  {
   "cell_type": "code",
   "execution_count": null,
   "id": "204c5f5a",
   "metadata": {},
   "outputs": [],
   "source": [
    "s2 = set(['Learning', 'Practical', 'Data', 'Science', 'with', 'Ehtisham', 'Sadiq'])\n",
    "print(id(s2))"
   ]
  },
  {
   "cell_type": "code",
   "execution_count": null,
   "id": "0a78ae5f",
   "metadata": {},
   "outputs": [],
   "source": [
    "a = {1, 2, 3}\n",
    "b = {2, 3, 1}\n",
    "print(id(a), id(b), a == b, a is b, sep=\"\\n\")"
   ]
  },
  {
   "cell_type": "markdown",
   "id": "97158f1c",
   "metadata": {},
   "source": [
    "### c. Sets are mutable\n",
    "- Yes, Python sets are mutable because the set itself may be modified, but the elements contained in the set must be of an immutable type.\n",
    "- However, since sets cannot be indexed, so we can't change them using index withing subscript operator"
   ]
  },
  {
   "cell_type": "code",
   "execution_count": null,
   "id": "20dd3eb4",
   "metadata": {},
   "outputs": [],
   "source": [
    "numbers = set([10, 20, 30, 40, 50])\n",
    "# numbers[2] = 15   # Will flag an error because set elements cannot be indxed using ubscript operator\n",
    "\n",
    "print(\"numbers: \", numbers)\n",
    "\n"
   ]
  },
  {
   "cell_type": "markdown",
   "id": "2672fb9b",
   "metadata": {},
   "source": [
    "### d. Sets CANNOT have duplicate elements"
   ]
  },
  {
   "cell_type": "code",
   "execution_count": null,
   "id": "44eca53d",
   "metadata": {},
   "outputs": [],
   "source": [
    "# Sets do not allow duplicate elements\n",
    "# The following line will not raise an error, however, 'Ehtisham' will be added to the set only once\n",
    "names = {'Ehtisham', 'Ali', 'Ayesha', 'Ehtisham', 'Dua'}\n",
    "print(names)"
   ]
  },
  {
   "cell_type": "code",
   "execution_count": null,
   "id": "cf09e096",
   "metadata": {},
   "outputs": [],
   "source": [
    "# So when we want to remove duplication from list, we typecast it to a set\n",
    "mylist = [2, 4, 5, 6, 8, 7, 3, 3, 2]\n",
    "\n",
    "print(\"\\nList: \", mylist)\n",
    "\n",
    "myset = set(mylist)\n",
    "\n",
    "print(\"\\nList converted to set: \", myset)\n",
    "\n",
    "newlist = list(myset)\n",
    "print(newlist)"
   ]
  },
  {
   "cell_type": "markdown",
   "id": "3bdd5021",
   "metadata": {},
   "source": [
    "### e. Mutable data types cannot be elements of the set."
   ]
  },
  {
   "cell_type": "code",
   "execution_count": null,
   "id": "249a9511",
   "metadata": {},
   "outputs": [],
   "source": [
    "# You can have a number, string, and tuple type of elements inside a set (being immutable)\n",
    "s1 = {\"Ehtisham\", 30, 5.5, True, (10,'Ali')}\n",
    "s1"
   ]
  },
  {
   "cell_type": "code",
   "execution_count": null,
   "id": "ac591739",
   "metadata": {},
   "outputs": [],
   "source": [
    "# You cannot have a list, set or dictionary inside a set (being mutable)\n",
    "# s1 = {\"Ehtisham\", 30, 5.5, [10,'Ali']}\n",
    "# s1"
   ]
  },
  {
   "cell_type": "code",
   "execution_count": null,
   "id": "f88676ce",
   "metadata": {},
   "outputs": [],
   "source": [
    "# You cannot have a list, set or dictionary inside a set (being mutable)\n",
    "# s1 = {\"Ehtisham\", 30, 5.5, {10,'Ali'}}"
   ]
  },
  {
   "cell_type": "code",
   "execution_count": null,
   "id": "74906d5f",
   "metadata": {},
   "outputs": [],
   "source": [
    "# You cannot have a list, set or dictionary inside a set (being mutable)\n",
    "# s1 = {\"Ehtisham\", 30, 5.5, {'key':'value'}}"
   ]
  },
  {
   "cell_type": "markdown",
   "id": "f15c5f09",
   "metadata": {},
   "source": [
    "### e. Nested Sets\n",
    "- You can have tuple inside a set\n",
    "- However, you CANNOT have a list, set, and dictionary objects inside a set, because sets cannot contain mutable values\n",
    "- This is one situation where you may wish to use a frozenset, which is very similar to a set except that a frozenset is immutable."
   ]
  },
  {
   "cell_type": "code",
   "execution_count": null,
   "id": "9b7a9473",
   "metadata": {},
   "outputs": [],
   "source": [
    "# Nested sets: sets can have another tuple as an item\n",
    "s1 = {\"Ehtisham\", 30, 5.5, (10,'Ali')}\n",
    "print(s1)"
   ]
  },
  {
   "cell_type": "code",
   "execution_count": null,
   "id": "730c6029",
   "metadata": {},
   "outputs": [],
   "source": [
    "# However, you cannot have a list inside a set, , because sets cannot contain mutable values (lists are mutable)\n",
    "# s1 = {\"Ehtisham\", 30, 5.5, [10,'Ali']} # Error unhashable type list"
   ]
  },
  {
   "cell_type": "code",
   "execution_count": null,
   "id": "78cb26b4",
   "metadata": {},
   "outputs": [],
   "source": [
    "#Similarly, you cannot have a set within a set, because sets cannot contain mutable values (sets are mutable)\n",
    "#s1 = {\"Ehtisham\", 30, 5.5, {10,'Ali'}} # Error unhashable type set"
   ]
  },
  {
   "cell_type": "markdown",
   "id": "188b18b7",
   "metadata": {},
   "source": [
    "### f. Packing and Unpacking Sets"
   ]
  },
  {
   "cell_type": "code",
   "execution_count": null,
   "id": "ca04fd8b",
   "metadata": {},
   "outputs": [],
   "source": [
    "# you can unpack set elements\n",
    "myset = set(['Learning', 'Practical', 'Data', 'Science', 'with', 'Ehtisham', 'Sadiq'])\n",
    "print(myset)\n",
    "print(len(myset))\n",
    "a, b, c, d, e = myset # the number of variables on the left must match the length of set\n",
    "print (a, b, c, d, e, sep=\"\\n\")"
   ]
  },
  {
   "cell_type": "markdown",
   "id": "343a1c9f",
   "metadata": {},
   "source": [
    "**Note the randomness, because sets are unordered**"
   ]
  },
  {
   "cell_type": "code",
   "execution_count": null,
   "id": "4daa862f",
   "metadata": {},
   "outputs": [],
   "source": [
    "# you can pack individual elements to a set\n",
    "t1 = a, b, c, d, e # By default they are packed into a tuple\n",
    "print(t1)\n",
    "set2 = set(t1)      # So you have to type cast it to set\n",
    "print (set2)\n",
    "print(type(set2))"
   ]
  },
  {
   "cell_type": "markdown",
   "id": "828e48f6",
   "metadata": {},
   "source": [
    "## 3. Different ways to access elements of a Set\n",
    "- Since sets are unordered, i.e., items of a set have no associated index, therefore elements of a Set cannot be accessed by referring to an index\n",
    "- However, you can access individual set elements using a for loop\n",
    "- Ask if a specified value is present in a set, by using the `in` operator."
   ]
  },
  {
   "cell_type": "code",
   "execution_count": null,
   "id": "ef2037c4",
   "metadata": {},
   "outputs": [],
   "source": [
    "# Set items cannot be accessed by referring to an index, since sets are unordered the items has no index. \n",
    "myset = set(['Learning', 'Practical', 'Data', 'Science', 'with', 'Ehtisham', 'Sadiq'])\n",
    "myset = {'Learning', 'Practical', 'Data', 'Science', 'with', 'Ehtisham', 'Sadiq'}\n",
    "print(\"myset: \", myset)"
   ]
  },
  {
   "cell_type": "code",
   "execution_count": null,
   "id": "5e66b052",
   "metadata": {},
   "outputs": [],
   "source": [
    "# But you can loop through the set items using a for loop\n",
    "myset = set(['Learning', 'Practical', 'Data', 'Science', 'with', 'Ehtisham', 'Sadiq'])\n",
    "for i in myset:\n",
    "    print(i, end=' ')"
   ]
  },
  {
   "cell_type": "code",
   "execution_count": null,
   "id": "f65bd44a",
   "metadata": {},
   "outputs": [],
   "source": [
    "# To check if a specific element is there in the set, use the in keyword\n",
    "rv = 'fun' in myset\n",
    "rv"
   ]
  },
  {
   "cell_type": "markdown",
   "id": "6981795a",
   "metadata": {},
   "source": [
    "## 4. You cannot perform Slicing on Sets\n",
    "- Slicing is the process of obtaining a portion of a sequence by using its indices.\n",
    "- Since no indices are associated with Set elements, so they do not support slicing or indexing in `[ ]` operator"
   ]
  },
  {
   "cell_type": "markdown",
   "id": "f675f997",
   "metadata": {},
   "source": [
    "## 5. You cannot perform Set Concatenation and Repetition\n",
    "- The concatenation operator `+` and replication operator `*` does not work on sets, as there is no index associated with set elements. So concatenation and repetition using `+` and `*` operator doesnot make any sense"
   ]
  },
  {
   "cell_type": "markdown",
   "id": "0089ec98",
   "metadata": {},
   "source": [
    "## 6. Adding elements to a Set\n",
    "- Sets are dynamic, as we write our Python program, we can actually make changes to our already created set, whithout having to go for compiling it again. \n",
    "- If we have to add certain elements to an already created set, the original set gorws dynamically without the need of compiling/running the program again (as in case of heap memory in C/C++)"
   ]
  },
  {
   "cell_type": "markdown",
   "id": "f15562e5",
   "metadata": {},
   "source": [
    "### a. Cannot Modify/Add elements to a set using [ ] operator"
   ]
  },
  {
   "cell_type": "markdown",
   "id": "054f79f4",
   "metadata": {},
   "source": [
    "### b. Adding elements to a set using `set.add(value)` method\n",
    "- The `set.add(val)` method is used to add an element to a set\n",
    "- Only one element at a time can be added to the set by using `set.add()` method\n",
    "- Lists and sets cannot be added to a set as elements because they are mutable (hashable)\n",
    "- Tuples can be added because tuples are immutable and hence Hashable. "
   ]
  },
  {
   "cell_type": "code",
   "execution_count": null,
   "id": "4376bcfa",
   "metadata": {},
   "outputs": [],
   "source": [
    "help(set.add)"
   ]
  },
  {
   "cell_type": "code",
   "execution_count": null,
   "id": "devoted-kenya",
   "metadata": {},
   "outputs": [],
   "source": []
  },
  {
   "cell_type": "code",
   "execution_count": null,
   "id": "37eca3ae",
   "metadata": {},
   "outputs": [],
   "source": [
    "#create an empty set\n",
    "set1 = set()\n",
    "set1.add(25)\n",
    "set1.add(73)\n",
    "set1"
   ]
  },
  {
   "cell_type": "code",
   "execution_count": null,
   "id": "8dffa764",
   "metadata": {},
   "outputs": [],
   "source": [
    "# Adding an existing element\n",
    "set1.add(25)\n",
    "set1"
   ]
  },
  {
   "cell_type": "code",
   "execution_count": null,
   "id": "3273a3b1",
   "metadata": {},
   "outputs": [],
   "source": [
    "# Adding a tuple\n",
    "set1.add((19,25))\n",
    "# set1.add([19,25])\n",
    "\n",
    "print(\"Set after adding three elements: \", set1)\n"
   ]
  },
  {
   "cell_type": "markdown",
   "id": "6fa7f3ff",
   "metadata": {},
   "source": [
    "### c. Adding elements to a set using `set.add(val)` or `set.update(val)` method\n",
    "- The `set.add(val)` method is used to add a single element to a set\n",
    "- The `set.update(val)` method is used to add two or more elements to a set\n",
    "- If the value already exist no change occur\n",
    "- Lists and sets cannot be added to a set as elements because they are not hashable \n",
    "- Tuples can be added because tuples are immutable and hence Hashable. "
   ]
  },
  {
   "cell_type": "code",
   "execution_count": null,
   "id": "e1667dd0",
   "metadata": {},
   "outputs": [],
   "source": [
    "s1 = set()\n",
    "help(s1.add)"
   ]
  },
  {
   "cell_type": "code",
   "execution_count": null,
   "id": "f8f7703e",
   "metadata": {},
   "outputs": [],
   "source": [
    "set1 = set()\n",
    "help(set1.update)"
   ]
  },
  {
   "cell_type": "code",
   "execution_count": null,
   "id": "a20a9c65",
   "metadata": {},
   "outputs": [],
   "source": [
    "# add() method is used to add a single element, passed as a list\n",
    "set1 = set([4, 9, 12])\n",
    "set1.add(99)\n",
    "set1.add(4) # Note the duplicate element 4 will not be added twice\n",
    "set1"
   ]
  },
  {
   "cell_type": "code",
   "execution_count": null,
   "id": "4ef16f1b",
   "metadata": {},
   "outputs": [],
   "source": [
    "# update() method is used to add one, two or more elements, passed as a list\n",
    "set1 = set([4, 9, 12])\n",
    "set1.update([99])\n",
    "set1.update([4, 3.5]) # Note the duplicate element 4 will not be added twice\n",
    "set1"
   ]
  },
  {
   "cell_type": "code",
   "execution_count": null,
   "id": "b619bbe3",
   "metadata": {},
   "outputs": [],
   "source": [
    "# update() method is used to add one two or more elements, passed as a list\n",
    "set3 = set([4, 9, 12])\n",
    "set3.update(['Ehtisham', 'Ali', 45])\n",
    "set3"
   ]
  },
  {
   "cell_type": "code",
   "execution_count": null,
   "id": "c5267657",
   "metadata": {},
   "outputs": [],
   "source": [
    "# You cannot add a single numeric value being not iterable\n",
    "set2 = set([4, 9, 12])\n",
    "set2.update([33])\n",
    "set2"
   ]
  },
  {
   "cell_type": "code",
   "execution_count": null,
   "id": "9279b662",
   "metadata": {},
   "outputs": [],
   "source": [
    "# See what happens when you add a string \n",
    "set2 = set([4, 9, 12])\n",
    "set2.update('Ehtisham')\n",
    "set2.update(['Ehtisham'])\n",
    "set2"
   ]
  },
  {
   "cell_type": "code",
   "execution_count": null,
   "id": "9671ff93",
   "metadata": {},
   "outputs": [],
   "source": [
    "# the update() method also accepts a list having one or more tuples as its argument\n",
    "set4 = set([4, 9, 12])\n",
    "set4.update([(99, 88), (44, 33)])\n",
    "set4"
   ]
  },
  {
   "cell_type": "markdown",
   "id": "01969759",
   "metadata": {},
   "source": [
    "## 7. Removing elements from a set\n",
    "- Sets are dynamic, as we write our Python program, we can actually make changes to our already created sets, whithout having to go for compiling it again. \n",
    "- If we have to remove certain elements from an already created set, the original set shrinks dynamically without the need of compiling/running the program again (as in case of heap memory in C/C++)"
   ]
  },
  {
   "cell_type": "markdown",
   "id": "e68b7d6e",
   "metadata": {},
   "source": [
    "### a. Removing element from a set using `set.pop(index)` method\n",
    "- The `set.pop()` method removes and return an arbitrary set element"
   ]
  },
  {
   "cell_type": "code",
   "execution_count": null,
   "id": "f2f0cf51",
   "metadata": {},
   "outputs": [],
   "source": [
    "s1 = set()\n",
    "help(s1.pop)"
   ]
  },
  {
   "cell_type": "code",
   "execution_count": null,
   "id": "25872094",
   "metadata": {},
   "outputs": [],
   "source": [
    "s1 = {'Learning', 'Practical', 'Data', 'Science', 'with', 'Ehtisham', 'Sadiq'}\n",
    "\n",
    "print(\"Original set: \", s1)\n",
    "\n",
    "x  = s1.pop()\n",
    "print(\"Element popped is: \", x)\n",
    "\n",
    "print(\"Set now is: \", s1)\n"
   ]
  },
  {
   "cell_type": "code",
   "execution_count": null,
   "id": "0e3de021",
   "metadata": {},
   "outputs": [],
   "source": []
  },
  {
   "cell_type": "markdown",
   "id": "c671b027",
   "metadata": {},
   "source": [
    "### b. Removing element from a set using `set.remove(val)` method\n",
    "- The `set.remove(val)` method is used to remove a specific element by value from a set without returning it\n",
    "- The remove method is passed exactly one argument, which is the value to be removed and returns none/void"
   ]
  },
  {
   "cell_type": "code",
   "execution_count": null,
   "id": "7f107f44",
   "metadata": {},
   "outputs": [],
   "source": [
    "s1 = set()\n",
    "help(s1.remove)"
   ]
  },
  {
   "cell_type": "code",
   "execution_count": null,
   "id": "4f57faff",
   "metadata": {},
   "outputs": [],
   "source": [
    "s2 = {'Learning', 'Practical', 'Data', 'Science', 'with', 'Ehtisham', 'Sadiq'}\n",
    "\n",
    "\n",
    "print(\"\\nOriginal set: \", s2)\n",
    "\n",
    "x = s2.remove('Data')\n",
    "\n",
    "print(\"After remove('Data'): \", s2)\n",
    "\n",
    "print(\"Return value of remove() is: \", x)\n",
    "\n",
    "# If the element to be removed does not exist in the set remove() method will flag an error\n",
    "#y = s2.remove('arif')  # Error: Element doesn’t exist in the set. "
   ]
  },
  {
   "cell_type": "markdown",
   "id": "3e3173d2",
   "metadata": {},
   "source": [
    "### c. Removing element from a set using `set.discard(val)` method\n",
    "- The `set.discard(val)` like `set.remove(val)` method is used to remove a specific element by value from a set without returning it\n",
    "- The advantage of using `set.discard(val)` method is that, if the element doesn’t exist in the set, no error is raised and the set remains unchanged."
   ]
  },
  {
   "cell_type": "code",
   "execution_count": null,
   "id": "6d7e82ec",
   "metadata": {},
   "outputs": [],
   "source": [
    "s1 = set()\n",
    "help(s1.discard)"
   ]
  },
  {
   "cell_type": "code",
   "execution_count": null,
   "id": "1aea3ce6",
   "metadata": {},
   "outputs": [],
   "source": [
    "s2 = {'Learning', 'Practical', 'Data', 'Science', 'with', 'Ehtisham', 'Sadiq'}\n",
    "\n",
    "y = s2.discard('ali')\n",
    "print(s2,y)"
   ]
  },
  {
   "cell_type": "code",
   "execution_count": null,
   "id": "b37a3c89",
   "metadata": {},
   "outputs": [],
   "source": []
  },
  {
   "cell_type": "markdown",
   "id": "dda6cf82",
   "metadata": {},
   "source": [
    "### d. Using `set.clear()` method to remove all the set elements"
   ]
  },
  {
   "cell_type": "code",
   "execution_count": null,
   "id": "68d85dc0",
   "metadata": {},
   "outputs": [],
   "source": [
    "#use the clear() method to empty a set\n",
    "s2 = {'Learning', 'Practical', 'Data', 'Science', 'with', 'Ehtisham', 'Sadiq'}\n",
    "\n",
    "s2"
   ]
  },
  {
   "cell_type": "code",
   "execution_count": null,
   "id": "31117f63",
   "metadata": {},
   "outputs": [],
   "source": [
    "s2.clear()\n",
    "s2"
   ]
  },
  {
   "cell_type": "markdown",
   "id": "b25354c2",
   "metadata": {},
   "source": [
    "### e. Using `del` Keyword to delete the set entirely from memory"
   ]
  },
  {
   "cell_type": "code",
   "execution_count": null,
   "id": "149dc87f",
   "metadata": {},
   "outputs": [],
   "source": [
    "# use del keyword to delete entire set, (you cannot delete a specific element as it is non-indexed)\n",
    "s1 = {'Learning', 'Practical', 'Data', 'Science', 'with', 'Ehtisham', 'Sadiq'}\n",
    "\n",
    "s2"
   ]
  },
  {
   "cell_type": "code",
   "execution_count": null,
   "id": "20feadb2",
   "metadata": {},
   "outputs": [],
   "source": [
    "del s2\n",
    "print(s2)"
   ]
  },
  {
   "cell_type": "markdown",
   "id": "03e06036",
   "metadata": {},
   "source": [
    "## 8. Converting string object to set and vice-versa (using type casting, split() and join())"
   ]
  },
  {
   "cell_type": "markdown",
   "id": "051759d3",
   "metadata": {},
   "source": [
    "### a. Type Casting"
   ]
  },
  {
   "cell_type": "code",
   "execution_count": null,
   "id": "24e78729",
   "metadata": {},
   "outputs": [],
   "source": [
    "# convert a string into set using set()\n",
    "str1 = 'Data Science using Python'    #this is a string\n",
    "print(\"Original string: \", str1)\n",
    "\n",
    "s1 = set(str1)\n",
    "print(\"s1: \", s1, \"and its type is:  \", type(s1), sep=\"\\n\")"
   ]
  },
  {
   "cell_type": "markdown",
   "id": "a19b18c0",
   "metadata": {},
   "source": [
    "### b. Use `str.split()` to Split a Tuple into Strings\n",
    "- Used to tokenize a string based on some delimiter, which can be stored in a Tuple\n",
    "- It returns a list having tokens of the string based on spaces if no argument is passed"
   ]
  },
  {
   "cell_type": "code",
   "execution_count": null,
   "id": "da289249",
   "metadata": {},
   "outputs": [],
   "source": [
    "str1 = \"\"\n",
    "help(str1.split)"
   ]
  },
  {
   "cell_type": "code",
   "execution_count": null,
   "id": "1a729e8c",
   "metadata": {},
   "outputs": [],
   "source": [
    "str1 = 'Data Science using Python'    #this is a string\n",
    "\n",
    "set1 = set(str1.split(' '))\n",
    "\n",
    "print(set1)\n",
    "print(type(set1))"
   ]
  },
  {
   "cell_type": "code",
   "execution_count": null,
   "id": "5f84edb1",
   "metadata": {},
   "outputs": [],
   "source": [
    "str2 = \"Data Science is GR8 Degree\"    #this is a string\n",
    "set2 = set(str2.split('c'))\n",
    "set2"
   ]
  },
  {
   "cell_type": "markdown",
   "id": "f532e4a3",
   "metadata": {},
   "source": [
    "### c. Use `str.join()` to Join Strings into a List\n",
    "- It is the reverse of `str.split()` method, and is used to joing multiple strings by inserting the string in between on which this method is called"
   ]
  },
  {
   "cell_type": "code",
   "execution_count": null,
   "id": "0da0e902",
   "metadata": {},
   "outputs": [],
   "source": [
    "str1 = \"\"\n",
    "help(str1.join)"
   ]
  },
  {
   "cell_type": "code",
   "execution_count": null,
   "id": "2adc8071",
   "metadata": {},
   "outputs": [],
   "source": [
    "tuple1 = {'This', 'is', 'getting', 'more', 'and', 'more', 'interesting'}\n",
    "tuple1"
   ]
  },
  {
   "cell_type": "code",
   "execution_count": null,
   "id": "f8b08a8f",
   "metadata": {},
   "outputs": [],
   "source": [
    "str2 = ' '.join(tuple1)\n",
    "print(str2)\n",
    "print(type(str2))"
   ]
  },
  {
   "cell_type": "code",
   "execution_count": null,
   "id": "ea960162",
   "metadata": {},
   "outputs": [],
   "source": [
    "delimiter = \" @ \"\n",
    "str3 = delimiter.join(tuple1)\n",
    "print(str3)\n",
    "print(type(str3))"
   ]
  },
  {
   "cell_type": "markdown",
   "id": "facf3ca5",
   "metadata": {},
   "source": [
    "## 9. Elements of a Set Cannot be Sorted\n",
    "- Given that sets are unordered, it is not possible to sort the values of a set. So you cannot call the built-in function `sorted()` or the `list.sort()` method on sets"
   ]
  },
  {
   "cell_type": "markdown",
   "id": "aa367cb0",
   "metadata": {},
   "source": [
    "## 10.  Misc Concepts"
   ]
  },
  {
   "cell_type": "markdown",
   "id": "98eb2d24",
   "metadata": {},
   "source": [
    "**Like Lists and Tuples, you can apply `max()`, `min()`, and `sum()` functions on Sets with numeric elements**"
   ]
  },
  {
   "cell_type": "code",
   "execution_count": null,
   "id": "8aeda03f",
   "metadata": {},
   "outputs": [],
   "source": [
    "s1 = set([3, 8, 1, 6, 0, 8, 4])\n",
    "print(s1)\n",
    "print(\"length of set: \", len(s1))\n",
    "print(\"max element in set: \", max(s1))\n",
    "print(\"min element in list: \",min(s1))\n",
    "print(\"Sum of element in list: \",sum(s1))\n"
   ]
  },
  {
   "cell_type": "markdown",
   "id": "8fe244da",
   "metadata": {},
   "source": [
    "**Like Lists and Tuples, you can apply `in` and `not in` membership operators on Sets**"
   ]
  },
  {
   "cell_type": "code",
   "execution_count": null,
   "id": "7e77745e",
   "metadata": {},
   "outputs": [],
   "source": [
    "s1 = set([3, 8, 1, 6, 0, 8, 4])\n",
    "\n",
    "rv1 = 9 in s1\n",
    "print(rv1)\n",
    "\n",
    "rv2 = 9 not in s1\n",
    "print(rv2)\n",
    "\n",
    "\n",
    "s2 = set([\"XYZ\", \"ABC\", \"MNO\", \"Ehtisham\"])\n",
    "rv3 = \"ALI\" in s2\n",
    "print(rv3)"
   ]
  },
  {
   "cell_type": "markdown",
   "id": "4042e6cf",
   "metadata": {},
   "source": [
    "**Comparing Objects and Values**"
   ]
  },
  {
   "cell_type": "code",
   "execution_count": null,
   "id": "cd348f7b",
   "metadata": {},
   "outputs": [],
   "source": [
    "#In case of strings, both variables str1 and str2 refers to the same memory location containing string object 'hello'\n",
    "str1 = 'hello'\n",
    "str2 = 'hello'\n",
    "print(id(str1), id(str2))\n",
    "\n",
    "print (str1 is str2)  # is operator is checking the memory address (ID) of two strings\n",
    "print (str1 == str2)  # == operator is checking the contents of two strings"
   ]
  },
  {
   "cell_type": "code",
   "execution_count": null,
   "id": "7263cecb",
   "metadata": {},
   "outputs": [],
   "source": [
    "#In case of sets, both t1 and t2 refers to two different objects in the memory having same values\n",
    "s1 = set([1, 2, 3])\n",
    "s2 = set([1, 2, 3])\n",
    "print(id(s1), id(s2))\n",
    "\n",
    "print (s1 is s2)   # is operator is checking the memory address (ID) of two sets\n",
    "print (s1 == s2)   # == operator is checking the contents of two sets element by element"
   ]
  },
  {
   "cell_type": "markdown",
   "id": "ff517f2e",
   "metadata": {},
   "source": [
    "## 11. Special Operations  related to Sets"
   ]
  },
  {
   "cell_type": "markdown",
   "id": "57a57000",
   "metadata": {},
   "source": [
    "### a. Union of sets\n",
    "- A `s1.union(s2)` method or `s1 | s2`, returns a new set containing all values that are in s1, or s2, or both"
   ]
  },
  {
   "cell_type": "markdown",
   "id": "specific-directive",
   "metadata": {},
   "source": [
    "![](images/Union-in-python.jpg)"
   ]
  },
  {
   "cell_type": "code",
   "execution_count": null,
   "id": "d20c59a0",
   "metadata": {},
   "outputs": [],
   "source": [
    "s1 = set()\n",
    "s2 = set()\n",
    "#help(s1 | s2)\n",
    "help(s1.union)"
   ]
  },
  {
   "cell_type": "code",
   "execution_count": null,
   "id": "5ba0e04b",
   "metadata": {},
   "outputs": [],
   "source": [
    "set1 = {'Ehtisham', 'Ehtisham'}\n",
    "set2 = {'Ayesha', 'Ali', 'Ehtisham'}\n",
    "\n",
    "set3 = set1 | set2\n",
    "set4 = set1.union(set2)\n",
    "\n",
    "print(\"set1: \", set1)\n",
    "print(\"set2: \", set2)\n",
    "print(\"set1 | set2: \", set3)\n",
    "print(\"set1.union(set2) : \", set4)"
   ]
  },
  {
   "cell_type": "markdown",
   "id": "8ea5d8f3",
   "metadata": {},
   "source": [
    "### b. Intersection of sets\n",
    "- A `s1.intersection(s2)` method or `s1 & s2`, returns a new set containing all values that are common in in s1 and s2"
   ]
  },
  {
   "cell_type": "markdown",
   "id": "german-pontiac",
   "metadata": {},
   "source": [
    "![](images/Intersection-of-Sets.png)"
   ]
  },
  {
   "cell_type": "code",
   "execution_count": null,
   "id": "4b2dd4fa",
   "metadata": {},
   "outputs": [],
   "source": [
    "s1 = set()\n",
    "help(s1.intersection)"
   ]
  },
  {
   "cell_type": "code",
   "execution_count": null,
   "id": "596c6b8d",
   "metadata": {
    "scrolled": true
   },
   "outputs": [],
   "source": [
    "set1 = {'Ehtisham', 'Ehtisham'}\n",
    "set2 = {'Ayesha', 'Ali', 'Ehtisham'}\n",
    "\n",
    "\n",
    "set3 = set1 & set2\n",
    "set4 = set1.intersection(set2)\n",
    "\n",
    "print(\"set1: \", set1)\n",
    "print(\"set2: \", set2)\n",
    "print(\"set1 & set2: \", set4)"
   ]
  },
  {
   "cell_type": "markdown",
   "id": "d9a87205",
   "metadata": {},
   "source": [
    "### c. Difference of sets\n",
    "- A `s1.difference(s2)` method or `s1 - s2`, returns a new set containing all values of s1 that are not there in s2"
   ]
  },
  {
   "cell_type": "markdown",
   "id": "promising-master",
   "metadata": {},
   "source": [
    "![](images/difference-of-sets-aminusb-and-bminusa---venn-diagram.jpg)"
   ]
  },
  {
   "cell_type": "code",
   "execution_count": null,
   "id": "bd0fef44",
   "metadata": {},
   "outputs": [],
   "source": [
    "s1 = set()\n",
    "help(s1.difference)"
   ]
  },
  {
   "cell_type": "code",
   "execution_count": null,
   "id": "d8248e80",
   "metadata": {},
   "outputs": [],
   "source": [
    "set1 = {'Ehtisham', 'Ehtisham', 'dua'}\n",
    "set2 = {'Ayesha', 'Ali', 'Ehtisham'}\n",
    "\n",
    "\n",
    "set3 = set1 - set2\n",
    "set4 = set1.difference(set2)\n",
    "\n",
    "print(\"set1: \", set1)\n",
    "print(\"set2: \", set2)\n",
    "print(\"set1 - set2: \", set4)"
   ]
  },
  {
   "cell_type": "markdown",
   "id": "733a12c9",
   "metadata": {},
   "source": [
    "### d. Symmetric Difference of sets\n",
    "- A `s1.symmetric_difference(s2)` method or `s1 ^ s2`, returns a new set containing all elements that are in exactly one of the sets, equivalent to `(s1 | s2)  - (s1 & s2)`"
   ]
  },
  {
   "cell_type": "code",
   "execution_count": null,
   "id": "8e3e5779",
   "metadata": {},
   "outputs": [],
   "source": [
    "s1 = set()\n",
    "help(s1.symmetric_difference)"
   ]
  },
  {
   "cell_type": "code",
   "execution_count": null,
   "id": "a89c59b7",
   "metadata": {},
   "outputs": [],
   "source": [
    "set1 = {'Ehtisham', 'Ehtisham', 'dua'}\n",
    "set2 = {'Ayesha', 'Ali', 'Ehtisham'}\n",
    "\n",
    "set3 = set1 ^ set2\n",
    "set4 = set1.symmetric_difference(set2)\n",
    "\n",
    "print(\"set1: \", set1)\n",
    "print(\"set2: \", set2)\n",
    "print(\"set1 ^ set2: \", set4)"
   ]
  },
  {
   "cell_type": "code",
   "execution_count": null,
   "id": "hungarian-tower",
   "metadata": {},
   "outputs": [],
   "source": [
    "# s1 = set1.union(set2)\n",
    "# print(s1)\n",
    "# s2 = set1.intersection(set2)\n",
    "# print(s2)\n",
    "# # set1.union(set2) - set1.intersection(set2)\n",
    "# s3 = s1-s2\n",
    "# print(s3)"
   ]
  },
  {
   "cell_type": "markdown",
   "id": "96e8b480",
   "metadata": {},
   "source": [
    "### e. Checking Subset\n",
    "- The `s1.issubset(s2)` method or `s1 <= s2`, returns True if s1 is a subset of s2"
   ]
  },
  {
   "cell_type": "markdown",
   "id": "tracked-sullivan",
   "metadata": {},
   "source": [
    "![](images/subset_example1_0.png)"
   ]
  },
  {
   "cell_type": "code",
   "execution_count": null,
   "id": "12911ff8",
   "metadata": {},
   "outputs": [],
   "source": [
    "s1 = set()\n",
    "help(s1.issubset)"
   ]
  },
  {
   "cell_type": "code",
   "execution_count": null,
   "id": "24945626",
   "metadata": {},
   "outputs": [],
   "source": [
    "s1 = {1,2,3,4,5,6,7}\n",
    "s2 = {1,2,3,4}\n",
    "\n",
    "print(s2.issubset(s1))     # is s2 a subset of s1\n",
    "print(s1 <= s2)            # is s2 a subset of s1"
   ]
  },
  {
   "cell_type": "markdown",
   "id": "8f00f73f",
   "metadata": {},
   "source": [
    "### f. Checking Superset\n",
    "- The `s1.issuperset(s2)` method or `s1 >= s2`, returns True if s1 is a superset of s2"
   ]
  },
  {
   "cell_type": "markdown",
   "id": "banner-programmer",
   "metadata": {},
   "source": [
    "<img align=\"center\" width=\"200\" height=\"200\"  src=\"images/Subset.png\" > "
   ]
  },
  {
   "cell_type": "code",
   "execution_count": null,
   "id": "70ba3168",
   "metadata": {},
   "outputs": [],
   "source": [
    "s1 = set()\n",
    "help(s1.issuperset)"
   ]
  },
  {
   "cell_type": "code",
   "execution_count": null,
   "id": "865d531d",
   "metadata": {},
   "outputs": [],
   "source": [
    "s1 = {1,2,3,4,5,6,7}\n",
    "s2 = {1,2,3,4}\n",
    "\n",
    "print(s1.issuperset(s2)) # is s1 a superset of s2\n",
    "print(s1 >= s2)          # is s1 a superset of s2"
   ]
  },
  {
   "cell_type": "markdown",
   "id": "e306e198",
   "metadata": {},
   "source": [
    "### g. Checking Disjoint\n",
    "- The `s1.isdisjoint(s2)` method, returns True if two sets have a null intersection"
   ]
  },
  {
   "cell_type": "markdown",
   "id": "occasional-numbers",
   "metadata": {},
   "source": [
    "![](images/disjoint-of-sets-using-Venn-diagram.png)"
   ]
  },
  {
   "cell_type": "code",
   "execution_count": null,
   "id": "29c30920",
   "metadata": {},
   "outputs": [],
   "source": [
    "s1 = set()\n",
    "help(s1.isdisjoint)"
   ]
  },
  {
   "cell_type": "code",
   "execution_count": null,
   "id": "0411ca5d",
   "metadata": {},
   "outputs": [],
   "source": [
    "s1 = {1,2,3,4,5,6,7}\n",
    "# s1.intersection_update\n",
    "s2 = {1,2,3,4}\n",
    "print(s1.isdisjoint(s2))\n",
    "\n",
    "# Another example\n",
    "s3 = {1,2,3,4}\n",
    "s4 = {5,6,7,8}\n",
    "print(s3.isdisjoint(s4))\n",
    "\n"
   ]
  },
  {
   "cell_type": "markdown",
   "id": "subsequent-gallery",
   "metadata": {},
   "source": [
    "![](images/PythonSetOperators.png)"
   ]
  },
  {
   "cell_type": "markdown",
   "id": "creative-organic",
   "metadata": {},
   "source": [
    "# Check Concepts:\n"
   ]
  },
  {
   "cell_type": "markdown",
   "id": "included-function",
   "metadata": {},
   "source": [
    "- Are the elements of a set ordered or unordered?\n",
    "- Does a set allow you to store duplicate elements?\n",
    "- How do you create an empty set?\n",
    "- How can you determine whether a specific element exists in a set?\n",
    "- What is the difference between the remove and discard methods?\n",
    "- Write code that prints all strings that are in both set s and set t.\n",
    "- Write code that prints all strings that are in set s, but not in set t.\n",
    "- Which operator is used to test whether an element is a member of a set?\n",
    "- Which method produces a new set with the elements that are contained in both sets?\n",
    "- Which method produces a new set with the elements that belong to the first set but not the second.\n",
    "- What is the difference between a set and a tuple?\n",
    "- What is the difference between a set and a list?"
   ]
  },
  {
   "cell_type": "code",
   "execution_count": null,
   "id": "74bd99ac",
   "metadata": {},
   "outputs": [],
   "source": []
  },
  {
   "cell_type": "code",
   "execution_count": null,
   "id": "serious-beach",
   "metadata": {},
   "outputs": [],
   "source": [
    "print(dir(set))"
   ]
  },
  {
   "cell_type": "code",
   "execution_count": null,
   "id": "seven-absence",
   "metadata": {},
   "outputs": [],
   "source": []
  },
  {
   "cell_type": "code",
   "execution_count": null,
   "id": "tropical-commodity",
   "metadata": {},
   "outputs": [],
   "source": []
  }
 ],
 "metadata": {
  "kernelspec": {
   "display_name": "Python 3 (ipykernel)",
   "language": "python",
   "name": "python3"
  },
  "language_info": {
   "codemirror_mode": {
    "name": "ipython",
    "version": 3
   },
   "file_extension": ".py",
   "mimetype": "text/x-python",
   "name": "python",
   "nbconvert_exporter": "python",
   "pygments_lexer": "ipython3",
   "version": "3.8.10"
  }
 },
 "nbformat": 4,
 "nbformat_minor": 5
}
