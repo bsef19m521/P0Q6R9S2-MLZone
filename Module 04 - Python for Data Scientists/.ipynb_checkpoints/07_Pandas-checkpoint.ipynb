{
 "cells": [
  {
   "cell_type": "markdown",
   "id": "4a87b5ef",
   "metadata": {},
   "source": [
    "<img src=\"images/pandas-intro.png\">"
   ]
  },
  {
   "cell_type": "code",
   "execution_count": null,
   "id": "2b81dc35",
   "metadata": {},
   "outputs": [],
   "source": []
  },
  {
   "cell_type": "markdown",
   "id": "1455f7f0",
   "metadata": {},
   "source": [
    "# Learning Agenda of this Notebook:\n",
    "- What is Pandas and how is it used in AI?\n",
    "- Key features of Pandas\n",
    "- Data Types in Pandas\n",
    "- What does Pandas deal with?\n",
    "\n",
    "- Creating Series in Pandas\n",
    "    - From Python List\n",
    "    - From NumPy Arrays\n",
    "    - From Python Dictionary\n",
    "    - From a scalar value\n",
    "    - Creating empty series object\n",
    "- Attributes of a Pandas Series\n",
    "- Arithmetic Operations on Series\n",
    "\n",
    "- Dataframes in Pandas\n",
    "    - Anatomy of a Dataframe\n",
    "    - Creating Dataframe\n",
    "        - An empty dataframe\n",
    "        - Two-Dimensional NumPy Array\n",
    "        - Dictionary of Python Lists\n",
    "        - Dictionary of Panda Series\n",
    "    - Attributes of a Dataframe\n",
    "    - Bonus\n",
    "- Different file formats in Pandas \n",
    "- Indexing, Subsetting and Slicing Dataframes\n",
    "    - Practice Exercise I\n",
    "- Modifying Dataframes\n",
    "- Data Handling with Pandas\n",
    "  - Practice Exercise I\n",
    "  - Practice Exercise II\n",
    "- All Statistical functions in Pandas\n",
    "- Input/Output Operations\n",
    "- Aggregation & Grouping\n",
    "  - Practice Exercise\n",
    "- Merging, Joining and Concatenation\n",
    "  - Practice Exercise\n",
    "- How To Perform Data Visualization with Pandas\n",
    "- Exercise I\n",
    "- Exercise II\n",
    "- Pandas's Assignment"
   ]
  },
  {
   "cell_type": "code",
   "execution_count": null,
   "id": "20eb8693",
   "metadata": {},
   "outputs": [],
   "source": []
  },
  {
   "cell_type": "markdown",
   "id": "5fb9661c",
   "metadata": {},
   "source": [
    "### Our Main Problem :\n",
    "Here is dataset and find minimum temperature of each city in the dataset"
   ]
  },
  {
   "cell_type": "code",
   "execution_count": 2,
   "id": "b9db9352",
   "metadata": {},
   "outputs": [
    {
     "data": {
      "text/html": [
       "<div>\n",
       "<style scoped>\n",
       "    .dataframe tbody tr th:only-of-type {\n",
       "        vertical-align: middle;\n",
       "    }\n",
       "\n",
       "    .dataframe tbody tr th {\n",
       "        vertical-align: top;\n",
       "    }\n",
       "\n",
       "    .dataframe thead th {\n",
       "        text-align: right;\n",
       "    }\n",
       "</style>\n",
       "<table border=\"1\" class=\"dataframe\">\n",
       "  <thead>\n",
       "    <tr style=\"text-align: right;\">\n",
       "      <th></th>\n",
       "      <th>date</th>\n",
       "      <th>city</th>\n",
       "      <th>temperature</th>\n",
       "      <th>humidity</th>\n",
       "    </tr>\n",
       "  </thead>\n",
       "  <tbody>\n",
       "    <tr>\n",
       "      <th>0</th>\n",
       "      <td>01/01/2022</td>\n",
       "      <td>lahore</td>\n",
       "      <td>8</td>\n",
       "      <td>60</td>\n",
       "    </tr>\n",
       "    <tr>\n",
       "      <th>1</th>\n",
       "      <td>02/01/2022</td>\n",
       "      <td>lahore</td>\n",
       "      <td>10</td>\n",
       "      <td>58</td>\n",
       "    </tr>\n",
       "    <tr>\n",
       "      <th>2</th>\n",
       "      <td>03/01/2022</td>\n",
       "      <td>lahore</td>\n",
       "      <td>5</td>\n",
       "      <td>51</td>\n",
       "    </tr>\n",
       "    <tr>\n",
       "      <th>3</th>\n",
       "      <td>04/01/2022</td>\n",
       "      <td>lahore</td>\n",
       "      <td>6</td>\n",
       "      <td>49</td>\n",
       "    </tr>\n",
       "    <tr>\n",
       "      <th>4</th>\n",
       "      <td>05/01/2022</td>\n",
       "      <td>lahore</td>\n",
       "      <td>12</td>\n",
       "      <td>54</td>\n",
       "    </tr>\n",
       "    <tr>\n",
       "      <th>5</th>\n",
       "      <td>01/01/2022</td>\n",
       "      <td>karachi</td>\n",
       "      <td>18</td>\n",
       "      <td>74</td>\n",
       "    </tr>\n",
       "    <tr>\n",
       "      <th>6</th>\n",
       "      <td>02/01/2022</td>\n",
       "      <td>karachi</td>\n",
       "      <td>10</td>\n",
       "      <td>71</td>\n",
       "    </tr>\n",
       "    <tr>\n",
       "      <th>7</th>\n",
       "      <td>03/01/2022</td>\n",
       "      <td>karachi</td>\n",
       "      <td>12</td>\n",
       "      <td>78</td>\n",
       "    </tr>\n",
       "    <tr>\n",
       "      <th>8</th>\n",
       "      <td>04/01/2022</td>\n",
       "      <td>karachi</td>\n",
       "      <td>15</td>\n",
       "      <td>76</td>\n",
       "    </tr>\n",
       "    <tr>\n",
       "      <th>9</th>\n",
       "      <td>05/01/2022</td>\n",
       "      <td>karachi</td>\n",
       "      <td>16</td>\n",
       "      <td>70</td>\n",
       "    </tr>\n",
       "    <tr>\n",
       "      <th>10</th>\n",
       "      <td>01/01/2022</td>\n",
       "      <td>murree</td>\n",
       "      <td>-5</td>\n",
       "      <td>61</td>\n",
       "    </tr>\n",
       "    <tr>\n",
       "      <th>11</th>\n",
       "      <td>02/01/2022</td>\n",
       "      <td>murree</td>\n",
       "      <td>-3</td>\n",
       "      <td>68</td>\n",
       "    </tr>\n",
       "    <tr>\n",
       "      <th>12</th>\n",
       "      <td>03/01/2022</td>\n",
       "      <td>murree</td>\n",
       "      <td>-4</td>\n",
       "      <td>69</td>\n",
       "    </tr>\n",
       "    <tr>\n",
       "      <th>13</th>\n",
       "      <td>04/01/2022</td>\n",
       "      <td>murree</td>\n",
       "      <td>-1</td>\n",
       "      <td>63</td>\n",
       "    </tr>\n",
       "    <tr>\n",
       "      <th>14</th>\n",
       "      <td>05/01/2022</td>\n",
       "      <td>murree</td>\n",
       "      <td>-7</td>\n",
       "      <td>72</td>\n",
       "    </tr>\n",
       "  </tbody>\n",
       "</table>\n",
       "</div>"
      ],
      "text/plain": [
       "          date     city  temperature  humidity\n",
       "0   01/01/2022   lahore            8        60\n",
       "1   02/01/2022   lahore           10        58\n",
       "2   03/01/2022   lahore            5        51\n",
       "3   04/01/2022   lahore            6        49\n",
       "4   05/01/2022   lahore           12        54\n",
       "5   01/01/2022  karachi           18        74\n",
       "6   02/01/2022  karachi           10        71\n",
       "7   03/01/2022  karachi           12        78\n",
       "8   04/01/2022  karachi           15        76\n",
       "9   05/01/2022  karachi           16        70\n",
       "10  01/01/2022   murree           -5        61\n",
       "11  02/01/2022   murree           -3        68\n",
       "12  03/01/2022   murree           -4        69\n",
       "13  04/01/2022   murree           -1        63\n",
       "14  05/01/2022   murree           -7        72"
      ]
     },
     "execution_count": 2,
     "metadata": {},
     "output_type": "execute_result"
    }
   ],
   "source": [
    "import pandas as pd\n",
    "df = pd.read_csv('datasets/groupbydata2.csv')\n",
    "df"
   ]
  },
  {
   "cell_type": "code",
   "execution_count": 3,
   "id": "1bb8c73f",
   "metadata": {},
   "outputs": [
    {
     "data": {
      "text/plain": [
       "array(['lahore', 'karachi', 'murree'], dtype=object)"
      ]
     },
     "execution_count": 3,
     "metadata": {},
     "output_type": "execute_result"
    }
   ],
   "source": [
    "df.city.unique()"
   ]
  },
  {
   "cell_type": "code",
   "execution_count": null,
   "id": "3372ffd5",
   "metadata": {},
   "outputs": [],
   "source": []
  },
  {
   "cell_type": "code",
   "execution_count": null,
   "id": "f02e78a6",
   "metadata": {},
   "outputs": [],
   "source": []
  },
  {
   "cell_type": "code",
   "execution_count": null,
   "id": "f2a42950",
   "metadata": {},
   "outputs": [],
   "source": []
  },
  {
   "cell_type": "markdown",
   "id": "12db95e1",
   "metadata": {},
   "source": [
    "## Learning agenda of this notebook\n",
    "1. Overview of Aggregation Functions and the `agg()` method\n",
    "    - Applying a Built-in Aggregation Function on Entire Dataframe Object\n",
    "    - Applying a Built-in Aggregation Function on a Series Object\n",
    "    - Applying a User-Defined/Lambda Function on a Series Object<br><br>\n",
    "2. Computing the Minimum Temperature of each City using **hard way**<br><br>\n",
    "3. Computing the Minimum Temperature of each City using **`groupby`**<br><br>\n",
    "4. Practice GroupBy on Stack Overflow Survey Dataset"
   ]
  },
  {
   "cell_type": "code",
   "execution_count": null,
   "id": "d0a2d89b",
   "metadata": {},
   "outputs": [],
   "source": []
  },
  {
   "cell_type": "markdown",
   "id": "1664cd8f",
   "metadata": {},
   "source": [
    "## 1. Overview of Aggregation Functions and the `agg()` Method\n",
    "- An aggregation function is one which takes multiple individual values and returns a result."
   ]
  },
  {
   "cell_type": "code",
   "execution_count": 8,
   "id": "298d74ce",
   "metadata": {},
   "outputs": [
    {
     "data": {
      "text/html": [
       "<div>\n",
       "<style scoped>\n",
       "    .dataframe tbody tr th:only-of-type {\n",
       "        vertical-align: middle;\n",
       "    }\n",
       "\n",
       "    .dataframe tbody tr th {\n",
       "        vertical-align: top;\n",
       "    }\n",
       "\n",
       "    .dataframe thead th {\n",
       "        text-align: right;\n",
       "    }\n",
       "</style>\n",
       "<table border=\"1\" class=\"dataframe\">\n",
       "  <thead>\n",
       "    <tr style=\"text-align: right;\">\n",
       "      <th></th>\n",
       "      <th>date</th>\n",
       "      <th>city</th>\n",
       "      <th>temperature</th>\n",
       "      <th>humidity</th>\n",
       "    </tr>\n",
       "  </thead>\n",
       "  <tbody>\n",
       "    <tr>\n",
       "      <th>0</th>\n",
       "      <td>01/01/2022</td>\n",
       "      <td>lahore</td>\n",
       "      <td>8</td>\n",
       "      <td>60</td>\n",
       "    </tr>\n",
       "    <tr>\n",
       "      <th>1</th>\n",
       "      <td>02/01/2022</td>\n",
       "      <td>lahore</td>\n",
       "      <td>10</td>\n",
       "      <td>58</td>\n",
       "    </tr>\n",
       "    <tr>\n",
       "      <th>2</th>\n",
       "      <td>03/01/2022</td>\n",
       "      <td>lahore</td>\n",
       "      <td>5</td>\n",
       "      <td>51</td>\n",
       "    </tr>\n",
       "    <tr>\n",
       "      <th>3</th>\n",
       "      <td>04/01/2022</td>\n",
       "      <td>lahore</td>\n",
       "      <td>6</td>\n",
       "      <td>49</td>\n",
       "    </tr>\n",
       "    <tr>\n",
       "      <th>4</th>\n",
       "      <td>05/01/2022</td>\n",
       "      <td>lahore</td>\n",
       "      <td>12</td>\n",
       "      <td>54</td>\n",
       "    </tr>\n",
       "    <tr>\n",
       "      <th>5</th>\n",
       "      <td>01/01/2022</td>\n",
       "      <td>karachi</td>\n",
       "      <td>18</td>\n",
       "      <td>74</td>\n",
       "    </tr>\n",
       "    <tr>\n",
       "      <th>6</th>\n",
       "      <td>02/01/2022</td>\n",
       "      <td>karachi</td>\n",
       "      <td>10</td>\n",
       "      <td>71</td>\n",
       "    </tr>\n",
       "    <tr>\n",
       "      <th>7</th>\n",
       "      <td>03/01/2022</td>\n",
       "      <td>karachi</td>\n",
       "      <td>12</td>\n",
       "      <td>78</td>\n",
       "    </tr>\n",
       "    <tr>\n",
       "      <th>8</th>\n",
       "      <td>04/01/2022</td>\n",
       "      <td>karachi</td>\n",
       "      <td>15</td>\n",
       "      <td>76</td>\n",
       "    </tr>\n",
       "    <tr>\n",
       "      <th>9</th>\n",
       "      <td>05/01/2022</td>\n",
       "      <td>karachi</td>\n",
       "      <td>16</td>\n",
       "      <td>70</td>\n",
       "    </tr>\n",
       "    <tr>\n",
       "      <th>10</th>\n",
       "      <td>01/01/2022</td>\n",
       "      <td>murree</td>\n",
       "      <td>-5</td>\n",
       "      <td>61</td>\n",
       "    </tr>\n",
       "    <tr>\n",
       "      <th>11</th>\n",
       "      <td>02/01/2022</td>\n",
       "      <td>murree</td>\n",
       "      <td>-3</td>\n",
       "      <td>68</td>\n",
       "    </tr>\n",
       "    <tr>\n",
       "      <th>12</th>\n",
       "      <td>03/01/2022</td>\n",
       "      <td>murree</td>\n",
       "      <td>-4</td>\n",
       "      <td>69</td>\n",
       "    </tr>\n",
       "    <tr>\n",
       "      <th>13</th>\n",
       "      <td>04/01/2022</td>\n",
       "      <td>murree</td>\n",
       "      <td>-1</td>\n",
       "      <td>63</td>\n",
       "    </tr>\n",
       "    <tr>\n",
       "      <th>14</th>\n",
       "      <td>05/01/2022</td>\n",
       "      <td>murree</td>\n",
       "      <td>-7</td>\n",
       "      <td>72</td>\n",
       "    </tr>\n",
       "  </tbody>\n",
       "</table>\n",
       "</div>"
      ],
      "text/plain": [
       "          date     city  temperature  humidity\n",
       "0   01/01/2022   lahore            8        60\n",
       "1   02/01/2022   lahore           10        58\n",
       "2   03/01/2022   lahore            5        51\n",
       "3   04/01/2022   lahore            6        49\n",
       "4   05/01/2022   lahore           12        54\n",
       "5   01/01/2022  karachi           18        74\n",
       "6   02/01/2022  karachi           10        71\n",
       "7   03/01/2022  karachi           12        78\n",
       "8   04/01/2022  karachi           15        76\n",
       "9   05/01/2022  karachi           16        70\n",
       "10  01/01/2022   murree           -5        61\n",
       "11  02/01/2022   murree           -3        68\n",
       "12  03/01/2022   murree           -4        69\n",
       "13  04/01/2022   murree           -1        63\n",
       "14  05/01/2022   murree           -7        72"
      ]
     },
     "execution_count": 8,
     "metadata": {},
     "output_type": "execute_result"
    }
   ],
   "source": [
    "import pandas as pd\n",
    "df = pd.read_csv('datasets/groupbydata2.csv')\n",
    "df"
   ]
  },
  {
   "cell_type": "markdown",
   "id": "71f119a8",
   "metadata": {},
   "source": [
    "### a. Applying a Built-in Aggregation Function on Entire Dataframe Object"
   ]
  },
  {
   "cell_type": "code",
   "execution_count": 9,
   "id": "3e9650a9",
   "metadata": {},
   "outputs": [
    {
     "data": {
      "text/plain": [
       "temperature    -7\n",
       "humidity       49\n",
       "dtype: int64"
      ]
     },
     "execution_count": 9,
     "metadata": {},
     "output_type": "execute_result"
    }
   ],
   "source": [
    "df.min(numeric_only=True)"
   ]
  },
  {
   "cell_type": "code",
   "execution_count": 10,
   "id": "7e5e6958",
   "metadata": {},
   "outputs": [
    {
     "data": {
      "text/plain": [
       "date           15\n",
       "city           15\n",
       "temperature    15\n",
       "humidity       15\n",
       "dtype: int64"
      ]
     },
     "execution_count": 10,
     "metadata": {},
     "output_type": "execute_result"
    }
   ],
   "source": [
    "df.count()"
   ]
  },
  {
   "cell_type": "code",
   "execution_count": 11,
   "id": "31839411",
   "metadata": {},
   "outputs": [
    {
     "name": "stderr",
     "output_type": "stream",
     "text": [
      "/tmp/ipykernel_63674/2026153972.py:2: FutureWarning: The default value of numeric_only in DataFrame.median is deprecated. In a future version, it will default to False. In addition, specifying 'numeric_only=None' is deprecated. Select only valid columns or specify the value of numeric_only to silence this warning.\n",
      "  df.median()\n"
     ]
    },
    {
     "data": {
      "text/plain": [
       "temperature     8.0\n",
       "humidity       68.0\n",
       "dtype: float64"
      ]
     },
     "execution_count": 11,
     "metadata": {},
     "output_type": "execute_result"
    }
   ],
   "source": [
    "# Should be applied to numeric columns only, may raise a warning\n",
    "df.median()"
   ]
  },
  {
   "cell_type": "code",
   "execution_count": 12,
   "id": "fa0eb1f9",
   "metadata": {},
   "outputs": [
    {
     "data": {
      "text/plain": [
       "temperature     8.0\n",
       "humidity       68.0\n",
       "dtype: float64"
      ]
     },
     "execution_count": 12,
     "metadata": {},
     "output_type": "execute_result"
    }
   ],
   "source": [
    "df.median(numeric_only=True)"
   ]
  },
  {
   "cell_type": "code",
   "execution_count": null,
   "id": "8409ebd7",
   "metadata": {},
   "outputs": [],
   "source": []
  },
  {
   "cell_type": "markdown",
   "id": "0a80e737",
   "metadata": {},
   "source": [
    "> We can call the `agg()` method on the dataframe to apply multiple aggregation functions at a time, by passing the `agg()` function a list of aggregation functions as strings."
   ]
  },
  {
   "cell_type": "code",
   "execution_count": 13,
   "id": "875e29de",
   "metadata": {},
   "outputs": [
    {
     "data": {
      "text/html": [
       "<div>\n",
       "<style scoped>\n",
       "    .dataframe tbody tr th:only-of-type {\n",
       "        vertical-align: middle;\n",
       "    }\n",
       "\n",
       "    .dataframe tbody tr th {\n",
       "        vertical-align: top;\n",
       "    }\n",
       "\n",
       "    .dataframe thead th {\n",
       "        text-align: right;\n",
       "    }\n",
       "</style>\n",
       "<table border=\"1\" class=\"dataframe\">\n",
       "  <thead>\n",
       "    <tr style=\"text-align: right;\">\n",
       "      <th></th>\n",
       "      <th>date</th>\n",
       "      <th>city</th>\n",
       "      <th>temperature</th>\n",
       "      <th>humidity</th>\n",
       "    </tr>\n",
       "  </thead>\n",
       "  <tbody>\n",
       "    <tr>\n",
       "      <th>min</th>\n",
       "      <td>01/01/2022</td>\n",
       "      <td>karachi</td>\n",
       "      <td>-7</td>\n",
       "      <td>49</td>\n",
       "    </tr>\n",
       "    <tr>\n",
       "      <th>max</th>\n",
       "      <td>05/01/2022</td>\n",
       "      <td>murree</td>\n",
       "      <td>18</td>\n",
       "      <td>78</td>\n",
       "    </tr>\n",
       "    <tr>\n",
       "      <th>count</th>\n",
       "      <td>15</td>\n",
       "      <td>15</td>\n",
       "      <td>15</td>\n",
       "      <td>15</td>\n",
       "    </tr>\n",
       "  </tbody>\n",
       "</table>\n",
       "</div>"
      ],
      "text/plain": [
       "             date     city  temperature  humidity\n",
       "min    01/01/2022  karachi           -7        49\n",
       "max    05/01/2022   murree           18        78\n",
       "count          15       15           15        15"
      ]
     },
     "execution_count": 13,
     "metadata": {},
     "output_type": "execute_result"
    }
   ],
   "source": [
    "df.agg(['min', 'max',  'count'])"
   ]
  },
  {
   "cell_type": "code",
   "execution_count": null,
   "id": "a58a2e02",
   "metadata": {},
   "outputs": [],
   "source": [
    "# df.aggregate()"
   ]
  },
  {
   "cell_type": "code",
   "execution_count": 15,
   "id": "f5a9cbf1",
   "metadata": {},
   "outputs": [
    {
     "data": {
      "text/html": [
       "<div>\n",
       "<style scoped>\n",
       "    .dataframe tbody tr th:only-of-type {\n",
       "        vertical-align: middle;\n",
       "    }\n",
       "\n",
       "    .dataframe tbody tr th {\n",
       "        vertical-align: top;\n",
       "    }\n",
       "\n",
       "    .dataframe thead th {\n",
       "        text-align: right;\n",
       "    }\n",
       "</style>\n",
       "<table border=\"1\" class=\"dataframe\">\n",
       "  <thead>\n",
       "    <tr style=\"text-align: right;\">\n",
       "      <th></th>\n",
       "      <th>temperature</th>\n",
       "      <th>humidity</th>\n",
       "    </tr>\n",
       "  </thead>\n",
       "  <tbody>\n",
       "    <tr>\n",
       "      <th>min</th>\n",
       "      <td>5.0</td>\n",
       "      <td>49.0</td>\n",
       "    </tr>\n",
       "    <tr>\n",
       "      <th>max</th>\n",
       "      <td>12.0</td>\n",
       "      <td>60.0</td>\n",
       "    </tr>\n",
       "    <tr>\n",
       "      <th>count</th>\n",
       "      <td>5.0</td>\n",
       "      <td>NaN</td>\n",
       "    </tr>\n",
       "    <tr>\n",
       "      <th>mean</th>\n",
       "      <td>NaN</td>\n",
       "      <td>54.4</td>\n",
       "    </tr>\n",
       "  </tbody>\n",
       "</table>\n",
       "</div>"
      ],
      "text/plain": [
       "       temperature  humidity\n",
       "min            5.0      49.0\n",
       "max           12.0      60.0\n",
       "count          5.0       NaN\n",
       "mean           NaN      54.4"
      ]
     },
     "execution_count": 15,
     "metadata": {},
     "output_type": "execute_result"
    }
   ],
   "source": [
    "df[df.city=='lahore'].agg({'temperature':['min', 'max',  'count'],\n",
    "       'humidity':['max', 'min','mean']})"
   ]
  },
  {
   "cell_type": "code",
   "execution_count": null,
   "id": "fa76cddd",
   "metadata": {},
   "outputs": [],
   "source": []
  },
  {
   "cell_type": "code",
   "execution_count": null,
   "id": "b17326f9",
   "metadata": {},
   "outputs": [],
   "source": []
  },
  {
   "cell_type": "markdown",
   "id": "f7624ba3",
   "metadata": {},
   "source": [
    "> We can call the `describe()` method on the dataframe to get descriptive statistical measures on all its numeric columns."
   ]
  },
  {
   "cell_type": "code",
   "execution_count": 16,
   "id": "a26b0208",
   "metadata": {},
   "outputs": [
    {
     "data": {
      "text/html": [
       "<div>\n",
       "<style scoped>\n",
       "    .dataframe tbody tr th:only-of-type {\n",
       "        vertical-align: middle;\n",
       "    }\n",
       "\n",
       "    .dataframe tbody tr th {\n",
       "        vertical-align: top;\n",
       "    }\n",
       "\n",
       "    .dataframe thead th {\n",
       "        text-align: right;\n",
       "    }\n",
       "</style>\n",
       "<table border=\"1\" class=\"dataframe\">\n",
       "  <thead>\n",
       "    <tr style=\"text-align: right;\">\n",
       "      <th></th>\n",
       "      <th>temperature</th>\n",
       "      <th>humidity</th>\n",
       "    </tr>\n",
       "  </thead>\n",
       "  <tbody>\n",
       "    <tr>\n",
       "      <th>count</th>\n",
       "      <td>15.000000</td>\n",
       "      <td>15.000000</td>\n",
       "    </tr>\n",
       "    <tr>\n",
       "      <th>mean</th>\n",
       "      <td>6.133333</td>\n",
       "      <td>64.933333</td>\n",
       "    </tr>\n",
       "    <tr>\n",
       "      <th>std</th>\n",
       "      <td>8.253715</td>\n",
       "      <td>9.153194</td>\n",
       "    </tr>\n",
       "    <tr>\n",
       "      <th>min</th>\n",
       "      <td>-7.000000</td>\n",
       "      <td>49.000000</td>\n",
       "    </tr>\n",
       "    <tr>\n",
       "      <th>25%</th>\n",
       "      <td>-2.000000</td>\n",
       "      <td>59.000000</td>\n",
       "    </tr>\n",
       "    <tr>\n",
       "      <th>50%</th>\n",
       "      <td>8.000000</td>\n",
       "      <td>68.000000</td>\n",
       "    </tr>\n",
       "    <tr>\n",
       "      <th>75%</th>\n",
       "      <td>12.000000</td>\n",
       "      <td>71.500000</td>\n",
       "    </tr>\n",
       "    <tr>\n",
       "      <th>max</th>\n",
       "      <td>18.000000</td>\n",
       "      <td>78.000000</td>\n",
       "    </tr>\n",
       "  </tbody>\n",
       "</table>\n",
       "</div>"
      ],
      "text/plain": [
       "       temperature   humidity\n",
       "count    15.000000  15.000000\n",
       "mean      6.133333  64.933333\n",
       "std       8.253715   9.153194\n",
       "min      -7.000000  49.000000\n",
       "25%      -2.000000  59.000000\n",
       "50%       8.000000  68.000000\n",
       "75%      12.000000  71.500000\n",
       "max      18.000000  78.000000"
      ]
     },
     "execution_count": 16,
     "metadata": {},
     "output_type": "execute_result"
    }
   ],
   "source": [
    "df.describe()"
   ]
  },
  {
   "cell_type": "code",
   "execution_count": null,
   "id": "1b6edfe8",
   "metadata": {},
   "outputs": [],
   "source": []
  },
  {
   "cell_type": "markdown",
   "id": "29818e96",
   "metadata": {},
   "source": [
    "### b. Applying a Built-in Aggregation Function on a Series Object"
   ]
  },
  {
   "cell_type": "code",
   "execution_count": 17,
   "id": "111bef4b",
   "metadata": {},
   "outputs": [
    {
     "data": {
      "text/plain": [
       "-7"
      ]
     },
     "execution_count": 17,
     "metadata": {},
     "output_type": "execute_result"
    }
   ],
   "source": [
    "df['temperature'].min()"
   ]
  },
  {
   "cell_type": "code",
   "execution_count": 18,
   "id": "22606fba",
   "metadata": {},
   "outputs": [
    {
     "data": {
      "text/plain": [
       "18"
      ]
     },
     "execution_count": 18,
     "metadata": {},
     "output_type": "execute_result"
    }
   ],
   "source": [
    "df['temperature'].max()"
   ]
  },
  {
   "cell_type": "code",
   "execution_count": 19,
   "id": "709429fa",
   "metadata": {},
   "outputs": [
    {
     "data": {
      "text/plain": [
       "6.133333333333334"
      ]
     },
     "execution_count": 19,
     "metadata": {},
     "output_type": "execute_result"
    }
   ],
   "source": [
    "df['temperature'].mean()"
   ]
  },
  {
   "cell_type": "markdown",
   "id": "b131b9b5",
   "metadata": {},
   "source": [
    "> We can call the `agg()` method on a series to apply multiple aggregation functions at a time, by passing the `agg()` function a list of aggregation functions as strings."
   ]
  },
  {
   "cell_type": "code",
   "execution_count": 20,
   "id": "4bea6bc9",
   "metadata": {},
   "outputs": [
    {
     "data": {
      "text/plain": [
       "min      -7.000000\n",
       "max      18.000000\n",
       "mean      6.133333\n",
       "count    15.000000\n",
       "Name: temperature, dtype: float64"
      ]
     },
     "execution_count": 20,
     "metadata": {},
     "output_type": "execute_result"
    }
   ],
   "source": [
    "df['temperature'].agg(['min', 'max', 'mean', 'count'])"
   ]
  },
  {
   "cell_type": "markdown",
   "id": "07ad4b62",
   "metadata": {},
   "source": [
    "> We can call the `describe()` method on the dataframe to get descriptive statistical measures on all its numeric columns."
   ]
  },
  {
   "cell_type": "code",
   "execution_count": 21,
   "id": "80d38d82",
   "metadata": {},
   "outputs": [
    {
     "data": {
      "text/plain": [
       "count    15.000000\n",
       "mean      6.133333\n",
       "std       8.253715\n",
       "min      -7.000000\n",
       "25%      -2.000000\n",
       "50%       8.000000\n",
       "75%      12.000000\n",
       "max      18.000000\n",
       "Name: temperature, dtype: float64"
      ]
     },
     "execution_count": 21,
     "metadata": {},
     "output_type": "execute_result"
    }
   ],
   "source": [
    "df['temperature'].describe()"
   ]
  },
  {
   "cell_type": "code",
   "execution_count": null,
   "id": "2d6f7d77",
   "metadata": {},
   "outputs": [],
   "source": []
  },
  {
   "cell_type": "markdown",
   "id": "4d354a5b",
   "metadata": {},
   "source": [
    "### c. Applying a User-Defined/Lambda Function on a Series Object using the `apply()` Method\n",
    "- We have used this `apply()` method before as well that is used to invoke function on values of Series and return a resulting series."
   ]
  },
  {
   "cell_type": "code",
   "execution_count": 22,
   "id": "8647021a",
   "metadata": {},
   "outputs": [
    {
     "data": {
      "text/plain": [
       "0      8\n",
       "1     10\n",
       "2      5\n",
       "3      6\n",
       "4     12\n",
       "5     18\n",
       "6     10\n",
       "7     12\n",
       "8     15\n",
       "9     16\n",
       "10    -5\n",
       "11    -3\n",
       "12    -4\n",
       "13    -1\n",
       "14    -7\n",
       "Name: temperature, dtype: int64"
      ]
     },
     "execution_count": 22,
     "metadata": {},
     "output_type": "execute_result"
    }
   ],
   "source": [
    "df.temperature"
   ]
  },
  {
   "cell_type": "code",
   "execution_count": 23,
   "id": "ffd978e9",
   "metadata": {},
   "outputs": [],
   "source": [
    "def ctof(x):\n",
    "    return x*9/5+32\n",
    "\n"
   ]
  },
  {
   "cell_type": "code",
   "execution_count": 24,
   "id": "f4c6948e",
   "metadata": {},
   "outputs": [
    {
     "data": {
      "text/plain": [
       "0     46.4\n",
       "1     50.0\n",
       "2     41.0\n",
       "3     42.8\n",
       "4     53.6\n",
       "5     64.4\n",
       "6     50.0\n",
       "7     53.6\n",
       "8     59.0\n",
       "9     60.8\n",
       "10    23.0\n",
       "11    26.6\n",
       "12    24.8\n",
       "13    30.2\n",
       "14    19.4\n",
       "Name: temperature, dtype: float64"
      ]
     },
     "execution_count": 24,
     "metadata": {},
     "output_type": "execute_result"
    }
   ],
   "source": [
    "df.temperature.apply(ctof)"
   ]
  },
  {
   "cell_type": "code",
   "execution_count": 25,
   "id": "b427ebcd",
   "metadata": {},
   "outputs": [
    {
     "data": {
      "text/plain": [
       "0     46.4\n",
       "1     50.0\n",
       "2     41.0\n",
       "3     42.8\n",
       "4     53.6\n",
       "5     64.4\n",
       "6     50.0\n",
       "7     53.6\n",
       "8     59.0\n",
       "9     60.8\n",
       "10    23.0\n",
       "11    26.6\n",
       "12    24.8\n",
       "13    30.2\n",
       "14    19.4\n",
       "Name: temperature, dtype: float64"
      ]
     },
     "execution_count": 25,
     "metadata": {},
     "output_type": "execute_result"
    }
   ],
   "source": [
    "df.temperature.apply(lambda x: x*9/5+32)"
   ]
  },
  {
   "cell_type": "code",
   "execution_count": null,
   "id": "d9851993",
   "metadata": {},
   "outputs": [],
   "source": []
  },
  {
   "cell_type": "markdown",
   "id": "1253cf51",
   "metadata": {},
   "source": [
    "# How to Compute the Minimum Temperature of Each City?"
   ]
  },
  {
   "cell_type": "markdown",
   "id": "c21a3258",
   "metadata": {},
   "source": [
    "## 2. Doing it the Hard Way\n",
    "<img align=\"center\" width=\"700\" height=\"500\"  src=\"images/groupbyfinal.png\"  >"
   ]
  },
  {
   "cell_type": "code",
   "execution_count": 26,
   "id": "443db1c5",
   "metadata": {},
   "outputs": [
    {
     "data": {
      "text/html": [
       "<div>\n",
       "<style scoped>\n",
       "    .dataframe tbody tr th:only-of-type {\n",
       "        vertical-align: middle;\n",
       "    }\n",
       "\n",
       "    .dataframe tbody tr th {\n",
       "        vertical-align: top;\n",
       "    }\n",
       "\n",
       "    .dataframe thead th {\n",
       "        text-align: right;\n",
       "    }\n",
       "</style>\n",
       "<table border=\"1\" class=\"dataframe\">\n",
       "  <thead>\n",
       "    <tr style=\"text-align: right;\">\n",
       "      <th></th>\n",
       "      <th>date</th>\n",
       "      <th>city</th>\n",
       "      <th>temperature</th>\n",
       "    </tr>\n",
       "  </thead>\n",
       "  <tbody>\n",
       "    <tr>\n",
       "      <th>0</th>\n",
       "      <td>01/01/2022</td>\n",
       "      <td>lahore</td>\n",
       "      <td>8</td>\n",
       "    </tr>\n",
       "    <tr>\n",
       "      <th>1</th>\n",
       "      <td>02/01/2022</td>\n",
       "      <td>lahore</td>\n",
       "      <td>10</td>\n",
       "    </tr>\n",
       "    <tr>\n",
       "      <th>2</th>\n",
       "      <td>03/01/2022</td>\n",
       "      <td>lahore</td>\n",
       "      <td>5</td>\n",
       "    </tr>\n",
       "    <tr>\n",
       "      <th>3</th>\n",
       "      <td>04/01/2022</td>\n",
       "      <td>lahore</td>\n",
       "      <td>6</td>\n",
       "    </tr>\n",
       "    <tr>\n",
       "      <th>4</th>\n",
       "      <td>05/01/2022</td>\n",
       "      <td>lahore</td>\n",
       "      <td>12</td>\n",
       "    </tr>\n",
       "    <tr>\n",
       "      <th>5</th>\n",
       "      <td>01/01/2022</td>\n",
       "      <td>karachi</td>\n",
       "      <td>18</td>\n",
       "    </tr>\n",
       "    <tr>\n",
       "      <th>6</th>\n",
       "      <td>02/01/2022</td>\n",
       "      <td>karachi</td>\n",
       "      <td>10</td>\n",
       "    </tr>\n",
       "    <tr>\n",
       "      <th>7</th>\n",
       "      <td>03/01/2022</td>\n",
       "      <td>karachi</td>\n",
       "      <td>12</td>\n",
       "    </tr>\n",
       "    <tr>\n",
       "      <th>8</th>\n",
       "      <td>04/01/2022</td>\n",
       "      <td>karachi</td>\n",
       "      <td>15</td>\n",
       "    </tr>\n",
       "    <tr>\n",
       "      <th>9</th>\n",
       "      <td>05/01/2022</td>\n",
       "      <td>karachi</td>\n",
       "      <td>16</td>\n",
       "    </tr>\n",
       "    <tr>\n",
       "      <th>10</th>\n",
       "      <td>01/01/2022</td>\n",
       "      <td>murree</td>\n",
       "      <td>-5</td>\n",
       "    </tr>\n",
       "    <tr>\n",
       "      <th>11</th>\n",
       "      <td>02/01/2022</td>\n",
       "      <td>murree</td>\n",
       "      <td>-3</td>\n",
       "    </tr>\n",
       "    <tr>\n",
       "      <th>12</th>\n",
       "      <td>03/01/2022</td>\n",
       "      <td>murree</td>\n",
       "      <td>-4</td>\n",
       "    </tr>\n",
       "    <tr>\n",
       "      <th>13</th>\n",
       "      <td>04/01/2022</td>\n",
       "      <td>murree</td>\n",
       "      <td>-1</td>\n",
       "    </tr>\n",
       "    <tr>\n",
       "      <th>14</th>\n",
       "      <td>05/01/2022</td>\n",
       "      <td>murree</td>\n",
       "      <td>-7</td>\n",
       "    </tr>\n",
       "  </tbody>\n",
       "</table>\n",
       "</div>"
      ],
      "text/plain": [
       "          date     city  temperature\n",
       "0   01/01/2022   lahore            8\n",
       "1   02/01/2022   lahore           10\n",
       "2   03/01/2022   lahore            5\n",
       "3   04/01/2022   lahore            6\n",
       "4   05/01/2022   lahore           12\n",
       "5   01/01/2022  karachi           18\n",
       "6   02/01/2022  karachi           10\n",
       "7   03/01/2022  karachi           12\n",
       "8   04/01/2022  karachi           15\n",
       "9   05/01/2022  karachi           16\n",
       "10  01/01/2022   murree           -5\n",
       "11  02/01/2022   murree           -3\n",
       "12  03/01/2022   murree           -4\n",
       "13  04/01/2022   murree           -1\n",
       "14  05/01/2022   murree           -7"
      ]
     },
     "execution_count": 26,
     "metadata": {},
     "output_type": "execute_result"
    }
   ],
   "source": [
    "import pandas as pd\n",
    "df = pd.read_csv('datasets/groupbydata1.csv')\n",
    "df"
   ]
  },
  {
   "cell_type": "markdown",
   "id": "eb304630",
   "metadata": {},
   "source": [
    "### a. Splitting the Dataframe\n",
    "- We need to use conditional selection technique, in which we pass a Boolean mask for the appropriate city column to be selected. Can do it using two ways:\n",
    "    - Using `df[]` subscript operator\n",
    "    - Using `df.loc` method"
   ]
  },
  {
   "cell_type": "code",
   "execution_count": 27,
   "id": "8bc2737e",
   "metadata": {},
   "outputs": [
    {
     "data": {
      "text/html": [
       "<div>\n",
       "<style scoped>\n",
       "    .dataframe tbody tr th:only-of-type {\n",
       "        vertical-align: middle;\n",
       "    }\n",
       "\n",
       "    .dataframe tbody tr th {\n",
       "        vertical-align: top;\n",
       "    }\n",
       "\n",
       "    .dataframe thead th {\n",
       "        text-align: right;\n",
       "    }\n",
       "</style>\n",
       "<table border=\"1\" class=\"dataframe\">\n",
       "  <thead>\n",
       "    <tr style=\"text-align: right;\">\n",
       "      <th></th>\n",
       "      <th>date</th>\n",
       "      <th>city</th>\n",
       "      <th>temperature</th>\n",
       "    </tr>\n",
       "  </thead>\n",
       "  <tbody>\n",
       "    <tr>\n",
       "      <th>5</th>\n",
       "      <td>01/01/2022</td>\n",
       "      <td>karachi</td>\n",
       "      <td>18</td>\n",
       "    </tr>\n",
       "    <tr>\n",
       "      <th>6</th>\n",
       "      <td>02/01/2022</td>\n",
       "      <td>karachi</td>\n",
       "      <td>10</td>\n",
       "    </tr>\n",
       "    <tr>\n",
       "      <th>7</th>\n",
       "      <td>03/01/2022</td>\n",
       "      <td>karachi</td>\n",
       "      <td>12</td>\n",
       "    </tr>\n",
       "    <tr>\n",
       "      <th>8</th>\n",
       "      <td>04/01/2022</td>\n",
       "      <td>karachi</td>\n",
       "      <td>15</td>\n",
       "    </tr>\n",
       "    <tr>\n",
       "      <th>9</th>\n",
       "      <td>05/01/2022</td>\n",
       "      <td>karachi</td>\n",
       "      <td>16</td>\n",
       "    </tr>\n",
       "  </tbody>\n",
       "</table>\n",
       "</div>"
      ],
      "text/plain": [
       "         date     city  temperature\n",
       "5  01/01/2022  karachi           18\n",
       "6  02/01/2022  karachi           10\n",
       "7  03/01/2022  karachi           12\n",
       "8  04/01/2022  karachi           15\n",
       "9  05/01/2022  karachi           16"
      ]
     },
     "execution_count": 27,
     "metadata": {},
     "output_type": "execute_result"
    }
   ],
   "source": [
    "df[df['city']=='karachi']"
   ]
  },
  {
   "cell_type": "code",
   "execution_count": 28,
   "id": "9d4410d9",
   "metadata": {},
   "outputs": [
    {
     "data": {
      "text/html": [
       "<div>\n",
       "<style scoped>\n",
       "    .dataframe tbody tr th:only-of-type {\n",
       "        vertical-align: middle;\n",
       "    }\n",
       "\n",
       "    .dataframe tbody tr th {\n",
       "        vertical-align: top;\n",
       "    }\n",
       "\n",
       "    .dataframe thead th {\n",
       "        text-align: right;\n",
       "    }\n",
       "</style>\n",
       "<table border=\"1\" class=\"dataframe\">\n",
       "  <thead>\n",
       "    <tr style=\"text-align: right;\">\n",
       "      <th></th>\n",
       "      <th>date</th>\n",
       "      <th>city</th>\n",
       "      <th>temperature</th>\n",
       "    </tr>\n",
       "  </thead>\n",
       "  <tbody>\n",
       "    <tr>\n",
       "      <th>0</th>\n",
       "      <td>01/01/2022</td>\n",
       "      <td>lahore</td>\n",
       "      <td>8</td>\n",
       "    </tr>\n",
       "    <tr>\n",
       "      <th>1</th>\n",
       "      <td>02/01/2022</td>\n",
       "      <td>lahore</td>\n",
       "      <td>10</td>\n",
       "    </tr>\n",
       "    <tr>\n",
       "      <th>2</th>\n",
       "      <td>03/01/2022</td>\n",
       "      <td>lahore</td>\n",
       "      <td>5</td>\n",
       "    </tr>\n",
       "    <tr>\n",
       "      <th>3</th>\n",
       "      <td>04/01/2022</td>\n",
       "      <td>lahore</td>\n",
       "      <td>6</td>\n",
       "    </tr>\n",
       "    <tr>\n",
       "      <th>4</th>\n",
       "      <td>05/01/2022</td>\n",
       "      <td>lahore</td>\n",
       "      <td>12</td>\n",
       "    </tr>\n",
       "  </tbody>\n",
       "</table>\n",
       "</div>"
      ],
      "text/plain": [
       "         date    city  temperature\n",
       "0  01/01/2022  lahore            8\n",
       "1  02/01/2022  lahore           10\n",
       "2  03/01/2022  lahore            5\n",
       "3  04/01/2022  lahore            6\n",
       "4  05/01/2022  lahore           12"
      ]
     },
     "execution_count": 28,
     "metadata": {},
     "output_type": "execute_result"
    }
   ],
   "source": [
    "df[df['city']=='lahore']\n",
    "df.loc[df.city=='lahore', :]"
   ]
  },
  {
   "cell_type": "code",
   "execution_count": 29,
   "id": "43a90d9a",
   "metadata": {},
   "outputs": [
    {
     "data": {
      "text/html": [
       "<div>\n",
       "<style scoped>\n",
       "    .dataframe tbody tr th:only-of-type {\n",
       "        vertical-align: middle;\n",
       "    }\n",
       "\n",
       "    .dataframe tbody tr th {\n",
       "        vertical-align: top;\n",
       "    }\n",
       "\n",
       "    .dataframe thead th {\n",
       "        text-align: right;\n",
       "    }\n",
       "</style>\n",
       "<table border=\"1\" class=\"dataframe\">\n",
       "  <thead>\n",
       "    <tr style=\"text-align: right;\">\n",
       "      <th></th>\n",
       "      <th>date</th>\n",
       "      <th>city</th>\n",
       "      <th>temperature</th>\n",
       "    </tr>\n",
       "  </thead>\n",
       "  <tbody>\n",
       "    <tr>\n",
       "      <th>5</th>\n",
       "      <td>01/01/2022</td>\n",
       "      <td>karachi</td>\n",
       "      <td>18</td>\n",
       "    </tr>\n",
       "    <tr>\n",
       "      <th>6</th>\n",
       "      <td>02/01/2022</td>\n",
       "      <td>karachi</td>\n",
       "      <td>10</td>\n",
       "    </tr>\n",
       "    <tr>\n",
       "      <th>7</th>\n",
       "      <td>03/01/2022</td>\n",
       "      <td>karachi</td>\n",
       "      <td>12</td>\n",
       "    </tr>\n",
       "    <tr>\n",
       "      <th>8</th>\n",
       "      <td>04/01/2022</td>\n",
       "      <td>karachi</td>\n",
       "      <td>15</td>\n",
       "    </tr>\n",
       "    <tr>\n",
       "      <th>9</th>\n",
       "      <td>05/01/2022</td>\n",
       "      <td>karachi</td>\n",
       "      <td>16</td>\n",
       "    </tr>\n",
       "  </tbody>\n",
       "</table>\n",
       "</div>"
      ],
      "text/plain": [
       "         date     city  temperature\n",
       "5  01/01/2022  karachi           18\n",
       "6  02/01/2022  karachi           10\n",
       "7  03/01/2022  karachi           12\n",
       "8  04/01/2022  karachi           15\n",
       "9  05/01/2022  karachi           16"
      ]
     },
     "execution_count": 29,
     "metadata": {},
     "output_type": "execute_result"
    }
   ],
   "source": [
    "df[df['city']=='karachi']\n",
    "df.loc[df.city=='karachi', :]"
   ]
  },
  {
   "cell_type": "code",
   "execution_count": 30,
   "id": "2fe134f3",
   "metadata": {},
   "outputs": [
    {
     "data": {
      "text/html": [
       "<div>\n",
       "<style scoped>\n",
       "    .dataframe tbody tr th:only-of-type {\n",
       "        vertical-align: middle;\n",
       "    }\n",
       "\n",
       "    .dataframe tbody tr th {\n",
       "        vertical-align: top;\n",
       "    }\n",
       "\n",
       "    .dataframe thead th {\n",
       "        text-align: right;\n",
       "    }\n",
       "</style>\n",
       "<table border=\"1\" class=\"dataframe\">\n",
       "  <thead>\n",
       "    <tr style=\"text-align: right;\">\n",
       "      <th></th>\n",
       "      <th>date</th>\n",
       "      <th>city</th>\n",
       "      <th>temperature</th>\n",
       "    </tr>\n",
       "  </thead>\n",
       "  <tbody>\n",
       "    <tr>\n",
       "      <th>10</th>\n",
       "      <td>01/01/2022</td>\n",
       "      <td>murree</td>\n",
       "      <td>-5</td>\n",
       "    </tr>\n",
       "    <tr>\n",
       "      <th>11</th>\n",
       "      <td>02/01/2022</td>\n",
       "      <td>murree</td>\n",
       "      <td>-3</td>\n",
       "    </tr>\n",
       "    <tr>\n",
       "      <th>12</th>\n",
       "      <td>03/01/2022</td>\n",
       "      <td>murree</td>\n",
       "      <td>-4</td>\n",
       "    </tr>\n",
       "    <tr>\n",
       "      <th>13</th>\n",
       "      <td>04/01/2022</td>\n",
       "      <td>murree</td>\n",
       "      <td>-1</td>\n",
       "    </tr>\n",
       "    <tr>\n",
       "      <th>14</th>\n",
       "      <td>05/01/2022</td>\n",
       "      <td>murree</td>\n",
       "      <td>-7</td>\n",
       "    </tr>\n",
       "  </tbody>\n",
       "</table>\n",
       "</div>"
      ],
      "text/plain": [
       "          date    city  temperature\n",
       "10  01/01/2022  murree           -5\n",
       "11  02/01/2022  murree           -3\n",
       "12  03/01/2022  murree           -4\n",
       "13  04/01/2022  murree           -1\n",
       "14  05/01/2022  murree           -7"
      ]
     },
     "execution_count": 30,
     "metadata": {},
     "output_type": "execute_result"
    }
   ],
   "source": [
    "df[df['city']=='murree']\n",
    "df.loc[df.city=='murree', :]"
   ]
  },
  {
   "cell_type": "markdown",
   "id": "531be356",
   "metadata": {},
   "source": [
    ">**Limitation:**\n",
    ">- We have to repeat this process for every city separately.\n",
    ">- What if there are over 100 cities in the dataset?"
   ]
  },
  {
   "cell_type": "code",
   "execution_count": null,
   "id": "aafece6c",
   "metadata": {},
   "outputs": [],
   "source": []
  },
  {
   "cell_type": "markdown",
   "id": "e6a35e53",
   "metadata": {},
   "source": [
    "### b. Applying the `min()` Function\n",
    "- We need to apply the `min()` function on the temperature column of all of the above dataframes separately"
   ]
  },
  {
   "cell_type": "code",
   "execution_count": 31,
   "id": "98d13252",
   "metadata": {},
   "outputs": [
    {
     "data": {
      "text/plain": [
       "5"
      ]
     },
     "execution_count": 31,
     "metadata": {},
     "output_type": "execute_result"
    }
   ],
   "source": [
    "df.loc[df.city=='lahore', :].temperature.min()"
   ]
  },
  {
   "cell_type": "code",
   "execution_count": 32,
   "id": "3a9b7261",
   "metadata": {},
   "outputs": [
    {
     "data": {
      "text/plain": [
       "5"
      ]
     },
     "execution_count": 32,
     "metadata": {},
     "output_type": "execute_result"
    }
   ],
   "source": [
    "df.loc[df.city=='lahore', :].temperature.min()"
   ]
  },
  {
   "cell_type": "code",
   "execution_count": 33,
   "id": "2f36327e",
   "metadata": {},
   "outputs": [
    {
     "data": {
      "text/plain": [
       "10"
      ]
     },
     "execution_count": 33,
     "metadata": {},
     "output_type": "execute_result"
    }
   ],
   "source": [
    "df.loc[df.city=='karachi', :].temperature.min()"
   ]
  },
  {
   "cell_type": "code",
   "execution_count": 34,
   "id": "9e76a7dd",
   "metadata": {},
   "outputs": [
    {
     "data": {
      "text/plain": [
       "-7"
      ]
     },
     "execution_count": 34,
     "metadata": {},
     "output_type": "execute_result"
    }
   ],
   "source": [
    "df.loc[df.city=='murree', :].temperature.min()"
   ]
  },
  {
   "cell_type": "markdown",
   "id": "6573946e",
   "metadata": {},
   "source": [
    ">**Limitation:**\n",
    ">- We have to repeat this process for every city separately.\n",
    ">- What if there are over 100 cities in the dataset?"
   ]
  },
  {
   "cell_type": "code",
   "execution_count": null,
   "id": "3bc149d5",
   "metadata": {},
   "outputs": [],
   "source": []
  },
  {
   "cell_type": "markdown",
   "id": "8d980d9c",
   "metadata": {},
   "source": [
    "### c. Combining the Result\n",
    "- Since, we have got the minimum temperature of all the cities, we need to combine them to an appropriate series object to be used for later processing."
   ]
  },
  {
   "cell_type": "code",
   "execution_count": 35,
   "id": "67ff4a19",
   "metadata": {},
   "outputs": [
    {
     "data": {
      "text/plain": [
       "L_min     5\n",
       "K_min    10\n",
       "M_min    -7\n",
       "Name: Min Temperatures, dtype: int64"
      ]
     },
     "execution_count": 35,
     "metadata": {},
     "output_type": "execute_result"
    }
   ],
   "source": [
    "lhr = df.loc[df.city=='lahore', :].temperature.min()\n",
    "kci = df.loc[df.city=='karachi', :].temperature.min()\n",
    "murree = df.loc[df.city=='murree', :].temperature.min()\n",
    "\n",
    "s = pd.Series(data=[lhr, kci, murree], index=['L_min', 'K_min', 'M_min'] )\n",
    "s.name= 'Min Temperatures'\n",
    "s"
   ]
  },
  {
   "cell_type": "code",
   "execution_count": null,
   "id": "c2ba09af",
   "metadata": {},
   "outputs": [],
   "source": []
  },
  {
   "cell_type": "markdown",
   "id": "3f7f9891",
   "metadata": {},
   "source": [
    "# How to Compute the Minimum Temperature of Each City?"
   ]
  },
  {
   "cell_type": "markdown",
   "id": "62fb733d",
   "metadata": {},
   "source": [
    "## 3. An Elegant Way\n",
    "<img align=\"center\" width=\"700\" height=\"500\"  src=\"images/groupbyfinal.png\"  >"
   ]
  },
  {
   "cell_type": "code",
   "execution_count": 36,
   "id": "08b3cae2",
   "metadata": {},
   "outputs": [
    {
     "data": {
      "text/html": [
       "<div>\n",
       "<style scoped>\n",
       "    .dataframe tbody tr th:only-of-type {\n",
       "        vertical-align: middle;\n",
       "    }\n",
       "\n",
       "    .dataframe tbody tr th {\n",
       "        vertical-align: top;\n",
       "    }\n",
       "\n",
       "    .dataframe thead th {\n",
       "        text-align: right;\n",
       "    }\n",
       "</style>\n",
       "<table border=\"1\" class=\"dataframe\">\n",
       "  <thead>\n",
       "    <tr style=\"text-align: right;\">\n",
       "      <th></th>\n",
       "      <th>date</th>\n",
       "      <th>city</th>\n",
       "      <th>temperature</th>\n",
       "    </tr>\n",
       "  </thead>\n",
       "  <tbody>\n",
       "    <tr>\n",
       "      <th>0</th>\n",
       "      <td>01/01/2022</td>\n",
       "      <td>lahore</td>\n",
       "      <td>8</td>\n",
       "    </tr>\n",
       "    <tr>\n",
       "      <th>1</th>\n",
       "      <td>02/01/2022</td>\n",
       "      <td>lahore</td>\n",
       "      <td>10</td>\n",
       "    </tr>\n",
       "    <tr>\n",
       "      <th>2</th>\n",
       "      <td>03/01/2022</td>\n",
       "      <td>lahore</td>\n",
       "      <td>5</td>\n",
       "    </tr>\n",
       "    <tr>\n",
       "      <th>3</th>\n",
       "      <td>04/01/2022</td>\n",
       "      <td>lahore</td>\n",
       "      <td>6</td>\n",
       "    </tr>\n",
       "    <tr>\n",
       "      <th>4</th>\n",
       "      <td>05/01/2022</td>\n",
       "      <td>lahore</td>\n",
       "      <td>12</td>\n",
       "    </tr>\n",
       "    <tr>\n",
       "      <th>5</th>\n",
       "      <td>01/01/2022</td>\n",
       "      <td>karachi</td>\n",
       "      <td>18</td>\n",
       "    </tr>\n",
       "    <tr>\n",
       "      <th>6</th>\n",
       "      <td>02/01/2022</td>\n",
       "      <td>karachi</td>\n",
       "      <td>10</td>\n",
       "    </tr>\n",
       "    <tr>\n",
       "      <th>7</th>\n",
       "      <td>03/01/2022</td>\n",
       "      <td>karachi</td>\n",
       "      <td>12</td>\n",
       "    </tr>\n",
       "    <tr>\n",
       "      <th>8</th>\n",
       "      <td>04/01/2022</td>\n",
       "      <td>karachi</td>\n",
       "      <td>15</td>\n",
       "    </tr>\n",
       "    <tr>\n",
       "      <th>9</th>\n",
       "      <td>05/01/2022</td>\n",
       "      <td>karachi</td>\n",
       "      <td>16</td>\n",
       "    </tr>\n",
       "    <tr>\n",
       "      <th>10</th>\n",
       "      <td>01/01/2022</td>\n",
       "      <td>murree</td>\n",
       "      <td>-5</td>\n",
       "    </tr>\n",
       "    <tr>\n",
       "      <th>11</th>\n",
       "      <td>02/01/2022</td>\n",
       "      <td>murree</td>\n",
       "      <td>-3</td>\n",
       "    </tr>\n",
       "    <tr>\n",
       "      <th>12</th>\n",
       "      <td>03/01/2022</td>\n",
       "      <td>murree</td>\n",
       "      <td>-4</td>\n",
       "    </tr>\n",
       "    <tr>\n",
       "      <th>13</th>\n",
       "      <td>04/01/2022</td>\n",
       "      <td>murree</td>\n",
       "      <td>-1</td>\n",
       "    </tr>\n",
       "    <tr>\n",
       "      <th>14</th>\n",
       "      <td>05/01/2022</td>\n",
       "      <td>murree</td>\n",
       "      <td>-7</td>\n",
       "    </tr>\n",
       "  </tbody>\n",
       "</table>\n",
       "</div>"
      ],
      "text/plain": [
       "          date     city  temperature\n",
       "0   01/01/2022   lahore            8\n",
       "1   02/01/2022   lahore           10\n",
       "2   03/01/2022   lahore            5\n",
       "3   04/01/2022   lahore            6\n",
       "4   05/01/2022   lahore           12\n",
       "5   01/01/2022  karachi           18\n",
       "6   02/01/2022  karachi           10\n",
       "7   03/01/2022  karachi           12\n",
       "8   04/01/2022  karachi           15\n",
       "9   05/01/2022  karachi           16\n",
       "10  01/01/2022   murree           -5\n",
       "11  02/01/2022   murree           -3\n",
       "12  03/01/2022   murree           -4\n",
       "13  04/01/2022   murree           -1\n",
       "14  05/01/2022   murree           -7"
      ]
     },
     "execution_count": 36,
     "metadata": {},
     "output_type": "execute_result"
    }
   ],
   "source": [
    "import pandas as pd\n",
    "df = pd.read_csv('datasets/groupbydata1.csv')\n",
    "df"
   ]
  },
  {
   "cell_type": "markdown",
   "id": "93f02e73",
   "metadata": {},
   "source": [
    "### a. Step 1: Split Step\n",
    "- In the split step we divide the data inside the dataframe into multiple groups\n",
    "- Since we need to calculate the minimum temperature of each city, therefore, we will use `groupby()` method on the `city` column of the dataframe.\n",
    "- This will result a DataFrameGroupBy object, which is an iterable containing multiple small dataframes based on the `by` argument passed to the `groupby()` method"
   ]
  },
  {
   "cell_type": "code",
   "execution_count": 37,
   "id": "b0ea5d79",
   "metadata": {},
   "outputs": [
    {
     "data": {
      "text/plain": [
       "<pandas.core.groupby.generic.DataFrameGroupBy object at 0x7fc79852ca30>"
      ]
     },
     "execution_count": 37,
     "metadata": {},
     "output_type": "execute_result"
    }
   ],
   "source": [
    "dfgb = df.groupby('city')\n",
    "dfgb"
   ]
  },
  {
   "cell_type": "code",
   "execution_count": null,
   "id": "52a0e61a",
   "metadata": {},
   "outputs": [],
   "source": []
  },
  {
   "cell_type": "markdown",
   "id": "46dd2666",
   "metadata": {},
   "source": [
    ">- Since this is an iterable, so let us iterate :)"
   ]
  },
  {
   "cell_type": "code",
   "execution_count": 38,
   "id": "cc1b1019",
   "metadata": {},
   "outputs": [
    {
     "name": "stdout",
     "output_type": "stream",
     "text": [
      "('karachi',          date     city  temperature\n",
      "5  01/01/2022  karachi           18\n",
      "6  02/01/2022  karachi           10\n",
      "7  03/01/2022  karachi           12\n",
      "8  04/01/2022  karachi           15\n",
      "9  05/01/2022  karachi           16)\n",
      "('lahore',          date    city  temperature\n",
      "0  01/01/2022  lahore            8\n",
      "1  02/01/2022  lahore           10\n",
      "2  03/01/2022  lahore            5\n",
      "3  04/01/2022  lahore            6\n",
      "4  05/01/2022  lahore           12)\n",
      "('murree',           date    city  temperature\n",
      "10  01/01/2022  murree           -5\n",
      "11  02/01/2022  murree           -3\n",
      "12  03/01/2022  murree           -4\n",
      "13  04/01/2022  murree           -1\n",
      "14  05/01/2022  murree           -7)\n"
     ]
    }
   ],
   "source": [
    "for mydf in dfgb:\n",
    "    print(mydf)"
   ]
  },
  {
   "cell_type": "code",
   "execution_count": null,
   "id": "da049f81",
   "metadata": {},
   "outputs": [],
   "source": []
  },
  {
   "cell_type": "markdown",
   "id": "6b81eb53",
   "metadata": {},
   "source": [
    ">- To display indices of every group in the dataframe, use `groups` attribute of  `DataFrameGroupBy` object.\n",
    ">- Returns a Dictionary object (PrettyDict) with keys as the group value and value as list of corresponding row indices"
   ]
  },
  {
   "cell_type": "code",
   "execution_count": 39,
   "id": "1de745f0",
   "metadata": {},
   "outputs": [
    {
     "data": {
      "text/plain": [
       "{'karachi': [5, 6, 7, 8, 9], 'lahore': [0, 1, 2, 3, 4], 'murree': [10, 11, 12, 13, 14]}"
      ]
     },
     "execution_count": 39,
     "metadata": {},
     "output_type": "execute_result"
    }
   ],
   "source": [
    "dfgb.groups   # df.groupby('city').groups"
   ]
  },
  {
   "cell_type": "code",
   "execution_count": null,
   "id": "2fd7fc5e",
   "metadata": {},
   "outputs": [],
   "source": []
  },
  {
   "cell_type": "markdown",
   "id": "d4c2271f",
   "metadata": {},
   "source": [
    ">- To display records of a specific group, use `get_group()` method on `DataFrameGroupBy` object.\n",
    ">- Construct and return DataFrame from `DataFrameGroupBy` object  with provided name."
   ]
  },
  {
   "cell_type": "code",
   "execution_count": 40,
   "id": "cbfa0a16",
   "metadata": {},
   "outputs": [
    {
     "data": {
      "text/html": [
       "<div>\n",
       "<style scoped>\n",
       "    .dataframe tbody tr th:only-of-type {\n",
       "        vertical-align: middle;\n",
       "    }\n",
       "\n",
       "    .dataframe tbody tr th {\n",
       "        vertical-align: top;\n",
       "    }\n",
       "\n",
       "    .dataframe thead th {\n",
       "        text-align: right;\n",
       "    }\n",
       "</style>\n",
       "<table border=\"1\" class=\"dataframe\">\n",
       "  <thead>\n",
       "    <tr style=\"text-align: right;\">\n",
       "      <th></th>\n",
       "      <th>date</th>\n",
       "      <th>city</th>\n",
       "      <th>temperature</th>\n",
       "    </tr>\n",
       "  </thead>\n",
       "  <tbody>\n",
       "    <tr>\n",
       "      <th>10</th>\n",
       "      <td>01/01/2022</td>\n",
       "      <td>murree</td>\n",
       "      <td>-5</td>\n",
       "    </tr>\n",
       "    <tr>\n",
       "      <th>11</th>\n",
       "      <td>02/01/2022</td>\n",
       "      <td>murree</td>\n",
       "      <td>-3</td>\n",
       "    </tr>\n",
       "    <tr>\n",
       "      <th>12</th>\n",
       "      <td>03/01/2022</td>\n",
       "      <td>murree</td>\n",
       "      <td>-4</td>\n",
       "    </tr>\n",
       "    <tr>\n",
       "      <th>13</th>\n",
       "      <td>04/01/2022</td>\n",
       "      <td>murree</td>\n",
       "      <td>-1</td>\n",
       "    </tr>\n",
       "    <tr>\n",
       "      <th>14</th>\n",
       "      <td>05/01/2022</td>\n",
       "      <td>murree</td>\n",
       "      <td>-7</td>\n",
       "    </tr>\n",
       "  </tbody>\n",
       "</table>\n",
       "</div>"
      ],
      "text/plain": [
       "          date    city  temperature\n",
       "10  01/01/2022  murree           -5\n",
       "11  02/01/2022  murree           -3\n",
       "12  03/01/2022  murree           -4\n",
       "13  04/01/2022  murree           -1\n",
       "14  05/01/2022  murree           -7"
      ]
     },
     "execution_count": 40,
     "metadata": {},
     "output_type": "execute_result"
    }
   ],
   "source": [
    "# Display DataFrame of a specific group from groupby object by providing the specific group value\n",
    "dfgb.get_group('murree') # df.groupby('city').get_group('karachi') "
   ]
  },
  {
   "cell_type": "code",
   "execution_count": null,
   "id": "3b1f8d1c",
   "metadata": {},
   "outputs": [],
   "source": []
  },
  {
   "cell_type": "markdown",
   "id": "1c325989",
   "metadata": {},
   "source": [
    ">- To find the size of each group, use `size()` method of DataFrameGroupBy object.\n",
    ">- It return a series containing number of rows in each each group of the DataFrameGroupBy object as a Series"
   ]
  },
  {
   "cell_type": "code",
   "execution_count": 41,
   "id": "fb875cd9",
   "metadata": {},
   "outputs": [
    {
     "data": {
      "text/plain": [
       "city\n",
       "karachi    5\n",
       "lahore     5\n",
       "murree     5\n",
       "dtype: int64"
      ]
     },
     "execution_count": 41,
     "metadata": {},
     "output_type": "execute_result"
    }
   ],
   "source": [
    "dfgb.size()  #df.groupby('city').size()"
   ]
  },
  {
   "cell_type": "markdown",
   "id": "03042da0",
   "metadata": {},
   "source": [
    "> After understanding the `groupby()` method let us move to step 2, and that is `Applying a Function`"
   ]
  },
  {
   "cell_type": "code",
   "execution_count": null,
   "id": "95bc3a96",
   "metadata": {},
   "outputs": [],
   "source": []
  },
  {
   "cell_type": "markdown",
   "id": "9519e655",
   "metadata": {},
   "source": [
    "### b. Step 2: Apply Step\n",
    "- Now second step is that we apply appropriate aggregate function on all the groups inside the DataFrameGroupBy object"
   ]
  },
  {
   "cell_type": "markdown",
   "id": "729e7c98",
   "metadata": {},
   "source": [
    "**Let us first apply aggregate function on a specific column of `DataFrameGroupBy` object, which is a `SeriesGroupBy` object**"
   ]
  },
  {
   "cell_type": "code",
   "execution_count": 42,
   "id": "4b906481",
   "metadata": {},
   "outputs": [
    {
     "data": {
      "text/html": [
       "<div>\n",
       "<style scoped>\n",
       "    .dataframe tbody tr th:only-of-type {\n",
       "        vertical-align: middle;\n",
       "    }\n",
       "\n",
       "    .dataframe tbody tr th {\n",
       "        vertical-align: top;\n",
       "    }\n",
       "\n",
       "    .dataframe thead th {\n",
       "        text-align: right;\n",
       "    }\n",
       "</style>\n",
       "<table border=\"1\" class=\"dataframe\">\n",
       "  <thead>\n",
       "    <tr style=\"text-align: right;\">\n",
       "      <th></th>\n",
       "      <th>date</th>\n",
       "      <th>city</th>\n",
       "      <th>temperature</th>\n",
       "    </tr>\n",
       "  </thead>\n",
       "  <tbody>\n",
       "    <tr>\n",
       "      <th>0</th>\n",
       "      <td>01/01/2022</td>\n",
       "      <td>lahore</td>\n",
       "      <td>8</td>\n",
       "    </tr>\n",
       "    <tr>\n",
       "      <th>1</th>\n",
       "      <td>02/01/2022</td>\n",
       "      <td>lahore</td>\n",
       "      <td>10</td>\n",
       "    </tr>\n",
       "    <tr>\n",
       "      <th>2</th>\n",
       "      <td>03/01/2022</td>\n",
       "      <td>lahore</td>\n",
       "      <td>5</td>\n",
       "    </tr>\n",
       "    <tr>\n",
       "      <th>3</th>\n",
       "      <td>04/01/2022</td>\n",
       "      <td>lahore</td>\n",
       "      <td>6</td>\n",
       "    </tr>\n",
       "    <tr>\n",
       "      <th>4</th>\n",
       "      <td>05/01/2022</td>\n",
       "      <td>lahore</td>\n",
       "      <td>12</td>\n",
       "    </tr>\n",
       "    <tr>\n",
       "      <th>5</th>\n",
       "      <td>01/01/2022</td>\n",
       "      <td>karachi</td>\n",
       "      <td>18</td>\n",
       "    </tr>\n",
       "    <tr>\n",
       "      <th>6</th>\n",
       "      <td>02/01/2022</td>\n",
       "      <td>karachi</td>\n",
       "      <td>10</td>\n",
       "    </tr>\n",
       "    <tr>\n",
       "      <th>7</th>\n",
       "      <td>03/01/2022</td>\n",
       "      <td>karachi</td>\n",
       "      <td>12</td>\n",
       "    </tr>\n",
       "    <tr>\n",
       "      <th>8</th>\n",
       "      <td>04/01/2022</td>\n",
       "      <td>karachi</td>\n",
       "      <td>15</td>\n",
       "    </tr>\n",
       "    <tr>\n",
       "      <th>9</th>\n",
       "      <td>05/01/2022</td>\n",
       "      <td>karachi</td>\n",
       "      <td>16</td>\n",
       "    </tr>\n",
       "    <tr>\n",
       "      <th>10</th>\n",
       "      <td>01/01/2022</td>\n",
       "      <td>murree</td>\n",
       "      <td>-5</td>\n",
       "    </tr>\n",
       "    <tr>\n",
       "      <th>11</th>\n",
       "      <td>02/01/2022</td>\n",
       "      <td>murree</td>\n",
       "      <td>-3</td>\n",
       "    </tr>\n",
       "    <tr>\n",
       "      <th>12</th>\n",
       "      <td>03/01/2022</td>\n",
       "      <td>murree</td>\n",
       "      <td>-4</td>\n",
       "    </tr>\n",
       "    <tr>\n",
       "      <th>13</th>\n",
       "      <td>04/01/2022</td>\n",
       "      <td>murree</td>\n",
       "      <td>-1</td>\n",
       "    </tr>\n",
       "    <tr>\n",
       "      <th>14</th>\n",
       "      <td>05/01/2022</td>\n",
       "      <td>murree</td>\n",
       "      <td>-7</td>\n",
       "    </tr>\n",
       "  </tbody>\n",
       "</table>\n",
       "</div>"
      ],
      "text/plain": [
       "          date     city  temperature\n",
       "0   01/01/2022   lahore            8\n",
       "1   02/01/2022   lahore           10\n",
       "2   03/01/2022   lahore            5\n",
       "3   04/01/2022   lahore            6\n",
       "4   05/01/2022   lahore           12\n",
       "5   01/01/2022  karachi           18\n",
       "6   02/01/2022  karachi           10\n",
       "7   03/01/2022  karachi           12\n",
       "8   04/01/2022  karachi           15\n",
       "9   05/01/2022  karachi           16\n",
       "10  01/01/2022   murree           -5\n",
       "11  02/01/2022   murree           -3\n",
       "12  03/01/2022   murree           -4\n",
       "13  04/01/2022   murree           -1\n",
       "14  05/01/2022   murree           -7"
      ]
     },
     "execution_count": 42,
     "metadata": {},
     "output_type": "execute_result"
    }
   ],
   "source": [
    "df"
   ]
  },
  {
   "cell_type": "code",
   "execution_count": null,
   "id": "85bfea29",
   "metadata": {},
   "outputs": [],
   "source": []
  },
  {
   "cell_type": "code",
   "execution_count": 43,
   "id": "6f3ffb6d",
   "metadata": {},
   "outputs": [
    {
     "data": {
      "text/plain": [
       "<pandas.core.groupby.generic.DataFrameGroupBy object at 0x7fc79852cb50>"
      ]
     },
     "execution_count": 43,
     "metadata": {},
     "output_type": "execute_result"
    }
   ],
   "source": [
    "df.groupby('city')"
   ]
  },
  {
   "cell_type": "code",
   "execution_count": 44,
   "id": "4175e21e",
   "metadata": {},
   "outputs": [
    {
     "data": {
      "text/html": [
       "<div>\n",
       "<style scoped>\n",
       "    .dataframe tbody tr th:only-of-type {\n",
       "        vertical-align: middle;\n",
       "    }\n",
       "\n",
       "    .dataframe tbody tr th {\n",
       "        vertical-align: top;\n",
       "    }\n",
       "\n",
       "    .dataframe thead th {\n",
       "        text-align: right;\n",
       "    }\n",
       "</style>\n",
       "<table border=\"1\" class=\"dataframe\">\n",
       "  <thead>\n",
       "    <tr style=\"text-align: right;\">\n",
       "      <th></th>\n",
       "      <th>date</th>\n",
       "      <th>city</th>\n",
       "      <th>temperature</th>\n",
       "    </tr>\n",
       "  </thead>\n",
       "  <tbody>\n",
       "    <tr>\n",
       "      <th>0</th>\n",
       "      <td>01/01/2022</td>\n",
       "      <td>lahore</td>\n",
       "      <td>8</td>\n",
       "    </tr>\n",
       "    <tr>\n",
       "      <th>1</th>\n",
       "      <td>02/01/2022</td>\n",
       "      <td>lahore</td>\n",
       "      <td>10</td>\n",
       "    </tr>\n",
       "    <tr>\n",
       "      <th>2</th>\n",
       "      <td>03/01/2022</td>\n",
       "      <td>lahore</td>\n",
       "      <td>5</td>\n",
       "    </tr>\n",
       "    <tr>\n",
       "      <th>3</th>\n",
       "      <td>04/01/2022</td>\n",
       "      <td>lahore</td>\n",
       "      <td>6</td>\n",
       "    </tr>\n",
       "    <tr>\n",
       "      <th>4</th>\n",
       "      <td>05/01/2022</td>\n",
       "      <td>lahore</td>\n",
       "      <td>12</td>\n",
       "    </tr>\n",
       "  </tbody>\n",
       "</table>\n",
       "</div>"
      ],
      "text/plain": [
       "         date    city  temperature\n",
       "0  01/01/2022  lahore            8\n",
       "1  02/01/2022  lahore           10\n",
       "2  03/01/2022  lahore            5\n",
       "3  04/01/2022  lahore            6\n",
       "4  05/01/2022  lahore           12"
      ]
     },
     "execution_count": 44,
     "metadata": {},
     "output_type": "execute_result"
    }
   ],
   "source": [
    "df.groupby('city').get_group('lahore')"
   ]
  },
  {
   "cell_type": "code",
   "execution_count": 45,
   "id": "c7820a7d",
   "metadata": {},
   "outputs": [
    {
     "data": {
      "text/plain": [
       "5"
      ]
     },
     "execution_count": 45,
     "metadata": {},
     "output_type": "execute_result"
    }
   ],
   "source": [
    "df.groupby('city').get_group('lahore').temperature.min()"
   ]
  },
  {
   "cell_type": "code",
   "execution_count": 46,
   "id": "ff32ca65",
   "metadata": {},
   "outputs": [
    {
     "data": {
      "text/plain": [
       "5"
      ]
     },
     "execution_count": 46,
     "metadata": {},
     "output_type": "execute_result"
    }
   ],
   "source": [
    "df.groupby('city').get_group('lahore').temperature.min()"
   ]
  },
  {
   "cell_type": "code",
   "execution_count": 47,
   "id": "e1744064",
   "metadata": {},
   "outputs": [
    {
     "data": {
      "text/plain": [
       "10"
      ]
     },
     "execution_count": 47,
     "metadata": {},
     "output_type": "execute_result"
    }
   ],
   "source": [
    "df.groupby('city').get_group('karachi').temperature.min()"
   ]
  },
  {
   "cell_type": "code",
   "execution_count": 48,
   "id": "c4aab17c",
   "metadata": {},
   "outputs": [
    {
     "data": {
      "text/plain": [
       "-7"
      ]
     },
     "execution_count": 48,
     "metadata": {},
     "output_type": "execute_result"
    }
   ],
   "source": [
    "df.groupby('city').get_group('murree').temperature.min()"
   ]
  },
  {
   "cell_type": "code",
   "execution_count": null,
   "id": "4f275823",
   "metadata": {},
   "outputs": [],
   "source": []
  },
  {
   "cell_type": "markdown",
   "id": "a49a9ba0",
   "metadata": {},
   "source": [
    "### b. Step 3: Combine Step\n",
    "- Now we have got minimum temperature of all the three cities, let us combine the result into a series object"
   ]
  },
  {
   "cell_type": "code",
   "execution_count": 49,
   "id": "e37d344a",
   "metadata": {},
   "outputs": [
    {
     "data": {
      "text/plain": [
       "K_min    10\n",
       "L_min     5\n",
       "M_min    -7\n",
       "Name: Min Temperatures, dtype: int64"
      ]
     },
     "execution_count": 49,
     "metadata": {},
     "output_type": "execute_result"
    }
   ],
   "source": [
    "kci = df.groupby('city').get_group('karachi').temperature.min()\n",
    "lhr = df.groupby('city').get_group('lahore').temperature.min()\n",
    "murree = df.groupby('city').get_group('murree').temperature.min()\n",
    "\n",
    "s1 = pd.Series(data=[kci, lhr, murree], index=['K_min', 'L_min', 'M_min'] )\n",
    "s1.name= 'Min Temperatures'\n",
    "s1"
   ]
  },
  {
   "cell_type": "code",
   "execution_count": null,
   "id": "db772042",
   "metadata": {},
   "outputs": [],
   "source": []
  },
  {
   "cell_type": "markdown",
   "id": "f07d918e",
   "metadata": {},
   "source": [
    ">- **Let us perform the `apply + combine` steps in one go, by applying the `min()` function on the temperature series of all the dataframes inside the DataFrameGroupBy object.**\n",
    ">- **This saves us from the hassle of applying `min()` method explicitly as done above**"
   ]
  },
  {
   "cell_type": "code",
   "execution_count": 50,
   "id": "77db0e35",
   "metadata": {},
   "outputs": [
    {
     "data": {
      "text/plain": [
       "<pandas.core.groupby.generic.DataFrameGroupBy object at 0x7fc798534040>"
      ]
     },
     "execution_count": 50,
     "metadata": {},
     "output_type": "execute_result"
    }
   ],
   "source": [
    "df.groupby('city')"
   ]
  },
  {
   "cell_type": "code",
   "execution_count": 51,
   "id": "2d014f0d",
   "metadata": {},
   "outputs": [
    {
     "data": {
      "text/plain": [
       "<pandas.core.groupby.generic.SeriesGroupBy object at 0x7fc798534550>"
      ]
     },
     "execution_count": 51,
     "metadata": {},
     "output_type": "execute_result"
    }
   ],
   "source": [
    "df.groupby('city').temperature"
   ]
  },
  {
   "cell_type": "code",
   "execution_count": 52,
   "id": "58604a90",
   "metadata": {},
   "outputs": [
    {
     "data": {
      "text/plain": [
       "city\n",
       "karachi    10\n",
       "lahore      5\n",
       "murree     -7\n",
       "Name: temperature, dtype: int64"
      ]
     },
     "execution_count": 52,
     "metadata": {},
     "output_type": "execute_result"
    }
   ],
   "source": [
    "df.groupby('city').temperature.min()"
   ]
  },
  {
   "cell_type": "code",
   "execution_count": 53,
   "id": "c5511cf2",
   "metadata": {},
   "outputs": [
    {
     "data": {
      "text/plain": [
       "Index(['date', 'city', 'temperature'], dtype='object')"
      ]
     },
     "execution_count": 53,
     "metadata": {},
     "output_type": "execute_result"
    }
   ],
   "source": [
    "df.columns"
   ]
  },
  {
   "cell_type": "code",
   "execution_count": 54,
   "id": "e3325138",
   "metadata": {},
   "outputs": [],
   "source": [
    "# df.groupby('city')['temperature','humidity'].agg(['count','max','min','mean'])"
   ]
  },
  {
   "cell_type": "markdown",
   "id": "104e0f3c",
   "metadata": {},
   "source": [
    ">- **We can also apply `agg()` method on the temperature series of all the dataframes inside the DataFrameGroupBy object**"
   ]
  },
  {
   "cell_type": "code",
   "execution_count": 55,
   "id": "fd047429",
   "metadata": {},
   "outputs": [
    {
     "data": {
      "text/html": [
       "<div>\n",
       "<style scoped>\n",
       "    .dataframe tbody tr th:only-of-type {\n",
       "        vertical-align: middle;\n",
       "    }\n",
       "\n",
       "    .dataframe tbody tr th {\n",
       "        vertical-align: top;\n",
       "    }\n",
       "\n",
       "    .dataframe thead th {\n",
       "        text-align: right;\n",
       "    }\n",
       "</style>\n",
       "<table border=\"1\" class=\"dataframe\">\n",
       "  <thead>\n",
       "    <tr style=\"text-align: right;\">\n",
       "      <th></th>\n",
       "      <th>min</th>\n",
       "      <th>max</th>\n",
       "      <th>sum</th>\n",
       "      <th>mean</th>\n",
       "    </tr>\n",
       "    <tr>\n",
       "      <th>city</th>\n",
       "      <th></th>\n",
       "      <th></th>\n",
       "      <th></th>\n",
       "      <th></th>\n",
       "    </tr>\n",
       "  </thead>\n",
       "  <tbody>\n",
       "    <tr>\n",
       "      <th>karachi</th>\n",
       "      <td>10</td>\n",
       "      <td>18</td>\n",
       "      <td>71</td>\n",
       "      <td>14.2</td>\n",
       "    </tr>\n",
       "    <tr>\n",
       "      <th>lahore</th>\n",
       "      <td>5</td>\n",
       "      <td>12</td>\n",
       "      <td>41</td>\n",
       "      <td>8.2</td>\n",
       "    </tr>\n",
       "    <tr>\n",
       "      <th>murree</th>\n",
       "      <td>-7</td>\n",
       "      <td>-1</td>\n",
       "      <td>-20</td>\n",
       "      <td>-4.0</td>\n",
       "    </tr>\n",
       "  </tbody>\n",
       "</table>\n",
       "</div>"
      ],
      "text/plain": [
       "         min  max  sum  mean\n",
       "city                        \n",
       "karachi   10   18   71  14.2\n",
       "lahore     5   12   41   8.2\n",
       "murree    -7   -1  -20  -4.0"
      ]
     },
     "execution_count": 55,
     "metadata": {},
     "output_type": "execute_result"
    }
   ],
   "source": [
    "df.groupby('city').temperature.agg(['min', 'max', 'sum', 'mean'])"
   ]
  },
  {
   "cell_type": "markdown",
   "id": "908e2c72",
   "metadata": {},
   "source": [
    ">Note that we have got a dataframe this time."
   ]
  },
  {
   "cell_type": "code",
   "execution_count": null,
   "id": "94101a3b",
   "metadata": {},
   "outputs": [],
   "source": []
  },
  {
   "cell_type": "markdown",
   "id": "b5f491f4",
   "metadata": {},
   "source": [
    "## 4. Practice GroupBy on Stack Overflow Survey Dataset\n",
    "Visit to Download Data: https://insights.stackoverflow.com/survey/"
   ]
  },
  {
   "cell_type": "code",
   "execution_count": null,
   "id": "12fdafcf",
   "metadata": {},
   "outputs": [],
   "source": []
  },
  {
   "cell_type": "markdown",
   "id": "5f02fc6d",
   "metadata": {},
   "source": [
    "### a. Understand the Data Set"
   ]
  },
  {
   "cell_type": "code",
   "execution_count": 56,
   "id": "2313a7da",
   "metadata": {},
   "outputs": [
    {
     "data": {
      "text/plain": [
       "(88883, 9)"
      ]
     },
     "execution_count": 56,
     "metadata": {},
     "output_type": "execute_result"
    }
   ],
   "source": [
    "import pandas as pd\n",
    "df = pd.read_csv('datasets/so_survey_subset.csv', index_col='Respondent')\n",
    "df.shape"
   ]
  },
  {
   "cell_type": "code",
   "execution_count": 57,
   "id": "adb21c6b",
   "metadata": {},
   "outputs": [
    {
     "data": {
      "text/html": [
       "<div>\n",
       "<style scoped>\n",
       "    .dataframe tbody tr th:only-of-type {\n",
       "        vertical-align: middle;\n",
       "    }\n",
       "\n",
       "    .dataframe tbody tr th {\n",
       "        vertical-align: top;\n",
       "    }\n",
       "\n",
       "    .dataframe thead th {\n",
       "        text-align: right;\n",
       "    }\n",
       "</style>\n",
       "<table border=\"1\" class=\"dataframe\">\n",
       "  <thead>\n",
       "    <tr style=\"text-align: right;\">\n",
       "      <th></th>\n",
       "      <th>MainBranch</th>\n",
       "      <th>Hobbyist</th>\n",
       "      <th>Country</th>\n",
       "      <th>YearsCode</th>\n",
       "      <th>ConvertedComp</th>\n",
       "      <th>LanguageWorkedWith</th>\n",
       "      <th>SocialMedia</th>\n",
       "      <th>Age</th>\n",
       "      <th>Gender</th>\n",
       "    </tr>\n",
       "    <tr>\n",
       "      <th>Respondent</th>\n",
       "      <th></th>\n",
       "      <th></th>\n",
       "      <th></th>\n",
       "      <th></th>\n",
       "      <th></th>\n",
       "      <th></th>\n",
       "      <th></th>\n",
       "      <th></th>\n",
       "      <th></th>\n",
       "    </tr>\n",
       "  </thead>\n",
       "  <tbody>\n",
       "    <tr>\n",
       "      <th>1</th>\n",
       "      <td>I am a student who is learning to code</td>\n",
       "      <td>Yes</td>\n",
       "      <td>United Kingdom</td>\n",
       "      <td>4</td>\n",
       "      <td>NaN</td>\n",
       "      <td>HTML/CSS;Java;JavaScript;Python</td>\n",
       "      <td>Twitter</td>\n",
       "      <td>14.0</td>\n",
       "      <td>Man</td>\n",
       "    </tr>\n",
       "    <tr>\n",
       "      <th>2</th>\n",
       "      <td>I am a student who is learning to code</td>\n",
       "      <td>No</td>\n",
       "      <td>Bosnia and Herzegovina</td>\n",
       "      <td>NaN</td>\n",
       "      <td>NaN</td>\n",
       "      <td>C++;HTML/CSS;Python</td>\n",
       "      <td>Instagram</td>\n",
       "      <td>19.0</td>\n",
       "      <td>Man</td>\n",
       "    </tr>\n",
       "    <tr>\n",
       "      <th>3</th>\n",
       "      <td>I am not primarily a developer, but I write co...</td>\n",
       "      <td>Yes</td>\n",
       "      <td>Thailand</td>\n",
       "      <td>3</td>\n",
       "      <td>8820.0</td>\n",
       "      <td>HTML/CSS</td>\n",
       "      <td>Reddit</td>\n",
       "      <td>28.0</td>\n",
       "      <td>Man</td>\n",
       "    </tr>\n",
       "    <tr>\n",
       "      <th>4</th>\n",
       "      <td>I am a developer by profession</td>\n",
       "      <td>No</td>\n",
       "      <td>United States</td>\n",
       "      <td>3</td>\n",
       "      <td>61000.0</td>\n",
       "      <td>C;C++;C#;Python;SQL</td>\n",
       "      <td>Reddit</td>\n",
       "      <td>22.0</td>\n",
       "      <td>Man</td>\n",
       "    </tr>\n",
       "    <tr>\n",
       "      <th>5</th>\n",
       "      <td>I am a developer by profession</td>\n",
       "      <td>Yes</td>\n",
       "      <td>Ukraine</td>\n",
       "      <td>16</td>\n",
       "      <td>NaN</td>\n",
       "      <td>C++;HTML/CSS;Java;JavaScript;Python;SQL;VBA</td>\n",
       "      <td>Facebook</td>\n",
       "      <td>30.0</td>\n",
       "      <td>Man</td>\n",
       "    </tr>\n",
       "  </tbody>\n",
       "</table>\n",
       "</div>"
      ],
      "text/plain": [
       "                                                   MainBranch Hobbyist  \\\n",
       "Respondent                                                               \n",
       "1                      I am a student who is learning to code      Yes   \n",
       "2                      I am a student who is learning to code       No   \n",
       "3           I am not primarily a developer, but I write co...      Yes   \n",
       "4                              I am a developer by profession       No   \n",
       "5                              I am a developer by profession      Yes   \n",
       "\n",
       "                           Country YearsCode  ConvertedComp  \\\n",
       "Respondent                                                    \n",
       "1                   United Kingdom         4            NaN   \n",
       "2           Bosnia and Herzegovina       NaN            NaN   \n",
       "3                         Thailand         3         8820.0   \n",
       "4                    United States         3        61000.0   \n",
       "5                          Ukraine        16            NaN   \n",
       "\n",
       "                                     LanguageWorkedWith SocialMedia   Age  \\\n",
       "Respondent                                                                  \n",
       "1                       HTML/CSS;Java;JavaScript;Python     Twitter  14.0   \n",
       "2                                   C++;HTML/CSS;Python   Instagram  19.0   \n",
       "3                                              HTML/CSS      Reddit  28.0   \n",
       "4                                   C;C++;C#;Python;SQL      Reddit  22.0   \n",
       "5           C++;HTML/CSS;Java;JavaScript;Python;SQL;VBA    Facebook  30.0   \n",
       "\n",
       "           Gender  \n",
       "Respondent         \n",
       "1             Man  \n",
       "2             Man  \n",
       "3             Man  \n",
       "4             Man  \n",
       "5             Man  "
      ]
     },
     "execution_count": 57,
     "metadata": {},
     "output_type": "execute_result"
    }
   ],
   "source": [
    "df.head()"
   ]
  },
  {
   "cell_type": "code",
   "execution_count": 58,
   "id": "28cdee5e",
   "metadata": {},
   "outputs": [
    {
     "data": {
      "text/plain": [
       "Index(['MainBranch', 'Hobbyist', 'Country', 'YearsCode', 'ConvertedComp',\n",
       "       'LanguageWorkedWith', 'SocialMedia', 'Age', 'Gender'],\n",
       "      dtype='object')"
      ]
     },
     "execution_count": 58,
     "metadata": {},
     "output_type": "execute_result"
    }
   ],
   "source": [
    "df.columns"
   ]
  },
  {
   "cell_type": "code",
   "execution_count": 59,
   "id": "ec266fd1",
   "metadata": {},
   "outputs": [
    {
     "name": "stdout",
     "output_type": "stream",
     "text": [
      "<class 'pandas.core.frame.DataFrame'>\n",
      "Int64Index: 88883 entries, 1 to 88863\n",
      "Data columns (total 9 columns):\n",
      " #   Column              Non-Null Count  Dtype  \n",
      "---  ------              --------------  -----  \n",
      " 0   MainBranch          88331 non-null  object \n",
      " 1   Hobbyist            88883 non-null  object \n",
      " 2   Country             88751 non-null  object \n",
      " 3   YearsCode           87938 non-null  object \n",
      " 4   ConvertedComp       55823 non-null  float64\n",
      " 5   LanguageWorkedWith  87569 non-null  object \n",
      " 6   SocialMedia         84437 non-null  object \n",
      " 7   Age                 79210 non-null  float64\n",
      " 8   Gender              85406 non-null  object \n",
      "dtypes: float64(2), object(7)\n",
      "memory usage: 6.8+ MB\n"
     ]
    }
   ],
   "source": [
    "df.info()"
   ]
  },
  {
   "cell_type": "code",
   "execution_count": 60,
   "id": "c34d0173",
   "metadata": {},
   "outputs": [
    {
     "data": {
      "text/html": [
       "<div>\n",
       "<style scoped>\n",
       "    .dataframe tbody tr th:only-of-type {\n",
       "        vertical-align: middle;\n",
       "    }\n",
       "\n",
       "    .dataframe tbody tr th {\n",
       "        vertical-align: top;\n",
       "    }\n",
       "\n",
       "    .dataframe thead th {\n",
       "        text-align: right;\n",
       "    }\n",
       "</style>\n",
       "<table border=\"1\" class=\"dataframe\">\n",
       "  <thead>\n",
       "    <tr style=\"text-align: right;\">\n",
       "      <th></th>\n",
       "      <th>MainBranch</th>\n",
       "      <th>Hobbyist</th>\n",
       "      <th>Country</th>\n",
       "      <th>YearsCode</th>\n",
       "      <th>ConvertedComp</th>\n",
       "      <th>LanguageWorkedWith</th>\n",
       "      <th>SocialMedia</th>\n",
       "      <th>Age</th>\n",
       "      <th>Gender</th>\n",
       "    </tr>\n",
       "    <tr>\n",
       "      <th>Respondent</th>\n",
       "      <th></th>\n",
       "      <th></th>\n",
       "      <th></th>\n",
       "      <th></th>\n",
       "      <th></th>\n",
       "      <th></th>\n",
       "      <th></th>\n",
       "      <th></th>\n",
       "      <th></th>\n",
       "    </tr>\n",
       "  </thead>\n",
       "  <tbody>\n",
       "    <tr>\n",
       "      <th>84</th>\n",
       "      <td>I am a developer by profession</td>\n",
       "      <td>No</td>\n",
       "      <td>Pakistan</td>\n",
       "      <td>3</td>\n",
       "      <td>3468.0</td>\n",
       "      <td>C;C++;C#;Java;Kotlin;PHP;SQL</td>\n",
       "      <td>WhatsApp</td>\n",
       "      <td>26.0</td>\n",
       "      <td>Man</td>\n",
       "    </tr>\n",
       "    <tr>\n",
       "      <th>119</th>\n",
       "      <td>I am a developer by profession</td>\n",
       "      <td>No</td>\n",
       "      <td>Pakistan</td>\n",
       "      <td>10</td>\n",
       "      <td>NaN</td>\n",
       "      <td>C;C++;C#;HTML/CSS;Java;JavaScript;SQL</td>\n",
       "      <td>Facebook</td>\n",
       "      <td>28.0</td>\n",
       "      <td>Man</td>\n",
       "    </tr>\n",
       "    <tr>\n",
       "      <th>298</th>\n",
       "      <td>I am a developer by profession</td>\n",
       "      <td>Yes</td>\n",
       "      <td>Pakistan</td>\n",
       "      <td>4</td>\n",
       "      <td>NaN</td>\n",
       "      <td>HTML/CSS;JavaScript;PHP;SQL;Other(s):</td>\n",
       "      <td>LinkedIn</td>\n",
       "      <td>23.0</td>\n",
       "      <td>Man</td>\n",
       "    </tr>\n",
       "    <tr>\n",
       "      <th>299</th>\n",
       "      <td>I am a developer by profession</td>\n",
       "      <td>Yes</td>\n",
       "      <td>Pakistan</td>\n",
       "      <td>19</td>\n",
       "      <td>NaN</td>\n",
       "      <td>Assembly;C;C++;Java;Python;SQL</td>\n",
       "      <td>Facebook</td>\n",
       "      <td>25.0</td>\n",
       "      <td>Man</td>\n",
       "    </tr>\n",
       "    <tr>\n",
       "      <th>311</th>\n",
       "      <td>I am a developer by profession</td>\n",
       "      <td>No</td>\n",
       "      <td>Pakistan</td>\n",
       "      <td>5</td>\n",
       "      <td>2600.0</td>\n",
       "      <td>Assembly;C;C++;C#;HTML/CSS;Java;Python;Scala;SQL</td>\n",
       "      <td>LinkedIn</td>\n",
       "      <td>24.0</td>\n",
       "      <td>Man</td>\n",
       "    </tr>\n",
       "    <tr>\n",
       "      <th>...</th>\n",
       "      <td>...</td>\n",
       "      <td>...</td>\n",
       "      <td>...</td>\n",
       "      <td>...</td>\n",
       "      <td>...</td>\n",
       "      <td>...</td>\n",
       "      <td>...</td>\n",
       "      <td>...</td>\n",
       "      <td>...</td>\n",
       "    </tr>\n",
       "    <tr>\n",
       "      <th>88862</th>\n",
       "      <td>I am a student who is learning to code</td>\n",
       "      <td>Yes</td>\n",
       "      <td>Pakistan</td>\n",
       "      <td>3</td>\n",
       "      <td>NaN</td>\n",
       "      <td>Java</td>\n",
       "      <td>WhatsApp</td>\n",
       "      <td>21.0</td>\n",
       "      <td>Man</td>\n",
       "    </tr>\n",
       "    <tr>\n",
       "      <th>5439</th>\n",
       "      <td>NaN</td>\n",
       "      <td>Yes</td>\n",
       "      <td>Pakistan</td>\n",
       "      <td>2</td>\n",
       "      <td>NaN</td>\n",
       "      <td>NaN</td>\n",
       "      <td>Instagram</td>\n",
       "      <td>24.0</td>\n",
       "      <td>Woman</td>\n",
       "    </tr>\n",
       "    <tr>\n",
       "      <th>39117</th>\n",
       "      <td>NaN</td>\n",
       "      <td>Yes</td>\n",
       "      <td>Pakistan</td>\n",
       "      <td>4</td>\n",
       "      <td>NaN</td>\n",
       "      <td>C;C++;C#;HTML/CSS;Java;JavaScript;SQL</td>\n",
       "      <td>WhatsApp</td>\n",
       "      <td>22.0</td>\n",
       "      <td>Man</td>\n",
       "    </tr>\n",
       "    <tr>\n",
       "      <th>60066</th>\n",
       "      <td>NaN</td>\n",
       "      <td>Yes</td>\n",
       "      <td>Pakistan</td>\n",
       "      <td>4</td>\n",
       "      <td>NaN</td>\n",
       "      <td>Assembly;C++;C#;HTML/CSS;Java;PHP;Python;SQL</td>\n",
       "      <td>YouTube</td>\n",
       "      <td>20.0</td>\n",
       "      <td>Man</td>\n",
       "    </tr>\n",
       "    <tr>\n",
       "      <th>88182</th>\n",
       "      <td>NaN</td>\n",
       "      <td>Yes</td>\n",
       "      <td>Pakistan</td>\n",
       "      <td>1</td>\n",
       "      <td>NaN</td>\n",
       "      <td>HTML/CSS;Java;JavaScript</td>\n",
       "      <td>Twitter</td>\n",
       "      <td>NaN</td>\n",
       "      <td>Man</td>\n",
       "    </tr>\n",
       "  </tbody>\n",
       "</table>\n",
       "<p>923 rows × 9 columns</p>\n",
       "</div>"
      ],
      "text/plain": [
       "                                        MainBranch Hobbyist   Country  \\\n",
       "Respondent                                                              \n",
       "84                  I am a developer by profession       No  Pakistan   \n",
       "119                 I am a developer by profession       No  Pakistan   \n",
       "298                 I am a developer by profession      Yes  Pakistan   \n",
       "299                 I am a developer by profession      Yes  Pakistan   \n",
       "311                 I am a developer by profession       No  Pakistan   \n",
       "...                                            ...      ...       ...   \n",
       "88862       I am a student who is learning to code      Yes  Pakistan   \n",
       "5439                                           NaN      Yes  Pakistan   \n",
       "39117                                          NaN      Yes  Pakistan   \n",
       "60066                                          NaN      Yes  Pakistan   \n",
       "88182                                          NaN      Yes  Pakistan   \n",
       "\n",
       "           YearsCode  ConvertedComp  \\\n",
       "Respondent                            \n",
       "84                 3         3468.0   \n",
       "119               10            NaN   \n",
       "298                4            NaN   \n",
       "299               19            NaN   \n",
       "311                5         2600.0   \n",
       "...              ...            ...   \n",
       "88862              3            NaN   \n",
       "5439               2            NaN   \n",
       "39117              4            NaN   \n",
       "60066              4            NaN   \n",
       "88182              1            NaN   \n",
       "\n",
       "                                          LanguageWorkedWith SocialMedia  \\\n",
       "Respondent                                                                 \n",
       "84                              C;C++;C#;Java;Kotlin;PHP;SQL    WhatsApp   \n",
       "119                    C;C++;C#;HTML/CSS;Java;JavaScript;SQL    Facebook   \n",
       "298                    HTML/CSS;JavaScript;PHP;SQL;Other(s):    LinkedIn   \n",
       "299                           Assembly;C;C++;Java;Python;SQL    Facebook   \n",
       "311         Assembly;C;C++;C#;HTML/CSS;Java;Python;Scala;SQL    LinkedIn   \n",
       "...                                                      ...         ...   \n",
       "88862                                                   Java    WhatsApp   \n",
       "5439                                                     NaN   Instagram   \n",
       "39117                  C;C++;C#;HTML/CSS;Java;JavaScript;SQL    WhatsApp   \n",
       "60066           Assembly;C++;C#;HTML/CSS;Java;PHP;Python;SQL     YouTube   \n",
       "88182                               HTML/CSS;Java;JavaScript     Twitter   \n",
       "\n",
       "             Age Gender  \n",
       "Respondent               \n",
       "84          26.0    Man  \n",
       "119         28.0    Man  \n",
       "298         23.0    Man  \n",
       "299         25.0    Man  \n",
       "311         24.0    Man  \n",
       "...          ...    ...  \n",
       "88862       21.0    Man  \n",
       "5439        24.0  Woman  \n",
       "39117       22.0    Man  \n",
       "60066       20.0    Man  \n",
       "88182        NaN    Man  \n",
       "\n",
       "[923 rows x 9 columns]"
      ]
     },
     "execution_count": 60,
     "metadata": {},
     "output_type": "execute_result"
    }
   ],
   "source": [
    "# df.Country\n",
    "# First method\n",
    "df[df.Country =='Pakistan']"
   ]
  },
  {
   "cell_type": "code",
   "execution_count": 61,
   "id": "aed11320",
   "metadata": {},
   "outputs": [
    {
     "data": {
      "text/html": [
       "<div>\n",
       "<style scoped>\n",
       "    .dataframe tbody tr th:only-of-type {\n",
       "        vertical-align: middle;\n",
       "    }\n",
       "\n",
       "    .dataframe tbody tr th {\n",
       "        vertical-align: top;\n",
       "    }\n",
       "\n",
       "    .dataframe thead th {\n",
       "        text-align: right;\n",
       "    }\n",
       "</style>\n",
       "<table border=\"1\" class=\"dataframe\">\n",
       "  <thead>\n",
       "    <tr style=\"text-align: right;\">\n",
       "      <th></th>\n",
       "      <th>MainBranch</th>\n",
       "      <th>Hobbyist</th>\n",
       "      <th>Country</th>\n",
       "      <th>YearsCode</th>\n",
       "      <th>ConvertedComp</th>\n",
       "      <th>LanguageWorkedWith</th>\n",
       "      <th>SocialMedia</th>\n",
       "      <th>Age</th>\n",
       "      <th>Gender</th>\n",
       "    </tr>\n",
       "    <tr>\n",
       "      <th>Respondent</th>\n",
       "      <th></th>\n",
       "      <th></th>\n",
       "      <th></th>\n",
       "      <th></th>\n",
       "      <th></th>\n",
       "      <th></th>\n",
       "      <th></th>\n",
       "      <th></th>\n",
       "      <th></th>\n",
       "    </tr>\n",
       "  </thead>\n",
       "  <tbody>\n",
       "    <tr>\n",
       "      <th>84</th>\n",
       "      <td>I am a developer by profession</td>\n",
       "      <td>No</td>\n",
       "      <td>Pakistan</td>\n",
       "      <td>3</td>\n",
       "      <td>3468.0</td>\n",
       "      <td>C;C++;C#;Java;Kotlin;PHP;SQL</td>\n",
       "      <td>WhatsApp</td>\n",
       "      <td>26.0</td>\n",
       "      <td>Man</td>\n",
       "    </tr>\n",
       "    <tr>\n",
       "      <th>119</th>\n",
       "      <td>I am a developer by profession</td>\n",
       "      <td>No</td>\n",
       "      <td>Pakistan</td>\n",
       "      <td>10</td>\n",
       "      <td>NaN</td>\n",
       "      <td>C;C++;C#;HTML/CSS;Java;JavaScript;SQL</td>\n",
       "      <td>Facebook</td>\n",
       "      <td>28.0</td>\n",
       "      <td>Man</td>\n",
       "    </tr>\n",
       "    <tr>\n",
       "      <th>298</th>\n",
       "      <td>I am a developer by profession</td>\n",
       "      <td>Yes</td>\n",
       "      <td>Pakistan</td>\n",
       "      <td>4</td>\n",
       "      <td>NaN</td>\n",
       "      <td>HTML/CSS;JavaScript;PHP;SQL;Other(s):</td>\n",
       "      <td>LinkedIn</td>\n",
       "      <td>23.0</td>\n",
       "      <td>Man</td>\n",
       "    </tr>\n",
       "    <tr>\n",
       "      <th>299</th>\n",
       "      <td>I am a developer by profession</td>\n",
       "      <td>Yes</td>\n",
       "      <td>Pakistan</td>\n",
       "      <td>19</td>\n",
       "      <td>NaN</td>\n",
       "      <td>Assembly;C;C++;Java;Python;SQL</td>\n",
       "      <td>Facebook</td>\n",
       "      <td>25.0</td>\n",
       "      <td>Man</td>\n",
       "    </tr>\n",
       "    <tr>\n",
       "      <th>311</th>\n",
       "      <td>I am a developer by profession</td>\n",
       "      <td>No</td>\n",
       "      <td>Pakistan</td>\n",
       "      <td>5</td>\n",
       "      <td>2600.0</td>\n",
       "      <td>Assembly;C;C++;C#;HTML/CSS;Java;Python;Scala;SQL</td>\n",
       "      <td>LinkedIn</td>\n",
       "      <td>24.0</td>\n",
       "      <td>Man</td>\n",
       "    </tr>\n",
       "    <tr>\n",
       "      <th>...</th>\n",
       "      <td>...</td>\n",
       "      <td>...</td>\n",
       "      <td>...</td>\n",
       "      <td>...</td>\n",
       "      <td>...</td>\n",
       "      <td>...</td>\n",
       "      <td>...</td>\n",
       "      <td>...</td>\n",
       "      <td>...</td>\n",
       "    </tr>\n",
       "    <tr>\n",
       "      <th>88862</th>\n",
       "      <td>I am a student who is learning to code</td>\n",
       "      <td>Yes</td>\n",
       "      <td>Pakistan</td>\n",
       "      <td>3</td>\n",
       "      <td>NaN</td>\n",
       "      <td>Java</td>\n",
       "      <td>WhatsApp</td>\n",
       "      <td>21.0</td>\n",
       "      <td>Man</td>\n",
       "    </tr>\n",
       "    <tr>\n",
       "      <th>5439</th>\n",
       "      <td>NaN</td>\n",
       "      <td>Yes</td>\n",
       "      <td>Pakistan</td>\n",
       "      <td>2</td>\n",
       "      <td>NaN</td>\n",
       "      <td>NaN</td>\n",
       "      <td>Instagram</td>\n",
       "      <td>24.0</td>\n",
       "      <td>Woman</td>\n",
       "    </tr>\n",
       "    <tr>\n",
       "      <th>39117</th>\n",
       "      <td>NaN</td>\n",
       "      <td>Yes</td>\n",
       "      <td>Pakistan</td>\n",
       "      <td>4</td>\n",
       "      <td>NaN</td>\n",
       "      <td>C;C++;C#;HTML/CSS;Java;JavaScript;SQL</td>\n",
       "      <td>WhatsApp</td>\n",
       "      <td>22.0</td>\n",
       "      <td>Man</td>\n",
       "    </tr>\n",
       "    <tr>\n",
       "      <th>60066</th>\n",
       "      <td>NaN</td>\n",
       "      <td>Yes</td>\n",
       "      <td>Pakistan</td>\n",
       "      <td>4</td>\n",
       "      <td>NaN</td>\n",
       "      <td>Assembly;C++;C#;HTML/CSS;Java;PHP;Python;SQL</td>\n",
       "      <td>YouTube</td>\n",
       "      <td>20.0</td>\n",
       "      <td>Man</td>\n",
       "    </tr>\n",
       "    <tr>\n",
       "      <th>88182</th>\n",
       "      <td>NaN</td>\n",
       "      <td>Yes</td>\n",
       "      <td>Pakistan</td>\n",
       "      <td>1</td>\n",
       "      <td>NaN</td>\n",
       "      <td>HTML/CSS;Java;JavaScript</td>\n",
       "      <td>Twitter</td>\n",
       "      <td>NaN</td>\n",
       "      <td>Man</td>\n",
       "    </tr>\n",
       "  </tbody>\n",
       "</table>\n",
       "<p>923 rows × 9 columns</p>\n",
       "</div>"
      ],
      "text/plain": [
       "                                        MainBranch Hobbyist   Country  \\\n",
       "Respondent                                                              \n",
       "84                  I am a developer by profession       No  Pakistan   \n",
       "119                 I am a developer by profession       No  Pakistan   \n",
       "298                 I am a developer by profession      Yes  Pakistan   \n",
       "299                 I am a developer by profession      Yes  Pakistan   \n",
       "311                 I am a developer by profession       No  Pakistan   \n",
       "...                                            ...      ...       ...   \n",
       "88862       I am a student who is learning to code      Yes  Pakistan   \n",
       "5439                                           NaN      Yes  Pakistan   \n",
       "39117                                          NaN      Yes  Pakistan   \n",
       "60066                                          NaN      Yes  Pakistan   \n",
       "88182                                          NaN      Yes  Pakistan   \n",
       "\n",
       "           YearsCode  ConvertedComp  \\\n",
       "Respondent                            \n",
       "84                 3         3468.0   \n",
       "119               10            NaN   \n",
       "298                4            NaN   \n",
       "299               19            NaN   \n",
       "311                5         2600.0   \n",
       "...              ...            ...   \n",
       "88862              3            NaN   \n",
       "5439               2            NaN   \n",
       "39117              4            NaN   \n",
       "60066              4            NaN   \n",
       "88182              1            NaN   \n",
       "\n",
       "                                          LanguageWorkedWith SocialMedia  \\\n",
       "Respondent                                                                 \n",
       "84                              C;C++;C#;Java;Kotlin;PHP;SQL    WhatsApp   \n",
       "119                    C;C++;C#;HTML/CSS;Java;JavaScript;SQL    Facebook   \n",
       "298                    HTML/CSS;JavaScript;PHP;SQL;Other(s):    LinkedIn   \n",
       "299                           Assembly;C;C++;Java;Python;SQL    Facebook   \n",
       "311         Assembly;C;C++;C#;HTML/CSS;Java;Python;Scala;SQL    LinkedIn   \n",
       "...                                                      ...         ...   \n",
       "88862                                                   Java    WhatsApp   \n",
       "5439                                                     NaN   Instagram   \n",
       "39117                  C;C++;C#;HTML/CSS;Java;JavaScript;SQL    WhatsApp   \n",
       "60066           Assembly;C++;C#;HTML/CSS;Java;PHP;Python;SQL     YouTube   \n",
       "88182                               HTML/CSS;Java;JavaScript     Twitter   \n",
       "\n",
       "             Age Gender  \n",
       "Respondent               \n",
       "84          26.0    Man  \n",
       "119         28.0    Man  \n",
       "298         23.0    Man  \n",
       "299         25.0    Man  \n",
       "311         24.0    Man  \n",
       "...          ...    ...  \n",
       "88862       21.0    Man  \n",
       "5439        24.0  Woman  \n",
       "39117       22.0    Man  \n",
       "60066       20.0    Man  \n",
       "88182        NaN    Man  \n",
       "\n",
       "[923 rows x 9 columns]"
      ]
     },
     "execution_count": 61,
     "metadata": {},
     "output_type": "execute_result"
    }
   ],
   "source": [
    "df.loc[df['Country']=='Pakistan', :]"
   ]
  },
  {
   "cell_type": "code",
   "execution_count": null,
   "id": "8999fd3d",
   "metadata": {},
   "outputs": [],
   "source": []
  },
  {
   "cell_type": "code",
   "execution_count": 62,
   "id": "600d2e20",
   "metadata": {},
   "outputs": [
    {
     "data": {
      "text/html": [
       "<div>\n",
       "<style scoped>\n",
       "    .dataframe tbody tr th:only-of-type {\n",
       "        vertical-align: middle;\n",
       "    }\n",
       "\n",
       "    .dataframe tbody tr th {\n",
       "        vertical-align: top;\n",
       "    }\n",
       "\n",
       "    .dataframe thead th {\n",
       "        text-align: right;\n",
       "    }\n",
       "</style>\n",
       "<table border=\"1\" class=\"dataframe\">\n",
       "  <thead>\n",
       "    <tr style=\"text-align: right;\">\n",
       "      <th></th>\n",
       "      <th>QuestionText</th>\n",
       "    </tr>\n",
       "    <tr>\n",
       "      <th>Column</th>\n",
       "      <th></th>\n",
       "    </tr>\n",
       "  </thead>\n",
       "  <tbody>\n",
       "    <tr>\n",
       "      <th>Respondent</th>\n",
       "      <td>Randomized respondent ID number (not in order ...</td>\n",
       "    </tr>\n",
       "    <tr>\n",
       "      <th>MainBranch</th>\n",
       "      <td>Which of the following options best describes ...</td>\n",
       "    </tr>\n",
       "    <tr>\n",
       "      <th>Hobbyist</th>\n",
       "      <td>Do you code as a hobby?</td>\n",
       "    </tr>\n",
       "    <tr>\n",
       "      <th>Country</th>\n",
       "      <td>In which country do you currently reside?</td>\n",
       "    </tr>\n",
       "    <tr>\n",
       "      <th>YearsCode</th>\n",
       "      <td>Including any education, how many years have y...</td>\n",
       "    </tr>\n",
       "    <tr>\n",
       "      <th>ConvertedComp</th>\n",
       "      <td>Salary converted to annual USD salaries using ...</td>\n",
       "    </tr>\n",
       "    <tr>\n",
       "      <th>LanguageWorkedWith</th>\n",
       "      <td>Which of the following programming, scripting,...</td>\n",
       "    </tr>\n",
       "    <tr>\n",
       "      <th>SocialMedia</th>\n",
       "      <td>What social media site do you use the most?</td>\n",
       "    </tr>\n",
       "    <tr>\n",
       "      <th>Age</th>\n",
       "      <td>What is your age (in years)? If you prefer not...</td>\n",
       "    </tr>\n",
       "    <tr>\n",
       "      <th>Gender</th>\n",
       "      <td>Which of the following do you currently identi...</td>\n",
       "    </tr>\n",
       "  </tbody>\n",
       "</table>\n",
       "</div>"
      ],
      "text/plain": [
       "                                                         QuestionText\n",
       "Column                                                               \n",
       "Respondent          Randomized respondent ID number (not in order ...\n",
       "MainBranch          Which of the following options best describes ...\n",
       "Hobbyist                                      Do you code as a hobby?\n",
       "Country                     In which country do you currently reside?\n",
       "YearsCode           Including any education, how many years have y...\n",
       "ConvertedComp       Salary converted to annual USD salaries using ...\n",
       "LanguageWorkedWith  Which of the following programming, scripting,...\n",
       "SocialMedia               What social media site do you use the most?\n",
       "Age                 What is your age (in years)? If you prefer not...\n",
       "Gender              Which of the following do you currently identi..."
      ]
     },
     "execution_count": 62,
     "metadata": {},
     "output_type": "execute_result"
    }
   ],
   "source": [
    "import pandas as pd\n",
    "schema = pd.read_csv('datasets/so_survey_subset_schema.csv', index_col='Column')\n",
    "schema"
   ]
  },
  {
   "cell_type": "code",
   "execution_count": null,
   "id": "5429f2d0",
   "metadata": {},
   "outputs": [],
   "source": []
  },
  {
   "cell_type": "code",
   "execution_count": 63,
   "id": "146eb97a",
   "metadata": {},
   "outputs": [
    {
     "data": {
      "text/plain": [
       "QuestionText    Do you code as a hobby?\n",
       "Name: Hobbyist, dtype: object"
      ]
     },
     "execution_count": 63,
     "metadata": {},
     "output_type": "execute_result"
    }
   ],
   "source": [
    "schema.loc['Hobbyist']"
   ]
  },
  {
   "cell_type": "code",
   "execution_count": 64,
   "id": "bf6d798f",
   "metadata": {},
   "outputs": [
    {
     "data": {
      "text/plain": [
       "Respondent\n",
       "1        Yes\n",
       "2         No\n",
       "3        Yes\n",
       "4         No\n",
       "5        Yes\n",
       "        ... \n",
       "88377    Yes\n",
       "88601     No\n",
       "88802     No\n",
       "88816     No\n",
       "88863    Yes\n",
       "Name: Hobbyist, Length: 88883, dtype: object"
      ]
     },
     "execution_count": 64,
     "metadata": {},
     "output_type": "execute_result"
    }
   ],
   "source": [
    "df['Hobbyist']"
   ]
  },
  {
   "cell_type": "code",
   "execution_count": null,
   "id": "28946f82",
   "metadata": {},
   "outputs": [],
   "source": []
  },
  {
   "cell_type": "code",
   "execution_count": 65,
   "id": "54ddb6cf",
   "metadata": {},
   "outputs": [
    {
     "data": {
      "text/plain": [
       "QuestionText    In which country do you currently reside?\n",
       "Name: Country, dtype: object"
      ]
     },
     "execution_count": 65,
     "metadata": {},
     "output_type": "execute_result"
    }
   ],
   "source": [
    "schema.loc['Country']"
   ]
  },
  {
   "cell_type": "code",
   "execution_count": 66,
   "id": "55a8ee40",
   "metadata": {},
   "outputs": [
    {
     "data": {
      "text/plain": [
       "Respondent\n",
       "1                United Kingdom\n",
       "2        Bosnia and Herzegovina\n",
       "3                      Thailand\n",
       "4                 United States\n",
       "5                       Ukraine\n",
       "                  ...          \n",
       "88377                    Canada\n",
       "88601                       NaN\n",
       "88802                       NaN\n",
       "88816                       NaN\n",
       "88863                     Spain\n",
       "Name: Country, Length: 88883, dtype: object"
      ]
     },
     "execution_count": 66,
     "metadata": {},
     "output_type": "execute_result"
    }
   ],
   "source": [
    "df['Country']"
   ]
  },
  {
   "cell_type": "code",
   "execution_count": null,
   "id": "c98c33e1",
   "metadata": {},
   "outputs": [],
   "source": []
  },
  {
   "cell_type": "code",
   "execution_count": 67,
   "id": "8ad3de2b",
   "metadata": {},
   "outputs": [
    {
     "data": {
      "text/plain": [
       "QuestionText    Salary converted to annual USD salaries using ...\n",
       "Name: ConvertedComp, dtype: object"
      ]
     },
     "execution_count": 67,
     "metadata": {},
     "output_type": "execute_result"
    }
   ],
   "source": [
    "schema.loc['ConvertedComp']"
   ]
  },
  {
   "cell_type": "code",
   "execution_count": 68,
   "id": "40df4193",
   "metadata": {},
   "outputs": [
    {
     "data": {
      "text/plain": [
       "Respondent\n",
       "1            NaN\n",
       "2            NaN\n",
       "3         8820.0\n",
       "4        61000.0\n",
       "5            NaN\n",
       "          ...   \n",
       "88377        NaN\n",
       "88601        NaN\n",
       "88802        NaN\n",
       "88816        NaN\n",
       "88863        NaN\n",
       "Name: ConvertedComp, Length: 88883, dtype: float64"
      ]
     },
     "execution_count": 68,
     "metadata": {},
     "output_type": "execute_result"
    }
   ],
   "source": [
    "df['ConvertedComp']"
   ]
  },
  {
   "cell_type": "code",
   "execution_count": null,
   "id": "f2c3819d",
   "metadata": {},
   "outputs": [],
   "source": []
  },
  {
   "cell_type": "code",
   "execution_count": 69,
   "id": "6f1899a1",
   "metadata": {},
   "outputs": [
    {
     "data": {
      "text/plain": [
       "QuestionText    Which of the following programming, scripting,...\n",
       "Name: LanguageWorkedWith, dtype: object"
      ]
     },
     "execution_count": 69,
     "metadata": {},
     "output_type": "execute_result"
    }
   ],
   "source": [
    "schema.loc['LanguageWorkedWith']"
   ]
  },
  {
   "cell_type": "code",
   "execution_count": 70,
   "id": "4ef88604",
   "metadata": {},
   "outputs": [
    {
     "name": "stdout",
     "output_type": "stream",
     "text": [
      "Column,QuestionText\r",
      "\r\n",
      "Respondent,Randomized respondent ID number (not in order of survey response time)\r",
      "\r\n",
      "MainBranch,\"Which of the following options best describes you today? Here, by \"\"developer\"\" we mean \"\"someone who writes code.\"\"\"\r",
      "\r\n",
      "Hobbyist,Do you code as a hobby?\r",
      "\r\n",
      "Country,In which country do you currently reside?\r",
      "\r\n",
      "YearsCode,\"Including any education, how many years have you been coding?\"\r",
      "\r\n",
      "ConvertedComp,\"Salary converted to annual USD salaries using the exchange rate on 2019-02-01, assuming 12 working months and 50 working weeks.\"\r",
      "\r\n",
      "LanguageWorkedWith,\"Which of the following programming, scripting, and markup languages have you done extensive development work in over the past year, and which do you want to work in over the next year?  (If you both worked with the language and want to continue to do so, please check both boxes in that row.)\"\r",
      "\r\n",
      "SocialMedia,What social media site do you use the most?\r",
      "\r\n",
      "Age,\"What is your age (in years)? If you prefer not to answer, you may leave this question blank.\"\r",
      "\r\n",
      "Gender,\"Which of the following do you currently identify as? Please select all that apply. If you prefer not to answer, you may leave this question blank.\""
     ]
    }
   ],
   "source": [
    "!cat datasets/so_survey_subset_schema.csv"
   ]
  },
  {
   "cell_type": "code",
   "execution_count": 71,
   "id": "7fa61427",
   "metadata": {},
   "outputs": [
    {
     "data": {
      "text/plain": [
       "Respondent\n",
       "1                          HTML/CSS;Java;JavaScript;Python\n",
       "2                                      C++;HTML/CSS;Python\n",
       "3                                                 HTML/CSS\n",
       "4                                      C;C++;C#;Python;SQL\n",
       "5              C++;HTML/CSS;Java;JavaScript;Python;SQL;VBA\n",
       "                               ...                        \n",
       "88377                        HTML/CSS;JavaScript;Other(s):\n",
       "88601                                                  NaN\n",
       "88802                                                  NaN\n",
       "88816                                                  NaN\n",
       "88863    Bash/Shell/PowerShell;HTML/CSS;Java;JavaScript...\n",
       "Name: LanguageWorkedWith, Length: 88883, dtype: object"
      ]
     },
     "execution_count": 71,
     "metadata": {},
     "output_type": "execute_result"
    }
   ],
   "source": [
    "df['LanguageWorkedWith']"
   ]
  },
  {
   "cell_type": "code",
   "execution_count": null,
   "id": "dbd881f9",
   "metadata": {},
   "outputs": [],
   "source": []
  },
  {
   "cell_type": "code",
   "execution_count": 72,
   "id": "7bd2f021",
   "metadata": {},
   "outputs": [
    {
     "data": {
      "text/plain": [
       "QuestionText    What social media site do you use the most?\n",
       "Name: SocialMedia, dtype: object"
      ]
     },
     "execution_count": 72,
     "metadata": {},
     "output_type": "execute_result"
    }
   ],
   "source": [
    "schema.loc['SocialMedia']"
   ]
  },
  {
   "cell_type": "code",
   "execution_count": 73,
   "id": "bb7d90c9",
   "metadata": {},
   "outputs": [
    {
     "data": {
      "text/plain": [
       "Respondent\n",
       "1          Twitter\n",
       "2        Instagram\n",
       "3           Reddit\n",
       "4           Reddit\n",
       "5         Facebook\n",
       "           ...    \n",
       "88377      YouTube\n",
       "88601          NaN\n",
       "88802          NaN\n",
       "88816          NaN\n",
       "88863     WhatsApp\n",
       "Name: SocialMedia, Length: 88883, dtype: object"
      ]
     },
     "execution_count": 73,
     "metadata": {},
     "output_type": "execute_result"
    }
   ],
   "source": [
    "df['SocialMedia']"
   ]
  },
  {
   "cell_type": "code",
   "execution_count": 74,
   "id": "38ee282a",
   "metadata": {},
   "outputs": [
    {
     "data": {
      "text/html": [
       "<div>\n",
       "<style scoped>\n",
       "    .dataframe tbody tr th:only-of-type {\n",
       "        vertical-align: middle;\n",
       "    }\n",
       "\n",
       "    .dataframe tbody tr th {\n",
       "        vertical-align: top;\n",
       "    }\n",
       "\n",
       "    .dataframe thead th {\n",
       "        text-align: right;\n",
       "    }\n",
       "</style>\n",
       "<table border=\"1\" class=\"dataframe\">\n",
       "  <thead>\n",
       "    <tr style=\"text-align: right;\">\n",
       "      <th></th>\n",
       "      <th>MainBranch</th>\n",
       "      <th>Hobbyist</th>\n",
       "      <th>Country</th>\n",
       "      <th>YearsCode</th>\n",
       "      <th>ConvertedComp</th>\n",
       "      <th>LanguageWorkedWith</th>\n",
       "      <th>SocialMedia</th>\n",
       "      <th>Age</th>\n",
       "      <th>Gender</th>\n",
       "    </tr>\n",
       "    <tr>\n",
       "      <th>Respondent</th>\n",
       "      <th></th>\n",
       "      <th></th>\n",
       "      <th></th>\n",
       "      <th></th>\n",
       "      <th></th>\n",
       "      <th></th>\n",
       "      <th></th>\n",
       "      <th></th>\n",
       "      <th></th>\n",
       "    </tr>\n",
       "  </thead>\n",
       "  <tbody>\n",
       "    <tr>\n",
       "      <th>1</th>\n",
       "      <td>I am a student who is learning to code</td>\n",
       "      <td>Yes</td>\n",
       "      <td>United Kingdom</td>\n",
       "      <td>4</td>\n",
       "      <td>NaN</td>\n",
       "      <td>HTML/CSS;Java;JavaScript;Python</td>\n",
       "      <td>Twitter</td>\n",
       "      <td>14.0</td>\n",
       "      <td>Man</td>\n",
       "    </tr>\n",
       "    <tr>\n",
       "      <th>2</th>\n",
       "      <td>I am a student who is learning to code</td>\n",
       "      <td>No</td>\n",
       "      <td>Bosnia and Herzegovina</td>\n",
       "      <td>NaN</td>\n",
       "      <td>NaN</td>\n",
       "      <td>C++;HTML/CSS;Python</td>\n",
       "      <td>Instagram</td>\n",
       "      <td>19.0</td>\n",
       "      <td>Man</td>\n",
       "    </tr>\n",
       "    <tr>\n",
       "      <th>3</th>\n",
       "      <td>I am not primarily a developer, but I write co...</td>\n",
       "      <td>Yes</td>\n",
       "      <td>Thailand</td>\n",
       "      <td>3</td>\n",
       "      <td>8820.0</td>\n",
       "      <td>HTML/CSS</td>\n",
       "      <td>Reddit</td>\n",
       "      <td>28.0</td>\n",
       "      <td>Man</td>\n",
       "    </tr>\n",
       "    <tr>\n",
       "      <th>4</th>\n",
       "      <td>I am a developer by profession</td>\n",
       "      <td>No</td>\n",
       "      <td>United States</td>\n",
       "      <td>3</td>\n",
       "      <td>61000.0</td>\n",
       "      <td>C;C++;C#;Python;SQL</td>\n",
       "      <td>Reddit</td>\n",
       "      <td>22.0</td>\n",
       "      <td>Man</td>\n",
       "    </tr>\n",
       "    <tr>\n",
       "      <th>5</th>\n",
       "      <td>I am a developer by profession</td>\n",
       "      <td>Yes</td>\n",
       "      <td>Ukraine</td>\n",
       "      <td>16</td>\n",
       "      <td>NaN</td>\n",
       "      <td>C++;HTML/CSS;Java;JavaScript;Python;SQL;VBA</td>\n",
       "      <td>Facebook</td>\n",
       "      <td>30.0</td>\n",
       "      <td>Man</td>\n",
       "    </tr>\n",
       "    <tr>\n",
       "      <th>...</th>\n",
       "      <td>...</td>\n",
       "      <td>...</td>\n",
       "      <td>...</td>\n",
       "      <td>...</td>\n",
       "      <td>...</td>\n",
       "      <td>...</td>\n",
       "      <td>...</td>\n",
       "      <td>...</td>\n",
       "      <td>...</td>\n",
       "    </tr>\n",
       "    <tr>\n",
       "      <th>88377</th>\n",
       "      <td>NaN</td>\n",
       "      <td>Yes</td>\n",
       "      <td>Canada</td>\n",
       "      <td>NaN</td>\n",
       "      <td>NaN</td>\n",
       "      <td>HTML/CSS;JavaScript;Other(s):</td>\n",
       "      <td>YouTube</td>\n",
       "      <td>NaN</td>\n",
       "      <td>Man</td>\n",
       "    </tr>\n",
       "    <tr>\n",
       "      <th>88601</th>\n",
       "      <td>NaN</td>\n",
       "      <td>No</td>\n",
       "      <td>NaN</td>\n",
       "      <td>NaN</td>\n",
       "      <td>NaN</td>\n",
       "      <td>NaN</td>\n",
       "      <td>NaN</td>\n",
       "      <td>NaN</td>\n",
       "      <td>NaN</td>\n",
       "    </tr>\n",
       "    <tr>\n",
       "      <th>88802</th>\n",
       "      <td>NaN</td>\n",
       "      <td>No</td>\n",
       "      <td>NaN</td>\n",
       "      <td>NaN</td>\n",
       "      <td>NaN</td>\n",
       "      <td>NaN</td>\n",
       "      <td>NaN</td>\n",
       "      <td>NaN</td>\n",
       "      <td>NaN</td>\n",
       "    </tr>\n",
       "    <tr>\n",
       "      <th>88816</th>\n",
       "      <td>NaN</td>\n",
       "      <td>No</td>\n",
       "      <td>NaN</td>\n",
       "      <td>NaN</td>\n",
       "      <td>NaN</td>\n",
       "      <td>NaN</td>\n",
       "      <td>NaN</td>\n",
       "      <td>NaN</td>\n",
       "      <td>NaN</td>\n",
       "    </tr>\n",
       "    <tr>\n",
       "      <th>88863</th>\n",
       "      <td>NaN</td>\n",
       "      <td>Yes</td>\n",
       "      <td>Spain</td>\n",
       "      <td>8</td>\n",
       "      <td>NaN</td>\n",
       "      <td>Bash/Shell/PowerShell;HTML/CSS;Java;JavaScript...</td>\n",
       "      <td>WhatsApp</td>\n",
       "      <td>18.0</td>\n",
       "      <td>Man</td>\n",
       "    </tr>\n",
       "  </tbody>\n",
       "</table>\n",
       "<p>88883 rows × 9 columns</p>\n",
       "</div>"
      ],
      "text/plain": [
       "                                                   MainBranch Hobbyist  \\\n",
       "Respondent                                                               \n",
       "1                      I am a student who is learning to code      Yes   \n",
       "2                      I am a student who is learning to code       No   \n",
       "3           I am not primarily a developer, but I write co...      Yes   \n",
       "4                              I am a developer by profession       No   \n",
       "5                              I am a developer by profession      Yes   \n",
       "...                                                       ...      ...   \n",
       "88377                                                     NaN      Yes   \n",
       "88601                                                     NaN       No   \n",
       "88802                                                     NaN       No   \n",
       "88816                                                     NaN       No   \n",
       "88863                                                     NaN      Yes   \n",
       "\n",
       "                           Country YearsCode  ConvertedComp  \\\n",
       "Respondent                                                    \n",
       "1                   United Kingdom         4            NaN   \n",
       "2           Bosnia and Herzegovina       NaN            NaN   \n",
       "3                         Thailand         3         8820.0   \n",
       "4                    United States         3        61000.0   \n",
       "5                          Ukraine        16            NaN   \n",
       "...                            ...       ...            ...   \n",
       "88377                       Canada       NaN            NaN   \n",
       "88601                          NaN       NaN            NaN   \n",
       "88802                          NaN       NaN            NaN   \n",
       "88816                          NaN       NaN            NaN   \n",
       "88863                        Spain         8            NaN   \n",
       "\n",
       "                                           LanguageWorkedWith SocialMedia  \\\n",
       "Respondent                                                                  \n",
       "1                             HTML/CSS;Java;JavaScript;Python     Twitter   \n",
       "2                                         C++;HTML/CSS;Python   Instagram   \n",
       "3                                                    HTML/CSS      Reddit   \n",
       "4                                         C;C++;C#;Python;SQL      Reddit   \n",
       "5                 C++;HTML/CSS;Java;JavaScript;Python;SQL;VBA    Facebook   \n",
       "...                                                       ...         ...   \n",
       "88377                           HTML/CSS;JavaScript;Other(s):     YouTube   \n",
       "88601                                                     NaN         NaN   \n",
       "88802                                                     NaN         NaN   \n",
       "88816                                                     NaN         NaN   \n",
       "88863       Bash/Shell/PowerShell;HTML/CSS;Java;JavaScript...    WhatsApp   \n",
       "\n",
       "             Age Gender  \n",
       "Respondent               \n",
       "1           14.0    Man  \n",
       "2           19.0    Man  \n",
       "3           28.0    Man  \n",
       "4           22.0    Man  \n",
       "5           30.0    Man  \n",
       "...          ...    ...  \n",
       "88377        NaN    Man  \n",
       "88601        NaN    NaN  \n",
       "88802        NaN    NaN  \n",
       "88816        NaN    NaN  \n",
       "88863       18.0    Man  \n",
       "\n",
       "[88883 rows x 9 columns]"
      ]
     },
     "execution_count": 74,
     "metadata": {},
     "output_type": "execute_result"
    }
   ],
   "source": [
    "df"
   ]
  },
  {
   "cell_type": "code",
   "execution_count": null,
   "id": "da4a81c4",
   "metadata": {},
   "outputs": [],
   "source": []
  },
  {
   "cell_type": "markdown",
   "id": "bc9d4cfb",
   "metadata": {},
   "source": [
    "##### Let us perform some basic statistical analysis on the Dataset"
   ]
  },
  {
   "cell_type": "code",
   "execution_count": null,
   "id": "2096bf5e",
   "metadata": {},
   "outputs": [],
   "source": []
  },
  {
   "cell_type": "code",
   "execution_count": 75,
   "id": "35f48c5d",
   "metadata": {},
   "outputs": [
    {
     "data": {
      "text/plain": [
       "88883"
      ]
     },
     "execution_count": 75,
     "metadata": {},
     "output_type": "execute_result"
    }
   ],
   "source": [
    "# Returns the count of non-NA values for a series object.\n",
    "df['Hobbyist'].count()"
   ]
  },
  {
   "cell_type": "code",
   "execution_count": 76,
   "id": "fe766e4c",
   "metadata": {},
   "outputs": [
    {
     "data": {
      "text/plain": [
       "Yes    71257\n",
       "No     17626\n",
       "Name: Hobbyist, dtype: int64"
      ]
     },
     "execution_count": 76,
     "metadata": {},
     "output_type": "execute_result"
    }
   ],
   "source": [
    "# Returns a Series containing counts of unique rows.\n",
    "df['Hobbyist'].value_counts()"
   ]
  },
  {
   "cell_type": "code",
   "execution_count": null,
   "id": "abac191b",
   "metadata": {},
   "outputs": [],
   "source": []
  },
  {
   "cell_type": "code",
   "execution_count": 77,
   "id": "650bd519",
   "metadata": {},
   "outputs": [
    {
     "data": {
      "text/plain": [
       "88751"
      ]
     },
     "execution_count": 77,
     "metadata": {},
     "output_type": "execute_result"
    }
   ],
   "source": [
    "# Returns the count of non-NA values for a series object.\n",
    "df['Country'].count()"
   ]
  },
  {
   "cell_type": "code",
   "execution_count": 78,
   "id": "4aaea5b1",
   "metadata": {},
   "outputs": [
    {
     "data": {
      "text/plain": [
       "United States        20949\n",
       "India                 9061\n",
       "Germany               5866\n",
       "United Kingdom        5737\n",
       "Canada                3395\n",
       "                     ...  \n",
       "Tonga                    1\n",
       "Timor-Leste              1\n",
       "North Korea              1\n",
       "Brunei Darussalam        1\n",
       "Chad                     1\n",
       "Name: Country, Length: 179, dtype: int64"
      ]
     },
     "execution_count": 78,
     "metadata": {},
     "output_type": "execute_result"
    }
   ],
   "source": [
    "# Returns a Series containing counts of unique rows.\n",
    "df['Country'].value_counts()"
   ]
  },
  {
   "cell_type": "markdown",
   "id": "65f769b4",
   "metadata": {},
   "source": [
    "### To get the count of countries whose developers participated in the survey"
   ]
  },
  {
   "cell_type": "code",
   "execution_count": 79,
   "id": "6b91f3cf",
   "metadata": {},
   "outputs": [
    {
     "data": {
      "text/plain": [
       "179"
      ]
     },
     "execution_count": 79,
     "metadata": {},
     "output_type": "execute_result"
    }
   ],
   "source": [
    "df['Country'].value_counts().count()"
   ]
  },
  {
   "cell_type": "code",
   "execution_count": null,
   "id": "aa4e378e",
   "metadata": {},
   "outputs": [],
   "source": []
  },
  {
   "cell_type": "code",
   "execution_count": 80,
   "id": "fc48a1f7",
   "metadata": {},
   "outputs": [
    {
     "data": {
      "text/plain": [
       "55823"
      ]
     },
     "execution_count": 80,
     "metadata": {},
     "output_type": "execute_result"
    }
   ],
   "source": [
    "# Returns the count of non-NA values for a series object.\n",
    "df['ConvertedComp'].count()"
   ]
  },
  {
   "cell_type": "code",
   "execution_count": 81,
   "id": "eb34078c",
   "metadata": {},
   "outputs": [
    {
     "data": {
      "text/plain": [
       "2000000.0    709\n",
       "1000000.0    558\n",
       "120000.0     502\n",
       "100000.0     480\n",
       "150000.0     434\n",
       "            ... \n",
       "411096.0       1\n",
       "261228.0       1\n",
       "82322.0        1\n",
       "66424.0        1\n",
       "588012.0       1\n",
       "Name: ConvertedComp, Length: 9162, dtype: int64"
      ]
     },
     "execution_count": 81,
     "metadata": {},
     "output_type": "execute_result"
    }
   ],
   "source": [
    "# Returns a Series containing counts of unique rows.\n",
    "df['ConvertedComp'].value_counts()"
   ]
  },
  {
   "cell_type": "code",
   "execution_count": 82,
   "id": "34dde858",
   "metadata": {},
   "outputs": [
    {
     "data": {
      "text/plain": [
       "127110.73842323056"
      ]
     },
     "execution_count": 82,
     "metadata": {},
     "output_type": "execute_result"
    }
   ],
   "source": [
    "df['ConvertedComp'].mean()"
   ]
  },
  {
   "cell_type": "code",
   "execution_count": 83,
   "id": "f91267c0",
   "metadata": {},
   "outputs": [
    {
     "data": {
      "text/plain": [
       "57287.0"
      ]
     },
     "execution_count": 83,
     "metadata": {},
     "output_type": "execute_result"
    }
   ],
   "source": [
    "df['ConvertedComp'].median()"
   ]
  },
  {
   "cell_type": "code",
   "execution_count": null,
   "id": "f48e6608",
   "metadata": {},
   "outputs": [],
   "source": []
  },
  {
   "cell_type": "code",
   "execution_count": 84,
   "id": "755b50b5",
   "metadata": {},
   "outputs": [
    {
     "data": {
      "text/html": [
       "<div>\n",
       "<style scoped>\n",
       "    .dataframe tbody tr th:only-of-type {\n",
       "        vertical-align: middle;\n",
       "    }\n",
       "\n",
       "    .dataframe tbody tr th {\n",
       "        vertical-align: top;\n",
       "    }\n",
       "\n",
       "    .dataframe thead th {\n",
       "        text-align: right;\n",
       "    }\n",
       "</style>\n",
       "<table border=\"1\" class=\"dataframe\">\n",
       "  <thead>\n",
       "    <tr style=\"text-align: right;\">\n",
       "      <th></th>\n",
       "      <th>ConvertedComp</th>\n",
       "      <th>Age</th>\n",
       "    </tr>\n",
       "  </thead>\n",
       "  <tbody>\n",
       "    <tr>\n",
       "      <th>count</th>\n",
       "      <td>5.582300e+04</td>\n",
       "      <td>79210.000000</td>\n",
       "    </tr>\n",
       "    <tr>\n",
       "      <th>mean</th>\n",
       "      <td>1.271107e+05</td>\n",
       "      <td>30.336699</td>\n",
       "    </tr>\n",
       "    <tr>\n",
       "      <th>std</th>\n",
       "      <td>2.841523e+05</td>\n",
       "      <td>9.178390</td>\n",
       "    </tr>\n",
       "    <tr>\n",
       "      <th>min</th>\n",
       "      <td>0.000000e+00</td>\n",
       "      <td>1.000000</td>\n",
       "    </tr>\n",
       "    <tr>\n",
       "      <th>25%</th>\n",
       "      <td>2.577750e+04</td>\n",
       "      <td>24.000000</td>\n",
       "    </tr>\n",
       "    <tr>\n",
       "      <th>50%</th>\n",
       "      <td>5.728700e+04</td>\n",
       "      <td>29.000000</td>\n",
       "    </tr>\n",
       "    <tr>\n",
       "      <th>75%</th>\n",
       "      <td>1.000000e+05</td>\n",
       "      <td>35.000000</td>\n",
       "    </tr>\n",
       "    <tr>\n",
       "      <th>max</th>\n",
       "      <td>2.000000e+06</td>\n",
       "      <td>99.000000</td>\n",
       "    </tr>\n",
       "  </tbody>\n",
       "</table>\n",
       "</div>"
      ],
      "text/plain": [
       "       ConvertedComp           Age\n",
       "count   5.582300e+04  79210.000000\n",
       "mean    1.271107e+05     30.336699\n",
       "std     2.841523e+05      9.178390\n",
       "min     0.000000e+00      1.000000\n",
       "25%     2.577750e+04     24.000000\n",
       "50%     5.728700e+04     29.000000\n",
       "75%     1.000000e+05     35.000000\n",
       "max     2.000000e+06     99.000000"
      ]
     },
     "execution_count": 84,
     "metadata": {},
     "output_type": "execute_result"
    }
   ],
   "source": [
    "df.describe()"
   ]
  },
  {
   "cell_type": "code",
   "execution_count": null,
   "id": "0fe690a2",
   "metadata": {},
   "outputs": [],
   "source": []
  },
  {
   "cell_type": "markdown",
   "id": "94e974b1",
   "metadata": {},
   "source": [
    "<h1 align=\"center\">Let us try answering certain Questions</h1>"
   ]
  },
  {
   "cell_type": "code",
   "execution_count": null,
   "id": "f561cf90",
   "metadata": {},
   "outputs": [],
   "source": []
  },
  {
   "cell_type": "markdown",
   "id": "1e75db36",
   "metadata": {},
   "source": [
    "##  Question 1: \n",
    ">**List the most popular SocialMedia web site for every Country**"
   ]
  },
  {
   "cell_type": "markdown",
   "id": "557059b6",
   "metadata": {},
   "source": [
    "**Let us first  do the easy task, and that is to list the most popular SocialMedia website of a single country (lets say Pakistan)**"
   ]
  },
  {
   "cell_type": "code",
   "execution_count": 85,
   "id": "def1798a",
   "metadata": {},
   "outputs": [
    {
     "data": {
      "text/html": [
       "<div>\n",
       "<style scoped>\n",
       "    .dataframe tbody tr th:only-of-type {\n",
       "        vertical-align: middle;\n",
       "    }\n",
       "\n",
       "    .dataframe tbody tr th {\n",
       "        vertical-align: top;\n",
       "    }\n",
       "\n",
       "    .dataframe thead th {\n",
       "        text-align: right;\n",
       "    }\n",
       "</style>\n",
       "<table border=\"1\" class=\"dataframe\">\n",
       "  <thead>\n",
       "    <tr style=\"text-align: right;\">\n",
       "      <th></th>\n",
       "      <th>MainBranch</th>\n",
       "      <th>Hobbyist</th>\n",
       "      <th>Country</th>\n",
       "      <th>YearsCode</th>\n",
       "      <th>ConvertedComp</th>\n",
       "      <th>LanguageWorkedWith</th>\n",
       "      <th>SocialMedia</th>\n",
       "      <th>Age</th>\n",
       "      <th>Gender</th>\n",
       "    </tr>\n",
       "    <tr>\n",
       "      <th>Respondent</th>\n",
       "      <th></th>\n",
       "      <th></th>\n",
       "      <th></th>\n",
       "      <th></th>\n",
       "      <th></th>\n",
       "      <th></th>\n",
       "      <th></th>\n",
       "      <th></th>\n",
       "      <th></th>\n",
       "    </tr>\n",
       "  </thead>\n",
       "  <tbody>\n",
       "    <tr>\n",
       "      <th>84</th>\n",
       "      <td>I am a developer by profession</td>\n",
       "      <td>No</td>\n",
       "      <td>Pakistan</td>\n",
       "      <td>3</td>\n",
       "      <td>3468.0</td>\n",
       "      <td>C;C++;C#;Java;Kotlin;PHP;SQL</td>\n",
       "      <td>WhatsApp</td>\n",
       "      <td>26.0</td>\n",
       "      <td>Man</td>\n",
       "    </tr>\n",
       "    <tr>\n",
       "      <th>119</th>\n",
       "      <td>I am a developer by profession</td>\n",
       "      <td>No</td>\n",
       "      <td>Pakistan</td>\n",
       "      <td>10</td>\n",
       "      <td>NaN</td>\n",
       "      <td>C;C++;C#;HTML/CSS;Java;JavaScript;SQL</td>\n",
       "      <td>Facebook</td>\n",
       "      <td>28.0</td>\n",
       "      <td>Man</td>\n",
       "    </tr>\n",
       "    <tr>\n",
       "      <th>298</th>\n",
       "      <td>I am a developer by profession</td>\n",
       "      <td>Yes</td>\n",
       "      <td>Pakistan</td>\n",
       "      <td>4</td>\n",
       "      <td>NaN</td>\n",
       "      <td>HTML/CSS;JavaScript;PHP;SQL;Other(s):</td>\n",
       "      <td>LinkedIn</td>\n",
       "      <td>23.0</td>\n",
       "      <td>Man</td>\n",
       "    </tr>\n",
       "    <tr>\n",
       "      <th>299</th>\n",
       "      <td>I am a developer by profession</td>\n",
       "      <td>Yes</td>\n",
       "      <td>Pakistan</td>\n",
       "      <td>19</td>\n",
       "      <td>NaN</td>\n",
       "      <td>Assembly;C;C++;Java;Python;SQL</td>\n",
       "      <td>Facebook</td>\n",
       "      <td>25.0</td>\n",
       "      <td>Man</td>\n",
       "    </tr>\n",
       "    <tr>\n",
       "      <th>311</th>\n",
       "      <td>I am a developer by profession</td>\n",
       "      <td>No</td>\n",
       "      <td>Pakistan</td>\n",
       "      <td>5</td>\n",
       "      <td>2600.0</td>\n",
       "      <td>Assembly;C;C++;C#;HTML/CSS;Java;Python;Scala;SQL</td>\n",
       "      <td>LinkedIn</td>\n",
       "      <td>24.0</td>\n",
       "      <td>Man</td>\n",
       "    </tr>\n",
       "    <tr>\n",
       "      <th>...</th>\n",
       "      <td>...</td>\n",
       "      <td>...</td>\n",
       "      <td>...</td>\n",
       "      <td>...</td>\n",
       "      <td>...</td>\n",
       "      <td>...</td>\n",
       "      <td>...</td>\n",
       "      <td>...</td>\n",
       "      <td>...</td>\n",
       "    </tr>\n",
       "    <tr>\n",
       "      <th>88862</th>\n",
       "      <td>I am a student who is learning to code</td>\n",
       "      <td>Yes</td>\n",
       "      <td>Pakistan</td>\n",
       "      <td>3</td>\n",
       "      <td>NaN</td>\n",
       "      <td>Java</td>\n",
       "      <td>WhatsApp</td>\n",
       "      <td>21.0</td>\n",
       "      <td>Man</td>\n",
       "    </tr>\n",
       "    <tr>\n",
       "      <th>5439</th>\n",
       "      <td>NaN</td>\n",
       "      <td>Yes</td>\n",
       "      <td>Pakistan</td>\n",
       "      <td>2</td>\n",
       "      <td>NaN</td>\n",
       "      <td>NaN</td>\n",
       "      <td>Instagram</td>\n",
       "      <td>24.0</td>\n",
       "      <td>Woman</td>\n",
       "    </tr>\n",
       "    <tr>\n",
       "      <th>39117</th>\n",
       "      <td>NaN</td>\n",
       "      <td>Yes</td>\n",
       "      <td>Pakistan</td>\n",
       "      <td>4</td>\n",
       "      <td>NaN</td>\n",
       "      <td>C;C++;C#;HTML/CSS;Java;JavaScript;SQL</td>\n",
       "      <td>WhatsApp</td>\n",
       "      <td>22.0</td>\n",
       "      <td>Man</td>\n",
       "    </tr>\n",
       "    <tr>\n",
       "      <th>60066</th>\n",
       "      <td>NaN</td>\n",
       "      <td>Yes</td>\n",
       "      <td>Pakistan</td>\n",
       "      <td>4</td>\n",
       "      <td>NaN</td>\n",
       "      <td>Assembly;C++;C#;HTML/CSS;Java;PHP;Python;SQL</td>\n",
       "      <td>YouTube</td>\n",
       "      <td>20.0</td>\n",
       "      <td>Man</td>\n",
       "    </tr>\n",
       "    <tr>\n",
       "      <th>88182</th>\n",
       "      <td>NaN</td>\n",
       "      <td>Yes</td>\n",
       "      <td>Pakistan</td>\n",
       "      <td>1</td>\n",
       "      <td>NaN</td>\n",
       "      <td>HTML/CSS;Java;JavaScript</td>\n",
       "      <td>Twitter</td>\n",
       "      <td>NaN</td>\n",
       "      <td>Man</td>\n",
       "    </tr>\n",
       "  </tbody>\n",
       "</table>\n",
       "<p>923 rows × 9 columns</p>\n",
       "</div>"
      ],
      "text/plain": [
       "                                        MainBranch Hobbyist   Country  \\\n",
       "Respondent                                                              \n",
       "84                  I am a developer by profession       No  Pakistan   \n",
       "119                 I am a developer by profession       No  Pakistan   \n",
       "298                 I am a developer by profession      Yes  Pakistan   \n",
       "299                 I am a developer by profession      Yes  Pakistan   \n",
       "311                 I am a developer by profession       No  Pakistan   \n",
       "...                                            ...      ...       ...   \n",
       "88862       I am a student who is learning to code      Yes  Pakistan   \n",
       "5439                                           NaN      Yes  Pakistan   \n",
       "39117                                          NaN      Yes  Pakistan   \n",
       "60066                                          NaN      Yes  Pakistan   \n",
       "88182                                          NaN      Yes  Pakistan   \n",
       "\n",
       "           YearsCode  ConvertedComp  \\\n",
       "Respondent                            \n",
       "84                 3         3468.0   \n",
       "119               10            NaN   \n",
       "298                4            NaN   \n",
       "299               19            NaN   \n",
       "311                5         2600.0   \n",
       "...              ...            ...   \n",
       "88862              3            NaN   \n",
       "5439               2            NaN   \n",
       "39117              4            NaN   \n",
       "60066              4            NaN   \n",
       "88182              1            NaN   \n",
       "\n",
       "                                          LanguageWorkedWith SocialMedia  \\\n",
       "Respondent                                                                 \n",
       "84                              C;C++;C#;Java;Kotlin;PHP;SQL    WhatsApp   \n",
       "119                    C;C++;C#;HTML/CSS;Java;JavaScript;SQL    Facebook   \n",
       "298                    HTML/CSS;JavaScript;PHP;SQL;Other(s):    LinkedIn   \n",
       "299                           Assembly;C;C++;Java;Python;SQL    Facebook   \n",
       "311         Assembly;C;C++;C#;HTML/CSS;Java;Python;Scala;SQL    LinkedIn   \n",
       "...                                                      ...         ...   \n",
       "88862                                                   Java    WhatsApp   \n",
       "5439                                                     NaN   Instagram   \n",
       "39117                  C;C++;C#;HTML/CSS;Java;JavaScript;SQL    WhatsApp   \n",
       "60066           Assembly;C++;C#;HTML/CSS;Java;PHP;Python;SQL     YouTube   \n",
       "88182                               HTML/CSS;Java;JavaScript     Twitter   \n",
       "\n",
       "             Age Gender  \n",
       "Respondent               \n",
       "84          26.0    Man  \n",
       "119         28.0    Man  \n",
       "298         23.0    Man  \n",
       "299         25.0    Man  \n",
       "311         24.0    Man  \n",
       "...          ...    ...  \n",
       "88862       21.0    Man  \n",
       "5439        24.0  Woman  \n",
       "39117       22.0    Man  \n",
       "60066       20.0    Man  \n",
       "88182        NaN    Man  \n",
       "\n",
       "[923 rows x 9 columns]"
      ]
     },
     "execution_count": 85,
     "metadata": {},
     "output_type": "execute_result"
    }
   ],
   "source": [
    "df[df.Country=='Pakistan']"
   ]
  },
  {
   "cell_type": "code",
   "execution_count": 86,
   "id": "e0708fd9",
   "metadata": {},
   "outputs": [
    {
     "data": {
      "text/plain": [
       "Respondent\n",
       "84        WhatsApp\n",
       "119       Facebook\n",
       "298       LinkedIn\n",
       "299       Facebook\n",
       "311       LinkedIn\n",
       "           ...    \n",
       "88862     WhatsApp\n",
       "5439     Instagram\n",
       "39117     WhatsApp\n",
       "60066      YouTube\n",
       "88182      Twitter\n",
       "Name: SocialMedia, Length: 923, dtype: object"
      ]
     },
     "execution_count": 86,
     "metadata": {},
     "output_type": "execute_result"
    }
   ],
   "source": [
    "df.loc[df.Country=='Pakistan', 'SocialMedia']"
   ]
  },
  {
   "cell_type": "code",
   "execution_count": 87,
   "id": "ff96c957",
   "metadata": {},
   "outputs": [
    {
     "data": {
      "text/plain": [
       "WhatsApp                    266\n",
       "Facebook                    232\n",
       "YouTube                     182\n",
       "LinkedIn                     71\n",
       "Twitter                      58\n",
       "Instagram                    41\n",
       "Reddit                       28\n",
       "I don't use social media     23\n",
       "Snapchat                      5\n",
       "Hello                         1\n",
       "VK ВКонта́кте                 1\n",
       "Name: SocialMedia, dtype: int64"
      ]
     },
     "execution_count": 87,
     "metadata": {},
     "output_type": "execute_result"
    }
   ],
   "source": [
    "df.loc[df.Country=='Pakistan', 'SocialMedia'].value_counts()"
   ]
  },
  {
   "cell_type": "code",
   "execution_count": 88,
   "id": "c03f3c87",
   "metadata": {},
   "outputs": [
    {
     "data": {
      "text/plain": [
       "Index(['MainBranch', 'Hobbyist', 'Country', 'YearsCode', 'ConvertedComp',\n",
       "       'LanguageWorkedWith', 'SocialMedia', 'Age', 'Gender'],\n",
       "      dtype='object')"
      ]
     },
     "execution_count": 88,
     "metadata": {},
     "output_type": "execute_result"
    }
   ],
   "source": [
    "df.columns"
   ]
  },
  {
   "cell_type": "code",
   "execution_count": 89,
   "id": "df9b825e",
   "metadata": {},
   "outputs": [
    {
     "data": {
      "text/plain": [
       "WhatsApp                    266\n",
       "Facebook                    232\n",
       "YouTube                     182\n",
       "LinkedIn                     71\n",
       "Twitter                      58\n",
       "Instagram                    41\n",
       "Reddit                       28\n",
       "I don't use social media     23\n",
       "Snapchat                      5\n",
       "Hello                         1\n",
       "VK ВКонта́кте                 1\n",
       "Name: SocialMedia, dtype: int64"
      ]
     },
     "execution_count": 89,
     "metadata": {},
     "output_type": "execute_result"
    }
   ],
   "source": [
    "df.groupby('Country').get_group('Pakistan').loc[:,'SocialMedia'].value_counts()"
   ]
  },
  {
   "cell_type": "code",
   "execution_count": null,
   "id": "d54d37cb",
   "metadata": {},
   "outputs": [],
   "source": []
  },
  {
   "cell_type": "code",
   "execution_count": null,
   "id": "846ab59e",
   "metadata": {},
   "outputs": [],
   "source": []
  },
  {
   "cell_type": "code",
   "execution_count": 90,
   "id": "d65ad730",
   "metadata": {},
   "outputs": [
    {
     "data": {
      "text/plain": [
       "WhatsApp                    1343\n",
       "YouTube                      970\n",
       "Reddit                       923\n",
       "Twitter                      866\n",
       "I don't use social media     501\n",
       "Facebook                     404\n",
       "Instagram                    264\n",
       "LinkedIn                     141\n",
       "Snapchat                      10\n",
       "VK ВКонта́кте                  8\n",
       "WeChat 微信                      8\n",
       "Name: SocialMedia, dtype: int64"
      ]
     },
     "execution_count": 90,
     "metadata": {},
     "output_type": "execute_result"
    }
   ],
   "source": [
    "df.loc[df.Country =='Pakistan', :]\n",
    "df.loc[df.Country =='Pakistan', 'SocialMedia'].head(10)\n",
    "df.loc[df.Country =='Pakistan', 'SocialMedia'].value_counts()\n",
    "df.loc[df.Country =='Pakistan', 'SocialMedia'].value_counts(normalize=True)\n",
    "df.loc[df.Country =='Germany', 'SocialMedia'].value_counts()"
   ]
  },
  {
   "cell_type": "code",
   "execution_count": null,
   "id": "95b681b2",
   "metadata": {},
   "outputs": [],
   "source": []
  },
  {
   "cell_type": "code",
   "execution_count": 91,
   "id": "54413fbf",
   "metadata": {},
   "outputs": [
    {
     "data": {
      "text/plain": [
       "<pandas.core.groupby.generic.DataFrameGroupBy object at 0x7fc79826f880>"
      ]
     },
     "execution_count": 91,
     "metadata": {},
     "output_type": "execute_result"
    }
   ],
   "source": [
    "df.groupby('Country')"
   ]
  },
  {
   "cell_type": "code",
   "execution_count": 92,
   "id": "a7cf5d90",
   "metadata": {},
   "outputs": [
    {
     "data": {
      "text/html": [
       "<div>\n",
       "<style scoped>\n",
       "    .dataframe tbody tr th:only-of-type {\n",
       "        vertical-align: middle;\n",
       "    }\n",
       "\n",
       "    .dataframe tbody tr th {\n",
       "        vertical-align: top;\n",
       "    }\n",
       "\n",
       "    .dataframe thead th {\n",
       "        text-align: right;\n",
       "    }\n",
       "</style>\n",
       "<table border=\"1\" class=\"dataframe\">\n",
       "  <thead>\n",
       "    <tr style=\"text-align: right;\">\n",
       "      <th></th>\n",
       "      <th>MainBranch</th>\n",
       "      <th>Hobbyist</th>\n",
       "      <th>Country</th>\n",
       "      <th>YearsCode</th>\n",
       "      <th>ConvertedComp</th>\n",
       "      <th>LanguageWorkedWith</th>\n",
       "      <th>SocialMedia</th>\n",
       "      <th>Age</th>\n",
       "      <th>Gender</th>\n",
       "    </tr>\n",
       "    <tr>\n",
       "      <th>Respondent</th>\n",
       "      <th></th>\n",
       "      <th></th>\n",
       "      <th></th>\n",
       "      <th></th>\n",
       "      <th></th>\n",
       "      <th></th>\n",
       "      <th></th>\n",
       "      <th></th>\n",
       "      <th></th>\n",
       "    </tr>\n",
       "  </thead>\n",
       "  <tbody>\n",
       "    <tr>\n",
       "      <th>84</th>\n",
       "      <td>I am a developer by profession</td>\n",
       "      <td>No</td>\n",
       "      <td>Pakistan</td>\n",
       "      <td>3</td>\n",
       "      <td>3468.0</td>\n",
       "      <td>C;C++;C#;Java;Kotlin;PHP;SQL</td>\n",
       "      <td>WhatsApp</td>\n",
       "      <td>26.0</td>\n",
       "      <td>Man</td>\n",
       "    </tr>\n",
       "    <tr>\n",
       "      <th>119</th>\n",
       "      <td>I am a developer by profession</td>\n",
       "      <td>No</td>\n",
       "      <td>Pakistan</td>\n",
       "      <td>10</td>\n",
       "      <td>NaN</td>\n",
       "      <td>C;C++;C#;HTML/CSS;Java;JavaScript;SQL</td>\n",
       "      <td>Facebook</td>\n",
       "      <td>28.0</td>\n",
       "      <td>Man</td>\n",
       "    </tr>\n",
       "    <tr>\n",
       "      <th>298</th>\n",
       "      <td>I am a developer by profession</td>\n",
       "      <td>Yes</td>\n",
       "      <td>Pakistan</td>\n",
       "      <td>4</td>\n",
       "      <td>NaN</td>\n",
       "      <td>HTML/CSS;JavaScript;PHP;SQL;Other(s):</td>\n",
       "      <td>LinkedIn</td>\n",
       "      <td>23.0</td>\n",
       "      <td>Man</td>\n",
       "    </tr>\n",
       "    <tr>\n",
       "      <th>299</th>\n",
       "      <td>I am a developer by profession</td>\n",
       "      <td>Yes</td>\n",
       "      <td>Pakistan</td>\n",
       "      <td>19</td>\n",
       "      <td>NaN</td>\n",
       "      <td>Assembly;C;C++;Java;Python;SQL</td>\n",
       "      <td>Facebook</td>\n",
       "      <td>25.0</td>\n",
       "      <td>Man</td>\n",
       "    </tr>\n",
       "    <tr>\n",
       "      <th>311</th>\n",
       "      <td>I am a developer by profession</td>\n",
       "      <td>No</td>\n",
       "      <td>Pakistan</td>\n",
       "      <td>5</td>\n",
       "      <td>2600.0</td>\n",
       "      <td>Assembly;C;C++;C#;HTML/CSS;Java;Python;Scala;SQL</td>\n",
       "      <td>LinkedIn</td>\n",
       "      <td>24.0</td>\n",
       "      <td>Man</td>\n",
       "    </tr>\n",
       "  </tbody>\n",
       "</table>\n",
       "</div>"
      ],
      "text/plain": [
       "                                MainBranch Hobbyist   Country YearsCode  \\\n",
       "Respondent                                                                \n",
       "84          I am a developer by profession       No  Pakistan         3   \n",
       "119         I am a developer by profession       No  Pakistan        10   \n",
       "298         I am a developer by profession      Yes  Pakistan         4   \n",
       "299         I am a developer by profession      Yes  Pakistan        19   \n",
       "311         I am a developer by profession       No  Pakistan         5   \n",
       "\n",
       "            ConvertedComp                                LanguageWorkedWith  \\\n",
       "Respondent                                                                    \n",
       "84                 3468.0                      C;C++;C#;Java;Kotlin;PHP;SQL   \n",
       "119                   NaN             C;C++;C#;HTML/CSS;Java;JavaScript;SQL   \n",
       "298                   NaN             HTML/CSS;JavaScript;PHP;SQL;Other(s):   \n",
       "299                   NaN                    Assembly;C;C++;Java;Python;SQL   \n",
       "311                2600.0  Assembly;C;C++;C#;HTML/CSS;Java;Python;Scala;SQL   \n",
       "\n",
       "           SocialMedia   Age Gender  \n",
       "Respondent                           \n",
       "84            WhatsApp  26.0    Man  \n",
       "119           Facebook  28.0    Man  \n",
       "298           LinkedIn  23.0    Man  \n",
       "299           Facebook  25.0    Man  \n",
       "311           LinkedIn  24.0    Man  "
      ]
     },
     "execution_count": 92,
     "metadata": {},
     "output_type": "execute_result"
    }
   ],
   "source": [
    "df.groupby('Country').get_group(\"Pakistan\").head()"
   ]
  },
  {
   "cell_type": "code",
   "execution_count": 93,
   "id": "8bc1753e",
   "metadata": {},
   "outputs": [
    {
     "data": {
      "text/plain": [
       "Respondent\n",
       "84        WhatsApp\n",
       "119       Facebook\n",
       "298       LinkedIn\n",
       "299       Facebook\n",
       "311       LinkedIn\n",
       "           ...    \n",
       "88862     WhatsApp\n",
       "5439     Instagram\n",
       "39117     WhatsApp\n",
       "60066      YouTube\n",
       "88182      Twitter\n",
       "Name: SocialMedia, Length: 923, dtype: object"
      ]
     },
     "execution_count": 93,
     "metadata": {},
     "output_type": "execute_result"
    }
   ],
   "source": [
    "df.groupby('Country').get_group(\"Pakistan\").loc[:, 'SocialMedia']"
   ]
  },
  {
   "cell_type": "code",
   "execution_count": 94,
   "id": "caa9a03c",
   "metadata": {},
   "outputs": [
    {
     "data": {
      "text/plain": [
       "WhatsApp                    266\n",
       "Facebook                    232\n",
       "YouTube                     182\n",
       "LinkedIn                     71\n",
       "Twitter                      58\n",
       "Instagram                    41\n",
       "Reddit                       28\n",
       "I don't use social media     23\n",
       "Snapchat                      5\n",
       "Hello                         1\n",
       "VK ВКонта́кте                 1\n",
       "Name: SocialMedia, dtype: int64"
      ]
     },
     "execution_count": 94,
     "metadata": {},
     "output_type": "execute_result"
    }
   ],
   "source": [
    "df.groupby('Country').get_group(\"Pakistan\").loc[:, 'SocialMedia'].value_counts()"
   ]
  },
  {
   "cell_type": "code",
   "execution_count": 95,
   "id": "083d3d5f",
   "metadata": {},
   "outputs": [
    {
     "data": {
      "text/plain": [
       "Country              SocialMedia             \n",
       "Afghanistan          Facebook                     15\n",
       "                     YouTube                       9\n",
       "                     I don't use social media      6\n",
       "                     WhatsApp                      4\n",
       "                     Instagram                     1\n",
       "                     LinkedIn                      1\n",
       "                     Twitter                       1\n",
       "Albania              WhatsApp                     18\n",
       "                     Facebook                     16\n",
       "                     Instagram                    13\n",
       "                     YouTube                      10\n",
       "                     Twitter                       8\n",
       "                     LinkedIn                      7\n",
       "                     Reddit                        6\n",
       "                     I don't use social media      4\n",
       "                     Snapchat                      1\n",
       "                     WeChat 微信                     1\n",
       "Algeria              YouTube                      42\n",
       "                     Facebook                     41\n",
       "                     Twitter                      14\n",
       "                     LinkedIn                      9\n",
       "                     I don't use social media      7\n",
       "                     Instagram                     7\n",
       "                     Reddit                        2\n",
       "                     WhatsApp                      2\n",
       "Andorra              Facebook                      2\n",
       "                     I don't use social media      2\n",
       "                     Reddit                        1\n",
       "                     Snapchat                      1\n",
       "                     YouTube                       1\n",
       "Angola               Twitter                       2\n",
       "                     Facebook                      1\n",
       "                     YouTube                       1\n",
       "Antigua and Barbuda  YouTube                       2\n",
       "                     Facebook                      1\n",
       "                     Instagram                     1\n",
       "                     Twitter                       1\n",
       "                     VK ВКонта́кте                 1\n",
       "Argentina            WhatsApp                    202\n",
       "                     Twitter                      80\n",
       "                     YouTube                      62\n",
       "                     Instagram                    53\n",
       "                     Reddit                       50\n",
       "                     Facebook                     45\n",
       "                     I don't use social media     22\n",
       "                     LinkedIn                     16\n",
       "Armenia              Facebook                     38\n",
       "                     YouTube                      23\n",
       "                     LinkedIn                      5\n",
       "                     Instagram                     3\n",
       "                     Reddit                        3\n",
       "                     Twitter                       3\n",
       "                     WhatsApp                      3\n",
       "                     VK ВКонта́кте                 2\n",
       "                     I don't use social media      1\n",
       "Australia            Reddit                      407\n",
       "                     Facebook                    320\n",
       "                     Twitter                     283\n",
       "                     YouTube                     242\n",
       "                     I don't use social media    156\n",
       "Name: SocialMedia, dtype: int64"
      ]
     },
     "execution_count": 95,
     "metadata": {},
     "output_type": "execute_result"
    }
   ],
   "source": [
    "df.groupby('Country')['SocialMedia'].value_counts().head(60)"
   ]
  },
  {
   "cell_type": "code",
   "execution_count": 96,
   "id": "f8e521de",
   "metadata": {},
   "outputs": [
    {
     "data": {
      "text/plain": [
       "Country              SocialMedia             \n",
       "Afghanistan          Facebook                     15\n",
       "                     YouTube                       9\n",
       "                     I don't use social media      6\n",
       "                     WhatsApp                      4\n",
       "                     Instagram                     1\n",
       "                     LinkedIn                      1\n",
       "                     Twitter                       1\n",
       "Albania              WhatsApp                     18\n",
       "                     Facebook                     16\n",
       "                     Instagram                    13\n",
       "                     YouTube                      10\n",
       "                     Twitter                       8\n",
       "                     LinkedIn                      7\n",
       "                     Reddit                        6\n",
       "                     I don't use social media      4\n",
       "                     Snapchat                      1\n",
       "                     WeChat 微信                     1\n",
       "Algeria              YouTube                      42\n",
       "                     Facebook                     41\n",
       "                     Twitter                      14\n",
       "                     LinkedIn                      9\n",
       "                     I don't use social media      7\n",
       "                     Instagram                     7\n",
       "                     Reddit                        2\n",
       "                     WhatsApp                      2\n",
       "Andorra              Facebook                      2\n",
       "                     I don't use social media      2\n",
       "                     Reddit                        1\n",
       "                     Snapchat                      1\n",
       "                     YouTube                       1\n",
       "Angola               Twitter                       2\n",
       "                     Facebook                      1\n",
       "                     YouTube                       1\n",
       "Antigua and Barbuda  YouTube                       2\n",
       "                     Facebook                      1\n",
       "                     Instagram                     1\n",
       "                     Twitter                       1\n",
       "                     VK ВКонта́кте                 1\n",
       "Argentina            WhatsApp                    202\n",
       "                     Twitter                      80\n",
       "                     YouTube                      62\n",
       "                     Instagram                    53\n",
       "                     Reddit                       50\n",
       "                     Facebook                     45\n",
       "                     I don't use social media     22\n",
       "                     LinkedIn                     16\n",
       "Armenia              Facebook                     38\n",
       "                     YouTube                      23\n",
       "                     LinkedIn                      5\n",
       "                     Instagram                     3\n",
       "Name: SocialMedia, dtype: int64"
      ]
     },
     "execution_count": 96,
     "metadata": {},
     "output_type": "execute_result"
    }
   ],
   "source": [
    "df.groupby('Country')['SocialMedia'].value_counts().head(50)"
   ]
  },
  {
   "cell_type": "code",
   "execution_count": 97,
   "id": "4640ef13",
   "metadata": {},
   "outputs": [
    {
     "data": {
      "text/plain": [
       "Country      SocialMedia             \n",
       "Afghanistan  Facebook                    15\n",
       "             YouTube                      9\n",
       "             I don't use social media     6\n",
       "             WhatsApp                     4\n",
       "             Instagram                    1\n",
       "             LinkedIn                     1\n",
       "             Twitter                      1\n",
       "Albania      WhatsApp                    18\n",
       "             Facebook                    16\n",
       "             Instagram                   13\n",
       "             YouTube                     10\n",
       "             Twitter                      8\n",
       "             LinkedIn                     7\n",
       "             Reddit                       6\n",
       "             I don't use social media     4\n",
       "             Snapchat                     1\n",
       "             WeChat 微信                    1\n",
       "Algeria      YouTube                     42\n",
       "             Facebook                    41\n",
       "             Twitter                     14\n",
       "             LinkedIn                     9\n",
       "             I don't use social media     7\n",
       "             Instagram                    7\n",
       "             Reddit                       2\n",
       "             WhatsApp                     2\n",
       "Andorra      Facebook                     2\n",
       "             I don't use social media     2\n",
       "             Reddit                       1\n",
       "             Snapchat                     1\n",
       "             YouTube                      1\n",
       "Name: SocialMedia, dtype: int64"
      ]
     },
     "execution_count": 97,
     "metadata": {},
     "output_type": "execute_result"
    }
   ],
   "source": [
    "df.groupby('Country')['SocialMedia'].value_counts().head(30)"
   ]
  },
  {
   "cell_type": "code",
   "execution_count": null,
   "id": "45db2fba",
   "metadata": {},
   "outputs": [],
   "source": []
  },
  {
   "cell_type": "markdown",
   "id": "f18c4077",
   "metadata": {},
   "source": [
    "##  Question 2: \n",
    ">**What percentage of people in each country knows Python programming?**"
   ]
  },
  {
   "cell_type": "markdown",
   "id": "128cbeb8",
   "metadata": {},
   "source": [
    "**tc** = Total count of people from each country who participated in the survey?\n",
    "\n",
    "**pc** = Python People: Count of people from each country who knows Python"
   ]
  },
  {
   "cell_type": "markdown",
   "id": "045b2e32",
   "metadata": {},
   "source": [
    "**tc (option 1):**"
   ]
  },
  {
   "cell_type": "code",
   "execution_count": null,
   "id": "fef318d9",
   "metadata": {},
   "outputs": [],
   "source": [
    "df"
   ]
  },
  {
   "cell_type": "code",
   "execution_count": null,
   "id": "b61430a3",
   "metadata": {},
   "outputs": [],
   "source": [
    "df.loc[:, 'Country']"
   ]
  },
  {
   "cell_type": "code",
   "execution_count": null,
   "id": "a61e0e18",
   "metadata": {},
   "outputs": [],
   "source": [
    "tc = df['Country'].value_counts()\n",
    "tc.name = 'Total'\n",
    "tc"
   ]
  },
  {
   "cell_type": "code",
   "execution_count": null,
   "id": "00634605",
   "metadata": {},
   "outputs": [],
   "source": []
  },
  {
   "cell_type": "code",
   "execution_count": null,
   "id": "3112db44",
   "metadata": {},
   "outputs": [],
   "source": []
  },
  {
   "cell_type": "markdown",
   "id": "36b6d5e0",
   "metadata": {},
   "source": [
    "**tc (option 2):**"
   ]
  },
  {
   "cell_type": "code",
   "execution_count": null,
   "id": "64cf9c86",
   "metadata": {},
   "outputs": [],
   "source": [
    "dfgb = df.groupby('Country')\n",
    "dfgb"
   ]
  },
  {
   "cell_type": "code",
   "execution_count": null,
   "id": "b2fca694",
   "metadata": {},
   "outputs": [],
   "source": [
    "df.groupby('Country')['Country']"
   ]
  },
  {
   "cell_type": "code",
   "execution_count": null,
   "id": "9f6901aa",
   "metadata": {},
   "outputs": [],
   "source": [
    "df.groupby('Country')['Country'].apply(lambda x: x.value_counts()).sort_values()"
   ]
  },
  {
   "cell_type": "code",
   "execution_count": null,
   "id": "acbcaa82",
   "metadata": {},
   "outputs": [],
   "source": []
  },
  {
   "cell_type": "code",
   "execution_count": null,
   "id": "684d3e07",
   "metadata": {},
   "outputs": [],
   "source": []
  },
  {
   "cell_type": "markdown",
   "id": "aab00ae8",
   "metadata": {},
   "source": [
    "**pc:**"
   ]
  },
  {
   "cell_type": "code",
   "execution_count": null,
   "id": "d0066ac5",
   "metadata": {},
   "outputs": [],
   "source": [
    "df.loc[:, 'LanguageWorkedWith']"
   ]
  },
  {
   "cell_type": "code",
   "execution_count": null,
   "id": "db814708",
   "metadata": {},
   "outputs": [],
   "source": [
    "df.groupby('Country')['LanguageWorkedWith'].apply(lambda x:x.str.contains('Python').sum())"
   ]
  },
  {
   "cell_type": "code",
   "execution_count": null,
   "id": "b9823d30",
   "metadata": {},
   "outputs": [],
   "source": [
    "df.groupby('Country')['LanguageWorkedWith'].apply(lambda x:x.str.contains('Python').sum())"
   ]
  },
  {
   "cell_type": "code",
   "execution_count": null,
   "id": "61ef5d9b",
   "metadata": {},
   "outputs": [],
   "source": [
    "df.groupby('Country')['LanguageWorkedWith'].apply(lambda x: x.str.contains('Python'))"
   ]
  },
  {
   "cell_type": "code",
   "execution_count": null,
   "id": "9b3e1b22",
   "metadata": {},
   "outputs": [],
   "source": [
    "pp = df.groupby('Country')['LanguageWorkedWith'].apply(lambda x: x.str.contains('Python').sum())\n",
    "pp"
   ]
  },
  {
   "cell_type": "code",
   "execution_count": null,
   "id": "26205a53",
   "metadata": {},
   "outputs": [],
   "source": [
    "pp.name = 'Knows Python'"
   ]
  },
  {
   "cell_type": "code",
   "execution_count": null,
   "id": "09886e0f",
   "metadata": {},
   "outputs": [],
   "source": []
  },
  {
   "cell_type": "code",
   "execution_count": null,
   "id": "6954a136",
   "metadata": {},
   "outputs": [],
   "source": []
  },
  {
   "cell_type": "markdown",
   "id": "ced1a4b0",
   "metadata": {},
   "source": [
    "**Create a Dataframe of two series tc and pp**"
   ]
  },
  {
   "cell_type": "code",
   "execution_count": null,
   "id": "989aec12",
   "metadata": {},
   "outputs": [],
   "source": [
    "resultdf = pd.concat([tc, pp], axis=1)\n",
    "resultdf"
   ]
  },
  {
   "cell_type": "code",
   "execution_count": null,
   "id": "df17703c",
   "metadata": {},
   "outputs": [],
   "source": [
    "resultdf.loc['Pakistan']"
   ]
  },
  {
   "cell_type": "code",
   "execution_count": null,
   "id": "c670b7e9",
   "metadata": {},
   "outputs": [],
   "source": [
    "resultdf.loc['India']"
   ]
  },
  {
   "cell_type": "code",
   "execution_count": null,
   "id": "2891419b",
   "metadata": {},
   "outputs": [],
   "source": [
    "resultdf['Knows Python']/resultdf['Total']*100"
   ]
  },
  {
   "cell_type": "code",
   "execution_count": null,
   "id": "554505d1",
   "metadata": {},
   "outputs": [],
   "source": []
  },
  {
   "cell_type": "markdown",
   "id": "e96094bb",
   "metadata": {},
   "source": [
    "**Percentage of people in each country knows Python?**"
   ]
  },
  {
   "cell_type": "code",
   "execution_count": null,
   "id": "d09f7a77",
   "metadata": {},
   "outputs": [],
   "source": [
    "resultdf['Percentage'] = (resultdf['Knows Python'] / resultdf['Total']) * 100\n",
    "resultdf"
   ]
  },
  {
   "cell_type": "code",
   "execution_count": null,
   "id": "7530f928",
   "metadata": {},
   "outputs": [],
   "source": [
    "resultdf.loc['Pakistan']"
   ]
  },
  {
   "cell_type": "code",
   "execution_count": null,
   "id": "c8926157",
   "metadata": {},
   "outputs": [],
   "source": [
    "resultdf.sample(20).sort_values(by ='Percentage', ascending=False)"
   ]
  },
  {
   "cell_type": "code",
   "execution_count": null,
   "id": "f856f7c8",
   "metadata": {},
   "outputs": [],
   "source": [
    "resultdf.sort_values(by='Percentage', ascending=False).head(20)"
   ]
  },
  {
   "cell_type": "markdown",
   "id": "9716d598",
   "metadata": {},
   "source": [
    "## Let's create your own five questions and try to answer these questions."
   ]
  },
  {
   "cell_type": "code",
   "execution_count": null,
   "id": "fa5094f5",
   "metadata": {},
   "outputs": [],
   "source": [
    "# Q-01 ==???\n",
    "# Q-02 ==???\n",
    "# Q-03 ==???\n",
    "# Q-04 ==???\n",
    "# Q-05 ==???"
   ]
  },
  {
   "cell_type": "code",
   "execution_count": 98,
   "id": "a8853882",
   "metadata": {},
   "outputs": [
    {
     "data": {
      "text/plain": [
       "Index(['MainBranch', 'Hobbyist', 'Country', 'YearsCode', 'ConvertedComp',\n",
       "       'LanguageWorkedWith', 'SocialMedia', 'Age', 'Gender'],\n",
       "      dtype='object')"
      ]
     },
     "execution_count": 98,
     "metadata": {},
     "output_type": "execute_result"
    }
   ],
   "source": [
    "# columns of the dataframe\n",
    "df.columns"
   ]
  },
  {
   "cell_type": "markdown",
   "id": "e1d6c0b7",
   "metadata": {},
   "source": [
    "#### Question 03 : Average salary of each gender in each country. Analyze and Visualize"
   ]
  },
  {
   "cell_type": "code",
   "execution_count": 99,
   "id": "2d3d8b1e",
   "metadata": {},
   "outputs": [
    {
     "data": {
      "text/plain": [
       "Man                                                            77919\n",
       "Woman                                                           6344\n",
       "Non-binary, genderqueer, or gender non-conforming                597\n",
       "Man;Non-binary, genderqueer, or gender non-conforming            181\n",
       "Woman;Non-binary, genderqueer, or gender non-conforming          163\n",
       "Woman;Man                                                        132\n",
       "Woman;Man;Non-binary, genderqueer, or gender non-conforming       70\n",
       "Name: Gender, dtype: int64"
      ]
     },
     "execution_count": 99,
     "metadata": {},
     "output_type": "execute_result"
    }
   ],
   "source": [
    "df.Gender.value_counts()"
   ]
  },
  {
   "cell_type": "code",
   "execution_count": 100,
   "id": "22327a9e",
   "metadata": {},
   "outputs": [
    {
     "data": {
      "text/html": [
       "<div>\n",
       "<style scoped>\n",
       "    .dataframe tbody tr th:only-of-type {\n",
       "        vertical-align: middle;\n",
       "    }\n",
       "\n",
       "    .dataframe tbody tr th {\n",
       "        vertical-align: top;\n",
       "    }\n",
       "\n",
       "    .dataframe thead th {\n",
       "        text-align: right;\n",
       "    }\n",
       "</style>\n",
       "<table border=\"1\" class=\"dataframe\">\n",
       "  <thead>\n",
       "    <tr style=\"text-align: right;\">\n",
       "      <th></th>\n",
       "      <th>MainBranch</th>\n",
       "      <th>Hobbyist</th>\n",
       "      <th>Country</th>\n",
       "      <th>YearsCode</th>\n",
       "      <th>ConvertedComp</th>\n",
       "      <th>LanguageWorkedWith</th>\n",
       "      <th>SocialMedia</th>\n",
       "      <th>Age</th>\n",
       "      <th>Gender</th>\n",
       "    </tr>\n",
       "    <tr>\n",
       "      <th>Respondent</th>\n",
       "      <th></th>\n",
       "      <th></th>\n",
       "      <th></th>\n",
       "      <th></th>\n",
       "      <th></th>\n",
       "      <th></th>\n",
       "      <th></th>\n",
       "      <th></th>\n",
       "      <th></th>\n",
       "    </tr>\n",
       "  </thead>\n",
       "  <tbody>\n",
       "    <tr>\n",
       "      <th>1</th>\n",
       "      <td>I am a student who is learning to code</td>\n",
       "      <td>Yes</td>\n",
       "      <td>United Kingdom</td>\n",
       "      <td>4</td>\n",
       "      <td>NaN</td>\n",
       "      <td>HTML/CSS;Java;JavaScript;Python</td>\n",
       "      <td>Twitter</td>\n",
       "      <td>14.0</td>\n",
       "      <td>Men</td>\n",
       "    </tr>\n",
       "    <tr>\n",
       "      <th>2</th>\n",
       "      <td>I am a student who is learning to code</td>\n",
       "      <td>No</td>\n",
       "      <td>Bosnia and Herzegovina</td>\n",
       "      <td>NaN</td>\n",
       "      <td>NaN</td>\n",
       "      <td>C++;HTML/CSS;Python</td>\n",
       "      <td>Instagram</td>\n",
       "      <td>19.0</td>\n",
       "      <td>Men</td>\n",
       "    </tr>\n",
       "    <tr>\n",
       "      <th>3</th>\n",
       "      <td>I am not primarily a developer, but I write co...</td>\n",
       "      <td>Yes</td>\n",
       "      <td>Thailand</td>\n",
       "      <td>3</td>\n",
       "      <td>8820.0</td>\n",
       "      <td>HTML/CSS</td>\n",
       "      <td>Reddit</td>\n",
       "      <td>28.0</td>\n",
       "      <td>Men</td>\n",
       "    </tr>\n",
       "    <tr>\n",
       "      <th>4</th>\n",
       "      <td>I am a developer by profession</td>\n",
       "      <td>No</td>\n",
       "      <td>United States</td>\n",
       "      <td>3</td>\n",
       "      <td>61000.0</td>\n",
       "      <td>C;C++;C#;Python;SQL</td>\n",
       "      <td>Reddit</td>\n",
       "      <td>22.0</td>\n",
       "      <td>Men</td>\n",
       "    </tr>\n",
       "    <tr>\n",
       "      <th>5</th>\n",
       "      <td>I am a developer by profession</td>\n",
       "      <td>Yes</td>\n",
       "      <td>Ukraine</td>\n",
       "      <td>16</td>\n",
       "      <td>NaN</td>\n",
       "      <td>C++;HTML/CSS;Java;JavaScript;Python;SQL;VBA</td>\n",
       "      <td>Facebook</td>\n",
       "      <td>30.0</td>\n",
       "      <td>Men</td>\n",
       "    </tr>\n",
       "  </tbody>\n",
       "</table>\n",
       "</div>"
      ],
      "text/plain": [
       "                                                   MainBranch Hobbyist  \\\n",
       "Respondent                                                               \n",
       "1                      I am a student who is learning to code      Yes   \n",
       "2                      I am a student who is learning to code       No   \n",
       "3           I am not primarily a developer, but I write co...      Yes   \n",
       "4                              I am a developer by profession       No   \n",
       "5                              I am a developer by profession      Yes   \n",
       "\n",
       "                           Country YearsCode  ConvertedComp  \\\n",
       "Respondent                                                    \n",
       "1                   United Kingdom         4            NaN   \n",
       "2           Bosnia and Herzegovina       NaN            NaN   \n",
       "3                         Thailand         3         8820.0   \n",
       "4                    United States         3        61000.0   \n",
       "5                          Ukraine        16            NaN   \n",
       "\n",
       "                                     LanguageWorkedWith SocialMedia   Age  \\\n",
       "Respondent                                                                  \n",
       "1                       HTML/CSS;Java;JavaScript;Python     Twitter  14.0   \n",
       "2                                   C++;HTML/CSS;Python   Instagram  19.0   \n",
       "3                                              HTML/CSS      Reddit  28.0   \n",
       "4                                   C;C++;C#;Python;SQL      Reddit  22.0   \n",
       "5           C++;HTML/CSS;Java;JavaScript;Python;SQL;VBA    Facebook  30.0   \n",
       "\n",
       "           Gender  \n",
       "Respondent         \n",
       "1             Men  \n",
       "2             Men  \n",
       "3             Men  \n",
       "4             Men  \n",
       "5             Men  "
      ]
     },
     "execution_count": 100,
     "metadata": {},
     "output_type": "execute_result"
    }
   ],
   "source": [
    "# clean gender column\n",
    "def clean_gender(x):\n",
    "    if x=='Man':\n",
    "        return 'Men'\n",
    "    elif x=='Woman':\n",
    "        return 'Woman'\n",
    "    else:\n",
    "        return 'other'\n",
    "df.Gender = df.Gender.apply(clean_gender)\n",
    "df.head()"
   ]
  },
  {
   "cell_type": "code",
   "execution_count": 101,
   "id": "63fc7a89",
   "metadata": {},
   "outputs": [],
   "source": [
    "# rename ConvertedComp as salary column\n",
    "df.rename(columns={'ConvertedComp':'salary'}, inplace=True)"
   ]
  },
  {
   "cell_type": "code",
   "execution_count": 102,
   "id": "538aa28a",
   "metadata": {},
   "outputs": [
    {
     "data": {
      "text/html": [
       "<div>\n",
       "<style scoped>\n",
       "    .dataframe tbody tr th:only-of-type {\n",
       "        vertical-align: middle;\n",
       "    }\n",
       "\n",
       "    .dataframe tbody tr th {\n",
       "        vertical-align: top;\n",
       "    }\n",
       "\n",
       "    .dataframe thead th {\n",
       "        text-align: right;\n",
       "    }\n",
       "</style>\n",
       "<table border=\"1\" class=\"dataframe\">\n",
       "  <thead>\n",
       "    <tr style=\"text-align: right;\">\n",
       "      <th></th>\n",
       "      <th>mean</th>\n",
       "      <th>max</th>\n",
       "      <th>min</th>\n",
       "    </tr>\n",
       "    <tr>\n",
       "      <th>Gender</th>\n",
       "      <th></th>\n",
       "      <th></th>\n",
       "      <th></th>\n",
       "    </tr>\n",
       "  </thead>\n",
       "  <tbody>\n",
       "    <tr>\n",
       "      <th>Men</th>\n",
       "      <td>9917.979899</td>\n",
       "      <td>60672.0</td>\n",
       "      <td>100.0</td>\n",
       "    </tr>\n",
       "    <tr>\n",
       "      <th>Woman</th>\n",
       "      <td>8122.500000</td>\n",
       "      <td>24000.0</td>\n",
       "      <td>450.0</td>\n",
       "    </tr>\n",
       "    <tr>\n",
       "      <th>other</th>\n",
       "      <td>88982.333333</td>\n",
       "      <td>963048.0</td>\n",
       "      <td>1000.0</td>\n",
       "    </tr>\n",
       "  </tbody>\n",
       "</table>\n",
       "</div>"
      ],
      "text/plain": [
       "                mean       max     min\n",
       "Gender                                \n",
       "Men      9917.979899   60672.0   100.0\n",
       "Woman    8122.500000   24000.0   450.0\n",
       "other   88982.333333  963048.0  1000.0"
      ]
     },
     "execution_count": 102,
     "metadata": {},
     "output_type": "execute_result"
    }
   ],
   "source": [
    "df[df.Country =='Pakistan'].groupby('Gender')['salary'].agg(['mean','max','min'])"
   ]
  },
  {
   "cell_type": "code",
   "execution_count": 103,
   "id": "b5318810",
   "metadata": {},
   "outputs": [
    {
     "data": {
      "text/html": [
       "<div>\n",
       "<style scoped>\n",
       "    .dataframe tbody tr th:only-of-type {\n",
       "        vertical-align: middle;\n",
       "    }\n",
       "\n",
       "    .dataframe tbody tr th {\n",
       "        vertical-align: top;\n",
       "    }\n",
       "\n",
       "    .dataframe thead th {\n",
       "        text-align: right;\n",
       "    }\n",
       "</style>\n",
       "<table border=\"1\" class=\"dataframe\">\n",
       "  <thead>\n",
       "    <tr style=\"text-align: right;\">\n",
       "      <th></th>\n",
       "      <th></th>\n",
       "      <th>mean</th>\n",
       "      <th>max</th>\n",
       "      <th>min</th>\n",
       "    </tr>\n",
       "    <tr>\n",
       "      <th>Country</th>\n",
       "      <th>Gender</th>\n",
       "      <th></th>\n",
       "      <th></th>\n",
       "      <th></th>\n",
       "    </tr>\n",
       "  </thead>\n",
       "  <tbody>\n",
       "    <tr>\n",
       "      <th rowspan=\"3\" valign=\"top\">Afghanistan</th>\n",
       "      <th>Men</th>\n",
       "      <td>8778.000000</td>\n",
       "      <td>19152.0</td>\n",
       "      <td>1116.0</td>\n",
       "    </tr>\n",
       "    <tr>\n",
       "      <th>Woman</th>\n",
       "      <td>NaN</td>\n",
       "      <td>NaN</td>\n",
       "      <td>NaN</td>\n",
       "    </tr>\n",
       "    <tr>\n",
       "      <th>other</th>\n",
       "      <td>288304.000000</td>\n",
       "      <td>1000000.0</td>\n",
       "      <td>0.0</td>\n",
       "    </tr>\n",
       "    <tr>\n",
       "      <th rowspan=\"2\" valign=\"top\">Albania</th>\n",
       "      <th>Men</th>\n",
       "      <td>24126.214286</td>\n",
       "      <td>187668.0</td>\n",
       "      <td>1320.0</td>\n",
       "    </tr>\n",
       "    <tr>\n",
       "      <th>Woman</th>\n",
       "      <td>9798.000000</td>\n",
       "      <td>22080.0</td>\n",
       "      <td>4416.0</td>\n",
       "    </tr>\n",
       "    <tr>\n",
       "      <th>...</th>\n",
       "      <th>...</th>\n",
       "      <td>...</td>\n",
       "      <td>...</td>\n",
       "      <td>...</td>\n",
       "    </tr>\n",
       "    <tr>\n",
       "      <th>Yemen</th>\n",
       "      <th>other</th>\n",
       "      <td>NaN</td>\n",
       "      <td>NaN</td>\n",
       "      <td>NaN</td>\n",
       "    </tr>\n",
       "    <tr>\n",
       "      <th rowspan=\"2\" valign=\"top\">Zambia</th>\n",
       "      <th>Men</th>\n",
       "      <td>11190.714286</td>\n",
       "      <td>40524.0</td>\n",
       "      <td>400.0</td>\n",
       "    </tr>\n",
       "    <tr>\n",
       "      <th>Woman</th>\n",
       "      <td>2268.000000</td>\n",
       "      <td>2268.0</td>\n",
       "      <td>2268.0</td>\n",
       "    </tr>\n",
       "    <tr>\n",
       "      <th rowspan=\"2\" valign=\"top\">Zimbabwe</th>\n",
       "      <th>Men</th>\n",
       "      <td>34046.666667</td>\n",
       "      <td>180000.0</td>\n",
       "      <td>900.0</td>\n",
       "    </tr>\n",
       "    <tr>\n",
       "      <th>Woman</th>\n",
       "      <td>NaN</td>\n",
       "      <td>NaN</td>\n",
       "      <td>NaN</td>\n",
       "    </tr>\n",
       "  </tbody>\n",
       "</table>\n",
       "<p>438 rows × 3 columns</p>\n",
       "</div>"
      ],
      "text/plain": [
       "                             mean        max     min\n",
       "Country     Gender                                  \n",
       "Afghanistan Men       8778.000000    19152.0  1116.0\n",
       "            Woman             NaN        NaN     NaN\n",
       "            other   288304.000000  1000000.0     0.0\n",
       "Albania     Men      24126.214286   187668.0  1320.0\n",
       "            Woman     9798.000000    22080.0  4416.0\n",
       "...                           ...        ...     ...\n",
       "Yemen       other             NaN        NaN     NaN\n",
       "Zambia      Men      11190.714286    40524.0   400.0\n",
       "            Woman     2268.000000     2268.0  2268.0\n",
       "Zimbabwe    Men      34046.666667   180000.0   900.0\n",
       "            Woman             NaN        NaN     NaN\n",
       "\n",
       "[438 rows x 3 columns]"
      ]
     },
     "execution_count": 103,
     "metadata": {},
     "output_type": "execute_result"
    }
   ],
   "source": [
    "df.groupby(['Country','Gender'])['salary'].agg(['mean','max','min'])"
   ]
  },
  {
   "cell_type": "code",
   "execution_count": 104,
   "id": "f5695653",
   "metadata": {},
   "outputs": [
    {
     "data": {
      "text/html": [
       "<div>\n",
       "<style scoped>\n",
       "    .dataframe tbody tr th:only-of-type {\n",
       "        vertical-align: middle;\n",
       "    }\n",
       "\n",
       "    .dataframe tbody tr th {\n",
       "        vertical-align: top;\n",
       "    }\n",
       "\n",
       "    .dataframe thead th {\n",
       "        text-align: right;\n",
       "    }\n",
       "</style>\n",
       "<table border=\"1\" class=\"dataframe\">\n",
       "  <thead>\n",
       "    <tr style=\"text-align: right;\">\n",
       "      <th></th>\n",
       "      <th>Country</th>\n",
       "      <th>Gender</th>\n",
       "      <th>mean</th>\n",
       "      <th>max</th>\n",
       "      <th>min</th>\n",
       "    </tr>\n",
       "  </thead>\n",
       "  <tbody>\n",
       "    <tr>\n",
       "      <th>269</th>\n",
       "      <td>Netherlands</td>\n",
       "      <td>Woman</td>\n",
       "      <td>109061.405797</td>\n",
       "      <td>2000000.0</td>\n",
       "      <td>2850.0</td>\n",
       "    </tr>\n",
       "    <tr>\n",
       "      <th>342</th>\n",
       "      <td>Singapore</td>\n",
       "      <td>Men</td>\n",
       "      <td>121748.580420</td>\n",
       "      <td>2000000.0</td>\n",
       "      <td>3996.0</td>\n",
       "    </tr>\n",
       "    <tr>\n",
       "      <th>418</th>\n",
       "      <td>United States</td>\n",
       "      <td>Woman</td>\n",
       "      <td>187551.161157</td>\n",
       "      <td>2000000.0</td>\n",
       "      <td>0.0</td>\n",
       "    </tr>\n",
       "    <tr>\n",
       "      <th>419</th>\n",
       "      <td>United States</td>\n",
       "      <td>other</td>\n",
       "      <td>240338.536765</td>\n",
       "      <td>2000000.0</td>\n",
       "      <td>0.0</td>\n",
       "    </tr>\n",
       "    <tr>\n",
       "      <th>174</th>\n",
       "      <td>India</td>\n",
       "      <td>Men</td>\n",
       "      <td>28063.437297</td>\n",
       "      <td>2000000.0</td>\n",
       "      <td>0.0</td>\n",
       "    </tr>\n",
       "    <tr>\n",
       "      <th>...</th>\n",
       "      <td>...</td>\n",
       "      <td>...</td>\n",
       "      <td>...</td>\n",
       "      <td>...</td>\n",
       "      <td>...</td>\n",
       "    </tr>\n",
       "    <tr>\n",
       "      <th>416</th>\n",
       "      <td>United Republic of Tanzania</td>\n",
       "      <td>Woman</td>\n",
       "      <td>NaN</td>\n",
       "      <td>NaN</td>\n",
       "      <td>NaN</td>\n",
       "    </tr>\n",
       "    <tr>\n",
       "      <th>425</th>\n",
       "      <td>Uzbekistan</td>\n",
       "      <td>other</td>\n",
       "      <td>NaN</td>\n",
       "      <td>NaN</td>\n",
       "      <td>NaN</td>\n",
       "    </tr>\n",
       "    <tr>\n",
       "      <th>428</th>\n",
       "      <td>Venezuela, Bolivarian Republic of...</td>\n",
       "      <td>other</td>\n",
       "      <td>NaN</td>\n",
       "      <td>NaN</td>\n",
       "      <td>NaN</td>\n",
       "    </tr>\n",
       "    <tr>\n",
       "      <th>433</th>\n",
       "      <td>Yemen</td>\n",
       "      <td>other</td>\n",
       "      <td>NaN</td>\n",
       "      <td>NaN</td>\n",
       "      <td>NaN</td>\n",
       "    </tr>\n",
       "    <tr>\n",
       "      <th>437</th>\n",
       "      <td>Zimbabwe</td>\n",
       "      <td>Woman</td>\n",
       "      <td>NaN</td>\n",
       "      <td>NaN</td>\n",
       "      <td>NaN</td>\n",
       "    </tr>\n",
       "  </tbody>\n",
       "</table>\n",
       "<p>438 rows × 5 columns</p>\n",
       "</div>"
      ],
      "text/plain": [
       "                                  Country Gender           mean        max  \\\n",
       "269                           Netherlands  Woman  109061.405797  2000000.0   \n",
       "342                             Singapore    Men  121748.580420  2000000.0   \n",
       "418                         United States  Woman  187551.161157  2000000.0   \n",
       "419                         United States  other  240338.536765  2000000.0   \n",
       "174                                 India    Men   28063.437297  2000000.0   \n",
       "..                                    ...    ...            ...        ...   \n",
       "416           United Republic of Tanzania  Woman            NaN        NaN   \n",
       "425                            Uzbekistan  other            NaN        NaN   \n",
       "428  Venezuela, Bolivarian Republic of...  other            NaN        NaN   \n",
       "433                                 Yemen  other            NaN        NaN   \n",
       "437                              Zimbabwe  Woman            NaN        NaN   \n",
       "\n",
       "        min  \n",
       "269  2850.0  \n",
       "342  3996.0  \n",
       "418     0.0  \n",
       "419     0.0  \n",
       "174     0.0  \n",
       "..      ...  \n",
       "416     NaN  \n",
       "425     NaN  \n",
       "428     NaN  \n",
       "433     NaN  \n",
       "437     NaN  \n",
       "\n",
       "[438 rows x 5 columns]"
      ]
     },
     "execution_count": 104,
     "metadata": {},
     "output_type": "execute_result"
    }
   ],
   "source": [
    "new_df = df.groupby(['Country','Gender'])['salary'].agg(['mean','max','min']).reset_index().sort_values(by=['max'], ascending=False)\n",
    "new_df"
   ]
  },
  {
   "cell_type": "code",
   "execution_count": 105,
   "id": "e04c6dcb",
   "metadata": {},
   "outputs": [],
   "source": [
    "import seaborn as sns\n",
    "import matplotlib.pyplot as plt\n",
    "sns.set_style('darkgrid')"
   ]
  },
  {
   "cell_type": "code",
   "execution_count": 106,
   "id": "8cbfa5bd",
   "metadata": {},
   "outputs": [],
   "source": [
    "# sns.boxplot('', data=new2)"
   ]
  },
  {
   "cell_type": "code",
   "execution_count": 107,
   "id": "44eeb9ba",
   "metadata": {},
   "outputs": [
    {
     "data": {
      "text/plain": [
       "<Axes: xlabel='Gender', ylabel='mean'>"
      ]
     },
     "execution_count": 107,
     "metadata": {},
     "output_type": "execute_result"
    },
    {
     "data": {
      "image/png": "[encoded data removed]",
      "text/plain": [
       "<Figure size 640x480 with 1 Axes>"
      ]
     },
     "metadata": {},
     "output_type": "display_data"
    }
   ],
   "source": [
    "sns.barplot(x= 'Gender', y='mean', data=new_df)"
   ]
  },
  {
   "cell_type": "code",
   "execution_count": 108,
   "id": "fa8bc83f",
   "metadata": {},
   "outputs": [
    {
     "data": {
      "image/png": "[encoded data removed]",
      "text/plain": [
       "<Figure size 1500x1000 with 1 Axes>"
      ]
     },
     "metadata": {},
     "output_type": "display_data"
    }
   ],
   "source": [
    "new2 = new_df.sort_values(by='mean', ascending=False).sample(10)\n",
    "plt.figure(figsize=(15,10))\n",
    "sns.barplot(x='mean', y='Country', data=new2)\n",
    "plt.xticks(rotation=90)\n",
    "plt.show()"
   ]
  },
  {
   "cell_type": "markdown",
   "id": "b5bb2d44",
   "metadata": {},
   "source": [
    "#### Question no 04 :Top ten countries salary according yearsCode"
   ]
  },
  {
   "cell_type": "code",
   "execution_count": 109,
   "id": "d202e642",
   "metadata": {},
   "outputs": [
    {
     "data": {
      "text/plain": [
       "array(['4', nan, '3', '16', '13', '6', '8', '12', '2', '5', '17', '10',\n",
       "       '14', '35', '7', 'Less than 1 year', '30', '9', '26', '40', '19',\n",
       "       '15', '20', '28', '25', '1', '22', '11', '33', '50', '41', '18',\n",
       "       '34', '24', '23', '42', '27', '21', '36', '32', '39', '38', '31',\n",
       "       '37', 'More than 50 years', '29', '44', '45', '48', '46', '43',\n",
       "       '47', '49'], dtype=object)"
      ]
     },
     "execution_count": 109,
     "metadata": {},
     "output_type": "execute_result"
    }
   ],
   "source": [
    "df.YearsCode.unique()"
   ]
  },
  {
   "cell_type": "code",
   "execution_count": 110,
   "id": "c42a9440",
   "metadata": {},
   "outputs": [],
   "source": [
    "# 1-10 years beginners -> Beginners\n",
    "# 11-20 years -> Intermediate\n",
    "# 21-30 -> EXperted\n",
    "# 31-40 -> ProExperted\n",
    "# 41-50 -> MaxProExperted"
   ]
  },
  {
   "cell_type": "code",
   "execution_count": 111,
   "id": "1bc84a04",
   "metadata": {},
   "outputs": [],
   "source": [
    "def cleanYearsCode(x):\n",
    "    if x=='Less than 1 year':\n",
    "        return float(0)\n",
    "    elif x=='More than 50 years':\n",
    "        return float(50)\n",
    "    else:\n",
    "        return float(x)\n",
    "    \n",
    "df.YearsCode = df.YearsCode.apply(cleanYearsCode)\n"
   ]
  },
  {
   "cell_type": "code",
   "execution_count": 112,
   "id": "8e4ff81f",
   "metadata": {},
   "outputs": [],
   "source": [
    "def modifyYearsCode(x):\n",
    "    if (x>=0  and x<=10):\n",
    "        return \"Beginners\"\n",
    "    elif (x>=11 and x<=20):\n",
    "        return 'Intermediate'\n",
    "    elif (x>=21 and x<=30):\n",
    "        return \"Expert\"\n",
    "    elif (x>=31 and x<= 40):\n",
    "        return 'ProExpert'\n",
    "    else:\n",
    "        return \"ProMaxExpert\"\n",
    "df.YearsCode = df.YearsCode.apply(modifyYearsCode)\n"
   ]
  },
  {
   "cell_type": "code",
   "execution_count": 113,
   "id": "4aa2d051",
   "metadata": {},
   "outputs": [
    {
     "data": {
      "text/plain": [
       "Beginners       52107\n",
       "Intermediate    23395\n",
       "Expert           7874\n",
       "ProExpert        3811\n",
       "ProMaxExpert     1696\n",
       "Name: YearsCode, dtype: int64"
      ]
     },
     "execution_count": 113,
     "metadata": {},
     "output_type": "execute_result"
    }
   ],
   "source": [
    "df.YearsCode.value_counts()"
   ]
  },
  {
   "cell_type": "code",
   "execution_count": 114,
   "id": "4ee0e249",
   "metadata": {},
   "outputs": [
    {
     "data": {
      "image/png": "[encoded data removed]",
      "text/plain": [
       "<Figure size 1000x700 with 1 Axes>"
      ]
     },
     "metadata": {},
     "output_type": "display_data"
    }
   ],
   "source": [
    "plt.figure(figsize=(10,7))\n",
    "sns.barplot(x='YearsCode', y=df.salary, data=df)\n",
    "plt.show()"
   ]
  },
  {
   "cell_type": "code",
   "execution_count": 115,
   "id": "65131f2b",
   "metadata": {},
   "outputs": [
    {
     "name": "stderr",
     "output_type": "stream",
     "text": [
      "/home/dell/.local/lib/python3.8/site-packages/seaborn/_decorators.py:36: FutureWarning: Pass the following variable as a keyword arg: x. From version 0.12, the only valid positional argument will be `data`, and passing other arguments without an explicit keyword will result in an error or misinterpretation.\n",
      "  warnings.warn(\n"
     ]
    },
    {
     "data": {
      "image/png": "[encoded data removed]",
      "text/plain": [
       "<Figure size 640x480 with 1 Axes>"
      ]
     },
     "metadata": {},
     "output_type": "display_data"
    }
   ],
   "source": [
    "sns.countplot('YearsCode', data=df)\n",
    "plt.show()"
   ]
  },
  {
   "cell_type": "code",
   "execution_count": 116,
   "id": "adcd715b",
   "metadata": {},
   "outputs": [
    {
     "ename": "KeyError",
     "evalue": "United States        20949\nIndia                 9061\nGermany               5866\nUnited Kingdom        5737\nCanada                3395\n                     ...  \nTonga                    1\nTimor-Leste              1\nNorth Korea              1\nBrunei Darussalam        1\nChad                     1\nName: Country, Length: 179, dtype: int64",
     "output_type": "error",
     "traceback": [
      "\u001b[0;31m---------------------------------------------------------------------------\u001b[0m",
      "\u001b[0;31mKeyError\u001b[0m                                  Traceback (most recent call last)",
      "\u001b[0;32m/tmp/ipykernel_63674/2462966312.py\u001b[0m in \u001b[0;36m?\u001b[0;34m()\u001b[0m\n\u001b[0;32m----> 1\u001b[0;31m \u001b[0mdf\u001b[0m\u001b[0;34m[\u001b[0m\u001b[0;34m[\u001b[0m\u001b[0;34m'Country'\u001b[0m\u001b[0;34m,\u001b[0m\u001b[0;34m'YearsCode'\u001b[0m\u001b[0;34m,\u001b[0m\u001b[0;34m'salary'\u001b[0m\u001b[0;34m]\u001b[0m\u001b[0;34m]\u001b[0m\u001b[0;34m.\u001b[0m\u001b[0msort_values\u001b[0m\u001b[0;34m(\u001b[0m\u001b[0mby\u001b[0m\u001b[0;34m=\u001b[0m\u001b[0mdf\u001b[0m\u001b[0;34m.\u001b[0m\u001b[0mCountry\u001b[0m\u001b[0;34m.\u001b[0m\u001b[0mvalue_counts\u001b[0m\u001b[0;34m(\u001b[0m\u001b[0;34m)\u001b[0m\u001b[0;34m)\u001b[0m\u001b[0;34m\u001b[0m\u001b[0;34m\u001b[0m\u001b[0m\n\u001b[0m",
      "\u001b[0;32m~/.local/lib/python3.8/site-packages/pandas/util/_decorators.py\u001b[0m in \u001b[0;36m?\u001b[0;34m(*args, **kwargs)\u001b[0m\n\u001b[1;32m    327\u001b[0m                     \u001b[0mmsg\u001b[0m\u001b[0;34m.\u001b[0m\u001b[0mformat\u001b[0m\u001b[0;34m(\u001b[0m\u001b[0marguments\u001b[0m\u001b[0;34m=\u001b[0m\u001b[0m_format_argument_list\u001b[0m\u001b[0;34m(\u001b[0m\u001b[0mallow_args\u001b[0m\u001b[0;34m)\u001b[0m\u001b[0;34m)\u001b[0m\u001b[0;34m,\u001b[0m\u001b[0;34m\u001b[0m\u001b[0;34m\u001b[0m\u001b[0m\n\u001b[1;32m    328\u001b[0m                     \u001b[0mFutureWarning\u001b[0m\u001b[0;34m,\u001b[0m\u001b[0;34m\u001b[0m\u001b[0;34m\u001b[0m\u001b[0m\n\u001b[1;32m    329\u001b[0m                     \u001b[0mstacklevel\u001b[0m\u001b[0;34m=\u001b[0m\u001b[0mfind_stack_level\u001b[0m\u001b[0;34m(\u001b[0m\u001b[0;34m)\u001b[0m\u001b[0;34m,\u001b[0m\u001b[0;34m\u001b[0m\u001b[0;34m\u001b[0m\u001b[0m\n\u001b[1;32m    330\u001b[0m                 )\n\u001b[0;32m--> 331\u001b[0;31m             \u001b[0;32mreturn\u001b[0m \u001b[0mfunc\u001b[0m\u001b[0;34m(\u001b[0m\u001b[0;34m*\u001b[0m\u001b[0margs\u001b[0m\u001b[0;34m,\u001b[0m \u001b[0;34m**\u001b[0m\u001b[0mkwargs\u001b[0m\u001b[0;34m)\u001b[0m\u001b[0;34m\u001b[0m\u001b[0;34m\u001b[0m\u001b[0m\n\u001b[0m",
      "\u001b[0;32m~/.local/lib/python3.8/site-packages/pandas/core/frame.py\u001b[0m in \u001b[0;36m?\u001b[0;34m(self, by, axis, ascending, inplace, kind, na_position, ignore_index, key)\u001b[0m\n\u001b[1;32m   6908\u001b[0m         \u001b[0;32melif\u001b[0m \u001b[0mlen\u001b[0m\u001b[0;34m(\u001b[0m\u001b[0mby\u001b[0m\u001b[0;34m)\u001b[0m\u001b[0;34m:\u001b[0m\u001b[0;34m\u001b[0m\u001b[0;34m\u001b[0m\u001b[0m\n\u001b[1;32m   6909\u001b[0m             \u001b[0;31m# len(by) == 1\u001b[0m\u001b[0;34m\u001b[0m\u001b[0;34m\u001b[0m\u001b[0;34m\u001b[0m\u001b[0m\n\u001b[1;32m   6910\u001b[0m \u001b[0;34m\u001b[0m\u001b[0m\n\u001b[1;32m   6911\u001b[0m             \u001b[0mby\u001b[0m \u001b[0;34m=\u001b[0m \u001b[0mby\u001b[0m\u001b[0;34m[\u001b[0m\u001b[0;36m0\u001b[0m\u001b[0;34m]\u001b[0m\u001b[0;34m\u001b[0m\u001b[0;34m\u001b[0m\u001b[0m\n\u001b[0;32m-> 6912\u001b[0;31m             \u001b[0mk\u001b[0m \u001b[0;34m=\u001b[0m \u001b[0mself\u001b[0m\u001b[0;34m.\u001b[0m\u001b[0m_get_label_or_level_values\u001b[0m\u001b[0;34m(\u001b[0m\u001b[0mby\u001b[0m\u001b[0;34m,\u001b[0m \u001b[0maxis\u001b[0m\u001b[0;34m=\u001b[0m\u001b[0maxis\u001b[0m\u001b[0;34m)\u001b[0m\u001b[0;34m\u001b[0m\u001b[0;34m\u001b[0m\u001b[0m\n\u001b[0m\u001b[1;32m   6913\u001b[0m \u001b[0;34m\u001b[0m\u001b[0m\n\u001b[1;32m   6914\u001b[0m             \u001b[0;31m# need to rewrap column in Series to apply key function\u001b[0m\u001b[0;34m\u001b[0m\u001b[0;34m\u001b[0m\u001b[0;34m\u001b[0m\u001b[0m\n\u001b[1;32m   6915\u001b[0m             \u001b[0;32mif\u001b[0m \u001b[0mkey\u001b[0m \u001b[0;32mis\u001b[0m \u001b[0;32mnot\u001b[0m \u001b[0;32mNone\u001b[0m\u001b[0;34m:\u001b[0m\u001b[0;34m\u001b[0m\u001b[0;34m\u001b[0m\u001b[0m\n",
      "\u001b[0;32m~/.local/lib/python3.8/site-packages/pandas/core/generic.py\u001b[0m in \u001b[0;36m?\u001b[0;34m(self, key, axis)\u001b[0m\n\u001b[1;32m   1846\u001b[0m                 \u001b[0;34m.\u001b[0m\u001b[0mget_level_values\u001b[0m\u001b[0;34m(\u001b[0m\u001b[0mkey\u001b[0m\u001b[0;34m)\u001b[0m  \u001b[0;31m# type: ignore[assignment]\u001b[0m\u001b[0;34m\u001b[0m\u001b[0;34m\u001b[0m\u001b[0m\n\u001b[1;32m   1847\u001b[0m                 \u001b[0;34m.\u001b[0m\u001b[0m_values\u001b[0m\u001b[0;34m\u001b[0m\u001b[0;34m\u001b[0m\u001b[0m\n\u001b[1;32m   1848\u001b[0m             )\n\u001b[1;32m   1849\u001b[0m         \u001b[0;32melse\u001b[0m\u001b[0;34m:\u001b[0m\u001b[0;34m\u001b[0m\u001b[0;34m\u001b[0m\u001b[0m\n\u001b[0;32m-> 1850\u001b[0;31m             \u001b[0;32mraise\u001b[0m \u001b[0mKeyError\u001b[0m\u001b[0;34m(\u001b[0m\u001b[0mkey\u001b[0m\u001b[0;34m)\u001b[0m\u001b[0;34m\u001b[0m\u001b[0;34m\u001b[0m\u001b[0m\n\u001b[0m\u001b[1;32m   1851\u001b[0m \u001b[0;34m\u001b[0m\u001b[0m\n\u001b[1;32m   1852\u001b[0m         \u001b[0;31m# Check for duplicates\u001b[0m\u001b[0;34m\u001b[0m\u001b[0;34m\u001b[0m\u001b[0;34m\u001b[0m\u001b[0m\n\u001b[1;32m   1853\u001b[0m         \u001b[0;32mif\u001b[0m \u001b[0mvalues\u001b[0m\u001b[0;34m.\u001b[0m\u001b[0mndim\u001b[0m \u001b[0;34m>\u001b[0m \u001b[0;36m1\u001b[0m\u001b[0;34m:\u001b[0m\u001b[0;34m\u001b[0m\u001b[0;34m\u001b[0m\u001b[0m\n",
      "\u001b[0;31mKeyError\u001b[0m: United States        20949\nIndia                 9061\nGermany               5866\nUnited Kingdom        5737\nCanada                3395\n                     ...  \nTonga                    1\nTimor-Leste              1\nNorth Korea              1\nBrunei Darussalam        1\nChad                     1\nName: Country, Length: 179, dtype: int64"
     ]
    }
   ],
   "source": [
    "df[['Country','YearsCode','salary']].sort_values(by=df.Country.value_counts())"
   ]
  },
  {
   "cell_type": "code",
   "execution_count": 117,
   "id": "45c0b08b",
   "metadata": {},
   "outputs": [
    {
     "data": {
      "text/plain": [
       "United States         20949\n",
       "India                  9061\n",
       "Germany                5866\n",
       "United Kingdom         5737\n",
       "Canada                 3395\n",
       "France                 2391\n",
       "Brazil                 1948\n",
       "Poland                 1922\n",
       "Australia              1903\n",
       "Netherlands            1852\n",
       "Russian Federation     1694\n",
       "Spain                  1604\n",
       "Italy                  1576\n",
       "Sweden                 1274\n",
       "Switzerland             978\n",
       "Name: Country, dtype: int64"
      ]
     },
     "execution_count": 117,
     "metadata": {},
     "output_type": "execute_result"
    }
   ],
   "source": [
    "df.Country.value_counts().head(15)"
   ]
  },
  {
   "cell_type": "code",
   "execution_count": 118,
   "id": "1f1c760a",
   "metadata": {},
   "outputs": [
    {
     "name": "stderr",
     "output_type": "stream",
     "text": [
      "/tmp/ipykernel_63674/734322197.py:1: FutureWarning: Indexing with multiple keys (implicitly converted to a tuple of keys) will be deprecated, use a list instead.\n",
      "  df1 = df.groupby('Country')['YearsCode','salary'].value_counts().reset_index().sort_values(by='salary', ascending=False).sample(10)\n"
     ]
    }
   ],
   "source": [
    "df1 = df.groupby('Country')['YearsCode','salary'].value_counts().reset_index().sort_values(by='salary', ascending=False).sample(10)"
   ]
  },
  {
   "cell_type": "code",
   "execution_count": 119,
   "id": "7426eaa5",
   "metadata": {},
   "outputs": [
    {
     "name": "stderr",
     "output_type": "stream",
     "text": [
      "/tmp/ipykernel_63674/2336438684.py:1: FutureWarning: Indexing with multiple keys (implicitly converted to a tuple of keys) will be deprecated, use a list instead.\n",
      "  df.groupby('Country')['YearsCode','salary'].value_counts()\n"
     ]
    },
    {
     "data": {
      "text/plain": [
       "Country      YearsCode     salary \n",
       "Afghanistan  Beginners     0.0        1\n",
       "                           1596.0     1\n",
       "                           3996.0     1\n",
       "                           4464.0     1\n",
       "                           7980.0     1\n",
       "                                     ..\n",
       "Zimbabwe     Expert        30000.0    1\n",
       "             Intermediate  6000.0     1\n",
       "                           18000.0    1\n",
       "                           28800.0    1\n",
       "                           70000.0    1\n",
       "Length: 20592, dtype: int64"
      ]
     },
     "execution_count": 119,
     "metadata": {},
     "output_type": "execute_result"
    }
   ],
   "source": [
    "df.groupby('Country')['YearsCode','salary'].value_counts()"
   ]
  },
  {
   "cell_type": "code",
   "execution_count": 120,
   "id": "af9ede2c",
   "metadata": {},
   "outputs": [
    {
     "data": {
      "image/png": "[encoded data removed]",
      "text/plain": [
       "<Figure size 1000x1000 with 1 Axes>"
      ]
     },
     "metadata": {},
     "output_type": "display_data"
    }
   ],
   "source": [
    "plt.figure(figsize=(10,10))\n",
    "sns.barplot(y='Country',x='salary',hue='YearsCode', data=df1)\n",
    "plt.show()"
   ]
  },
  {
   "cell_type": "code",
   "execution_count": null,
   "id": "c8f8f3db",
   "metadata": {},
   "outputs": [],
   "source": []
  },
  {
   "cell_type": "code",
   "execution_count": null,
   "id": "c396ee76",
   "metadata": {},
   "outputs": [],
   "source": []
  },
  {
   "cell_type": "code",
   "execution_count": null,
   "id": "fedf81bd",
   "metadata": {},
   "outputs": [],
   "source": []
  },
  {
   "cell_type": "markdown",
   "id": "e2f7f861",
   "metadata": {},
   "source": [
    "## Practice Exercise 01"
   ]
  },
  {
   "cell_type": "markdown",
   "id": "98240fc4",
   "metadata": {},
   "source": [
    "#### Step 1. Import the necessary libraries"
   ]
  },
  {
   "cell_type": "markdown",
   "id": "f60f4136",
   "metadata": {},
   "source": [
    "#### Step 2. Assign it to a variable called drinks."
   ]
  },
  {
   "cell_type": "code",
   "execution_count": 126,
   "id": "347a2a5b",
   "metadata": {},
   "outputs": [
    {
     "data": {
      "text/html": [
       "<div>\n",
       "<style scoped>\n",
       "    .dataframe tbody tr th:only-of-type {\n",
       "        vertical-align: middle;\n",
       "    }\n",
       "\n",
       "    .dataframe tbody tr th {\n",
       "        vertical-align: top;\n",
       "    }\n",
       "\n",
       "    .dataframe thead th {\n",
       "        text-align: right;\n",
       "    }\n",
       "</style>\n",
       "<table border=\"1\" class=\"dataframe\">\n",
       "  <thead>\n",
       "    <tr style=\"text-align: right;\">\n",
       "      <th></th>\n",
       "      <th>country</th>\n",
       "      <th>beer_servings</th>\n",
       "      <th>spirit_servings</th>\n",
       "      <th>wine_servings</th>\n",
       "      <th>total_litres_of_pure_alcohol</th>\n",
       "      <th>continent</th>\n",
       "    </tr>\n",
       "  </thead>\n",
       "  <tbody>\n",
       "    <tr>\n",
       "      <th>0</th>\n",
       "      <td>Afghanistan</td>\n",
       "      <td>0</td>\n",
       "      <td>0</td>\n",
       "      <td>0</td>\n",
       "      <td>0.0</td>\n",
       "      <td>AS</td>\n",
       "    </tr>\n",
       "    <tr>\n",
       "      <th>1</th>\n",
       "      <td>Albania</td>\n",
       "      <td>89</td>\n",
       "      <td>132</td>\n",
       "      <td>54</td>\n",
       "      <td>4.9</td>\n",
       "      <td>EU</td>\n",
       "    </tr>\n",
       "    <tr>\n",
       "      <th>2</th>\n",
       "      <td>Algeria</td>\n",
       "      <td>25</td>\n",
       "      <td>0</td>\n",
       "      <td>14</td>\n",
       "      <td>0.7</td>\n",
       "      <td>AF</td>\n",
       "    </tr>\n",
       "    <tr>\n",
       "      <th>3</th>\n",
       "      <td>Andorra</td>\n",
       "      <td>245</td>\n",
       "      <td>138</td>\n",
       "      <td>312</td>\n",
       "      <td>12.4</td>\n",
       "      <td>EU</td>\n",
       "    </tr>\n",
       "    <tr>\n",
       "      <th>4</th>\n",
       "      <td>Angola</td>\n",
       "      <td>217</td>\n",
       "      <td>57</td>\n",
       "      <td>45</td>\n",
       "      <td>5.9</td>\n",
       "      <td>AF</td>\n",
       "    </tr>\n",
       "  </tbody>\n",
       "</table>\n",
       "</div>"
      ],
      "text/plain": [
       "       country  beer_servings  spirit_servings  wine_servings  \\\n",
       "0  Afghanistan              0                0              0   \n",
       "1      Albania             89              132             54   \n",
       "2      Algeria             25                0             14   \n",
       "3      Andorra            245              138            312   \n",
       "4       Angola            217               57             45   \n",
       "\n",
       "   total_litres_of_pure_alcohol continent  \n",
       "0                           0.0        AS  \n",
       "1                           4.9        EU  \n",
       "2                           0.7        AF  \n",
       "3                          12.4        EU  \n",
       "4                           5.9        AF  "
      ]
     },
     "execution_count": 126,
     "metadata": {},
     "output_type": "execute_result"
    }
   ],
   "source": [
    "drinks = pd.read_csv('datasets/drinks.csv')\n",
    "drinks.head()"
   ]
  },
  {
   "cell_type": "code",
   "execution_count": 127,
   "id": "a54cfc14",
   "metadata": {},
   "outputs": [
    {
     "name": "stdout",
     "output_type": "stream",
     "text": [
      "<class 'pandas.core.frame.DataFrame'>\n",
      "RangeIndex: 193 entries, 0 to 192\n",
      "Data columns (total 6 columns):\n",
      " #   Column                        Non-Null Count  Dtype  \n",
      "---  ------                        --------------  -----  \n",
      " 0   country                       193 non-null    object \n",
      " 1   beer_servings                 193 non-null    int64  \n",
      " 2   spirit_servings               193 non-null    int64  \n",
      " 3   wine_servings                 193 non-null    int64  \n",
      " 4   total_litres_of_pure_alcohol  193 non-null    float64\n",
      " 5   continent                     170 non-null    object \n",
      "dtypes: float64(1), int64(3), object(2)\n",
      "memory usage: 9.2+ KB\n"
     ]
    }
   ],
   "source": [
    "drinks.info()"
   ]
  },
  {
   "cell_type": "code",
   "execution_count": null,
   "id": "81eaa1d5",
   "metadata": {},
   "outputs": [],
   "source": []
  },
  {
   "cell_type": "markdown",
   "id": "f50ebb51",
   "metadata": {},
   "source": [
    "#### Step 4. Which continent drinks more beer on average?"
   ]
  },
  {
   "cell_type": "markdown",
   "id": "772bcccf",
   "metadata": {},
   "source": [
    "List of all continets\n",
    "```\n",
    "Asia \n",
    "Africa \n",
    "Europe \n",
    "North America \n",
    "South America\n",
    "Australia/Oceania \n",
    "Antarctica\n",
    "```"
   ]
  },
  {
   "cell_type": "code",
   "execution_count": 128,
   "id": "9a696435",
   "metadata": {},
   "outputs": [
    {
     "data": {
      "text/plain": [
       "Index(['country', 'beer_servings', 'spirit_servings', 'wine_servings',\n",
       "       'total_litres_of_pure_alcohol', 'continent'],\n",
       "      dtype='object')"
      ]
     },
     "execution_count": 128,
     "metadata": {},
     "output_type": "execute_result"
    }
   ],
   "source": [
    "drinks.columns"
   ]
  },
  {
   "cell_type": "code",
   "execution_count": 129,
   "id": "1a3961d8",
   "metadata": {},
   "outputs": [
    {
     "data": {
      "text/plain": [
       "AF    53\n",
       "EU    45\n",
       "AS    44\n",
       "OC    16\n",
       "SA    12\n",
       "Name: continent, dtype: int64"
      ]
     },
     "execution_count": 129,
     "metadata": {},
     "output_type": "execute_result"
    }
   ],
   "source": [
    "drinks.continent.value_counts()"
   ]
  },
  {
   "cell_type": "code",
   "execution_count": 130,
   "id": "452f06a4",
   "metadata": {},
   "outputs": [
    {
     "data": {
      "text/html": [
       "<div>\n",
       "<style scoped>\n",
       "    .dataframe tbody tr th:only-of-type {\n",
       "        vertical-align: middle;\n",
       "    }\n",
       "\n",
       "    .dataframe tbody tr th {\n",
       "        vertical-align: top;\n",
       "    }\n",
       "\n",
       "    .dataframe thead th {\n",
       "        text-align: right;\n",
       "    }\n",
       "</style>\n",
       "<table border=\"1\" class=\"dataframe\">\n",
       "  <thead>\n",
       "    <tr style=\"text-align: right;\">\n",
       "      <th></th>\n",
       "      <th>beer_servings</th>\n",
       "    </tr>\n",
       "    <tr>\n",
       "      <th>continent</th>\n",
       "      <th></th>\n",
       "    </tr>\n",
       "  </thead>\n",
       "  <tbody>\n",
       "    <tr>\n",
       "      <th>AS</th>\n",
       "      <td>37.045455</td>\n",
       "    </tr>\n",
       "    <tr>\n",
       "      <th>AF</th>\n",
       "      <td>61.471698</td>\n",
       "    </tr>\n",
       "    <tr>\n",
       "      <th>OC</th>\n",
       "      <td>89.687500</td>\n",
       "    </tr>\n",
       "    <tr>\n",
       "      <th>SA</th>\n",
       "      <td>175.083333</td>\n",
       "    </tr>\n",
       "    <tr>\n",
       "      <th>EU</th>\n",
       "      <td>193.777778</td>\n",
       "    </tr>\n",
       "  </tbody>\n",
       "</table>\n",
       "</div>"
      ],
      "text/plain": [
       "           beer_servings\n",
       "continent               \n",
       "AS             37.045455\n",
       "AF             61.471698\n",
       "OC             89.687500\n",
       "SA            175.083333\n",
       "EU            193.777778"
      ]
     },
     "execution_count": 130,
     "metadata": {},
     "output_type": "execute_result"
    }
   ],
   "source": [
    "drinks.groupby('continent').agg({'beer_servings':'mean'}).sort_values(by='beer_servings')"
   ]
  },
  {
   "cell_type": "code",
   "execution_count": null,
   "id": "2580c95b",
   "metadata": {},
   "outputs": [],
   "source": []
  },
  {
   "cell_type": "markdown",
   "id": "8d0a3253",
   "metadata": {},
   "source": [
    "#### Step 5. For each continent print the statistics for wine consumption."
   ]
  },
  {
   "cell_type": "code",
   "execution_count": 131,
   "id": "b6e09f98",
   "metadata": {},
   "outputs": [
    {
     "data": {
      "text/plain": [
       "Index(['country', 'beer_servings', 'spirit_servings', 'wine_servings',\n",
       "       'total_litres_of_pure_alcohol', 'continent'],\n",
       "      dtype='object')"
      ]
     },
     "execution_count": 131,
     "metadata": {},
     "output_type": "execute_result"
    }
   ],
   "source": [
    "# df.groupby('')\n",
    "drinks.columns"
   ]
  },
  {
   "cell_type": "code",
   "execution_count": 132,
   "id": "5577804d",
   "metadata": {},
   "outputs": [
    {
     "data": {
      "text/html": [
       "<div>\n",
       "<style scoped>\n",
       "    .dataframe tbody tr th:only-of-type {\n",
       "        vertical-align: middle;\n",
       "    }\n",
       "\n",
       "    .dataframe tbody tr th {\n",
       "        vertical-align: top;\n",
       "    }\n",
       "\n",
       "    .dataframe thead th {\n",
       "        text-align: right;\n",
       "    }\n",
       "</style>\n",
       "<table border=\"1\" class=\"dataframe\">\n",
       "  <thead>\n",
       "    <tr style=\"text-align: right;\">\n",
       "      <th></th>\n",
       "      <th>count</th>\n",
       "      <th>mean</th>\n",
       "      <th>std</th>\n",
       "      <th>min</th>\n",
       "      <th>25%</th>\n",
       "      <th>50%</th>\n",
       "      <th>75%</th>\n",
       "      <th>max</th>\n",
       "    </tr>\n",
       "    <tr>\n",
       "      <th>continent</th>\n",
       "      <th></th>\n",
       "      <th></th>\n",
       "      <th></th>\n",
       "      <th></th>\n",
       "      <th></th>\n",
       "      <th></th>\n",
       "      <th></th>\n",
       "      <th></th>\n",
       "    </tr>\n",
       "  </thead>\n",
       "  <tbody>\n",
       "    <tr>\n",
       "      <th>AF</th>\n",
       "      <td>53.0</td>\n",
       "      <td>16.264151</td>\n",
       "      <td>38.846419</td>\n",
       "      <td>0.0</td>\n",
       "      <td>1.0</td>\n",
       "      <td>2.0</td>\n",
       "      <td>13.00</td>\n",
       "      <td>233.0</td>\n",
       "    </tr>\n",
       "    <tr>\n",
       "      <th>AS</th>\n",
       "      <td>44.0</td>\n",
       "      <td>9.068182</td>\n",
       "      <td>21.667034</td>\n",
       "      <td>0.0</td>\n",
       "      <td>0.0</td>\n",
       "      <td>1.0</td>\n",
       "      <td>8.00</td>\n",
       "      <td>123.0</td>\n",
       "    </tr>\n",
       "    <tr>\n",
       "      <th>EU</th>\n",
       "      <td>45.0</td>\n",
       "      <td>142.222222</td>\n",
       "      <td>97.421738</td>\n",
       "      <td>0.0</td>\n",
       "      <td>59.0</td>\n",
       "      <td>128.0</td>\n",
       "      <td>195.00</td>\n",
       "      <td>370.0</td>\n",
       "    </tr>\n",
       "    <tr>\n",
       "      <th>OC</th>\n",
       "      <td>16.0</td>\n",
       "      <td>35.625000</td>\n",
       "      <td>64.555790</td>\n",
       "      <td>0.0</td>\n",
       "      <td>1.0</td>\n",
       "      <td>8.5</td>\n",
       "      <td>23.25</td>\n",
       "      <td>212.0</td>\n",
       "    </tr>\n",
       "    <tr>\n",
       "      <th>SA</th>\n",
       "      <td>12.0</td>\n",
       "      <td>62.416667</td>\n",
       "      <td>88.620189</td>\n",
       "      <td>1.0</td>\n",
       "      <td>3.0</td>\n",
       "      <td>12.0</td>\n",
       "      <td>98.50</td>\n",
       "      <td>221.0</td>\n",
       "    </tr>\n",
       "  </tbody>\n",
       "</table>\n",
       "</div>"
      ],
      "text/plain": [
       "           count        mean        std  min   25%    50%     75%    max\n",
       "continent                                                               \n",
       "AF          53.0   16.264151  38.846419  0.0   1.0    2.0   13.00  233.0\n",
       "AS          44.0    9.068182  21.667034  0.0   0.0    1.0    8.00  123.0\n",
       "EU          45.0  142.222222  97.421738  0.0  59.0  128.0  195.00  370.0\n",
       "OC          16.0   35.625000  64.555790  0.0   1.0    8.5   23.25  212.0\n",
       "SA          12.0   62.416667  88.620189  1.0   3.0   12.0   98.50  221.0"
      ]
     },
     "execution_count": 132,
     "metadata": {},
     "output_type": "execute_result"
    }
   ],
   "source": [
    "# drinks[['continent','wine_servings']]\n",
    "drinks.groupby('continent')['wine_servings'].describe()"
   ]
  },
  {
   "cell_type": "code",
   "execution_count": null,
   "id": "9c9a132f",
   "metadata": {},
   "outputs": [],
   "source": []
  },
  {
   "cell_type": "code",
   "execution_count": null,
   "id": "d7ca171d",
   "metadata": {},
   "outputs": [],
   "source": []
  },
  {
   "cell_type": "markdown",
   "id": "93274d82",
   "metadata": {},
   "source": [
    "#### Step 6. Print the mean alcohol consumption per continent for every column"
   ]
  },
  {
   "cell_type": "code",
   "execution_count": 133,
   "id": "38a99c50",
   "metadata": {},
   "outputs": [
    {
     "data": {
      "text/plain": [
       "Index(['country', 'beer_servings', 'spirit_servings', 'wine_servings',\n",
       "       'total_litres_of_pure_alcohol', 'continent'],\n",
       "      dtype='object')"
      ]
     },
     "execution_count": 133,
     "metadata": {},
     "output_type": "execute_result"
    }
   ],
   "source": [
    "drinks.columns"
   ]
  },
  {
   "cell_type": "code",
   "execution_count": 134,
   "id": "1fbc317c",
   "metadata": {},
   "outputs": [
    {
     "data": {
      "text/plain": [
       "continent\n",
       "AF    3.007547\n",
       "AS    2.170455\n",
       "EU    8.617778\n",
       "OC    3.381250\n",
       "SA    6.308333\n",
       "Name: total_litres_of_pure_alcohol, dtype: float64"
      ]
     },
     "execution_count": 134,
     "metadata": {},
     "output_type": "execute_result"
    }
   ],
   "source": [
    "drinks.groupby('continent')['total_litres_of_pure_alcohol'].mean()"
   ]
  },
  {
   "cell_type": "code",
   "execution_count": null,
   "id": "84a852e0",
   "metadata": {},
   "outputs": [],
   "source": []
  },
  {
   "cell_type": "markdown",
   "id": "04bc083f",
   "metadata": {},
   "source": [
    "#### Step 7. Print the median alcohol consumption per continent for every column"
   ]
  },
  {
   "cell_type": "code",
   "execution_count": 135,
   "id": "c71f3b60",
   "metadata": {},
   "outputs": [
    {
     "data": {
      "text/plain": [
       "continent\n",
       "AF     2.30\n",
       "AS     1.20\n",
       "EU    10.00\n",
       "OC     1.75\n",
       "SA     6.85\n",
       "Name: total_litres_of_pure_alcohol, dtype: float64"
      ]
     },
     "execution_count": 135,
     "metadata": {},
     "output_type": "execute_result"
    }
   ],
   "source": [
    "drinks.groupby('continent')['total_litres_of_pure_alcohol'].median()"
   ]
  },
  {
   "cell_type": "code",
   "execution_count": 136,
   "id": "fe97d174",
   "metadata": {},
   "outputs": [
    {
     "data": {
      "text/plain": [
       "Index(['country', 'beer_servings', 'spirit_servings', 'wine_servings',\n",
       "       'total_litres_of_pure_alcohol', 'continent'],\n",
       "      dtype='object')"
      ]
     },
     "execution_count": 136,
     "metadata": {},
     "output_type": "execute_result"
    }
   ],
   "source": [
    "drinks.columns"
   ]
  },
  {
   "cell_type": "markdown",
   "id": "e35f99f6",
   "metadata": {},
   "source": [
    "#### Step 8. Print the mean, min and max values for spirit consumption.\n",
    "#### This time output a DataFrame"
   ]
  },
  {
   "cell_type": "code",
   "execution_count": 137,
   "id": "b6305d47",
   "metadata": {},
   "outputs": [
    {
     "data": {
      "text/html": [
       "<div>\n",
       "<style scoped>\n",
       "    .dataframe tbody tr th:only-of-type {\n",
       "        vertical-align: middle;\n",
       "    }\n",
       "\n",
       "    .dataframe tbody tr th {\n",
       "        vertical-align: top;\n",
       "    }\n",
       "\n",
       "    .dataframe thead tr th {\n",
       "        text-align: left;\n",
       "    }\n",
       "\n",
       "    .dataframe thead tr:last-of-type th {\n",
       "        text-align: right;\n",
       "    }\n",
       "</style>\n",
       "<table border=\"1\" class=\"dataframe\">\n",
       "  <thead>\n",
       "    <tr>\n",
       "      <th></th>\n",
       "      <th colspan=\"3\" halign=\"left\">spirit_servings</th>\n",
       "    </tr>\n",
       "    <tr>\n",
       "      <th></th>\n",
       "      <th>mean</th>\n",
       "      <th>min</th>\n",
       "      <th>max</th>\n",
       "    </tr>\n",
       "    <tr>\n",
       "      <th>continent</th>\n",
       "      <th></th>\n",
       "      <th></th>\n",
       "      <th></th>\n",
       "    </tr>\n",
       "  </thead>\n",
       "  <tbody>\n",
       "    <tr>\n",
       "      <th>AF</th>\n",
       "      <td>16.339623</td>\n",
       "      <td>0</td>\n",
       "      <td>152</td>\n",
       "    </tr>\n",
       "    <tr>\n",
       "      <th>AS</th>\n",
       "      <td>60.840909</td>\n",
       "      <td>0</td>\n",
       "      <td>326</td>\n",
       "    </tr>\n",
       "    <tr>\n",
       "      <th>EU</th>\n",
       "      <td>132.555556</td>\n",
       "      <td>0</td>\n",
       "      <td>373</td>\n",
       "    </tr>\n",
       "    <tr>\n",
       "      <th>OC</th>\n",
       "      <td>58.437500</td>\n",
       "      <td>0</td>\n",
       "      <td>254</td>\n",
       "    </tr>\n",
       "    <tr>\n",
       "      <th>SA</th>\n",
       "      <td>114.750000</td>\n",
       "      <td>25</td>\n",
       "      <td>302</td>\n",
       "    </tr>\n",
       "  </tbody>\n",
       "</table>\n",
       "</div>"
      ],
      "text/plain": [
       "          spirit_servings         \n",
       "                     mean min  max\n",
       "continent                         \n",
       "AF              16.339623   0  152\n",
       "AS              60.840909   0  326\n",
       "EU             132.555556   0  373\n",
       "OC              58.437500   0  254\n",
       "SA             114.750000  25  302"
      ]
     },
     "execution_count": 137,
     "metadata": {},
     "output_type": "execute_result"
    }
   ],
   "source": [
    "drinks.groupby('continent').agg({'spirit_servings':['mean','min','max']})"
   ]
  },
  {
   "cell_type": "code",
   "execution_count": null,
   "id": "51773076",
   "metadata": {},
   "outputs": [],
   "source": []
  },
  {
   "cell_type": "code",
   "execution_count": null,
   "id": "4ecccf8c",
   "metadata": {},
   "outputs": [],
   "source": []
  },
  {
   "cell_type": "code",
   "execution_count": null,
   "id": "92152843",
   "metadata": {},
   "outputs": [],
   "source": []
  },
  {
   "cell_type": "code",
   "execution_count": null,
   "id": "a02d488b",
   "metadata": {},
   "outputs": [],
   "source": []
  },
  {
   "cell_type": "code",
   "execution_count": 1,
   "id": "01165b0e",
   "metadata": {},
   "outputs": [
    {
     "data": {
      "text/html": [
       "\n",
       "    <style>\n",
       "        body {\n",
       "            background-color: #f2fff2;\n",
       "        }\n",
       "        h1 {\n",
       "            text-align: center;\n",
       "            font-weight: bold;\n",
       "            font-size: 36px;\n",
       "            color: #4295F4;\n",
       "            text-decoration: underline;\n",
       "            padding-top: 15px;\n",
       "        }\n",
       "        \n",
       "        h2 {\n",
       "            text-align: left;\n",
       "            font-weight: bold;\n",
       "            font-size: 30px;\n",
       "            color: #4A000A;\n",
       "            text-decoration: underline;\n",
       "            padding-top: 10px;\n",
       "        }\n",
       "        \n",
       "        h3 {\n",
       "            text-align: left;\n",
       "            font-weight: bold;\n",
       "            font-size: 30px;\n",
       "            color: #f0081e;\n",
       "            text-decoration: underline;\n",
       "            padding-top: 5px;\n",
       "        }\n",
       "\n",
       "        \n",
       "        p {\n",
       "            text-align: center;\n",
       "            font-size: 12 px;\n",
       "            color: #0B9923;\n",
       "        }\n",
       "    </style>\n",
       "\n",
       "<h1>Hello</h1>\n",
       "<p>Hello World</p>\n",
       "<h2> Hello</h2>\n",
       "<h3> World </h3>\n"
      ],
      "text/plain": [
       "<IPython.core.display.HTML object>"
      ]
     },
     "execution_count": 1,
     "metadata": {},
     "output_type": "execute_result"
    }
   ],
   "source": [
    "from IPython.core.display import HTML\n",
    "\n",
    "style = \"\"\"\n",
    "    <style>\n",
    "        body {\n",
    "            background-color: #f2fff2;\n",
    "        }\n",
    "        h1 {\n",
    "            text-align: center;\n",
    "            font-weight: bold;\n",
    "            font-size: 36px;\n",
    "            color: #4295F4;\n",
    "            text-decoration: underline;\n",
    "            padding-top: 15px;\n",
    "        }\n",
    "        \n",
    "        h2 {\n",
    "            text-align: left;\n",
    "            font-weight: bold;\n",
    "            font-size: 30px;\n",
    "            color: #4A000A;\n",
    "            text-decoration: underline;\n",
    "            padding-top: 10px;\n",
    "        }\n",
    "        \n",
    "        h3 {\n",
    "            text-align: left;\n",
    "            font-weight: bold;\n",
    "            font-size: 30px;\n",
    "            color: #f0081e;\n",
    "            text-decoration: underline;\n",
    "            padding-top: 5px;\n",
    "        }\n",
    "\n",
    "        \n",
    "        p {\n",
    "            text-align: center;\n",
    "            font-size: 12 px;\n",
    "            color: #0B9923;\n",
    "        }\n",
    "    </style>\n",
    "\"\"\"\n",
    "\n",
    "html_content = \"\"\"\n",
    "<h1>Hello</h1>\n",
    "<p>Hello World</p>\n",
    "<h2> Hello</h2>\n",
    "<h3> World </h3>\n",
    "\"\"\"\n",
    "\n",
    "HTML(style + html_content)"
   ]
  },
  {
   "cell_type": "code",
   "execution_count": null,
   "id": "dc46f85c",
   "metadata": {},
   "outputs": [],
   "source": []
  }
 ],
 "metadata": {
  "kernelspec": {
   "display_name": "Python 3 (ipykernel)",
   "language": "python",
   "name": "python3"
  },
  "language_info": {
   "codemirror_mode": {
    "name": "ipython",
    "version": 3
   },
   "file_extension": ".py",
   "mimetype": "text/x-python",
   "name": "python",
   "nbconvert_exporter": "python",
   "pygments_lexer": "ipython3",
   "version": "3.8.10"
  }
 },
 "nbformat": 4,
 "nbformat_minor": 5
}
