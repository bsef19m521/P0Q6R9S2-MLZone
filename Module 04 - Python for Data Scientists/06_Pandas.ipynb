{
 "cells": [
  {
   "cell_type": "markdown",
   "id": "e6686c3f",
   "metadata": {},
   "source": [
    "<img src=\"images/pandas-intro.png\">"
   ]
  },
  {
   "cell_type": "code",
   "execution_count": null,
   "id": "93fc3b7d",
   "metadata": {},
   "outputs": [],
   "source": []
  },
  {
   "cell_type": "markdown",
   "id": "16a38f6b",
   "metadata": {},
   "source": [
    "# Learning Agenda of this Notebook:\n",
    "- What is Pandas and how is it used in AI?\n",
    "- Key features of Pandas\n",
    "- Data Types in Pandas\n",
    "- What does Pandas deal with?\n",
    "\n",
    "- Creating Series in Pandas\n",
    "    - From Python List\n",
    "    - From NumPy Arrays\n",
    "    - From Python Dictionary\n",
    "    - From a scalar value\n",
    "    - Creating empty series object\n",
    "- Attributes of a Pandas Series\n",
    "- Arithmetic Operations on Series\n",
    "\n",
    "- Dataframes in Pandas\n",
    "    - Anatomy of a Dataframe\n",
    "    - Creating Dataframe\n",
    "        - An empty dataframe\n",
    "        - Two-Dimensional NumPy Array\n",
    "        - Dictionary of Python Lists\n",
    "        - Dictionary of Panda Series\n",
    "    - Attributes of a Dataframe\n",
    "    - Bonus\n",
    "- Different file formats in Pandas \n",
    "- Indexing, Subsetting and Slicing Dataframes\n",
    "    - Practice Exercise I\n",
    "- Modifying Dataframes\n",
    "- Data Handling with Pandas\n",
    "  - Practice Exercise I\n",
    "  - Practice Exercise II\n",
    "- All Statistical functions in Pandas\n",
    "- Input/Output Operations\n",
    "- Aggregation & Grouping\n",
    "  - Practice Exercise\n",
    "- Merging, Joining and Concatenation\n",
    "  - Practice Exercise\n",
    "- How To Perform Data Visualization with Pandas\n",
    "- Exercise I\n",
    "- Exercise II\n",
    "- Pandas's Assignment"
   ]
  },
  {
   "cell_type": "code",
   "execution_count": null,
   "id": "ff01c774",
   "metadata": {},
   "outputs": [],
   "source": []
  },
  {
   "cell_type": "code",
   "execution_count": null,
   "id": "042d0b94",
   "metadata": {},
   "outputs": [],
   "source": []
  },
  {
   "cell_type": "code",
   "execution_count": null,
   "id": "5157b310",
   "metadata": {},
   "outputs": [],
   "source": []
  },
  {
   "cell_type": "markdown",
   "id": "ce7aab1c",
   "metadata": {},
   "source": [
    "## Outline of Notebook\n",
    "\n",
    "1. Identify the Columns having Null/Missing values using `df.isna()` method\n",
    "2. Handle/Impute the Null/Missing Values under the `scholarship` Column using `df.loc[mask,col]=value`\n",
    "3. Handle/Impute the Null/Missing Values under the `group` Column using `df.loc[mask,col]=value`\n",
    "4. Handle Missing values under a Numeric/Categorical Column using `fillna()`\n",
    "5. Handle Repeating Values (for same information) under the `session` Column\n",
    "6. Create a new Column by Modifying an Existing Column\n",
    "7. Delete Rows Having NaN values using `df.dropna()` method\n",
    "8. Convert Categorical Variables into Numerical"
   ]
  },
  {
   "cell_type": "markdown",
   "id": "cf56b9a6",
   "metadata": {},
   "source": [
    "### Important Points:\n",
    "- In Pandas, To impute numerical we use mean or median of column.\n",
    "- In Pandas, To impute categorical we use mode.\n",
    "- In Real world, we use SimpleImputer or KNNImputer for imputation. These both are available in sklearn."
   ]
  },
  {
   "cell_type": "code",
   "execution_count": null,
   "id": "0cb32aeb",
   "metadata": {},
   "outputs": [],
   "source": []
  },
  {
   "cell_type": "code",
   "execution_count": null,
   "id": "25fa827a",
   "metadata": {},
   "outputs": [],
   "source": [
    "import pandas as pd\n",
    "df = pd.read_csv('datasets/groupdata.csv')\n",
    "df"
   ]
  },
  {
   "cell_type": "code",
   "execution_count": null,
   "id": "ef1fc252",
   "metadata": {},
   "outputs": [],
   "source": [
    "df.describe(include='all')"
   ]
  },
  {
   "cell_type": "markdown",
   "id": "6606727b",
   "metadata": {},
   "source": [
    "- Whenever the **`pd.read_csv()`** method detects a missing value (nothing between two commas in a csv file or an empty cell in Excel) it flags it with NaN. There can be many reasons for these NaN values, one can be that the data is gathered via google form from people and this field might be optional and skipped.\n",
    "- There can also be a scenario that a user has entered some text under a numeric field about which he/she do not have any information."
   ]
  },
  {
   "cell_type": "code",
   "execution_count": null,
   "id": "e1d60724",
   "metadata": {},
   "outputs": [],
   "source": []
  },
  {
   "cell_type": "markdown",
   "id": "5c21cf2f",
   "metadata": {},
   "source": [
    "## 1. Identify the Columns having Null/Missing values\n",
    "- The **`df.isna()`** method isrecommended to use than `df.isnull()`, which return a boolean same-sized object that indicates whether an element is NA value or not. Missing values get mapped to True. Everything else gets mapped to False values. Remember, characters such as empty strings ``''`` or `numpy.inf` are not considered NA values.\n",
    "- The **`df.notna()`** method is recommended to use than `df.notnull()` methods return a boolean same-sized object that indicates whether an element is NA value or not. Non-missing values get mapped to True. "
   ]
  },
  {
   "cell_type": "code",
   "execution_count": null,
   "id": "66707779",
   "metadata": {},
   "outputs": [],
   "source": [
    "df.isna().head()"
   ]
  },
  {
   "cell_type": "code",
   "execution_count": null,
   "id": "619b8e40",
   "metadata": {},
   "outputs": [],
   "source": [
    "df.notna().head()"
   ]
  },
  {
   "cell_type": "code",
   "execution_count": null,
   "id": "ffbff813",
   "metadata": {},
   "outputs": [],
   "source": [
    "# Now we can use sum() on this dataframe object of Boolean values (True is mapped to 1)\n",
    "df.isna().sum()"
   ]
  },
  {
   "cell_type": "code",
   "execution_count": null,
   "id": "331a0b12",
   "metadata": {},
   "outputs": [],
   "source": [
    "# Similarly, we can use sum() on this dataframe object of Boolean values (True is is mapped to 1)\n",
    "df.notna().sum()"
   ]
  },
  {
   "cell_type": "code",
   "execution_count": null,
   "id": "8ab7958f",
   "metadata": {},
   "outputs": [],
   "source": []
  },
  {
   "cell_type": "code",
   "execution_count": null,
   "id": "7ccf47a3",
   "metadata": {},
   "outputs": [],
   "source": []
  },
  {
   "cell_type": "markdown",
   "id": "3b5a98e0",
   "metadata": {},
   "source": [
    "## 2. Handle/Impute the Null/Missing Values under the `scholarship` Column"
   ]
  },
  {
   "cell_type": "markdown",
   "id": "5d005929",
   "metadata": {},
   "source": [
    "#### a. Identify the Rows under the `scholarship` Column having Null/Missing values\n",
    "- The `df.isna()` method works equally good on Series objects as well"
   ]
  },
  {
   "cell_type": "code",
   "execution_count": null,
   "id": "e51aa67a",
   "metadata": {},
   "outputs": [],
   "source": [
    "df.scholarship.isna()"
   ]
  },
  {
   "cell_type": "code",
   "execution_count": null,
   "id": "44990632",
   "metadata": {},
   "outputs": [],
   "source": [
    "mask = df.scholarship.isna()\n",
    "mask"
   ]
  },
  {
   "cell_type": "code",
   "execution_count": null,
   "id": "bc404dda",
   "metadata": {},
   "outputs": [],
   "source": [
    "# This will return only those rows of dataframe having null values under the scholarship column\n",
    "df[mask]         # df[df.scholarship.isna()] or \n",
    "df.loc[mask, :]  # df.loc[df.scholarship.isna(), :]"
   ]
  },
  {
   "cell_type": "code",
   "execution_count": null,
   "id": "c1dadcc7",
   "metadata": {},
   "outputs": [],
   "source": []
  },
  {
   "cell_type": "code",
   "execution_count": null,
   "id": "a5876faf",
   "metadata": {},
   "outputs": [],
   "source": []
  },
  {
   "cell_type": "markdown",
   "id": "51a0cab9",
   "metadata": {},
   "source": [
    "#### b. Replace the Null/Missing Values under the `scholarship` Column\n",
    "- After detecting the NaN values, the next question is, what value we should write in the cells where we have Null/Missing values under the `scholarship` column\n",
    "- Suppose, we want to put the average values at the place of missing values."
   ]
  },
  {
   "cell_type": "code",
   "execution_count": null,
   "id": "b889dfce",
   "metadata": {},
   "outputs": [],
   "source": [
    "# compute the mean of the scholarship column\n",
    "df.scholarship.mean()"
   ]
  },
  {
   "cell_type": "code",
   "execution_count": null,
   "id": "36b2e0d5",
   "metadata": {},
   "outputs": [],
   "source": [
    "df.loc[df.scholarship.isna(), 'scholarship']"
   ]
  },
  {
   "cell_type": "code",
   "execution_count": null,
   "id": "07ad3ec0",
   "metadata": {},
   "outputs": [],
   "source": [
    "df.loc[df.scholarship.isna(), 'scholarship'] = df.scholarship.mean()\n",
    "df"
   ]
  },
  {
   "cell_type": "code",
   "execution_count": null,
   "id": "4ece8c8a",
   "metadata": {},
   "outputs": [],
   "source": [
    "# Confirm the result\n",
    "df.isna().sum()"
   ]
  },
  {
   "cell_type": "code",
   "execution_count": null,
   "id": "1b064523",
   "metadata": {},
   "outputs": [],
   "source": []
  },
  {
   "cell_type": "markdown",
   "id": "4ef5e547",
   "metadata": {},
   "source": [
    "## 3. Handle/Impute the Null/Missing Values under the `group` Column\n",
    "- The `group` column contains categorical values, i.e., a value that can take on one of a limited, and usually fixed, number of possible values."
   ]
  },
  {
   "cell_type": "markdown",
   "id": "8dfc796d",
   "metadata": {},
   "source": [
    "#### a. Identify the Rows under the `group` Column having Null/Missing values"
   ]
  },
  {
   "cell_type": "code",
   "execution_count": null,
   "id": "97ebf670",
   "metadata": {},
   "outputs": [],
   "source": [
    "mask = df.group.isna()\n",
    "mask"
   ]
  },
  {
   "cell_type": "code",
   "execution_count": null,
   "id": "ca23ee12",
   "metadata": {},
   "outputs": [],
   "source": [
    "df[mask]          # df[df.group.isna()]\n",
    "df.loc[mask, :]   # df.loc[df.group.isna()]"
   ]
  },
  {
   "cell_type": "code",
   "execution_count": null,
   "id": "6f4f95f1",
   "metadata": {},
   "outputs": [],
   "source": []
  },
  {
   "cell_type": "markdown",
   "id": "57950716",
   "metadata": {},
   "source": [
    "#### b. Replace the Null/Missing Values under the `group` Column\n",
    "- After detecting the NaN values, the next question is, what value we should write in the cells where we have Null/Missing values\n",
    "- Since this is a categorical column having datatype object (group A, group B, group C, ...), so let us replace it with th value inside the column having the maximum frequency"
   ]
  },
  {
   "cell_type": "code",
   "execution_count": null,
   "id": "d12cf156",
   "metadata": {},
   "outputs": [],
   "source": [
    "# Use value_counts() function which return a Series containing counts of unique values (in descending order)\n",
    "# with the most frequently-occurring element at first. It excludes NA values by default.\n",
    "df.group.value_counts()"
   ]
  },
  {
   "cell_type": "code",
   "execution_count": null,
   "id": "3434323e",
   "metadata": {},
   "outputs": [],
   "source": [
    "# df.group.value_counts(dropna=False)"
   ]
  },
  {
   "cell_type": "code",
   "execution_count": null,
   "id": "5a62e596",
   "metadata": {},
   "outputs": [],
   "source": [
    "df.group.mode()[0]"
   ]
  },
  {
   "cell_type": "code",
   "execution_count": null,
   "id": "a6a48f81",
   "metadata": {},
   "outputs": [],
   "source": [
    "# List only those records under group column having Null values\n",
    "mask = df.group.isna()\n",
    "df.loc[mask, 'group']     # df.loc[(df.group.isna()), 'group']"
   ]
  },
  {
   "cell_type": "code",
   "execution_count": null,
   "id": "8f31afe4",
   "metadata": {},
   "outputs": [],
   "source": [
    "# Let us replace these values with maximum occurring value in the `group` column\n",
    "df.loc[(df.group.isna()),'group'] = df.group.mode()[0]"
   ]
  },
  {
   "cell_type": "code",
   "execution_count": null,
   "id": "dd26224e",
   "metadata": {},
   "outputs": [],
   "source": [
    "# Confirm the result\n",
    "df.isna().sum()"
   ]
  },
  {
   "cell_type": "code",
   "execution_count": null,
   "id": "d43d10c4",
   "metadata": {},
   "outputs": [],
   "source": [
    "df"
   ]
  },
  {
   "cell_type": "code",
   "execution_count": null,
   "id": "9306ab2c",
   "metadata": {},
   "outputs": [],
   "source": []
  },
  {
   "cell_type": "markdown",
   "id": "f3a43d9c",
   "metadata": {},
   "source": [
    "> Note that in the original dataframe `Yusuf` group information was missing, and now it is `group C` "
   ]
  },
  {
   "cell_type": "markdown",
   "id": "a9c5080f",
   "metadata": {},
   "source": [
    "## 4. Handle Missing values under a Numeric/Categorical Column using `fillna()`\n",
    "\n",
    "#### a. Replace the Null/Missing Values under the `scholarship` Column using `fillna()`\n",
    "- This is more recommended way of filling in the Null values within columns of your dataset rather than the use of the `loc` method.\n",
    "```\n",
    "object.fillna(value, method, inplace=True)\n",
    "```\n",
    "- The only required argument is either the `value`, with which we want to replace the missing values OR the `method` to be used to replace the missing values\n",
    "- Returns object with missing values filled or None if ``inplace=True``"
   ]
  },
  {
   "cell_type": "code",
   "execution_count": 3,
   "id": "45b1cafe",
   "metadata": {},
   "outputs": [],
   "source": [
    "import pandas as pd\n",
    "df = pd.read_csv('datasets/groupdata.csv')"
   ]
  },
  {
   "cell_type": "code",
   "execution_count": 4,
   "id": "d2f6d3ff",
   "metadata": {},
   "outputs": [
    {
     "data": {
      "text/html": [
       "<div>\n",
       "<style scoped>\n",
       "    .dataframe tbody tr th:only-of-type {\n",
       "        vertical-align: middle;\n",
       "    }\n",
       "\n",
       "    .dataframe tbody tr th {\n",
       "        vertical-align: top;\n",
       "    }\n",
       "\n",
       "    .dataframe thead th {\n",
       "        text-align: right;\n",
       "    }\n",
       "</style>\n",
       "<table border=\"1\" class=\"dataframe\">\n",
       "  <thead>\n",
       "    <tr style=\"text-align: right;\">\n",
       "      <th></th>\n",
       "      <th>roll no</th>\n",
       "      <th>name</th>\n",
       "      <th>age</th>\n",
       "      <th>address</th>\n",
       "      <th>session</th>\n",
       "      <th>group</th>\n",
       "      <th>gender</th>\n",
       "      <th>subj1</th>\n",
       "      <th>subj2</th>\n",
       "      <th>scholarship</th>\n",
       "    </tr>\n",
       "  </thead>\n",
       "  <tbody>\n",
       "    <tr>\n",
       "      <th>15</th>\n",
       "      <td>16</td>\n",
       "      <td>Dua</td>\n",
       "      <td>11</td>\n",
       "      <td>Multan</td>\n",
       "      <td>AFTERNOON</td>\n",
       "      <td>group A</td>\n",
       "      <td>Female</td>\n",
       "      <td>90.5</td>\n",
       "      <td>81.3</td>\n",
       "      <td>3800.0</td>\n",
       "    </tr>\n",
       "    <tr>\n",
       "      <th>11</th>\n",
       "      <td>12</td>\n",
       "      <td>Muskan</td>\n",
       "      <td>20</td>\n",
       "      <td>Karachi</td>\n",
       "      <td>AFTERNOON</td>\n",
       "      <td>group C</td>\n",
       "      <td>Female</td>\n",
       "      <td>90.5</td>\n",
       "      <td>81.3</td>\n",
       "      <td>NaN</td>\n",
       "    </tr>\n",
       "    <tr>\n",
       "      <th>7</th>\n",
       "      <td>8</td>\n",
       "      <td>Adeen</td>\n",
       "      <td>4</td>\n",
       "      <td>Multan</td>\n",
       "      <td>MORNING</td>\n",
       "      <td>group D</td>\n",
       "      <td>Female</td>\n",
       "      <td>84.1</td>\n",
       "      <td>76.0</td>\n",
       "      <td>8000.0</td>\n",
       "    </tr>\n",
       "    <tr>\n",
       "      <th>2</th>\n",
       "      <td>3</td>\n",
       "      <td>Ali</td>\n",
       "      <td>20</td>\n",
       "      <td>Karachi</td>\n",
       "      <td>AFTERNOON</td>\n",
       "      <td>group B</td>\n",
       "      <td>Male</td>\n",
       "      <td>64.9</td>\n",
       "      <td>75.1</td>\n",
       "      <td>8500.0</td>\n",
       "    </tr>\n",
       "    <tr>\n",
       "      <th>4</th>\n",
       "      <td>5</td>\n",
       "      <td>Ahmed</td>\n",
       "      <td>21</td>\n",
       "      <td>Peshawer</td>\n",
       "      <td>AFT</td>\n",
       "      <td>group D</td>\n",
       "      <td>Male</td>\n",
       "      <td>65.9</td>\n",
       "      <td>72.8</td>\n",
       "      <td>3500.0</td>\n",
       "    </tr>\n",
       "  </tbody>\n",
       "</table>\n",
       "</div>"
      ],
      "text/plain": [
       "    roll no    name  age   address    session    group  gender  subj1  subj2  \\\n",
       "15       16     Dua   11    Multan  AFTERNOON  group A  Female   90.5   81.3   \n",
       "11       12  Muskan   20   Karachi  AFTERNOON  group C  Female   90.5   81.3   \n",
       "7         8   Adeen    4    Multan    MORNING  group D  Female   84.1   76.0   \n",
       "2         3     Ali   20   Karachi  AFTERNOON  group B    Male   64.9   75.1   \n",
       "4         5   Ahmed   21  Peshawer        AFT  group D    Male   65.9   72.8   \n",
       "\n",
       "    scholarship  \n",
       "15       3800.0  \n",
       "11          NaN  \n",
       "7        8000.0  \n",
       "2        8500.0  \n",
       "4        3500.0  "
      ]
     },
     "execution_count": 4,
     "metadata": {},
     "output_type": "execute_result"
    }
   ],
   "source": [
    "df.sample(5)"
   ]
  },
  {
   "cell_type": "markdown",
   "id": "e48b36ff",
   "metadata": {},
   "source": [
    ">- Before proceeding, tell me why we use `na_values` argument in `pd.read_csv()` method?"
   ]
  },
  {
   "cell_type": "code",
   "execution_count": 5,
   "id": "08ad4696",
   "metadata": {},
   "outputs": [
    {
     "data": {
      "text/html": [
       "<div>\n",
       "<style scoped>\n",
       "    .dataframe tbody tr th:only-of-type {\n",
       "        vertical-align: middle;\n",
       "    }\n",
       "\n",
       "    .dataframe tbody tr th {\n",
       "        vertical-align: top;\n",
       "    }\n",
       "\n",
       "    .dataframe thead th {\n",
       "        text-align: right;\n",
       "    }\n",
       "</style>\n",
       "<table border=\"1\" class=\"dataframe\">\n",
       "  <thead>\n",
       "    <tr style=\"text-align: right;\">\n",
       "      <th></th>\n",
       "      <th>roll no</th>\n",
       "      <th>name</th>\n",
       "      <th>age</th>\n",
       "      <th>address</th>\n",
       "      <th>session</th>\n",
       "      <th>group</th>\n",
       "      <th>gender</th>\n",
       "      <th>subj1</th>\n",
       "      <th>subj2</th>\n",
       "      <th>scholarship</th>\n",
       "    </tr>\n",
       "  </thead>\n",
       "  <tbody>\n",
       "    <tr>\n",
       "      <th>5</th>\n",
       "      <td>6</td>\n",
       "      <td>Khadija</td>\n",
       "      <td>16</td>\n",
       "      <td>Lahore</td>\n",
       "      <td>MORNING</td>\n",
       "      <td>group C</td>\n",
       "      <td>Female</td>\n",
       "      <td>69.3</td>\n",
       "      <td>78.6</td>\n",
       "      <td>NaN</td>\n",
       "    </tr>\n",
       "    <tr>\n",
       "      <th>11</th>\n",
       "      <td>12</td>\n",
       "      <td>Muskan</td>\n",
       "      <td>20</td>\n",
       "      <td>Karachi</td>\n",
       "      <td>AFTERNOON</td>\n",
       "      <td>group C</td>\n",
       "      <td>Female</td>\n",
       "      <td>90.5</td>\n",
       "      <td>81.3</td>\n",
       "      <td>NaN</td>\n",
       "    </tr>\n",
       "  </tbody>\n",
       "</table>\n",
       "</div>"
      ],
      "text/plain": [
       "    roll no     name  age  address    session    group  gender  subj1  subj2  \\\n",
       "5         6  Khadija   16   Lahore    MORNING  group C  Female   69.3   78.6   \n",
       "11       12   Muskan   20  Karachi  AFTERNOON  group C  Female   90.5   81.3   \n",
       "\n",
       "    scholarship  \n",
       "5           NaN  \n",
       "11          NaN  "
      ]
     },
     "execution_count": 5,
     "metadata": {},
     "output_type": "execute_result"
    }
   ],
   "source": [
    "df.loc[df.scholarship.isna()]"
   ]
  },
  {
   "cell_type": "code",
   "execution_count": 11,
   "id": "c891ec27",
   "metadata": {},
   "outputs": [
    {
     "data": {
      "text/plain": [
       "5164.285714285714"
      ]
     },
     "execution_count": 11,
     "metadata": {},
     "output_type": "execute_result"
    }
   ],
   "source": [
    "mean_value = df.scholarship.mean()\n",
    "mean_value\n",
    "median_value  = df.scholarship.median()\n",
    "median_value"
   ]
  },
  {
   "cell_type": "code",
   "execution_count": 7,
   "id": "bc622ac4",
   "metadata": {},
   "outputs": [],
   "source": [
    "# This time instead of loc, use fillna() method with just two arguments\n",
    "# inplace=True parameter ensure that this happens in the original dataframe\n",
    "\n",
    "df.scholarship.fillna(value=mean_value, inplace=True)"
   ]
  },
  {
   "cell_type": "code",
   "execution_count": 8,
   "id": "edefe8de",
   "metadata": {},
   "outputs": [
    {
     "data": {
      "text/html": [
       "<div>\n",
       "<style scoped>\n",
       "    .dataframe tbody tr th:only-of-type {\n",
       "        vertical-align: middle;\n",
       "    }\n",
       "\n",
       "    .dataframe tbody tr th {\n",
       "        vertical-align: top;\n",
       "    }\n",
       "\n",
       "    .dataframe thead th {\n",
       "        text-align: right;\n",
       "    }\n",
       "</style>\n",
       "<table border=\"1\" class=\"dataframe\">\n",
       "  <thead>\n",
       "    <tr style=\"text-align: right;\">\n",
       "      <th></th>\n",
       "      <th>roll no</th>\n",
       "      <th>name</th>\n",
       "      <th>age</th>\n",
       "      <th>address</th>\n",
       "      <th>session</th>\n",
       "      <th>group</th>\n",
       "      <th>gender</th>\n",
       "      <th>subj1</th>\n",
       "      <th>subj2</th>\n",
       "      <th>scholarship</th>\n",
       "    </tr>\n",
       "  </thead>\n",
       "  <tbody>\n",
       "  </tbody>\n",
       "</table>\n",
       "</div>"
      ],
      "text/plain": [
       "Empty DataFrame\n",
       "Columns: [roll no, name, age, address, session, group, gender, subj1, subj2, scholarship]\n",
       "Index: []"
      ]
     },
     "execution_count": 8,
     "metadata": {},
     "output_type": "execute_result"
    }
   ],
   "source": [
    "# confirm the result\n",
    "df.loc[df.scholarship.isna()]"
   ]
  },
  {
   "cell_type": "code",
   "execution_count": 10,
   "id": "35192588",
   "metadata": {},
   "outputs": [
    {
     "data": {
      "text/html": [
       "<div>\n",
       "<style scoped>\n",
       "    .dataframe tbody tr th:only-of-type {\n",
       "        vertical-align: middle;\n",
       "    }\n",
       "\n",
       "    .dataframe tbody tr th {\n",
       "        vertical-align: top;\n",
       "    }\n",
       "\n",
       "    .dataframe thead th {\n",
       "        text-align: right;\n",
       "    }\n",
       "</style>\n",
       "<table border=\"1\" class=\"dataframe\">\n",
       "  <thead>\n",
       "    <tr style=\"text-align: right;\">\n",
       "      <th></th>\n",
       "      <th>roll no</th>\n",
       "      <th>name</th>\n",
       "      <th>age</th>\n",
       "      <th>address</th>\n",
       "      <th>session</th>\n",
       "      <th>group</th>\n",
       "      <th>gender</th>\n",
       "      <th>subj1</th>\n",
       "      <th>subj2</th>\n",
       "      <th>scholarship</th>\n",
       "    </tr>\n",
       "  </thead>\n",
       "  <tbody>\n",
       "    <tr>\n",
       "      <th>0</th>\n",
       "      <td>1</td>\n",
       "      <td>Ehtisham</td>\n",
       "      <td>23</td>\n",
       "      <td>Lahore</td>\n",
       "      <td>MORNING</td>\n",
       "      <td>group C</td>\n",
       "      <td>Male</td>\n",
       "      <td>78.3</td>\n",
       "      <td>84.4</td>\n",
       "      <td>5000.000000</td>\n",
       "    </tr>\n",
       "    <tr>\n",
       "      <th>1</th>\n",
       "      <td>2</td>\n",
       "      <td>Ayesha</td>\n",
       "      <td>16</td>\n",
       "      <td>Islamabad</td>\n",
       "      <td>AFT</td>\n",
       "      <td>group A</td>\n",
       "      <td>Female</td>\n",
       "      <td>70.5</td>\n",
       "      <td>60.5</td>\n",
       "      <td>6000.000000</td>\n",
       "    </tr>\n",
       "    <tr>\n",
       "      <th>2</th>\n",
       "      <td>3</td>\n",
       "      <td>Ali</td>\n",
       "      <td>20</td>\n",
       "      <td>Karachi</td>\n",
       "      <td>AFTERNOON</td>\n",
       "      <td>group B</td>\n",
       "      <td>Male</td>\n",
       "      <td>64.9</td>\n",
       "      <td>75.1</td>\n",
       "      <td>8500.000000</td>\n",
       "    </tr>\n",
       "    <tr>\n",
       "      <th>3</th>\n",
       "      <td>4</td>\n",
       "      <td>Aisha</td>\n",
       "      <td>20</td>\n",
       "      <td>Lahore</td>\n",
       "      <td>MOR</td>\n",
       "      <td>group A</td>\n",
       "      <td>Male</td>\n",
       "      <td>82.0</td>\n",
       "      <td>84.3</td>\n",
       "      <td>4000.000000</td>\n",
       "    </tr>\n",
       "    <tr>\n",
       "      <th>4</th>\n",
       "      <td>5</td>\n",
       "      <td>Ahmed</td>\n",
       "      <td>21</td>\n",
       "      <td>Peshawer</td>\n",
       "      <td>AFT</td>\n",
       "      <td>group D</td>\n",
       "      <td>Male</td>\n",
       "      <td>65.9</td>\n",
       "      <td>72.8</td>\n",
       "      <td>3500.000000</td>\n",
       "    </tr>\n",
       "    <tr>\n",
       "      <th>5</th>\n",
       "      <td>6</td>\n",
       "      <td>Khadija</td>\n",
       "      <td>16</td>\n",
       "      <td>Lahore</td>\n",
       "      <td>MORNING</td>\n",
       "      <td>group C</td>\n",
       "      <td>Female</td>\n",
       "      <td>69.3</td>\n",
       "      <td>78.6</td>\n",
       "      <td>5328.571429</td>\n",
       "    </tr>\n",
       "  </tbody>\n",
       "</table>\n",
       "</div>"
      ],
      "text/plain": [
       "   roll no      name  age    address    session    group  gender  subj1  \\\n",
       "0        1  Ehtisham   23     Lahore    MORNING  group C    Male   78.3   \n",
       "1        2    Ayesha   16  Islamabad        AFT  group A  Female   70.5   \n",
       "2        3       Ali   20    Karachi  AFTERNOON  group B    Male   64.9   \n",
       "3        4     Aisha   20     Lahore        MOR  group A    Male   82.0   \n",
       "4        5     Ahmed   21   Peshawer        AFT  group D    Male   65.9   \n",
       "5        6   Khadija   16     Lahore    MORNING  group C  Female   69.3   \n",
       "\n",
       "   subj2  scholarship  \n",
       "0   84.4  5000.000000  \n",
       "1   60.5  6000.000000  \n",
       "2   75.1  8500.000000  \n",
       "3   84.3  4000.000000  \n",
       "4   72.8  3500.000000  \n",
       "5   78.6  5328.571429  "
      ]
     },
     "execution_count": 10,
     "metadata": {},
     "output_type": "execute_result"
    }
   ],
   "source": [
    "df.head(6)"
   ]
  },
  {
   "cell_type": "code",
   "execution_count": null,
   "id": "83655bb0",
   "metadata": {},
   "outputs": [],
   "source": []
  },
  {
   "cell_type": "markdown",
   "id": "17316e33",
   "metadata": {},
   "source": [
    "#### b. Replace the Null/Missing Values under the `group` Column using `fillna()`"
   ]
  },
  {
   "cell_type": "code",
   "execution_count": 12,
   "id": "33639e02",
   "metadata": {},
   "outputs": [
    {
     "data": {
      "text/plain": [
       "roll no        0\n",
       "name           0\n",
       "age            0\n",
       "address        0\n",
       "session        0\n",
       "group          1\n",
       "gender         0\n",
       "subj1          1\n",
       "subj2          1\n",
       "scholarship    0\n",
       "dtype: int64"
      ]
     },
     "execution_count": 12,
     "metadata": {},
     "output_type": "execute_result"
    }
   ],
   "source": [
    "df.isna().sum()"
   ]
  },
  {
   "cell_type": "code",
   "execution_count": 14,
   "id": "d40bbb8d",
   "metadata": {},
   "outputs": [
    {
     "data": {
      "text/plain": [
       "'group C'"
      ]
     },
     "execution_count": 14,
     "metadata": {},
     "output_type": "execute_result"
    }
   ],
   "source": [
    "group_mode = df.group.mode()[0]\n",
    "group_mode"
   ]
  },
  {
   "cell_type": "code",
   "execution_count": 15,
   "id": "a9240d49",
   "metadata": {},
   "outputs": [],
   "source": [
    "df.group.fillna(value=group_mode, inplace=True)"
   ]
  },
  {
   "cell_type": "code",
   "execution_count": 16,
   "id": "9e3e1d5c",
   "metadata": {},
   "outputs": [
    {
     "data": {
      "text/plain": [
       "roll no        0\n",
       "name           0\n",
       "age            0\n",
       "address        0\n",
       "session        0\n",
       "group          0\n",
       "gender         0\n",
       "subj1          1\n",
       "subj2          1\n",
       "scholarship    0\n",
       "dtype: int64"
      ]
     },
     "execution_count": 16,
     "metadata": {},
     "output_type": "execute_result"
    }
   ],
   "source": [
    "# Confirm the result\n",
    "df.isna().sum()"
   ]
  },
  {
   "cell_type": "markdown",
   "id": "e3da347b",
   "metadata": {},
   "source": [
    "> Fill missing values of subj1 and subj2 columns with the mean of the column using `fillna()` method."
   ]
  },
  {
   "cell_type": "markdown",
   "id": "503bc2f1",
   "metadata": {},
   "source": [
    "#### c. Replace the Null/Missing Values under the` scholarship` and `group` Column using `ffill` and `bfill` Arguments\n",
    "- In above examples, we have used the mean value in case of numeric column and mode value in case of a categorical column as the filling value to the `fillna()` method\n",
    "```\n",
    "object.fillna(value, method, inplace=True)\n",
    "```\n",
    "\n",
    "- We can pass `ffill` or `bfill` as method argument to the `fillna()` method. This will replace the null values with other values from the DataFrame\n",
    "- `ffill` (Forward fill): It fills the NaN value with the previous value\n",
    "- `bfill` (Back fill): It fills the NaN value with the Next/Upcoming value\n"
   ]
  },
  {
   "cell_type": "code",
   "execution_count": 17,
   "id": "e9b78ef9",
   "metadata": {},
   "outputs": [
    {
     "data": {
      "text/html": [
       "<div>\n",
       "<style scoped>\n",
       "    .dataframe tbody tr th:only-of-type {\n",
       "        vertical-align: middle;\n",
       "    }\n",
       "\n",
       "    .dataframe tbody tr th {\n",
       "        vertical-align: top;\n",
       "    }\n",
       "\n",
       "    .dataframe thead th {\n",
       "        text-align: right;\n",
       "    }\n",
       "</style>\n",
       "<table border=\"1\" class=\"dataframe\">\n",
       "  <thead>\n",
       "    <tr style=\"text-align: right;\">\n",
       "      <th></th>\n",
       "      <th>roll no</th>\n",
       "      <th>name</th>\n",
       "      <th>age</th>\n",
       "      <th>address</th>\n",
       "      <th>session</th>\n",
       "      <th>group</th>\n",
       "      <th>gender</th>\n",
       "      <th>subj1</th>\n",
       "      <th>subj2</th>\n",
       "      <th>scholarship</th>\n",
       "    </tr>\n",
       "  </thead>\n",
       "  <tbody>\n",
       "    <tr>\n",
       "      <th>2</th>\n",
       "      <td>3</td>\n",
       "      <td>Ali</td>\n",
       "      <td>20</td>\n",
       "      <td>Karachi</td>\n",
       "      <td>AFTERNOON</td>\n",
       "      <td>group B</td>\n",
       "      <td>Male</td>\n",
       "      <td>64.9</td>\n",
       "      <td>75.1</td>\n",
       "      <td>8500.0</td>\n",
       "    </tr>\n",
       "    <tr>\n",
       "      <th>0</th>\n",
       "      <td>1</td>\n",
       "      <td>Ehtisham</td>\n",
       "      <td>23</td>\n",
       "      <td>Lahore</td>\n",
       "      <td>MORNING</td>\n",
       "      <td>group C</td>\n",
       "      <td>Male</td>\n",
       "      <td>78.3</td>\n",
       "      <td>84.4</td>\n",
       "      <td>5000.0</td>\n",
       "    </tr>\n",
       "    <tr>\n",
       "      <th>4</th>\n",
       "      <td>5</td>\n",
       "      <td>Ahmed</td>\n",
       "      <td>21</td>\n",
       "      <td>Peshawer</td>\n",
       "      <td>AFT</td>\n",
       "      <td>group D</td>\n",
       "      <td>Male</td>\n",
       "      <td>65.9</td>\n",
       "      <td>72.8</td>\n",
       "      <td>3500.0</td>\n",
       "    </tr>\n",
       "    <tr>\n",
       "      <th>1</th>\n",
       "      <td>2</td>\n",
       "      <td>Ayesha</td>\n",
       "      <td>16</td>\n",
       "      <td>Islamabad</td>\n",
       "      <td>AFT</td>\n",
       "      <td>group A</td>\n",
       "      <td>Female</td>\n",
       "      <td>70.5</td>\n",
       "      <td>60.5</td>\n",
       "      <td>6000.0</td>\n",
       "    </tr>\n",
       "    <tr>\n",
       "      <th>5</th>\n",
       "      <td>6</td>\n",
       "      <td>Khadija</td>\n",
       "      <td>16</td>\n",
       "      <td>Lahore</td>\n",
       "      <td>MORNING</td>\n",
       "      <td>group C</td>\n",
       "      <td>Female</td>\n",
       "      <td>69.3</td>\n",
       "      <td>78.6</td>\n",
       "      <td>NaN</td>\n",
       "    </tr>\n",
       "  </tbody>\n",
       "</table>\n",
       "</div>"
      ],
      "text/plain": [
       "   roll no      name  age    address    session    group  gender  subj1  \\\n",
       "2        3       Ali   20    Karachi  AFTERNOON  group B    Male   64.9   \n",
       "0        1  Ehtisham   23     Lahore    MORNING  group C    Male   78.3   \n",
       "4        5     Ahmed   21   Peshawer        AFT  group D    Male   65.9   \n",
       "1        2    Ayesha   16  Islamabad        AFT  group A  Female   70.5   \n",
       "5        6   Khadija   16     Lahore    MORNING  group C  Female   69.3   \n",
       "\n",
       "   subj2  scholarship  \n",
       "2   75.1       8500.0  \n",
       "0   84.4       5000.0  \n",
       "4   72.8       3500.0  \n",
       "1   60.5       6000.0  \n",
       "5   78.6          NaN  "
      ]
     },
     "execution_count": 17,
     "metadata": {},
     "output_type": "execute_result"
    }
   ],
   "source": [
    "import pandas as pd\n",
    "df = pd.read_csv('datasets/groupdata.csv')\n",
    "df.sample(5)"
   ]
  },
  {
   "cell_type": "code",
   "execution_count": 18,
   "id": "9bebbcbb",
   "metadata": {},
   "outputs": [
    {
     "data": {
      "text/plain": [
       "roll no        0\n",
       "name           0\n",
       "age            0\n",
       "address        0\n",
       "session        0\n",
       "group          1\n",
       "gender         0\n",
       "subj1          1\n",
       "subj2          1\n",
       "scholarship    2\n",
       "dtype: int64"
      ]
     },
     "execution_count": 18,
     "metadata": {},
     "output_type": "execute_result"
    }
   ],
   "source": [
    "df.isna().sum()"
   ]
  },
  {
   "cell_type": "code",
   "execution_count": 19,
   "id": "25b69381",
   "metadata": {},
   "outputs": [],
   "source": [
    "# forward fill or ffill attribute\n",
    "# If have NaN value, just carry forward the previous value\n",
    "# using ffill attribute, you can fill the NaN value with the previous value in that column\n",
    "df.fillna(method = 'ffill', inplace=True)"
   ]
  },
  {
   "cell_type": "code",
   "execution_count": 20,
   "id": "a42a91c4",
   "metadata": {},
   "outputs": [
    {
     "data": {
      "text/plain": [
       "roll no        0\n",
       "name           0\n",
       "age            0\n",
       "address        0\n",
       "session        0\n",
       "group          0\n",
       "gender         0\n",
       "subj1          0\n",
       "subj2          0\n",
       "scholarship    0\n",
       "dtype: int64"
      ]
     },
     "execution_count": 20,
     "metadata": {},
     "output_type": "execute_result"
    }
   ],
   "source": [
    "df.isna().sum()"
   ]
  },
  {
   "cell_type": "code",
   "execution_count": 21,
   "id": "14314b5c",
   "metadata": {},
   "outputs": [],
   "source": [
    "# Or you can use bfill method to fill the NaN values with the next value in that column\n",
    "df.fillna(method = 'bfill', inplace=True)"
   ]
  },
  {
   "cell_type": "code",
   "execution_count": null,
   "id": "80b06d5e",
   "metadata": {},
   "outputs": [],
   "source": []
  },
  {
   "cell_type": "markdown",
   "id": "be448df2",
   "metadata": {},
   "source": [
    "## 5. Handle Repeating Values (for same information) under the `session` Column\n",
    "- If you observe the values under the `session` column, you can observe that it is a categorical column containing four different categories (as values).\n",
    "    - Notice that the categories `MORNING` and `MOR` are same\n",
    "    - Similarly, `AFTERNOON` and `AFT` are same\n",
    "- This happens when you have collected data from different sources, where same information is written in different ways\n",
    "- So the `session` column has four different categories (as values) but should have only two."
   ]
  },
  {
   "cell_type": "code",
   "execution_count": 24,
   "id": "c5aae2ec",
   "metadata": {},
   "outputs": [
    {
     "data": {
      "text/html": [
       "<div>\n",
       "<style scoped>\n",
       "    .dataframe tbody tr th:only-of-type {\n",
       "        vertical-align: middle;\n",
       "    }\n",
       "\n",
       "    .dataframe tbody tr th {\n",
       "        vertical-align: top;\n",
       "    }\n",
       "\n",
       "    .dataframe thead th {\n",
       "        text-align: right;\n",
       "    }\n",
       "</style>\n",
       "<table border=\"1\" class=\"dataframe\">\n",
       "  <thead>\n",
       "    <tr style=\"text-align: right;\">\n",
       "      <th></th>\n",
       "      <th>roll no</th>\n",
       "      <th>name</th>\n",
       "      <th>age</th>\n",
       "      <th>address</th>\n",
       "      <th>session</th>\n",
       "      <th>group</th>\n",
       "      <th>gender</th>\n",
       "      <th>subj1</th>\n",
       "      <th>subj2</th>\n",
       "      <th>scholarship</th>\n",
       "    </tr>\n",
       "  </thead>\n",
       "  <tbody>\n",
       "    <tr>\n",
       "      <th>8</th>\n",
       "      <td>9</td>\n",
       "      <td>Zainab</td>\n",
       "      <td>18</td>\n",
       "      <td>Karachi</td>\n",
       "      <td>AFT</td>\n",
       "      <td>group C</td>\n",
       "      <td>Female</td>\n",
       "      <td>90.5</td>\n",
       "      <td>81.3</td>\n",
       "      <td>3500.0</td>\n",
       "    </tr>\n",
       "    <tr>\n",
       "      <th>5</th>\n",
       "      <td>6</td>\n",
       "      <td>Khadija</td>\n",
       "      <td>16</td>\n",
       "      <td>Lahore</td>\n",
       "      <td>MORNING</td>\n",
       "      <td>group C</td>\n",
       "      <td>Female</td>\n",
       "      <td>69.3</td>\n",
       "      <td>78.6</td>\n",
       "      <td>NaN</td>\n",
       "    </tr>\n",
       "    <tr>\n",
       "      <th>10</th>\n",
       "      <td>11</td>\n",
       "      <td>Hussein</td>\n",
       "      <td>12</td>\n",
       "      <td>Islamabad</td>\n",
       "      <td>MOR</td>\n",
       "      <td>group B</td>\n",
       "      <td>Male</td>\n",
       "      <td>90.5</td>\n",
       "      <td>81.3</td>\n",
       "      <td>6000.0</td>\n",
       "    </tr>\n",
       "    <tr>\n",
       "      <th>0</th>\n",
       "      <td>1</td>\n",
       "      <td>Ehtisham</td>\n",
       "      <td>23</td>\n",
       "      <td>Lahore</td>\n",
       "      <td>MORNING</td>\n",
       "      <td>group C</td>\n",
       "      <td>Male</td>\n",
       "      <td>78.3</td>\n",
       "      <td>84.4</td>\n",
       "      <td>5000.0</td>\n",
       "    </tr>\n",
       "    <tr>\n",
       "      <th>3</th>\n",
       "      <td>4</td>\n",
       "      <td>Aisha</td>\n",
       "      <td>20</td>\n",
       "      <td>Lahore</td>\n",
       "      <td>MOR</td>\n",
       "      <td>group A</td>\n",
       "      <td>Male</td>\n",
       "      <td>82.0</td>\n",
       "      <td>84.3</td>\n",
       "      <td>4000.0</td>\n",
       "    </tr>\n",
       "  </tbody>\n",
       "</table>\n",
       "</div>"
      ],
      "text/plain": [
       "    roll no      name  age    address  session    group  gender  subj1  subj2  \\\n",
       "8         9    Zainab   18    Karachi      AFT  group C  Female   90.5   81.3   \n",
       "5         6   Khadija   16     Lahore  MORNING  group C  Female   69.3   78.6   \n",
       "10       11   Hussein   12  Islamabad      MOR  group B    Male   90.5   81.3   \n",
       "0         1  Ehtisham   23     Lahore  MORNING  group C    Male   78.3   84.4   \n",
       "3         4     Aisha   20     Lahore      MOR  group A    Male   82.0   84.3   \n",
       "\n",
       "    scholarship  \n",
       "8        3500.0  \n",
       "5           NaN  \n",
       "10       6000.0  \n",
       "0        5000.0  \n",
       "3        4000.0  "
      ]
     },
     "execution_count": 24,
     "metadata": {},
     "output_type": "execute_result"
    }
   ],
   "source": [
    "import pandas as pd\n",
    "df = pd.read_csv('datasets/groupdata.csv')\n",
    "df.sample(5)"
   ]
  },
  {
   "cell_type": "code",
   "execution_count": 25,
   "id": "d7e28835",
   "metadata": {},
   "outputs": [
    {
     "data": {
      "text/plain": [
       "AFT          5\n",
       "AFTERNOON    5\n",
       "MORNING      4\n",
       "MOR          2\n",
       "Name: session, dtype: int64"
      ]
     },
     "execution_count": 25,
     "metadata": {},
     "output_type": "execute_result"
    }
   ],
   "source": [
    "df['session'].value_counts()"
   ]
  },
  {
   "cell_type": "code",
   "execution_count": null,
   "id": "b1fc2475",
   "metadata": {},
   "outputs": [],
   "source": []
  },
  {
   "cell_type": "markdown",
   "id": "a86463d6",
   "metadata": {},
   "source": [
    "####  Handle  the Repeating Values under the session Column using `map()`\n",
    "- To keep the data clean we will map all these values to only two categories to `MOR` , `AFT`  using the map() function.\n",
    "```\n",
    "df.map(mapping, na_action=None)\n",
    "```\n",
    "- The `map()` method is used for substituting each value in a Series with another value, that may be derived from a `dict`. The `map()` method returns a series after performing the mapping\n",
    "- You can give `ignore` as second argument which will propagate NaN values, without passing them to the mapping correspondence."
   ]
  },
  {
   "cell_type": "code",
   "execution_count": 26,
   "id": "1e197889",
   "metadata": {},
   "outputs": [],
   "source": [
    "# To do this, let us create a new mapping (dictionary) \n",
    "dict1 = {\n",
    "    'MORNING' : 'MOR',\n",
    "    'MOR' : 'MOR',\n",
    "    'AFTERNOON' : 'AFT',\n",
    "    'AFT': 'AFT',\n",
    "}"
   ]
  },
  {
   "cell_type": "code",
   "execution_count": 27,
   "id": "590fdf06",
   "metadata": {},
   "outputs": [
    {
     "data": {
      "text/plain": [
       "0     MOR\n",
       "1     AFT\n",
       "2     AFT\n",
       "3     MOR\n",
       "4     AFT\n",
       "5     MOR\n",
       "6     AFT\n",
       "7     MOR\n",
       "8     AFT\n",
       "9     AFT\n",
       "10    MOR\n",
       "11    AFT\n",
       "12    MOR\n",
       "13    AFT\n",
       "14    AFT\n",
       "15    AFT\n",
       "Name: session, dtype: object"
      ]
     },
     "execution_count": 27,
     "metadata": {},
     "output_type": "execute_result"
    }
   ],
   "source": [
    "# It returns a series with the same index as caller, the original series remains unchanged. \n",
    "# So we have assigned the resulting series to `df.session` series\n",
    "df.session.map(dict1)  # or df['session'].map(dict1) "
   ]
  },
  {
   "cell_type": "code",
   "execution_count": 28,
   "id": "284ba115",
   "metadata": {},
   "outputs": [],
   "source": [
    "df.session = df.session.map(dict1)"
   ]
  },
  {
   "cell_type": "code",
   "execution_count": 29,
   "id": "6db94e1a",
   "metadata": {},
   "outputs": [
    {
     "data": {
      "text/plain": [
       "AFT    10\n",
       "MOR     6\n",
       "Name: session, dtype: int64"
      ]
     },
     "execution_count": 29,
     "metadata": {},
     "output_type": "execute_result"
    }
   ],
   "source": [
    "# Count of new categories in the column session\n",
    "# Observe we have managed to properly manage the values inside the session column\n",
    "df.session.value_counts()"
   ]
  },
  {
   "cell_type": "code",
   "execution_count": 30,
   "id": "6bb4225b",
   "metadata": {},
   "outputs": [
    {
     "data": {
      "text/html": [
       "<div>\n",
       "<style scoped>\n",
       "    .dataframe tbody tr th:only-of-type {\n",
       "        vertical-align: middle;\n",
       "    }\n",
       "\n",
       "    .dataframe tbody tr th {\n",
       "        vertical-align: top;\n",
       "    }\n",
       "\n",
       "    .dataframe thead th {\n",
       "        text-align: right;\n",
       "    }\n",
       "</style>\n",
       "<table border=\"1\" class=\"dataframe\">\n",
       "  <thead>\n",
       "    <tr style=\"text-align: right;\">\n",
       "      <th></th>\n",
       "      <th>roll no</th>\n",
       "      <th>name</th>\n",
       "      <th>age</th>\n",
       "      <th>address</th>\n",
       "      <th>session</th>\n",
       "      <th>group</th>\n",
       "      <th>gender</th>\n",
       "      <th>subj1</th>\n",
       "      <th>subj2</th>\n",
       "      <th>scholarship</th>\n",
       "    </tr>\n",
       "  </thead>\n",
       "  <tbody>\n",
       "    <tr>\n",
       "      <th>0</th>\n",
       "      <td>1</td>\n",
       "      <td>Ehtisham</td>\n",
       "      <td>23</td>\n",
       "      <td>Lahore</td>\n",
       "      <td>MOR</td>\n",
       "      <td>group C</td>\n",
       "      <td>Male</td>\n",
       "      <td>78.3</td>\n",
       "      <td>84.4</td>\n",
       "      <td>5000.0</td>\n",
       "    </tr>\n",
       "    <tr>\n",
       "      <th>1</th>\n",
       "      <td>2</td>\n",
       "      <td>Ayesha</td>\n",
       "      <td>16</td>\n",
       "      <td>Islamabad</td>\n",
       "      <td>AFT</td>\n",
       "      <td>group A</td>\n",
       "      <td>Female</td>\n",
       "      <td>70.5</td>\n",
       "      <td>60.5</td>\n",
       "      <td>6000.0</td>\n",
       "    </tr>\n",
       "    <tr>\n",
       "      <th>2</th>\n",
       "      <td>3</td>\n",
       "      <td>Ali</td>\n",
       "      <td>20</td>\n",
       "      <td>Karachi</td>\n",
       "      <td>AFT</td>\n",
       "      <td>group B</td>\n",
       "      <td>Male</td>\n",
       "      <td>64.9</td>\n",
       "      <td>75.1</td>\n",
       "      <td>8500.0</td>\n",
       "    </tr>\n",
       "    <tr>\n",
       "      <th>3</th>\n",
       "      <td>4</td>\n",
       "      <td>Aisha</td>\n",
       "      <td>20</td>\n",
       "      <td>Lahore</td>\n",
       "      <td>MOR</td>\n",
       "      <td>group A</td>\n",
       "      <td>Male</td>\n",
       "      <td>82.0</td>\n",
       "      <td>84.3</td>\n",
       "      <td>4000.0</td>\n",
       "    </tr>\n",
       "    <tr>\n",
       "      <th>4</th>\n",
       "      <td>5</td>\n",
       "      <td>Ahmed</td>\n",
       "      <td>21</td>\n",
       "      <td>Peshawer</td>\n",
       "      <td>AFT</td>\n",
       "      <td>group D</td>\n",
       "      <td>Male</td>\n",
       "      <td>65.9</td>\n",
       "      <td>72.8</td>\n",
       "      <td>3500.0</td>\n",
       "    </tr>\n",
       "  </tbody>\n",
       "</table>\n",
       "</div>"
      ],
      "text/plain": [
       "   roll no      name  age    address session    group  gender  subj1  subj2  \\\n",
       "0        1  Ehtisham   23     Lahore     MOR  group C    Male   78.3   84.4   \n",
       "1        2    Ayesha   16  Islamabad     AFT  group A  Female   70.5   60.5   \n",
       "2        3       Ali   20    Karachi     AFT  group B    Male   64.9   75.1   \n",
       "3        4     Aisha   20     Lahore     MOR  group A    Male   82.0   84.3   \n",
       "4        5     Ahmed   21   Peshawer     AFT  group D    Male   65.9   72.8   \n",
       "\n",
       "   scholarship  \n",
       "0       5000.0  \n",
       "1       6000.0  \n",
       "2       8500.0  \n",
       "3       4000.0  \n",
       "4       3500.0  "
      ]
     },
     "execution_count": 30,
     "metadata": {},
     "output_type": "execute_result"
    }
   ],
   "source": [
    "# Lets verify the result\n",
    "df.head()"
   ]
  },
  {
   "cell_type": "code",
   "execution_count": null,
   "id": "9dfe929f",
   "metadata": {},
   "outputs": [],
   "source": []
  },
  {
   "cell_type": "markdown",
   "id": "cd1fc9e7",
   "metadata": {},
   "source": [
    "## 6. Create a new Column by Modifying an Existing Column\n",
    "- We have a column scholarship in the dataset, which is in Pak Rupees\n",
    "- Suppose you want to have a new column which should represent the scholarship in `US Dollars`\n",
    "- For that we need to add a new column by dividing each value of scholarship with 285."
   ]
  },
  {
   "cell_type": "code",
   "execution_count": 31,
   "id": "04e60d84",
   "metadata": {},
   "outputs": [],
   "source": [
    "df = pd.read_csv('datasets/groupdata.csv')"
   ]
  },
  {
   "cell_type": "code",
   "execution_count": 32,
   "id": "3b8cf04b",
   "metadata": {},
   "outputs": [
    {
     "data": {
      "text/plain": [
       "0     17.543860\n",
       "1     21.052632\n",
       "2     29.824561\n",
       "3     14.035088\n",
       "4     12.280702\n",
       "5           NaN\n",
       "6     14.035088\n",
       "7     28.070175\n",
       "8     12.280702\n",
       "9     13.333333\n",
       "10    21.052632\n",
       "11          NaN\n",
       "12    24.561404\n",
       "13    28.070175\n",
       "14    12.280702\n",
       "15    13.333333\n",
       "Name: scholarship, dtype: float64"
      ]
     },
     "execution_count": 32,
     "metadata": {},
     "output_type": "execute_result"
    }
   ],
   "source": [
    "df.scholarship.apply(lambda x: x/285)"
   ]
  },
  {
   "cell_type": "code",
   "execution_count": 33,
   "id": "dee4fe23",
   "metadata": {},
   "outputs": [],
   "source": [
    "df['Scholarship_in_$'] = df.scholarship.apply(lambda x : x/285)"
   ]
  },
  {
   "cell_type": "code",
   "execution_count": 34,
   "id": "132acbb7",
   "metadata": {},
   "outputs": [
    {
     "data": {
      "text/html": [
       "<div>\n",
       "<style scoped>\n",
       "    .dataframe tbody tr th:only-of-type {\n",
       "        vertical-align: middle;\n",
       "    }\n",
       "\n",
       "    .dataframe tbody tr th {\n",
       "        vertical-align: top;\n",
       "    }\n",
       "\n",
       "    .dataframe thead th {\n",
       "        text-align: right;\n",
       "    }\n",
       "</style>\n",
       "<table border=\"1\" class=\"dataframe\">\n",
       "  <thead>\n",
       "    <tr style=\"text-align: right;\">\n",
       "      <th></th>\n",
       "      <th>roll no</th>\n",
       "      <th>name</th>\n",
       "      <th>age</th>\n",
       "      <th>address</th>\n",
       "      <th>session</th>\n",
       "      <th>group</th>\n",
       "      <th>gender</th>\n",
       "      <th>subj1</th>\n",
       "      <th>subj2</th>\n",
       "      <th>scholarship</th>\n",
       "      <th>Scholarship_in_$</th>\n",
       "    </tr>\n",
       "  </thead>\n",
       "  <tbody>\n",
       "    <tr>\n",
       "      <th>0</th>\n",
       "      <td>1</td>\n",
       "      <td>Ehtisham</td>\n",
       "      <td>23</td>\n",
       "      <td>Lahore</td>\n",
       "      <td>MORNING</td>\n",
       "      <td>group C</td>\n",
       "      <td>Male</td>\n",
       "      <td>78.3</td>\n",
       "      <td>84.4</td>\n",
       "      <td>5000.0</td>\n",
       "      <td>17.543860</td>\n",
       "    </tr>\n",
       "    <tr>\n",
       "      <th>1</th>\n",
       "      <td>2</td>\n",
       "      <td>Ayesha</td>\n",
       "      <td>16</td>\n",
       "      <td>Islamabad</td>\n",
       "      <td>AFT</td>\n",
       "      <td>group A</td>\n",
       "      <td>Female</td>\n",
       "      <td>70.5</td>\n",
       "      <td>60.5</td>\n",
       "      <td>6000.0</td>\n",
       "      <td>21.052632</td>\n",
       "    </tr>\n",
       "    <tr>\n",
       "      <th>2</th>\n",
       "      <td>3</td>\n",
       "      <td>Ali</td>\n",
       "      <td>20</td>\n",
       "      <td>Karachi</td>\n",
       "      <td>AFTERNOON</td>\n",
       "      <td>group B</td>\n",
       "      <td>Male</td>\n",
       "      <td>64.9</td>\n",
       "      <td>75.1</td>\n",
       "      <td>8500.0</td>\n",
       "      <td>29.824561</td>\n",
       "    </tr>\n",
       "    <tr>\n",
       "      <th>3</th>\n",
       "      <td>4</td>\n",
       "      <td>Aisha</td>\n",
       "      <td>20</td>\n",
       "      <td>Lahore</td>\n",
       "      <td>MOR</td>\n",
       "      <td>group A</td>\n",
       "      <td>Male</td>\n",
       "      <td>82.0</td>\n",
       "      <td>84.3</td>\n",
       "      <td>4000.0</td>\n",
       "      <td>14.035088</td>\n",
       "    </tr>\n",
       "    <tr>\n",
       "      <th>4</th>\n",
       "      <td>5</td>\n",
       "      <td>Ahmed</td>\n",
       "      <td>21</td>\n",
       "      <td>Peshawer</td>\n",
       "      <td>AFT</td>\n",
       "      <td>group D</td>\n",
       "      <td>Male</td>\n",
       "      <td>65.9</td>\n",
       "      <td>72.8</td>\n",
       "      <td>3500.0</td>\n",
       "      <td>12.280702</td>\n",
       "    </tr>\n",
       "  </tbody>\n",
       "</table>\n",
       "</div>"
      ],
      "text/plain": [
       "   roll no      name  age    address    session    group  gender  subj1  \\\n",
       "0        1  Ehtisham   23     Lahore    MORNING  group C    Male   78.3   \n",
       "1        2    Ayesha   16  Islamabad        AFT  group A  Female   70.5   \n",
       "2        3       Ali   20    Karachi  AFTERNOON  group B    Male   64.9   \n",
       "3        4     Aisha   20     Lahore        MOR  group A    Male   82.0   \n",
       "4        5     Ahmed   21   Peshawer        AFT  group D    Male   65.9   \n",
       "\n",
       "   subj2  scholarship  Scholarship_in_$  \n",
       "0   84.4       5000.0         17.543860  \n",
       "1   60.5       6000.0         21.052632  \n",
       "2   75.1       8500.0         29.824561  \n",
       "3   84.3       4000.0         14.035088  \n",
       "4   72.8       3500.0         12.280702  "
      ]
     },
     "execution_count": 34,
     "metadata": {},
     "output_type": "execute_result"
    }
   ],
   "source": [
    "df.head()"
   ]
  },
  {
   "cell_type": "code",
   "execution_count": null,
   "id": "cb023c53",
   "metadata": {},
   "outputs": [],
   "source": []
  },
  {
   "cell_type": "markdown",
   "id": "6269f35c",
   "metadata": {},
   "source": [
    "## 7. Delete Rows Having NaN values using `df.dropna()` method"
   ]
  },
  {
   "cell_type": "code",
   "execution_count": 35,
   "id": "59599665",
   "metadata": {},
   "outputs": [
    {
     "data": {
      "text/html": [
       "<div>\n",
       "<style scoped>\n",
       "    .dataframe tbody tr th:only-of-type {\n",
       "        vertical-align: middle;\n",
       "    }\n",
       "\n",
       "    .dataframe tbody tr th {\n",
       "        vertical-align: top;\n",
       "    }\n",
       "\n",
       "    .dataframe thead th {\n",
       "        text-align: right;\n",
       "    }\n",
       "</style>\n",
       "<table border=\"1\" class=\"dataframe\">\n",
       "  <thead>\n",
       "    <tr style=\"text-align: right;\">\n",
       "      <th></th>\n",
       "      <th>roll no</th>\n",
       "      <th>name</th>\n",
       "      <th>age</th>\n",
       "      <th>address</th>\n",
       "      <th>session</th>\n",
       "      <th>group</th>\n",
       "      <th>gender</th>\n",
       "      <th>subj1</th>\n",
       "      <th>subj2</th>\n",
       "      <th>scholarship</th>\n",
       "    </tr>\n",
       "  </thead>\n",
       "  <tbody>\n",
       "    <tr>\n",
       "      <th>15</th>\n",
       "      <td>16</td>\n",
       "      <td>Dua</td>\n",
       "      <td>11</td>\n",
       "      <td>Multan</td>\n",
       "      <td>AFTERNOON</td>\n",
       "      <td>group A</td>\n",
       "      <td>Female</td>\n",
       "      <td>90.5</td>\n",
       "      <td>81.3</td>\n",
       "      <td>3800.0</td>\n",
       "    </tr>\n",
       "    <tr>\n",
       "      <th>14</th>\n",
       "      <td>15</td>\n",
       "      <td>Khubaib</td>\n",
       "      <td>13</td>\n",
       "      <td>Sialkot</td>\n",
       "      <td>AFT</td>\n",
       "      <td>group C</td>\n",
       "      <td>Male</td>\n",
       "      <td>90.5</td>\n",
       "      <td>81.3</td>\n",
       "      <td>3500.0</td>\n",
       "    </tr>\n",
       "    <tr>\n",
       "      <th>5</th>\n",
       "      <td>6</td>\n",
       "      <td>Khadija</td>\n",
       "      <td>16</td>\n",
       "      <td>Lahore</td>\n",
       "      <td>MORNING</td>\n",
       "      <td>group C</td>\n",
       "      <td>Female</td>\n",
       "      <td>69.3</td>\n",
       "      <td>78.6</td>\n",
       "      <td>NaN</td>\n",
       "    </tr>\n",
       "    <tr>\n",
       "      <th>9</th>\n",
       "      <td>10</td>\n",
       "      <td>Hassan</td>\n",
       "      <td>15</td>\n",
       "      <td>Lahore</td>\n",
       "      <td>AFTERNOON</td>\n",
       "      <td>group D</td>\n",
       "      <td>Male</td>\n",
       "      <td>90.5</td>\n",
       "      <td>81.3</td>\n",
       "      <td>3800.0</td>\n",
       "    </tr>\n",
       "    <tr>\n",
       "      <th>10</th>\n",
       "      <td>11</td>\n",
       "      <td>Hussein</td>\n",
       "      <td>12</td>\n",
       "      <td>Islamabad</td>\n",
       "      <td>MOR</td>\n",
       "      <td>group B</td>\n",
       "      <td>Male</td>\n",
       "      <td>90.5</td>\n",
       "      <td>81.3</td>\n",
       "      <td>6000.0</td>\n",
       "    </tr>\n",
       "  </tbody>\n",
       "</table>\n",
       "</div>"
      ],
      "text/plain": [
       "    roll no     name  age    address    session    group  gender  subj1  \\\n",
       "15       16      Dua   11     Multan  AFTERNOON  group A  Female   90.5   \n",
       "14       15  Khubaib   13    Sialkot        AFT  group C    Male   90.5   \n",
       "5         6  Khadija   16     Lahore    MORNING  group C  Female   69.3   \n",
       "9        10   Hassan   15     Lahore  AFTERNOON  group D    Male   90.5   \n",
       "10       11  Hussein   12  Islamabad        MOR  group B    Male   90.5   \n",
       "\n",
       "    subj2  scholarship  \n",
       "15   81.3       3800.0  \n",
       "14   81.3       3500.0  \n",
       "5    78.6          NaN  \n",
       "9    81.3       3800.0  \n",
       "10   81.3       6000.0  "
      ]
     },
     "execution_count": 35,
     "metadata": {},
     "output_type": "execute_result"
    }
   ],
   "source": [
    "df = pd.read_csv('datasets/groupdata.csv')\n",
    "df.sample(5)"
   ]
  },
  {
   "cell_type": "code",
   "execution_count": 36,
   "id": "09fdf82e",
   "metadata": {},
   "outputs": [
    {
     "data": {
      "text/plain": [
       "(16, 10)"
      ]
     },
     "execution_count": 36,
     "metadata": {},
     "output_type": "execute_result"
    }
   ],
   "source": [
    "df.shape"
   ]
  },
  {
   "cell_type": "code",
   "execution_count": 40,
   "id": "aae0c390",
   "metadata": {},
   "outputs": [
    {
     "data": {
      "text/plain": [
       "160"
      ]
     },
     "execution_count": 40,
     "metadata": {},
     "output_type": "execute_result"
    }
   ],
   "source": [
    "16*10"
   ]
  },
  {
   "cell_type": "code",
   "execution_count": 39,
   "id": "5a914d1d",
   "metadata": {},
   "outputs": [
    {
     "data": {
      "text/plain": [
       "5"
      ]
     },
     "execution_count": 39,
     "metadata": {},
     "output_type": "execute_result"
    }
   ],
   "source": [
    "df.isna().sum().sum()"
   ]
  },
  {
   "cell_type": "code",
   "execution_count": 41,
   "id": "61bccf62",
   "metadata": {},
   "outputs": [
    {
     "data": {
      "text/plain": [
       "(12, 10)"
      ]
     },
     "execution_count": 41,
     "metadata": {},
     "output_type": "execute_result"
    }
   ],
   "source": [
    "# You can use dropna() method to drop all the rows, it it has any na value\n",
    "df1 = df.dropna()\n",
    "df1.shape"
   ]
  },
  {
   "cell_type": "code",
   "execution_count": 42,
   "id": "c9851a2e",
   "metadata": {},
   "outputs": [
    {
     "data": {
      "text/plain": [
       "(12, 10)"
      ]
     },
     "execution_count": 42,
     "metadata": {},
     "output_type": "execute_result"
    }
   ],
   "source": [
    "# Default Arguments to dropna()\n",
    "df2 = df.dropna(axis=0, how='any')\n",
    "df2.shape"
   ]
  },
  {
   "cell_type": "code",
   "execution_count": 43,
   "id": "62835782",
   "metadata": {},
   "outputs": [
    {
     "data": {
      "text/plain": [
       "(16, 10)"
      ]
     },
     "execution_count": 43,
     "metadata": {},
     "output_type": "execute_result"
    }
   ],
   "source": [
    "# If we set how='all` it means drop a row only if all of its values are NA\n",
    "df2 = df.dropna(axis=0, how='all')\n",
    "df2.shape"
   ]
  },
  {
   "cell_type": "code",
   "execution_count": 44,
   "id": "624739a3",
   "metadata": {},
   "outputs": [
    {
     "data": {
      "text/plain": [
       "(15, 10)"
      ]
     },
     "execution_count": 44,
     "metadata": {},
     "output_type": "execute_result"
    }
   ],
   "source": [
    "# Use of subset argument and pass it a list of columns based on whose values you want to drop a row\n",
    "df2 = df.dropna(axis=0, how='any', subset=['subj1'])\n",
    "df2.shape"
   ]
  },
  {
   "cell_type": "markdown",
   "id": "01bae9b9",
   "metadata": {},
   "source": [
    "## 8. Convert Categorical Variables into Numerical\n",
    "- Most of the machine learning algorithms do not take categorical variables so we need to convert them into numerical ones. \n",
    "- We can do this using Pandas function `pd.get_dummies()`, which will create a binary column for each of the categories. \n",
    "```\n",
    "pd.get_dummies(data, drop_first=False)\n",
    "```\n",
    "- Where, the only required argument is `data` which can be a dataframe or a series\n",
    "- The parameter drop_first : bool, default False Whether to get k-1 dummies out of k categorical levels by removing the first level.\n",
    "\n",
    "**Note:** Making a dummy variable will take all the `K` distinct values in one coumn and make `K` columns out of them"
   ]
  },
  {
   "cell_type": "markdown",
   "id": "433a500a",
   "metadata": {},
   "source": [
    "#### a. Convert all categorical variables into dummy/indicator variables"
   ]
  },
  {
   "cell_type": "code",
   "execution_count": 45,
   "id": "7abd11b7",
   "metadata": {},
   "outputs": [
    {
     "data": {
      "text/plain": [
       "Index(['roll no', 'name', 'age', 'address', 'session', 'group', 'gender',\n",
       "       'subj1', 'subj2', 'scholarship'],\n",
       "      dtype='object')"
      ]
     },
     "execution_count": 45,
     "metadata": {},
     "output_type": "execute_result"
    }
   ],
   "source": [
    "df = pd.read_csv('datasets/groupdata.csv')\n",
    "df.columns"
   ]
  },
  {
   "cell_type": "code",
   "execution_count": 46,
   "id": "fec4138a",
   "metadata": {},
   "outputs": [
    {
     "data": {
      "text/plain": [
       "(16, 10)"
      ]
     },
     "execution_count": 46,
     "metadata": {},
     "output_type": "execute_result"
    }
   ],
   "source": [
    "# currently we have 10 columns in the data\n",
    "df.shape"
   ]
  },
  {
   "cell_type": "code",
   "execution_count": 47,
   "id": "d5c90a13",
   "metadata": {},
   "outputs": [],
   "source": [
    "# Convert all categorical variables into dummy/indicator variables\n",
    "df = pd.get_dummies(df)"
   ]
  },
  {
   "cell_type": "code",
   "execution_count": 48,
   "id": "9c04ea6b",
   "metadata": {},
   "outputs": [
    {
     "data": {
      "text/plain": [
       "(16, 37)"
      ]
     },
     "execution_count": 48,
     "metadata": {},
     "output_type": "execute_result"
    }
   ],
   "source": [
    "df.shape"
   ]
  },
  {
   "cell_type": "code",
   "execution_count": 51,
   "id": "987d82ec",
   "metadata": {},
   "outputs": [
    {
     "data": {
      "text/html": [
       "<div>\n",
       "<style scoped>\n",
       "    .dataframe tbody tr th:only-of-type {\n",
       "        vertical-align: middle;\n",
       "    }\n",
       "\n",
       "    .dataframe tbody tr th {\n",
       "        vertical-align: top;\n",
       "    }\n",
       "\n",
       "    .dataframe thead th {\n",
       "        text-align: right;\n",
       "    }\n",
       "</style>\n",
       "<table border=\"1\" class=\"dataframe\">\n",
       "  <thead>\n",
       "    <tr style=\"text-align: right;\">\n",
       "      <th></th>\n",
       "      <th>roll no</th>\n",
       "      <th>age</th>\n",
       "      <th>subj1</th>\n",
       "      <th>subj2</th>\n",
       "      <th>scholarship</th>\n",
       "      <th>name_Adeen</th>\n",
       "      <th>name_Ahmed</th>\n",
       "      <th>name_Aisha</th>\n",
       "      <th>name_Ali</th>\n",
       "      <th>name_Amina</th>\n",
       "      <th>name_Ayesha</th>\n",
       "      <th>name_Dua</th>\n",
       "      <th>name_Ehtisham</th>\n",
       "      <th>name_Hassan</th>\n",
       "      <th>name_Hussein</th>\n",
       "      <th>name_Khadija</th>\n",
       "      <th>name_Khubaib</th>\n",
       "      <th>name_Muskan</th>\n",
       "      <th>name_Omar</th>\n",
       "      <th>name_Yusuf</th>\n",
       "      <th>name_Zainab</th>\n",
       "      <th>address_Islamabad</th>\n",
       "      <th>address_Karachi</th>\n",
       "      <th>address_Lahore</th>\n",
       "      <th>address_Multan</th>\n",
       "      <th>address_Peshawer</th>\n",
       "      <th>address_Sialkot</th>\n",
       "      <th>session_AFT</th>\n",
       "      <th>session_AFTERNOON</th>\n",
       "      <th>session_MOR</th>\n",
       "      <th>session_MORNING</th>\n",
       "      <th>group_group A</th>\n",
       "      <th>group_group B</th>\n",
       "      <th>group_group C</th>\n",
       "      <th>group_group D</th>\n",
       "      <th>gender_Female</th>\n",
       "      <th>gender_Male</th>\n",
       "    </tr>\n",
       "  </thead>\n",
       "  <tbody>\n",
       "    <tr>\n",
       "      <th>0</th>\n",
       "      <td>1</td>\n",
       "      <td>23</td>\n",
       "      <td>78.3</td>\n",
       "      <td>84.4</td>\n",
       "      <td>5000.0</td>\n",
       "      <td>0</td>\n",
       "      <td>0</td>\n",
       "      <td>0</td>\n",
       "      <td>0</td>\n",
       "      <td>0</td>\n",
       "      <td>0</td>\n",
       "      <td>0</td>\n",
       "      <td>1</td>\n",
       "      <td>0</td>\n",
       "      <td>0</td>\n",
       "      <td>0</td>\n",
       "      <td>0</td>\n",
       "      <td>0</td>\n",
       "      <td>0</td>\n",
       "      <td>0</td>\n",
       "      <td>0</td>\n",
       "      <td>0</td>\n",
       "      <td>0</td>\n",
       "      <td>1</td>\n",
       "      <td>0</td>\n",
       "      <td>0</td>\n",
       "      <td>0</td>\n",
       "      <td>0</td>\n",
       "      <td>0</td>\n",
       "      <td>0</td>\n",
       "      <td>1</td>\n",
       "      <td>0</td>\n",
       "      <td>0</td>\n",
       "      <td>1</td>\n",
       "      <td>0</td>\n",
       "      <td>0</td>\n",
       "      <td>1</td>\n",
       "    </tr>\n",
       "    <tr>\n",
       "      <th>1</th>\n",
       "      <td>2</td>\n",
       "      <td>16</td>\n",
       "      <td>70.5</td>\n",
       "      <td>60.5</td>\n",
       "      <td>6000.0</td>\n",
       "      <td>0</td>\n",
       "      <td>0</td>\n",
       "      <td>0</td>\n",
       "      <td>0</td>\n",
       "      <td>0</td>\n",
       "      <td>1</td>\n",
       "      <td>0</td>\n",
       "      <td>0</td>\n",
       "      <td>0</td>\n",
       "      <td>0</td>\n",
       "      <td>0</td>\n",
       "      <td>0</td>\n",
       "      <td>0</td>\n",
       "      <td>0</td>\n",
       "      <td>0</td>\n",
       "      <td>0</td>\n",
       "      <td>1</td>\n",
       "      <td>0</td>\n",
       "      <td>0</td>\n",
       "      <td>0</td>\n",
       "      <td>0</td>\n",
       "      <td>0</td>\n",
       "      <td>1</td>\n",
       "      <td>0</td>\n",
       "      <td>0</td>\n",
       "      <td>0</td>\n",
       "      <td>1</td>\n",
       "      <td>0</td>\n",
       "      <td>0</td>\n",
       "      <td>0</td>\n",
       "      <td>1</td>\n",
       "      <td>0</td>\n",
       "    </tr>\n",
       "    <tr>\n",
       "      <th>2</th>\n",
       "      <td>3</td>\n",
       "      <td>20</td>\n",
       "      <td>64.9</td>\n",
       "      <td>75.1</td>\n",
       "      <td>8500.0</td>\n",
       "      <td>0</td>\n",
       "      <td>0</td>\n",
       "      <td>0</td>\n",
       "      <td>1</td>\n",
       "      <td>0</td>\n",
       "      <td>0</td>\n",
       "      <td>0</td>\n",
       "      <td>0</td>\n",
       "      <td>0</td>\n",
       "      <td>0</td>\n",
       "      <td>0</td>\n",
       "      <td>0</td>\n",
       "      <td>0</td>\n",
       "      <td>0</td>\n",
       "      <td>0</td>\n",
       "      <td>0</td>\n",
       "      <td>0</td>\n",
       "      <td>1</td>\n",
       "      <td>0</td>\n",
       "      <td>0</td>\n",
       "      <td>0</td>\n",
       "      <td>0</td>\n",
       "      <td>0</td>\n",
       "      <td>1</td>\n",
       "      <td>0</td>\n",
       "      <td>0</td>\n",
       "      <td>0</td>\n",
       "      <td>1</td>\n",
       "      <td>0</td>\n",
       "      <td>0</td>\n",
       "      <td>0</td>\n",
       "      <td>1</td>\n",
       "    </tr>\n",
       "    <tr>\n",
       "      <th>3</th>\n",
       "      <td>4</td>\n",
       "      <td>20</td>\n",
       "      <td>82.0</td>\n",
       "      <td>84.3</td>\n",
       "      <td>4000.0</td>\n",
       "      <td>0</td>\n",
       "      <td>0</td>\n",
       "      <td>1</td>\n",
       "      <td>0</td>\n",
       "      <td>0</td>\n",
       "      <td>0</td>\n",
       "      <td>0</td>\n",
       "      <td>0</td>\n",
       "      <td>0</td>\n",
       "      <td>0</td>\n",
       "      <td>0</td>\n",
       "      <td>0</td>\n",
       "      <td>0</td>\n",
       "      <td>0</td>\n",
       "      <td>0</td>\n",
       "      <td>0</td>\n",
       "      <td>0</td>\n",
       "      <td>0</td>\n",
       "      <td>1</td>\n",
       "      <td>0</td>\n",
       "      <td>0</td>\n",
       "      <td>0</td>\n",
       "      <td>0</td>\n",
       "      <td>0</td>\n",
       "      <td>1</td>\n",
       "      <td>0</td>\n",
       "      <td>1</td>\n",
       "      <td>0</td>\n",
       "      <td>0</td>\n",
       "      <td>0</td>\n",
       "      <td>0</td>\n",
       "      <td>1</td>\n",
       "    </tr>\n",
       "    <tr>\n",
       "      <th>4</th>\n",
       "      <td>5</td>\n",
       "      <td>21</td>\n",
       "      <td>65.9</td>\n",
       "      <td>72.8</td>\n",
       "      <td>3500.0</td>\n",
       "      <td>0</td>\n",
       "      <td>1</td>\n",
       "      <td>0</td>\n",
       "      <td>0</td>\n",
       "      <td>0</td>\n",
       "      <td>0</td>\n",
       "      <td>0</td>\n",
       "      <td>0</td>\n",
       "      <td>0</td>\n",
       "      <td>0</td>\n",
       "      <td>0</td>\n",
       "      <td>0</td>\n",
       "      <td>0</td>\n",
       "      <td>0</td>\n",
       "      <td>0</td>\n",
       "      <td>0</td>\n",
       "      <td>0</td>\n",
       "      <td>0</td>\n",
       "      <td>0</td>\n",
       "      <td>0</td>\n",
       "      <td>1</td>\n",
       "      <td>0</td>\n",
       "      <td>1</td>\n",
       "      <td>0</td>\n",
       "      <td>0</td>\n",
       "      <td>0</td>\n",
       "      <td>0</td>\n",
       "      <td>0</td>\n",
       "      <td>0</td>\n",
       "      <td>1</td>\n",
       "      <td>0</td>\n",
       "      <td>1</td>\n",
       "    </tr>\n",
       "  </tbody>\n",
       "</table>\n",
       "</div>"
      ],
      "text/plain": [
       "   roll no  age  subj1  subj2  scholarship  name_Adeen  name_Ahmed  \\\n",
       "0        1   23   78.3   84.4       5000.0           0           0   \n",
       "1        2   16   70.5   60.5       6000.0           0           0   \n",
       "2        3   20   64.9   75.1       8500.0           0           0   \n",
       "3        4   20   82.0   84.3       4000.0           0           0   \n",
       "4        5   21   65.9   72.8       3500.0           0           1   \n",
       "\n",
       "   name_Aisha  name_Ali  name_Amina  name_Ayesha  name_Dua  name_Ehtisham  \\\n",
       "0           0         0           0            0         0              1   \n",
       "1           0         0           0            1         0              0   \n",
       "2           0         1           0            0         0              0   \n",
       "3           1         0           0            0         0              0   \n",
       "4           0         0           0            0         0              0   \n",
       "\n",
       "   name_Hassan  name_Hussein  name_Khadija  name_Khubaib  name_Muskan  \\\n",
       "0            0             0             0             0            0   \n",
       "1            0             0             0             0            0   \n",
       "2            0             0             0             0            0   \n",
       "3            0             0             0             0            0   \n",
       "4            0             0             0             0            0   \n",
       "\n",
       "   name_Omar  name_Yusuf  name_Zainab  address_Islamabad  address_Karachi  \\\n",
       "0          0           0            0                  0                0   \n",
       "1          0           0            0                  1                0   \n",
       "2          0           0            0                  0                1   \n",
       "3          0           0            0                  0                0   \n",
       "4          0           0            0                  0                0   \n",
       "\n",
       "   address_Lahore  address_Multan  address_Peshawer  address_Sialkot  \\\n",
       "0               1               0                 0                0   \n",
       "1               0               0                 0                0   \n",
       "2               0               0                 0                0   \n",
       "3               1               0                 0                0   \n",
       "4               0               0                 1                0   \n",
       "\n",
       "   session_AFT  session_AFTERNOON  session_MOR  session_MORNING  \\\n",
       "0            0                  0            0                1   \n",
       "1            1                  0            0                0   \n",
       "2            0                  1            0                0   \n",
       "3            0                  0            1                0   \n",
       "4            1                  0            0                0   \n",
       "\n",
       "   group_group A  group_group B  group_group C  group_group D  gender_Female  \\\n",
       "0              0              0              1              0              0   \n",
       "1              1              0              0              0              1   \n",
       "2              0              1              0              0              0   \n",
       "3              1              0              0              0              0   \n",
       "4              0              0              0              1              0   \n",
       "\n",
       "   gender_Male  \n",
       "0            1  \n",
       "1            0  \n",
       "2            1  \n",
       "3            1  \n",
       "4            1  "
      ]
     },
     "execution_count": 51,
     "metadata": {},
     "output_type": "execute_result"
    }
   ],
   "source": [
    "# Let us view the datafreame, keep a note on the number of columns\n",
    "pd.set_option('display.max_columns', None)\n",
    "df.head()"
   ]
  },
  {
   "cell_type": "markdown",
   "id": "3337d625",
   "metadata": {},
   "source": [
    "- So we have 37 columns\n",
    "- Even though one-hot encoding is a good way to convert your categorical columns to numerical columns\n",
    "- But it adds a lot of dimensionality to your data, i.e., increase the number of columns\n",
    "- It also become difficult to deal with that much number of columns\n",
    "- This is a trade-off, which is handled by technique called dimensionality reduction"
   ]
  },
  {
   "cell_type": "markdown",
   "id": "d79d842f",
   "metadata": {},
   "source": [
    "#### b. Perform One-Hot Encoding for Categorical Column `gender` Only\n",
    "- In our dataframe, the gender column is a categorical column having two values 'male' and 'female'\n",
    "- It will create a dummy binary columns.  \n",
    "- This is also known as `One Hot Encoding`. You will learn more encoding techniques in the data pre-processing module.\n"
   ]
  },
  {
   "cell_type": "code",
   "execution_count": 54,
   "id": "a918780e",
   "metadata": {},
   "outputs": [
    {
     "data": {
      "text/html": [
       "<div>\n",
       "<style scoped>\n",
       "    .dataframe tbody tr th:only-of-type {\n",
       "        vertical-align: middle;\n",
       "    }\n",
       "\n",
       "    .dataframe tbody tr th {\n",
       "        vertical-align: top;\n",
       "    }\n",
       "\n",
       "    .dataframe thead th {\n",
       "        text-align: right;\n",
       "    }\n",
       "</style>\n",
       "<table border=\"1\" class=\"dataframe\">\n",
       "  <thead>\n",
       "    <tr style=\"text-align: right;\">\n",
       "      <th></th>\n",
       "      <th>roll no</th>\n",
       "      <th>name</th>\n",
       "      <th>age</th>\n",
       "      <th>address</th>\n",
       "      <th>session</th>\n",
       "      <th>group</th>\n",
       "      <th>gender</th>\n",
       "      <th>subj1</th>\n",
       "      <th>subj2</th>\n",
       "      <th>scholarship</th>\n",
       "    </tr>\n",
       "  </thead>\n",
       "  <tbody>\n",
       "    <tr>\n",
       "      <th>0</th>\n",
       "      <td>1</td>\n",
       "      <td>Ehtisham</td>\n",
       "      <td>23</td>\n",
       "      <td>Lahore</td>\n",
       "      <td>MORNING</td>\n",
       "      <td>group C</td>\n",
       "      <td>Male</td>\n",
       "      <td>78.3</td>\n",
       "      <td>84.4</td>\n",
       "      <td>5000.0</td>\n",
       "    </tr>\n",
       "    <tr>\n",
       "      <th>1</th>\n",
       "      <td>2</td>\n",
       "      <td>Ayesha</td>\n",
       "      <td>16</td>\n",
       "      <td>Islamabad</td>\n",
       "      <td>AFT</td>\n",
       "      <td>group A</td>\n",
       "      <td>Female</td>\n",
       "      <td>70.5</td>\n",
       "      <td>60.5</td>\n",
       "      <td>6000.0</td>\n",
       "    </tr>\n",
       "    <tr>\n",
       "      <th>2</th>\n",
       "      <td>3</td>\n",
       "      <td>Ali</td>\n",
       "      <td>20</td>\n",
       "      <td>Karachi</td>\n",
       "      <td>AFTERNOON</td>\n",
       "      <td>group B</td>\n",
       "      <td>Male</td>\n",
       "      <td>64.9</td>\n",
       "      <td>75.1</td>\n",
       "      <td>8500.0</td>\n",
       "    </tr>\n",
       "    <tr>\n",
       "      <th>3</th>\n",
       "      <td>4</td>\n",
       "      <td>Aisha</td>\n",
       "      <td>20</td>\n",
       "      <td>Lahore</td>\n",
       "      <td>MOR</td>\n",
       "      <td>group A</td>\n",
       "      <td>Male</td>\n",
       "      <td>82.0</td>\n",
       "      <td>84.3</td>\n",
       "      <td>4000.0</td>\n",
       "    </tr>\n",
       "    <tr>\n",
       "      <th>4</th>\n",
       "      <td>5</td>\n",
       "      <td>Ahmed</td>\n",
       "      <td>21</td>\n",
       "      <td>Peshawer</td>\n",
       "      <td>AFT</td>\n",
       "      <td>group D</td>\n",
       "      <td>Male</td>\n",
       "      <td>65.9</td>\n",
       "      <td>72.8</td>\n",
       "      <td>3500.0</td>\n",
       "    </tr>\n",
       "  </tbody>\n",
       "</table>\n",
       "</div>"
      ],
      "text/plain": [
       "   roll no      name  age    address    session    group  gender  subj1  \\\n",
       "0        1  Ehtisham   23     Lahore    MORNING  group C    Male   78.3   \n",
       "1        2    Ayesha   16  Islamabad        AFT  group A  Female   70.5   \n",
       "2        3       Ali   20    Karachi  AFTERNOON  group B    Male   64.9   \n",
       "3        4     Aisha   20     Lahore        MOR  group A    Male   82.0   \n",
       "4        5     Ahmed   21   Peshawer        AFT  group D    Male   65.9   \n",
       "\n",
       "   subj2  scholarship  \n",
       "0   84.4       5000.0  \n",
       "1   60.5       6000.0  \n",
       "2   75.1       8500.0  \n",
       "3   84.3       4000.0  \n",
       "4   72.8       3500.0  "
      ]
     },
     "execution_count": 54,
     "metadata": {},
     "output_type": "execute_result"
    }
   ],
   "source": [
    "df = pd.read_csv('datasets/groupdata.csv')\n",
    "df.head()"
   ]
  },
  {
   "cell_type": "code",
   "execution_count": 53,
   "id": "18c95103",
   "metadata": {},
   "outputs": [
    {
     "data": {
      "text/html": [
       "<div>\n",
       "<style scoped>\n",
       "    .dataframe tbody tr th:only-of-type {\n",
       "        vertical-align: middle;\n",
       "    }\n",
       "\n",
       "    .dataframe tbody tr th {\n",
       "        vertical-align: top;\n",
       "    }\n",
       "\n",
       "    .dataframe thead th {\n",
       "        text-align: right;\n",
       "    }\n",
       "</style>\n",
       "<table border=\"1\" class=\"dataframe\">\n",
       "  <thead>\n",
       "    <tr style=\"text-align: right;\">\n",
       "      <th></th>\n",
       "      <th>gender_Female</th>\n",
       "      <th>gender_Male</th>\n",
       "    </tr>\n",
       "  </thead>\n",
       "  <tbody>\n",
       "    <tr>\n",
       "      <th>0</th>\n",
       "      <td>0</td>\n",
       "      <td>1</td>\n",
       "    </tr>\n",
       "    <tr>\n",
       "      <th>1</th>\n",
       "      <td>1</td>\n",
       "      <td>0</td>\n",
       "    </tr>\n",
       "    <tr>\n",
       "      <th>2</th>\n",
       "      <td>0</td>\n",
       "      <td>1</td>\n",
       "    </tr>\n",
       "    <tr>\n",
       "      <th>3</th>\n",
       "      <td>0</td>\n",
       "      <td>1</td>\n",
       "    </tr>\n",
       "    <tr>\n",
       "      <th>4</th>\n",
       "      <td>0</td>\n",
       "      <td>1</td>\n",
       "    </tr>\n",
       "  </tbody>\n",
       "</table>\n",
       "</div>"
      ],
      "text/plain": [
       "   gender_Female  gender_Male\n",
       "0              0            1\n",
       "1              1            0\n",
       "2              0            1\n",
       "3              0            1\n",
       "4              0            1"
      ]
     },
     "execution_count": 53,
     "metadata": {},
     "output_type": "execute_result"
    }
   ],
   "source": [
    "# Convert only gender variable into dummy/indicator variables\n",
    "df2 = pd.get_dummies(df1[['gender']])\n",
    "df2.head()"
   ]
  },
  {
   "cell_type": "code",
   "execution_count": 55,
   "id": "ec3ed62b",
   "metadata": {},
   "outputs": [
    {
     "data": {
      "text/html": [
       "<div>\n",
       "<style scoped>\n",
       "    .dataframe tbody tr th:only-of-type {\n",
       "        vertical-align: middle;\n",
       "    }\n",
       "\n",
       "    .dataframe tbody tr th {\n",
       "        vertical-align: top;\n",
       "    }\n",
       "\n",
       "    .dataframe thead th {\n",
       "        text-align: right;\n",
       "    }\n",
       "</style>\n",
       "<table border=\"1\" class=\"dataframe\">\n",
       "  <thead>\n",
       "    <tr style=\"text-align: right;\">\n",
       "      <th></th>\n",
       "      <th>gender_Male</th>\n",
       "    </tr>\n",
       "  </thead>\n",
       "  <tbody>\n",
       "    <tr>\n",
       "      <th>0</th>\n",
       "      <td>1</td>\n",
       "    </tr>\n",
       "    <tr>\n",
       "      <th>1</th>\n",
       "      <td>0</td>\n",
       "    </tr>\n",
       "    <tr>\n",
       "      <th>2</th>\n",
       "      <td>1</td>\n",
       "    </tr>\n",
       "    <tr>\n",
       "      <th>3</th>\n",
       "      <td>1</td>\n",
       "    </tr>\n",
       "    <tr>\n",
       "      <th>4</th>\n",
       "      <td>1</td>\n",
       "    </tr>\n",
       "  </tbody>\n",
       "</table>\n",
       "</div>"
      ],
      "text/plain": [
       "   gender_Male\n",
       "0            1\n",
       "1            0\n",
       "2            1\n",
       "3            1\n",
       "4            1"
      ]
     },
     "execution_count": 55,
     "metadata": {},
     "output_type": "execute_result"
    }
   ],
   "source": [
    "# Since we donot need two separate columns, so simply use the `drop_first` argument of get_dummies to handle this\n",
    "df2 = pd.get_dummies(df1[['gender']], drop_first=True)\n",
    "df2.head()"
   ]
  },
  {
   "cell_type": "code",
   "execution_count": 56,
   "id": "8559fdbf",
   "metadata": {},
   "outputs": [
    {
     "data": {
      "text/html": [
       "<div>\n",
       "<style scoped>\n",
       "    .dataframe tbody tr th:only-of-type {\n",
       "        vertical-align: middle;\n",
       "    }\n",
       "\n",
       "    .dataframe tbody tr th {\n",
       "        vertical-align: top;\n",
       "    }\n",
       "\n",
       "    .dataframe thead th {\n",
       "        text-align: right;\n",
       "    }\n",
       "</style>\n",
       "<table border=\"1\" class=\"dataframe\">\n",
       "  <thead>\n",
       "    <tr style=\"text-align: right;\">\n",
       "      <th></th>\n",
       "      <th>roll no</th>\n",
       "      <th>name</th>\n",
       "      <th>age</th>\n",
       "      <th>address</th>\n",
       "      <th>session</th>\n",
       "      <th>group</th>\n",
       "      <th>gender</th>\n",
       "      <th>subj1</th>\n",
       "      <th>subj2</th>\n",
       "      <th>scholarship</th>\n",
       "      <th>gender_Male</th>\n",
       "    </tr>\n",
       "  </thead>\n",
       "  <tbody>\n",
       "    <tr>\n",
       "      <th>0</th>\n",
       "      <td>1</td>\n",
       "      <td>Ehtisham</td>\n",
       "      <td>23</td>\n",
       "      <td>Lahore</td>\n",
       "      <td>MORNING</td>\n",
       "      <td>group C</td>\n",
       "      <td>Male</td>\n",
       "      <td>78.3</td>\n",
       "      <td>84.4</td>\n",
       "      <td>5000.0</td>\n",
       "      <td>1.0</td>\n",
       "    </tr>\n",
       "    <tr>\n",
       "      <th>1</th>\n",
       "      <td>2</td>\n",
       "      <td>Ayesha</td>\n",
       "      <td>16</td>\n",
       "      <td>Islamabad</td>\n",
       "      <td>AFT</td>\n",
       "      <td>group A</td>\n",
       "      <td>Female</td>\n",
       "      <td>70.5</td>\n",
       "      <td>60.5</td>\n",
       "      <td>6000.0</td>\n",
       "      <td>0.0</td>\n",
       "    </tr>\n",
       "    <tr>\n",
       "      <th>2</th>\n",
       "      <td>3</td>\n",
       "      <td>Ali</td>\n",
       "      <td>20</td>\n",
       "      <td>Karachi</td>\n",
       "      <td>AFTERNOON</td>\n",
       "      <td>group B</td>\n",
       "      <td>Male</td>\n",
       "      <td>64.9</td>\n",
       "      <td>75.1</td>\n",
       "      <td>8500.0</td>\n",
       "      <td>1.0</td>\n",
       "    </tr>\n",
       "    <tr>\n",
       "      <th>3</th>\n",
       "      <td>4</td>\n",
       "      <td>Aisha</td>\n",
       "      <td>20</td>\n",
       "      <td>Lahore</td>\n",
       "      <td>MOR</td>\n",
       "      <td>group A</td>\n",
       "      <td>Male</td>\n",
       "      <td>82.0</td>\n",
       "      <td>84.3</td>\n",
       "      <td>4000.0</td>\n",
       "      <td>1.0</td>\n",
       "    </tr>\n",
       "    <tr>\n",
       "      <th>4</th>\n",
       "      <td>5</td>\n",
       "      <td>Ahmed</td>\n",
       "      <td>21</td>\n",
       "      <td>Peshawer</td>\n",
       "      <td>AFT</td>\n",
       "      <td>group D</td>\n",
       "      <td>Male</td>\n",
       "      <td>65.9</td>\n",
       "      <td>72.8</td>\n",
       "      <td>3500.0</td>\n",
       "      <td>1.0</td>\n",
       "    </tr>\n",
       "  </tbody>\n",
       "</table>\n",
       "</div>"
      ],
      "text/plain": [
       "   roll no      name  age    address    session    group  gender  subj1  \\\n",
       "0        1  Ehtisham   23     Lahore    MORNING  group C    Male   78.3   \n",
       "1        2    Ayesha   16  Islamabad        AFT  group A  Female   70.5   \n",
       "2        3       Ali   20    Karachi  AFTERNOON  group B    Male   64.9   \n",
       "3        4     Aisha   20     Lahore        MOR  group A    Male   82.0   \n",
       "4        5     Ahmed   21   Peshawer        AFT  group D    Male   65.9   \n",
       "\n",
       "   subj2  scholarship  gender_Male  \n",
       "0   84.4       5000.0          1.0  \n",
       "1   60.5       6000.0          0.0  \n",
       "2   75.1       8500.0          1.0  \n",
       "3   84.3       4000.0          1.0  \n",
       "4   72.8       3500.0          1.0  "
      ]
     },
     "execution_count": 56,
     "metadata": {},
     "output_type": "execute_result"
    }
   ],
   "source": [
    "# We will talk about join in the next session in detail.\n",
    "df3 = df.join(df2['gender_Male'])\n",
    "df3.head()"
   ]
  },
  {
   "cell_type": "code",
   "execution_count": null,
   "id": "c6f425f6",
   "metadata": {},
   "outputs": [],
   "source": []
  },
  {
   "cell_type": "code",
   "execution_count": null,
   "id": "c302c461",
   "metadata": {},
   "outputs": [],
   "source": []
  },
  {
   "cell_type": "markdown",
   "id": "277f390b",
   "metadata": {},
   "source": [
    "## Practice Questions\n",
    "\n",
    "For the practice questions, we will use following dataset"
   ]
  },
  {
   "cell_type": "code",
   "execution_count": 57,
   "id": "5f6a06e8",
   "metadata": {},
   "outputs": [
    {
     "name": "stdout",
     "output_type": "stream",
     "text": [
      "{'ord_no': [70001, nan, 70002, 70004, nan, 70005, nan, 70010, 70003, 70012, nan, 70013], 'purch_amt': [150.5, 270.65, 65.26, 110.5, 948.5, 2400.6, 5760, 1983.43, 2480.4, 250.45, 75.29, 3045.6], 'ord_date': ['2012-10-05', '2012-09-10', nan, '2012-08-17', '2012-09-10', '2012-07-27', '2012-09-10', '2012-10-10', '2012-10-10', '2012-06-27', '2012-08-17', '2012-04-25'], 'customer_id': [3002, 3001, 3001, 3003, 3002, 3001, 3001, 3004, 3003, 3002, 3001, 3001], 'salesman_id': [5002, 5003, 5001, nan, 5002, 5001, 5001, nan, 5003, 5002, 5003, nan]}\n"
     ]
    }
   ],
   "source": [
    "import pandas as pd\n",
    "import numpy as np\n",
    "dict1 ={\n",
    "'ord_no':[70001,np.nan,70002,70004,np.nan,70005,np.nan,70010,70003,70012,np.nan,70013],\n",
    "'purch_amt':[150.5,270.65,65.26,110.5,948.5,2400.6,5760,1983.43,2480.4,250.45, 75.29,3045.6],\n",
    "'ord_date': ['2012-10-05','2012-09-10',np.nan,'2012-08-17','2012-09-10','2012-07-27','2012-09-10','2012-10-10','2012-10-10','2012-06-27','2012-08-17','2012-04-25'],\n",
    "'customer_id':[3002,3001,3001,3003,3002,3001,3001,3004,3003,3002,3001,3001],\n",
    "'salesman_id':[5002,5003,5001,np.nan,5002,5001,5001,np.nan,5003,5002,5003,np.nan]\n",
    "}\n",
    "print(dict1)"
   ]
  },
  {
   "cell_type": "code",
   "execution_count": 58,
   "id": "5e4a5039",
   "metadata": {},
   "outputs": [
    {
     "data": {
      "text/html": [
       "<div>\n",
       "<style scoped>\n",
       "    .dataframe tbody tr th:only-of-type {\n",
       "        vertical-align: middle;\n",
       "    }\n",
       "\n",
       "    .dataframe tbody tr th {\n",
       "        vertical-align: top;\n",
       "    }\n",
       "\n",
       "    .dataframe thead th {\n",
       "        text-align: right;\n",
       "    }\n",
       "</style>\n",
       "<table border=\"1\" class=\"dataframe\">\n",
       "  <thead>\n",
       "    <tr style=\"text-align: right;\">\n",
       "      <th></th>\n",
       "      <th>ord_no</th>\n",
       "      <th>purch_amt</th>\n",
       "      <th>ord_date</th>\n",
       "      <th>customer_id</th>\n",
       "      <th>salesman_id</th>\n",
       "    </tr>\n",
       "  </thead>\n",
       "  <tbody>\n",
       "    <tr>\n",
       "      <th>0</th>\n",
       "      <td>70001.0</td>\n",
       "      <td>150.50</td>\n",
       "      <td>2012-10-05</td>\n",
       "      <td>3002</td>\n",
       "      <td>5002.0</td>\n",
       "    </tr>\n",
       "    <tr>\n",
       "      <th>1</th>\n",
       "      <td>NaN</td>\n",
       "      <td>270.65</td>\n",
       "      <td>2012-09-10</td>\n",
       "      <td>3001</td>\n",
       "      <td>5003.0</td>\n",
       "    </tr>\n",
       "    <tr>\n",
       "      <th>2</th>\n",
       "      <td>70002.0</td>\n",
       "      <td>65.26</td>\n",
       "      <td>NaN</td>\n",
       "      <td>3001</td>\n",
       "      <td>5001.0</td>\n",
       "    </tr>\n",
       "    <tr>\n",
       "      <th>3</th>\n",
       "      <td>70004.0</td>\n",
       "      <td>110.50</td>\n",
       "      <td>2012-08-17</td>\n",
       "      <td>3003</td>\n",
       "      <td>NaN</td>\n",
       "    </tr>\n",
       "    <tr>\n",
       "      <th>4</th>\n",
       "      <td>NaN</td>\n",
       "      <td>948.50</td>\n",
       "      <td>2012-09-10</td>\n",
       "      <td>3002</td>\n",
       "      <td>5002.0</td>\n",
       "    </tr>\n",
       "    <tr>\n",
       "      <th>5</th>\n",
       "      <td>70005.0</td>\n",
       "      <td>2400.60</td>\n",
       "      <td>2012-07-27</td>\n",
       "      <td>3001</td>\n",
       "      <td>5001.0</td>\n",
       "    </tr>\n",
       "    <tr>\n",
       "      <th>6</th>\n",
       "      <td>NaN</td>\n",
       "      <td>5760.00</td>\n",
       "      <td>2012-09-10</td>\n",
       "      <td>3001</td>\n",
       "      <td>5001.0</td>\n",
       "    </tr>\n",
       "    <tr>\n",
       "      <th>7</th>\n",
       "      <td>70010.0</td>\n",
       "      <td>1983.43</td>\n",
       "      <td>2012-10-10</td>\n",
       "      <td>3004</td>\n",
       "      <td>NaN</td>\n",
       "    </tr>\n",
       "    <tr>\n",
       "      <th>8</th>\n",
       "      <td>70003.0</td>\n",
       "      <td>2480.40</td>\n",
       "      <td>2012-10-10</td>\n",
       "      <td>3003</td>\n",
       "      <td>5003.0</td>\n",
       "    </tr>\n",
       "    <tr>\n",
       "      <th>9</th>\n",
       "      <td>70012.0</td>\n",
       "      <td>250.45</td>\n",
       "      <td>2012-06-27</td>\n",
       "      <td>3002</td>\n",
       "      <td>5002.0</td>\n",
       "    </tr>\n",
       "    <tr>\n",
       "      <th>10</th>\n",
       "      <td>NaN</td>\n",
       "      <td>75.29</td>\n",
       "      <td>2012-08-17</td>\n",
       "      <td>3001</td>\n",
       "      <td>5003.0</td>\n",
       "    </tr>\n",
       "    <tr>\n",
       "      <th>11</th>\n",
       "      <td>70013.0</td>\n",
       "      <td>3045.60</td>\n",
       "      <td>2012-04-25</td>\n",
       "      <td>3001</td>\n",
       "      <td>NaN</td>\n",
       "    </tr>\n",
       "  </tbody>\n",
       "</table>\n",
       "</div>"
      ],
      "text/plain": [
       "     ord_no  purch_amt    ord_date  customer_id  salesman_id\n",
       "0   70001.0     150.50  2012-10-05         3002       5002.0\n",
       "1       NaN     270.65  2012-09-10         3001       5003.0\n",
       "2   70002.0      65.26         NaN         3001       5001.0\n",
       "3   70004.0     110.50  2012-08-17         3003          NaN\n",
       "4       NaN     948.50  2012-09-10         3002       5002.0\n",
       "5   70005.0    2400.60  2012-07-27         3001       5001.0\n",
       "6       NaN    5760.00  2012-09-10         3001       5001.0\n",
       "7   70010.0    1983.43  2012-10-10         3004          NaN\n",
       "8   70003.0    2480.40  2012-10-10         3003       5003.0\n",
       "9   70012.0     250.45  2012-06-27         3002       5002.0\n",
       "10      NaN      75.29  2012-08-17         3001       5003.0\n",
       "11  70013.0    3045.60  2012-04-25         3001          NaN"
      ]
     },
     "execution_count": 58,
     "metadata": {},
     "output_type": "execute_result"
    }
   ],
   "source": [
    "df = pd.DataFrame(dict1)\n",
    "df"
   ]
  },
  {
   "cell_type": "code",
   "execution_count": null,
   "id": "59149d34",
   "metadata": {},
   "outputs": [],
   "source": []
  },
  {
   "cell_type": "markdown",
   "id": "aff25537",
   "metadata": {},
   "source": [
    "#### Write a Pandas program to drop the rows where at least one element is missing in a given DataFrame"
   ]
  },
  {
   "cell_type": "code",
   "execution_count": 59,
   "id": "b2f1d4dd",
   "metadata": {},
   "outputs": [
    {
     "data": {
      "text/html": [
       "<div>\n",
       "<style scoped>\n",
       "    .dataframe tbody tr th:only-of-type {\n",
       "        vertical-align: middle;\n",
       "    }\n",
       "\n",
       "    .dataframe tbody tr th {\n",
       "        vertical-align: top;\n",
       "    }\n",
       "\n",
       "    .dataframe thead th {\n",
       "        text-align: right;\n",
       "    }\n",
       "</style>\n",
       "<table border=\"1\" class=\"dataframe\">\n",
       "  <thead>\n",
       "    <tr style=\"text-align: right;\">\n",
       "      <th></th>\n",
       "      <th>ord_no</th>\n",
       "      <th>purch_amt</th>\n",
       "      <th>ord_date</th>\n",
       "      <th>customer_id</th>\n",
       "      <th>salesman_id</th>\n",
       "    </tr>\n",
       "  </thead>\n",
       "  <tbody>\n",
       "    <tr>\n",
       "      <th>0</th>\n",
       "      <td>70001.0</td>\n",
       "      <td>150.50</td>\n",
       "      <td>2012-10-05</td>\n",
       "      <td>3002</td>\n",
       "      <td>5002.0</td>\n",
       "    </tr>\n",
       "    <tr>\n",
       "      <th>5</th>\n",
       "      <td>70005.0</td>\n",
       "      <td>2400.60</td>\n",
       "      <td>2012-07-27</td>\n",
       "      <td>3001</td>\n",
       "      <td>5001.0</td>\n",
       "    </tr>\n",
       "    <tr>\n",
       "      <th>8</th>\n",
       "      <td>70003.0</td>\n",
       "      <td>2480.40</td>\n",
       "      <td>2012-10-10</td>\n",
       "      <td>3003</td>\n",
       "      <td>5003.0</td>\n",
       "    </tr>\n",
       "    <tr>\n",
       "      <th>9</th>\n",
       "      <td>70012.0</td>\n",
       "      <td>250.45</td>\n",
       "      <td>2012-06-27</td>\n",
       "      <td>3002</td>\n",
       "      <td>5002.0</td>\n",
       "    </tr>\n",
       "  </tbody>\n",
       "</table>\n",
       "</div>"
      ],
      "text/plain": [
       "    ord_no  purch_amt    ord_date  customer_id  salesman_id\n",
       "0  70001.0     150.50  2012-10-05         3002       5002.0\n",
       "5  70005.0    2400.60  2012-07-27         3001       5001.0\n",
       "8  70003.0    2480.40  2012-10-10         3003       5003.0\n",
       "9  70012.0     250.45  2012-06-27         3002       5002.0"
      ]
     },
     "execution_count": 59,
     "metadata": {},
     "output_type": "execute_result"
    }
   ],
   "source": [
    "df.dropna(how='any')"
   ]
  },
  {
   "cell_type": "code",
   "execution_count": null,
   "id": "ce4fca4e",
   "metadata": {},
   "outputs": [],
   "source": []
  },
  {
   "cell_type": "markdown",
   "id": "9c1178c4",
   "metadata": {},
   "source": [
    "## Bonus\n",
    "### Create a heatmap for more information about the distribution of missing values in a given DataFrame."
   ]
  },
  {
   "cell_type": "code",
   "execution_count": 60,
   "id": "fe65b65c",
   "metadata": {},
   "outputs": [],
   "source": [
    "import seaborn as sns\n"
   ]
  },
  {
   "cell_type": "code",
   "execution_count": 63,
   "id": "c2db87c5",
   "metadata": {},
   "outputs": [
    {
     "data": {
      "image/png": "[encoded data removed]",
      "text/plain": [
       "<Figure size 640x480 with 2 Axes>"
      ]
     },
     "metadata": {},
     "output_type": "display_data"
    }
   ],
   "source": [
    "sns.heatmap(df.isnull(), annot=True);"
   ]
  },
  {
   "cell_type": "code",
   "execution_count": null,
   "id": "743eeeed",
   "metadata": {},
   "outputs": [],
   "source": []
  },
  {
   "cell_type": "markdown",
   "id": "2602de05",
   "metadata": {},
   "source": [
    "## All statistical functions\n",
    "- `count()`: Returns the number of times an element/data has occurred (non-null)\n",
    "- `sum()`: Returns sum of all values\n",
    "- `mean()`: Returns the average of all values\n",
    "- `median()`: Returns the median of all values\n",
    "- `mode()`: Returns the mode\n",
    "- `std()`: Returns the standard deviation\n",
    "- `min()`: Returns the minimum of all values\n",
    "- `max()`: Returns the maximum of all values\n",
    "- `abs()`: Returns the absolute value"
   ]
  },
  {
   "cell_type": "code",
   "execution_count": null,
   "id": "bbf9e080",
   "metadata": {},
   "outputs": [],
   "source": []
  },
  {
   "cell_type": "markdown",
   "id": "498ee523",
   "metadata": {},
   "source": [
    "## Practice Questions Part 2:\n",
    "- Step 1. Import the necessary libraries\n",
    "- Step 2. Import the dataset from this [address](https://raw.githubusercontent.com/ehtisham-sadiq/P0Q6R9S2-MLZone/main/Module%2004%20-%20Python%20for%20Data%20Scientists/datasets/Euro_2012_stats_TEAM.csv)\n",
    "- Step 3. Assign it to a variable called `euro12`.\n",
    "- Step 4. Select only the Goal column.\n",
    "- Step 5. How many team participated in the Euro2012\n",
    "- Step 6. What is the number of columns in the dataset\n",
    "- Step 7. View only the columns Team, Yellow Cards and Red Cards and assign them to a dataframe called discipline\n",
    "- Step 8. Sort the teams by Red Cards, then to Yellow Cards\n",
    "- Step 9. Calculate the mean Yellow Cards given per Team\n",
    "- Step 10. Filter teams that scored more than 6 goals\n",
    "- Step 11. Select the teams that start with G\n",
    "- Step 12. Select the first 7 columns and all the rows\n",
    "- Step 13. Select all columns except the last 3\n",
    "- Step 14. Presents/shows only the Shooting Accuracy from England, Italy and Russia"
   ]
  },
  {
   "cell_type": "code",
   "execution_count": 2,
   "id": "4824ad37",
   "metadata": {},
   "outputs": [
    {
     "name": "stdout",
     "output_type": "stream",
     "text": [
      "https://raw.githubusercontent.com/ehtisham-sadiq/P0Q6R9S2-MLZone/main/Module%2004%20-%20Python%20for%20Data%20Scientists/datasets/Euro_2012_stats_TEAM.csv\n"
     ]
    }
   ],
   "source": [
    "url = \"https://raw.githubusercontent.com/ehtisham-sadiq/P0Q6R9S2-MLZone/main/Module%2004%20-%20Python%20for%20Data%20Scientists/datasets/Euro_2012_stats_TEAM.csv\"\n",
    "print(url)"
   ]
  },
  {
   "cell_type": "code",
   "execution_count": null,
   "id": "e2e09879",
   "metadata": {},
   "outputs": [],
   "source": []
  },
  {
   "cell_type": "code",
   "execution_count": null,
   "id": "567d2417",
   "metadata": {},
   "outputs": [],
   "source": []
  },
  {
   "cell_type": "markdown",
   "id": "a2577f2a",
   "metadata": {},
   "source": [
    "# Pandas - Assignment No 01\n",
    "- Click here to solve [Pandas - Assignment no 01](https://www.kaggle.com/code/ehtishamsadiq/pandas-assignment-no-01)"
   ]
  },
  {
   "cell_type": "code",
   "execution_count": null,
   "id": "a5084fff",
   "metadata": {},
   "outputs": [],
   "source": []
  },
  {
   "cell_type": "code",
   "execution_count": null,
   "id": "f2f768ab",
   "metadata": {},
   "outputs": [],
   "source": []
  },
  {
   "cell_type": "code",
   "execution_count": null,
   "id": "d9953560",
   "metadata": {},
   "outputs": [],
   "source": []
  },
  {
   "cell_type": "code",
   "execution_count": null,
   "id": "3d092076",
   "metadata": {},
   "outputs": [],
   "source": []
  },
  {
   "cell_type": "code",
   "execution_count": null,
   "id": "f380359b",
   "metadata": {},
   "outputs": [],
   "source": []
  },
  {
   "cell_type": "code",
   "execution_count": null,
   "id": "11f2c4e6",
   "metadata": {},
   "outputs": [],
   "source": []
  },
  {
   "cell_type": "code",
   "execution_count": 1,
   "id": "ef6df26d",
   "metadata": {},
   "outputs": [
    {
     "data": {
      "text/html": [
       "\n",
       "    <style>\n",
       "        body {\n",
       "            background-color: #f2fff2;\n",
       "        }\n",
       "        h1 {\n",
       "            text-align: center;\n",
       "            font-weight: bold;\n",
       "            font-size: 36px;\n",
       "            color: #4295F4;\n",
       "            text-decoration: underline;\n",
       "            padding-top: 15px;\n",
       "        }\n",
       "        \n",
       "        h2 {\n",
       "            text-align: left;\n",
       "            font-weight: bold;\n",
       "            font-size: 30px;\n",
       "            color: #4A000A;\n",
       "            text-decoration: underline;\n",
       "            padding-top: 10px;\n",
       "        }\n",
       "        \n",
       "        h3 {\n",
       "            text-align: left;\n",
       "            font-weight: bold;\n",
       "            font-size: 30px;\n",
       "            color: #f0081e;\n",
       "            text-decoration: underline;\n",
       "            padding-top: 5px;\n",
       "        }\n",
       "\n",
       "        \n",
       "        p {\n",
       "            text-align: center;\n",
       "            font-size: 12 px;\n",
       "            color: #0B9923;\n",
       "        }\n",
       "    </style>\n",
       "\n",
       "<h1>Hello</h1>\n",
       "<p>Hello World</p>\n",
       "<h2> Hello</h2>\n",
       "<h3> World </h3>\n"
      ],
      "text/plain": [
       "<IPython.core.display.HTML object>"
      ]
     },
     "execution_count": 1,
     "metadata": {},
     "output_type": "execute_result"
    }
   ],
   "source": [
    "from IPython.core.display import HTML\n",
    "\n",
    "style = \"\"\"\n",
    "    <style>\n",
    "        body {\n",
    "            background-color: #f2fff2;\n",
    "        }\n",
    "        h1 {\n",
    "            text-align: center;\n",
    "            font-weight: bold;\n",
    "            font-size: 36px;\n",
    "            color: #4295F4;\n",
    "            text-decoration: underline;\n",
    "            padding-top: 15px;\n",
    "        }\n",
    "        \n",
    "        h2 {\n",
    "            text-align: left;\n",
    "            font-weight: bold;\n",
    "            font-size: 30px;\n",
    "            color: #4A000A;\n",
    "            text-decoration: underline;\n",
    "            padding-top: 10px;\n",
    "        }\n",
    "        \n",
    "        h3 {\n",
    "            text-align: left;\n",
    "            font-weight: bold;\n",
    "            font-size: 30px;\n",
    "            color: #f0081e;\n",
    "            text-decoration: underline;\n",
    "            padding-top: 5px;\n",
    "        }\n",
    "\n",
    "        \n",
    "        p {\n",
    "            text-align: center;\n",
    "            font-size: 12 px;\n",
    "            color: #0B9923;\n",
    "        }\n",
    "    </style>\n",
    "\"\"\"\n",
    "\n",
    "html_content = \"\"\"\n",
    "<h1>Hello</h1>\n",
    "<p>Hello World</p>\n",
    "<h2> Hello</h2>\n",
    "<h3> World </h3>\n",
    "\"\"\"\n",
    "\n",
    "HTML(style + html_content)"
   ]
  },
  {
   "cell_type": "code",
   "execution_count": null,
   "id": "7f2c8316",
   "metadata": {},
   "outputs": [],
   "source": []
  }
 ],
 "metadata": {
  "kernelspec": {
   "display_name": "Python 3 (ipykernel)",
   "language": "python",
   "name": "python3"
  },
  "language_info": {
   "codemirror_mode": {
    "name": "ipython",
    "version": 3
   },
   "file_extension": ".py",
   "mimetype": "text/x-python",
   "name": "python",
   "nbconvert_exporter": "python",
   "pygments_lexer": "ipython3",
   "version": "3.8.10"
  }
 },
 "nbformat": 4,
 "nbformat_minor": 5
}
